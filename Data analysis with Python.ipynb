{
 "cells": [
  {
   "cell_type": "markdown",
   "metadata": {},
   "source": [
    "# Data Analysis with Python\n",
    "> ver 1.0 (Mar 2021)  \n",
    "by Jason Zhang  \n",
    "\n",
    "\n",
    "[1 Introduction](#%E2%87%92-Part-1-Introduction)  \n",
    "- [1.1 What is Python](#%C2%A71.1-What-is-Python)  \n",
    "- [1.2 Install Python3](#%C2%A71.2-Install-Python3)   \n",
    "- [1.3 Jupyter Notebook](#%C2%A71.3-Jupyter-Notebook) \n",
    "\n",
    "[2 Python Basics](#%E2%87%92-Part-2-Python-Basics)  \n",
    "- [2.1 print](#%C2%A72.1-print)  \n",
    "- [2.2 Variables](#%C2%A72.2-Variables)  \n",
    "- [2.3 Comments](#%C2%A72.3-Comments)  \n",
    "- [2.4 Simple Data Types](#%C2%A72.4-Simple-Data-Types)  \n",
    "- [2.5 Operators](#%C2%A72.5-Operators)  \n",
    "- [2.6 Control Flow](#%C2%A72.6-Control-Flow)  \n",
    "- [2.7 Functions](#%C2%A72.7-Functions)  \n",
    "- [2.8 Loops](#%C2%A72.8-Loops)  \n",
    "- [2.9 Scope](#%C2%A72.9-Scope)  \n",
    "- [2.10 Builtin Functions](#%C2%A72.10-Some-Commonly-Used-Builtin-Functions)  \n",
    "- [2.11 String Formatting](#%C2%A72.11-String-Formatting)\n",
    "\n",
    "[3 Data Structure](#%E2%87%92-Part-3-Data-Structure)  \n",
    "- [3.1 List](#%C2%A73.1-List)  \n",
    "- [3.2 Tuple](#%C2%A73.2-Tuple)  \n",
    "- [3.3 Dictionary](#%C2%A73.3-Dictionary)  \n",
    "- [3.4 Set](#%C2%A73.4-Set)  \n",
    "\n",
    "[4 File](#%E2%87%92-Part-4-File)  \n",
    "- [4.1 Reading from Files](#%C2%A74.1-Reading-from-Files)  \n",
    "- [4.2 Writing to Files](#%C2%A74.2-Writing-to-Files) \n",
    "\n",
    "[5 Modules](#%E2%87%92-Part-5-Modules)  \n",
    "- [5.1 Packages](#%C2%A75.1-Packages)  \n",
    "- [5.2 Regular Imports](#%C2%A75.2-Regular-Imports)  \n",
    "\n",
    "[6 Exceptions](#%E2%87%92-Part-6-Exceptions)  \n",
    "\n",
    "[7 Functional Programming](#%E2%87%92-Part-7-Functional-Programming)  \n",
    "- [7.1 Lambda Function](#%C2%A77.1-Lambda-Function)  \n",
    "- [7.2 Filter](#%C2%A77.2-Filter)  \n",
    "- [7.3 Map](#%C2%A77.3-Map)  \n",
    "- [7.4 Reduce](#%C2%A77.4-Reduce)  \n",
    "\n",
    "[8 Database](#%E2%87%92-Part-8-Database)  \n",
    "\n",
    "[9 NumPy Basics](#%E2%87%92-Part-9-NumPy-Basics)  \n",
    "- [9.1 Array Creation](#%C2%A79.1-Array-Creation)  \n",
    "- [9.2 Array Attributes](#%C2%A79.2-Array-Attributes)  \n",
    "- [9.3 Basic Operations](#%C2%A79.3-Basic-Operations)  \n",
    "- [9.4 Basic Indexing and Slicing](#%C2%A79.4-Basic-Indexing-and-Slicing)  \n",
    "- [9.5 Functions and Methods](#%C2%A79.5-Funtions-and-Methods)  \n",
    "- [9.6 Data Processing Using Arrays](#%C2%A79.6-Data-Processing-Using-Arrays)  \n",
    "\n",
    "[10 Requesting Online Resources](#%E2%87%92-Part-10-Requesting-Online-Resources)  \n",
    "- [10.1 Using requests](#%C2%A710.1-Using-requests)  \n",
    "- [10.2 Working with JSON Data](#%C2%A710.2-Working-with-JSON-Data)  \n",
    "\n",
    "## ⇒ Part 1 Introduction\n",
    "***\n",
    "\n",
    "### §1.1 What is Python\n",
    "- An interpreted high-level programming language\n",
    "- Emphasizes code readability\n",
    "- With tons of data science libraries\n",
    "\n",
    "#### Why do we use Python\n",
    "- Easy to read\n",
    "- Easy to write\n",
    "- Easy to learn\n",
    "\n",
    "### §1.2 Install Python3\n",
    "#### Windows\n",
    "Download Python installer from official website according to your Windows version (32-bit or 64-bit).  \n",
    "Run the downloaded installer program, remember to select `Add Python 3.x to PATH` before clicking `Install Now`.\n",
    "\n",
    "To run Python3 REPL (interactice program, REPL stands for Read-Evaluate-Print-Loop), type `python` in Command Prompt.  \n",
    "If you see error message `'python' is not recognized as an internal or external command`, then add `the path to python.exe` to `environment variables`.\n",
    "\n",
    "> Type `exit()` to quite Python REPL.\n",
    "\n",
    "#### MacOS\n",
    "The pre-installed Python version is 2.7. There are 2 ways to install Python3:  \n",
    "Method 1:  \n",
    "Download installation package from Python official website:  \n",
    "[https://www.python.org/downloads/](https://www.python.org/downloads/)\n",
    "\n",
    "Method 2:  \n",
    "Run command `brew install python3` if Homebrew is installed.\n",
    "\n",
    "To run Python3 REPL, type `python3` in Terminal application.\n",
    "\n",
    "### §1.3 Jupyter Notebook\n",
    "#### Install Jupyter Notebook through Anaconda\n",
    "[https://www.anaconda.com/download](https://www.anaconda.com/download)\n",
    "\n",
    "> Note: Python and pip (Python package manager) are included in Anaconda. After the installation, the default python path is modified by Anaconda.\n",
    "\n",
    "#### Jupyter Notebook Shortcuts\n",
    "**Edit mode**: text area is focused, left border is **<span style=\"color:#66BB6A\">green</span>**  \n",
    "**Command mode**: text area is out of focus, left border is **<span style=\"color:#42A5F5\">blue</span>**\n",
    "<h4><center>Keyboard shortcut</center></h4>\n",
    "\n",
    "| Key| Description|<th>Mode</th>|\n",
    "|---|---|---|\n",
    "| `ctrl` + `enter`       | run cell                    |<td rowspan=10>Command</td>|\n",
    "| `a`                    | insert cell above           |\n",
    "| `b`                    | insert cell below           |\n",
    "| `c`                    | copy the cell selected      |\n",
    "| `v`                    | paste cell                  |\n",
    "| `d`, `d`               | selete the selected cell    |\n",
    "| `shift` + `m`          | merge selected cells        |\n",
    "| `y`                    | change cell to Code         |\n",
    "| `m`                    | change cell to Markdown     |\n",
    "| `h`                    | view all keyboard shortcuts |\n",
    "| `cmd/ctrl` + `click`   | multi-cursor editing        |<td rowspan=3>Edit</td>|\n",
    "| `cmd/ctrl` + `/`       | toggle command line         |\n",
    "| `ctrl` + `shift` + `-` | split cell                  |\n",
    "|`cmd` + `shift` + `p`   | search commands             |<td>Any mode</td>|\n",
    "\n",
    "Press `Esc` to exit `Edit mode` and enter `Command mode`. Use up/down arrow keys to select different lines.  \n",
    "Press `Enter` to enter the `Edit mode` of the selected line.\n",
    "  \n",
    "> Tips:  \n",
    "to clean a cell's output,  \n",
    "select the target cell, then press `Esc`, `r`, `y` in sequence.\n",
    "\n",
    "\n",
    "## ⇒ Part 2 Python Basics\n",
    "***\n",
    "\n",
    "### §2.1 print\n",
    "Output values to the console."
   ]
  },
  {
   "cell_type": "code",
   "execution_count": 1,
   "metadata": {},
   "outputs": [
    {
     "name": "stdout",
     "output_type": "stream",
     "text": [
      "Hello World!\n"
     ]
    }
   ],
   "source": [
    "print(\"Hello World!\")"
   ]
  },
  {
   "cell_type": "markdown",
   "metadata": {},
   "source": [
    "In Python3, `print` is a function.  \n",
    "A function can be invoked by specifying the function name, followed by arguments eclosed by a pair of parentheses. We will look at more about functions later.  \n",
    "\n",
    "If no argument is given, `print` will output an empty line."
   ]
  },
  {
   "cell_type": "code",
   "execution_count": 2,
   "metadata": {},
   "outputs": [
    {
     "name": "stdout",
     "output_type": "stream",
     "text": [
      "\n"
     ]
    }
   ],
   "source": [
    "print()"
   ]
  },
  {
   "cell_type": "code",
   "execution_count": null,
   "metadata": {},
   "outputs": [],
   "source": [
    "salary = salary * 1.02   # increase salary by 2%"
   ]
  },
  {
   "cell_type": "markdown",
   "metadata": {},
   "source": [
    "`print` function accepts arbitrary number of arguments seperated by commas. `Print` outputs a `Space` for every comma."
   ]
  },
  {
   "cell_type": "code",
   "execution_count": 3,
   "metadata": {},
   "outputs": [
    {
     "name": "stdout",
     "output_type": "stream",
     "text": [
      "1 + 2 = 3\n"
     ]
    }
   ],
   "source": [
    "print(\"1 + 2 =\", 1 + 2)"
   ]
  },
  {
   "cell_type": "markdown",
   "metadata": {},
   "source": [
    "The above `print` function outputs 2 parameters:\n",
    "- string `\"1 + 2 =\"`\n",
    "- the evaluated value of expression `1 + 2`, which is `3`."
   ]
  },
  {
   "cell_type": "markdown",
   "metadata": {},
   "source": [
    "### §2.2 Variables\n",
    "Variable is also called `Identifier`, which is a name referring to a value or values stored in the memory of the computer.\n",
    "\n",
    "We can imagine there is a look-up table stored inside the computer, every time we define a variable, Python inserts one key-value pair into that table, where `key` is our variable name, and `value` is simply the value that the variable name refering to.  \n",
    "\n",
    "Let's define a variable, and assign a value to it, then print it out."
   ]
  },
  {
   "cell_type": "code",
   "execution_count": 1,
   "metadata": {},
   "outputs": [
    {
     "name": "stdout",
     "output_type": "stream",
     "text": [
      "Jason Zhang\n"
     ]
    }
   ],
   "source": [
    "name = \"Jason Zhang\"\n",
    "print(name)"
   ]
  },
  {
   "cell_type": "markdown",
   "metadata": {},
   "source": [
    "In the above program, we created a variable called `name`, and assigned the value `\"Jason Zhang\"` to it. The first line of the program is called an `assignment statement`.  \n",
    "\n",
    "`name ← \"Jason Zhang\"`\n",
    "\n",
    "Variables' values can be changed (re-assigned)."
   ]
  },
  {
   "cell_type": "code",
   "execution_count": 2,
   "metadata": {},
   "outputs": [
    {
     "name": "stdout",
     "output_type": "stream",
     "text": [
      "3\n"
     ]
    }
   ],
   "source": [
    "a = 'abc'\n",
    "a = 3\n",
    "print(a)"
   ]
  },
  {
   "cell_type": "markdown",
   "metadata": {},
   "source": [
    "In the above program, variable `a` is defined with an initial value `'abc'`.\n",
    "Then a new value `3` is assigned to the variable `a`, thus the value of `a` is `3` at the final state.\n",
    "\n",
    "`Assignment statement` is evaluated from right to left. The `expression` on the right-hand-side of `=` is evaluated first, then assigned to the variable name on the left-hand-side of `=`.  "
   ]
  },
  {
   "cell_type": "code",
   "execution_count": 31,
   "metadata": {},
   "outputs": [
    {
     "name": "stdout",
     "output_type": "stream",
     "text": [
      "8\n"
     ]
    }
   ],
   "source": [
    "a = 5\n",
    "a = a + 3\n",
    "print(a)"
   ]
  },
  {
   "cell_type": "markdown",
   "metadata": {},
   "source": [
    "Try to explain the following program's output."
   ]
  },
  {
   "cell_type": "code",
   "execution_count": 3,
   "metadata": {},
   "outputs": [
    {
     "name": "stdout",
     "output_type": "stream",
     "text": [
      "5 5\n"
     ]
    }
   ],
   "source": [
    "a = 3\n",
    "b = a = 5\n",
    "print (a, b)"
   ]
  },
  {
   "cell_type": "markdown",
   "metadata": {},
   "source": [
    "Python is case sensitive, variable name `val` is differnt from `Val`.\n",
    "\n",
    "You can assign values to multiple variables within one `assignment statement`:"
   ]
  },
  {
   "cell_type": "code",
   "execution_count": 4,
   "metadata": {
    "scrolled": true
   },
   "outputs": [
    {
     "name": "stdout",
     "output_type": "stream",
     "text": [
      "12 Wow! False\n"
     ]
    }
   ],
   "source": [
    "a, b, c = 12, \"Wow!\", False\n",
    "print(a, b, c)"
   ]
  },
  {
   "cell_type": "markdown",
   "metadata": {},
   "source": [
    "Try the following program, and think about why `a` and `b` have different values eventually."
   ]
  },
  {
   "cell_type": "code",
   "execution_count": 32,
   "metadata": {},
   "outputs": [
    {
     "name": "stdout",
     "output_type": "stream",
     "text": [
      "2 1\n"
     ]
    }
   ],
   "source": [
    "a = 1\n",
    "b = a\n",
    "a = 2\n",
    "print(a, b)"
   ]
  },
  {
   "cell_type": "markdown",
   "metadata": {},
   "source": [
    "> ⇨ Exercise 2.2.1  \n",
    "Swap two variables' value.\n",
    "\n",
    "### §2.3 Comments\n",
    "Comments are used to notate your work inside your source program. All the comments are ignored by the computer during execution.\n",
    "You can simply add a comment by beginning a line with the hash character `#`. It will be terminated by the end of line."
   ]
  },
  {
   "cell_type": "code",
   "execution_count": null,
   "metadata": {
    "collapsed": true
   },
   "outputs": [],
   "source": [
    "# This is my variable\n",
    "myVar = 100"
   ]
  },
  {
   "cell_type": "markdown",
   "metadata": {},
   "source": [
    "Python only provides one way of adding single-line comments, but there is a trick to add multiple-line comments using triple quotes.\n",
    "\n",
    "> Try to add some meaningful comments to your program to help understanding, not only for you, but also someone who may read your code.\n",
    "\n",
    "### §2.4 Simple Data Types\n",
    "There are several commonly used primary data types in Python.  \n",
    "Use `type()` to get the data type of a specific value or a variable."
   ]
  },
  {
   "cell_type": "code",
   "execution_count": 5,
   "metadata": {},
   "outputs": [
    {
     "name": "stdout",
     "output_type": "stream",
     "text": [
      "type_1 = <class 'int'>\n",
      "type_2 = <class 'float'>\n",
      "type_3 = <class 'str'>\n",
      "type_4 = <class 'bool'>\n",
      "type_5 = <class 'builtin_function_or_method'>\n",
      "type_6 = <class 'NoneType'>\n"
     ]
    }
   ],
   "source": [
    "type_1 = type(123)\n",
    "type_2 = type(123.0)\n",
    "type_3 = type(\"123\")\n",
    "type_4 = type(True)\n",
    "type_5 = type(print)\n",
    "type_6 = type(None)\n",
    "\n",
    "print(\"type_1 =\", type_1)\n",
    "print(\"type_2 =\", type_2)\n",
    "print(\"type_3 =\", type_3)\n",
    "print(\"type_4 =\", type_4)\n",
    "print(\"type_5 =\", type_5)\n",
    "print(\"type_6 =\", type_6)"
   ]
  },
  {
   "cell_type": "markdown",
   "metadata": {},
   "source": [
    "#### Integers (`int`)\n",
    "Python can deal with any integer values, including negative integers.  \n",
    "For instance: `0`, `-99999999`, `12345`.  \n",
    "\n",
    "#### Floating Point Numbers (`float`)\n",
    "A floating point number is a number that has a fractional part. It is called floating point number because the position of the decimal point can be changed in the scientific notation. For example, `3.1415e9` is the same as `314.15e7`.  \n",
    "\n",
    "Floating point numbers are stored as approximated values in the computer's memory."
   ]
  },
  {
   "cell_type": "code",
   "execution_count": 6,
   "metadata": {},
   "outputs": [
    {
     "name": "stdout",
     "output_type": "stream",
     "text": [
      "7.3999999999999995\n"
     ]
    }
   ],
   "source": [
    "print(5.1 + 2.3)"
   ]
  },
  {
   "cell_type": "markdown",
   "metadata": {},
   "source": [
    "We can round this number using `round` function."
   ]
  },
  {
   "cell_type": "code",
   "execution_count": 7,
   "metadata": {},
   "outputs": [
    {
     "data": {
      "text/plain": [
       "7.4"
      ]
     },
     "execution_count": 7,
     "metadata": {},
     "output_type": "execute_result"
    }
   ],
   "source": [
    "round(5.1 + 2.3, 2) # round to 2 digits precision after the decimal point"
   ]
  },
  {
   "cell_type": "markdown",
   "metadata": {},
   "source": [
    "#### String (`str`)\n",
    "A string is a text surrounded by a pair of single quotes `'` or double quotes `\"`, for example `'This is a string.'`, `\"This is another string.\"`. The first and last quotation marks should be matched, and they are not parts of the string.\n",
    "\n",
    "Use escape character (`\\`) to output new line `\\n`, tab `\\t`, back slash `\\\\`, single quote `\\'`, double quote `\\\"` etc. inside a string."
   ]
  },
  {
   "cell_type": "code",
   "execution_count": 8,
   "metadata": {
    "scrolled": true
   },
   "outputs": [
    {
     "name": "stdout",
     "output_type": "stream",
     "text": [
      "First line\n",
      "Second line\n",
      "I'm the third line\n"
     ]
    }
   ],
   "source": [
    "print('First line\\nSecond line\\nI\\'m the third line')"
   ]
  },
  {
   "cell_type": "markdown",
   "metadata": {},
   "source": [
    "You can use r'' to disable escape characters:"
   ]
  },
  {
   "cell_type": "code",
   "execution_count": 9,
   "metadata": {
    "scrolled": true
   },
   "outputs": [
    {
     "name": "stdout",
     "output_type": "stream",
     "text": [
      "This is \\ a string.\n",
      "This is \\\\ a string.\n"
     ]
    }
   ],
   "source": [
    "print('This is \\\\ a string.')\n",
    "print(r'This is \\\\ a string.')"
   ]
  },
  {
   "cell_type": "markdown",
   "metadata": {},
   "source": [
    "To define a string which spans multiple lines, you can use triple quotes (`'''` or `\"\"\"`):"
   ]
  },
  {
   "cell_type": "code",
   "execution_count": 28,
   "metadata": {},
   "outputs": [
    {
     "name": "stdout",
     "output_type": "stream",
     "text": [
      "\n",
      "First line\n",
      "Second line\n",
      "\n"
     ]
    }
   ],
   "source": [
    "print('''\n",
    "First line\n",
    "Second line\n",
    "''')"
   ]
  },
  {
   "cell_type": "markdown",
   "metadata": {},
   "source": [
    "> Tips:  \n",
    "> Triple quotes strings can also be used for multi-line comments.\n",
    ">\n",
    "Use [`split`](https://docs.python.org/3/library/stdtypes.html#str.split) to split a string into a list.  \n",
    "`'a b c'.split()` => `['a', 'b', 'c']`  \n",
    "> \n",
    "Use [`join`](https://docs.python.org/3/library/stdtypes.html#str.join) to convert a list to a string  \n",
    "`' '.join(['a', 'b', 'c'])` => `'a b c'`  \n",
    "\n",
    "#### Boolean (`bool`)\n",
    "A boolean value can be either `True` or `False` in Python.\n",
    "> Be careful with the capitalization.\n",
    "\n",
    "#### None (`None`)\n",
    "In Python, `None` stands for an empty value.\n",
    "\n",
    "### §2.5 Operators\n",
    "#### Basic Operators\n",
    "| Operator | Description    | Example     |\n",
    "|----------|----------------|-------------|\n",
    "| `+`        | Addition       | `3 + 5` ⇒ `8`   |\n",
    "| `-`        | Subtraction    | `5 - 3` ⇒ `2`   |\n",
    "| `*`        | Multiplication | `5 * 3` ⇒ `15`  |\n",
    "| `/`        | Division       | `9 / 2` ⇒ `4.5` |\n",
    "| `//`       | Floor Division | `9 // 2` ⇒ `4`  |\n",
    "| `%`        | Modulus        | `9 % 2` ⇒ `1`   |\n",
    "| `**`       | Exponent       | `2 ** 3` ⇒ `8`  |\n",
    "\n",
    "#### Assignment Operators\n",
    "An assignment operator applies a certain operation on the vraiable and the right operand, then assign the result to the variable on the left.\n",
    "\n",
    "| Operator | Example                  |\n",
    "|----------|--------------------------|\n",
    "| `=`        | `a = 10`                 |\n",
    "| `+=`       | `a += 5` ⇒ `a = a + 5`   |\n",
    "| `-=`       | `a -= 5` ⇒ `a = a - 5`   |\n",
    "| `*=`       | `a *= 5` ⇒ `a = a * 5`   |\n",
    "| `/=`       | `a /= 5` ⇒ `a = a / 5`   |\n",
    "| `//=`      | `a //= 5` ⇒ `a = a // 5` |\n",
    "| `%=`       | `a %= 5` ⇒ `a = a % 5`   |\n",
    "| `**=`      | `a **= 5` ⇒ `a = a ** 5` |\n",
    "\n",
    "#### Logical Operators\n",
    "| Operator | Description                  |\n",
    "|----------|--------------------------|\n",
    "| `>`        | greater than                 |\n",
    "| `>=`       | greater than or equal   |\n",
    "| `<`       | less than   |\n",
    "| `<=`       | less than or equal   |\n",
    "| `==`       | equal   |\n",
    "| `!=`       | not equal   |\n",
    "| `in`      | is in sequence |\n",
    "| `not in`       | is not in sequence   |\n",
    "\n",
    "> A sequence can be a list, tuple etc, see [Part 3](#%E2%87%92-Part-3-Data-Structure)\n",
    "\n",
    "#### Boolean Operations\n",
    "| Operator | Description    | Example     |\n",
    "|----------|----------------|-------------|\n",
    "| `and`        | Both conditons are True ⇒ result is True  | True and True ⇒ True   |\n",
    "| `or`        | At lease one of the conditions is true ⇒ result is True   | False or True ⇒ True   |\n",
    "| `not`        | Negate the boolean value | not True ⇒ False  |\n",
    "\n",
    "\n",
    "> ⇨ Exercise 2.5.1  \n",
    "Try different operators on the same or different data types.\n",
    "\n",
    "### §2.6 Control Flow\n",
    "#### if statement"
   ]
  },
  {
   "cell_type": "code",
   "execution_count": 4,
   "metadata": {},
   "outputs": [
    {
     "name": "stdout",
     "output_type": "stream",
     "text": [
      "Pass\n"
     ]
    }
   ],
   "source": [
    "score = 70\n",
    "if score >= 60:\n",
    "    print('Pass')"
   ]
  },
  {
   "cell_type": "markdown",
   "metadata": {},
   "source": [
    "Be careful to the indentation. Usually, we use 4-space or Tab indentation.  \n",
    "If the condition is `True`, the indented part (`if clause`) will be executed. Otherwise, the `if clause` will be skipped.\n",
    "You can also add an `else clause` in case the conditon is evaluated to be `False`, the `else clause` will be executed."
   ]
  },
  {
   "cell_type": "code",
   "execution_count": 5,
   "metadata": {},
   "outputs": [
    {
     "name": "stdout",
     "output_type": "stream",
     "text": [
      "Fail\n"
     ]
    }
   ],
   "source": [
    "score = 50\n",
    "if score >= 60:\n",
    "    print('Pass')\n",
    "else:\n",
    "    print('Fail')"
   ]
  },
  {
   "cell_type": "markdown",
   "metadata": {},
   "source": [
    "> Important:  \n",
    "> Don't miss the colon `:`.  \n",
    "\n",
    "If you want to add more condition branches, you can use `elif` clause:"
   ]
  },
  {
   "cell_type": "code",
   "execution_count": 6,
   "metadata": {},
   "outputs": [
    {
     "name": "stdout",
     "output_type": "stream",
     "text": [
      "C\n"
     ]
    }
   ],
   "source": [
    "score = 75\n",
    "if score >= 90:\n",
    "    print('A')\n",
    "elif score >= 80:\n",
    "    print('B')\n",
    "elif score >= 70:\n",
    "    print('C')\n",
    "elif score >= 60:\n",
    "    print('D')\n",
    "else:\n",
    "    print('F')"
   ]
  },
  {
   "cell_type": "markdown",
   "metadata": {},
   "source": [
    "#### Truth Value Testing\n",
    "https://docs.python.org/3.6/library/stdtypes.html?highlight=truth#truth-value-testing\n",
    "\n",
    "> ⇨ Exercise 2.6.1  \n",
    "BMI calculator.\n",
    "\n",
    "\n",
    "### §2.7 Functions\n",
    "We all know the following formula to calculate the area of a circle:\n",
    "\\begin{equation*}\n",
    "S = \\pi r^2\n",
    "\\end{equation*}\n",
    "\n",
    "Suppose we are going to calculate the areas of three different circles:"
   ]
  },
  {
   "cell_type": "code",
   "execution_count": 9,
   "metadata": {},
   "outputs": [
    {
     "name": "stdout",
     "output_type": "stream",
     "text": [
      "s1=85.89, s2=6529.19, s3=277.45\n"
     ]
    }
   ],
   "source": [
    "r1 = 5.23\n",
    "r2 = 45.6\n",
    "r3 = 9.4\n",
    "\n",
    "s1 = 3.14 * r1 ** 2\n",
    "s2 = 3.14 * r2 ** 2\n",
    "s3 = 3.14 * r3 ** 2\n",
    "\n",
    "print('s1={:.2f}, s2={:.2f}, s3={:.2f}'.format(s1, s2, s3))"
   ]
  },
  {
   "cell_type": "markdown",
   "metadata": {},
   "source": [
    "As you can see, we repeated `3.14 * r ** 2` every time we are trying to calculate a circle's area. Besides, once the value of π is changed, we have to update each place where π is used one by one.  \n",
    "We can extract the circle area calculation part into a function, so that we can simply call the defined function to do the work for us."
   ]
  },
  {
   "cell_type": "code",
   "execution_count": 11,
   "metadata": {},
   "outputs": [
    {
     "name": "stdout",
     "output_type": "stream",
     "text": [
      "The circle area is 98.4704\n"
     ]
    }
   ],
   "source": [
    "def circle_area(r):\n",
    "    return 3.14 * r ** 2\n",
    "\n",
    "print('The circle area is {}'.format(circle_area(5.6)))"
   ]
  },
  {
   "cell_type": "markdown",
   "metadata": {},
   "source": [
    "> ⇨ Exercise 2.7.1  \n",
    "Write a function to calculate the absolute value of a given number.\n",
    "\n",
    "### §2.8 Loops\n",
    "To calculate the sum of three numbers, we can write:"
   ]
  },
  {
   "cell_type": "code",
   "execution_count": 13,
   "metadata": {},
   "outputs": [
    {
     "name": "stdout",
     "output_type": "stream",
     "text": [
      "6\n"
     ]
    }
   ],
   "source": [
    "result = 1 + 2 + 3\n",
    "print(result)"
   ]
  },
  {
   "cell_type": "markdown",
   "metadata": {},
   "source": [
    "However, if we are going to calculate 1 + 2 + 3 + ... + 99999, it will not be pratical to list down all the numbers in the statement. Thus we need loop statements.  \n",
    "There are two types of loop statements in Python, they are `for` loops and `while` loops.\n",
    "#### For Loop\n",
    "To print out all the content in a list:"
   ]
  },
  {
   "cell_type": "code",
   "execution_count": 7,
   "metadata": {},
   "outputs": [
    {
     "name": "stdout",
     "output_type": "stream",
     "text": [
      "Singapore\n",
      "Vietnam\n",
      "Thailand\n",
      "Indonesia\n"
     ]
    }
   ],
   "source": [
    "countries = ['Singapore', 'Vietnam', 'Thailand', 'Indonesia']\n",
    "for country in countries:\n",
    "    print(country)"
   ]
  },
  {
   "cell_type": "markdown",
   "metadata": {},
   "source": [
    "Let's calculate the sum of all the integers between 1 and 100.\n",
    "We don't have to list all the numbers, Python provides the `range()` function.\n",
    "We can check the generated range by converting it to a list:"
   ]
  },
  {
   "cell_type": "code",
   "execution_count": 15,
   "metadata": {},
   "outputs": [
    {
     "name": "stdout",
     "output_type": "stream",
     "text": [
      "[0, 1, 2, 3, 4, 5, 6, 7, 8, 9]\n"
     ]
    }
   ],
   "source": [
    "r = range(10)\n",
    "print(list(r))"
   ]
  },
  {
   "cell_type": "markdown",
   "metadata": {},
   "source": [
    "Let's try calculating the sum from 1 to 100:"
   ]
  },
  {
   "cell_type": "code",
   "execution_count": 8,
   "metadata": {},
   "outputs": [
    {
     "name": "stdout",
     "output_type": "stream",
     "text": [
      "5050\n"
     ]
    }
   ],
   "source": [
    "sum = 0\n",
    "for x in range(101):\n",
    "    sum += x\n",
    "print(sum)"
   ]
  },
  {
   "cell_type": "markdown",
   "metadata": {},
   "source": [
    "#### While Loop\n",
    "In while loop, the `loop body` is repeated as long as the condition is `True`, and it stops when the condition is evaluated to be `False`.\n",
    "For example, calculate the factorial of a given number:"
   ]
  },
  {
   "cell_type": "code",
   "execution_count": 9,
   "metadata": {},
   "outputs": [
    {
     "name": "stdout",
     "output_type": "stream",
     "text": [
      "120\n"
     ]
    }
   ],
   "source": [
    "def factorial(n):\n",
    "    fact = n\n",
    "    while n > 1:\n",
    "        n -= 1\n",
    "        fact *= n\n",
    "    return fact\n",
    "\n",
    "print(factorial(5))"
   ]
  },
  {
   "cell_type": "code",
   "execution_count": 10,
   "metadata": {},
   "outputs": [
    {
     "name": "stdout",
     "output_type": "stream",
     "text": [
      "i is 0\n",
      "i is 1\n",
      "i is 2\n",
      "i is 3\n",
      "i is 4\n"
     ]
    }
   ],
   "source": [
    "i = 0\n",
    "while i < 5:\n",
    "    print(\"i is {}\".format(i)) \n",
    "    i = i + 1\n"
   ]
  },
  {
   "cell_type": "markdown",
   "metadata": {},
   "source": [
    "> ⇨ Exercise 2.8.1  \n",
    "Write a program to get sum of all the odd numbers within 100 using loops in at least three ways.\n",
    "\n",
    "\n",
    "#### Break\n",
    "We can use `break` statement to exit a loop."
   ]
  },
  {
   "cell_type": "code",
   "execution_count": 11,
   "metadata": {},
   "outputs": [
    {
     "name": "stdout",
     "output_type": "stream",
     "text": [
      "2\n",
      "4\n",
      "6\n",
      "END\n"
     ]
    }
   ],
   "source": [
    "for x in [2, 4, 6, -1, 8, 0]:\n",
    "    if x < 0:\n",
    "        break\n",
    "    print(x)\n",
    "print('END')"
   ]
  },
  {
   "cell_type": "markdown",
   "metadata": {},
   "source": [
    "#### Continue\n",
    "We can use `continue` statement to skip current iteration, and continue with the next one.  \n",
    "For example, we are going to get the sum of all the non-negative numbers in a list:"
   ]
  },
  {
   "cell_type": "code",
   "execution_count": 12,
   "metadata": {},
   "outputs": [
    {
     "name": "stdout",
     "output_type": "stream",
     "text": [
      "skip  -2\n",
      "skip  -1\n",
      "END\n",
      "result = 20\n"
     ]
    }
   ],
   "source": [
    "sum = 0\n",
    "for x in [2, -2, 4, 6, -1, 8, 0]:\n",
    "    if x < 0:\n",
    "        print('skip ', x)\n",
    "        continue\n",
    "    sum += x\n",
    "print('END')\n",
    "print('result =', sum)"
   ]
  },
  {
   "cell_type": "markdown",
   "metadata": {},
   "source": [
    "#### Functions"
   ]
  },
  {
   "cell_type": "markdown",
   "metadata": {},
   "source": [
    "`Functions` are defined using the def keyword. After this keyword comes an `identifier` name for the function, followed by a pair of parentheses which may enclose some names of variables, and by the final colon that ends the line. Next follows the block of statements that are part of this function. An example will show that this is actually very simple:"
   ]
  },
  {
   "cell_type": "code",
   "execution_count": 6,
   "metadata": {},
   "outputs": [
    {
     "name": "stdout",
     "output_type": "stream",
     "text": [
      "hello world\n",
      "hello world\n"
     ]
    }
   ],
   "source": [
    "def say_hello():\n",
    "    # block belonging to the function\n",
    "    print('hello world')\n",
    "# End of function\n",
    "\n",
    "say_hello()  # call the function\n",
    "say_hello()  # call the function again"
   ]
  },
  {
   "cell_type": "code",
   "execution_count": 8,
   "metadata": {},
   "outputs": [
    {
     "name": "stdout",
     "output_type": "stream",
     "text": [
      "4 is maximum\n",
      "7 is maximum\n"
     ]
    }
   ],
   "source": [
    "def print_max(a, b):\n",
    "    if a > b:\n",
    "        print(a, 'is maximum')\n",
    "    elif a == b:\n",
    "        print(a, 'is equal to', b)\n",
    "    else:\n",
    "        print(b, 'is maximum')\n",
    "\n",
    "# directly pass literal values\n",
    "print_max(3, 4)\n",
    "\n",
    "x = 5\n",
    "y = 7\n",
    "\n",
    "# pass variables as arguments\n",
    "print_max(x, y)"
   ]
  },
  {
   "cell_type": "markdown",
   "metadata": {},
   "source": [
    "### §2.9 Scope"
   ]
  },
  {
   "cell_type": "code",
   "execution_count": 17,
   "metadata": {},
   "outputs": [
    {
     "name": "stdout",
     "output_type": "stream",
     "text": [
      "[inside fun] c:  7\n",
      "[inside fun] d:  3\n",
      "[outside fun] a:  0\n",
      "[outside fun] b:  1\n"
     ]
    },
    {
     "ename": "NameError",
     "evalue": "name 'c' is not defined",
     "output_type": "error",
     "traceback": [
      "\u001b[0;31m---------------------------------------------------------------------------\u001b[0m",
      "\u001b[0;31mNameError\u001b[0m                                 Traceback (most recent call last)",
      "\u001b[0;32m<ipython-input-17-d1013ed9ec6e>\u001b[0m in \u001b[0;36m<module>\u001b[0;34m()\u001b[0m\n\u001b[1;32m     16\u001b[0m \u001b[0;34m\u001b[0m\u001b[0m\n\u001b[1;32m     17\u001b[0m \u001b[0;31m# out of scope, will cause errors\u001b[0m\u001b[0;34m\u001b[0m\u001b[0;34m\u001b[0m\u001b[0m\n\u001b[0;32m---> 18\u001b[0;31m \u001b[0mprint\u001b[0m\u001b[0;34m(\u001b[0m\u001b[0;34m\"[outside fun] c: \"\u001b[0m\u001b[0;34m,\u001b[0m \u001b[0mc\u001b[0m\u001b[0;34m)\u001b[0m\u001b[0;34m\u001b[0m\u001b[0m\n\u001b[0m\u001b[1;32m     19\u001b[0m \u001b[0mprint\u001b[0m\u001b[0;34m(\u001b[0m\u001b[0;34m\"[outside fun] d: \"\u001b[0m\u001b[0;34m,\u001b[0m \u001b[0md\u001b[0m\u001b[0;34m)\u001b[0m\u001b[0;34m\u001b[0m\u001b[0m\n",
      "\u001b[0;31mNameError\u001b[0m: name 'c' is not defined"
     ]
    }
   ],
   "source": [
    "a = 0 # global variable\n",
    "\n",
    "if a == 0:\n",
    "    b = 1  # global variable\n",
    "\n",
    "def fun(c):\n",
    "    d = 3    # local variable\n",
    "    print('[inside fun] c: ', c)\n",
    "    print('[inside fun] d: ', d)\n",
    "\n",
    "\n",
    "fun(7)\n",
    "\n",
    "print(\"[outside fun] a: \", a)\n",
    "print(\"[outside fun] b: \", b)\n",
    "\n",
    "# out of scope, will cause errors\n",
    "print(\"[outside fun] c: \", c)\n",
    "print(\"[outside fun] d: \", d)\n"
   ]
  },
  {
   "cell_type": "code",
   "execution_count": 42,
   "metadata": {},
   "outputs": [
    {
     "name": "stdout",
     "output_type": "stream",
     "text": [
      "2\n",
      "1\n"
     ]
    }
   ],
   "source": [
    "a = 1\n",
    "\n",
    "def fun():\n",
    "    # print(a) Error!\n",
    "    a = 2\n",
    "    print(a)\n",
    "\n",
    "fun()\n",
    "print(a)"
   ]
  },
  {
   "cell_type": "code",
   "execution_count": 18,
   "metadata": {},
   "outputs": [
    {
     "name": "stdout",
     "output_type": "stream",
     "text": [
      "1\n",
      "2\n"
     ]
    }
   ],
   "source": [
    "a = 1\n",
    "\n",
    "def fun():\n",
    "    global a # use global variable\n",
    "    print(a)\n",
    "    a = 2 # global a's value is mutated\n",
    "\n",
    "fun()\n",
    "print(a)"
   ]
  },
  {
   "cell_type": "markdown",
   "metadata": {},
   "source": [
    "### §2.10 Some Commonly Used Builtin Functions\n",
    "[int](https://docs.python.org/3/library/functions.html#int): Return an integer object constructed from a number or string x, or return 0 if no arguments are given.  \n",
    "[float](https://docs.python.org/3/library/functions.html#float): Return a floating point number constructed from a number or string x.  \n",
    "[str](https://docs.python.org/3/library/stdtypes.html#str): Return a string version of object.  \n",
    "[bool](https://docs.python.org/3/library/functions.html#bool): Return a Boolean value, i.e. one of True or False.  \n",
    "[isinstance](https://docs.python.org/3/library/functions.html#isinstance): Return true if the object argument is an instance of the classinfo argument, or of a (direct, indirect or virtual) subclass thereof.  \n",
    "[abs](https://docs.python.org/3/library/functions.html#abs): Return the absolute value of a number.  \n",
    "[max](https://docs.python.org/3/library/functions.html#max): Return the largest item in an iterable or the largest of two or more arguments.  \n",
    "[min](https://docs.python.org/3/library/functions.html#min): Return the smallest item in an iterable or the smallest of two or more arguments.  \n",
    "[len](https://docs.python.org/3/library/functions.html#len): Return the length (the number of items) of an object.  \n",
    "[range](https://docs.python.org/3/library/stdtypes.html#typesseq-range): The range type represents an immutable sequence of numbers and is commonly used for looping a specific number of times in for loops.  \n",
    "[type](https://docs.python.org/3/library/functions.html#type): With one argument, return the type of an object.  \n",
    "[round](https://docs.python.org/3/library/functions.html#round): Return number rounded to ndigits precision after the decimal point.  \n",
    "[map](https://docs.python.org/3/library/functions.html#map): Return an iterator that applies function to every item of iterable, yielding the results.  \n",
    "[filter](https://docs.python.org/3/library/functions.html#filter): Construct an iterator from those elements of iterable for which function returns true.  \n",
    "\n",
    "### §2.11 String Formatting\n",
    "During programming, we are required to form strings containing variables frequently, and we can do this with concatenation using `+` operator.\n",
    "For example, we have the following defined variables:"
   ]
  },
  {
   "cell_type": "code",
   "execution_count": 1,
   "metadata": {},
   "outputs": [
    {
     "name": "stdout",
     "output_type": "stream",
     "text": [
      "Tom is 23 years old\n"
     ]
    }
   ],
   "source": [
    "name = 'Tom'\n",
    "age = 23\n",
    "\n",
    "string = name + ' is ' + str(age) + ' years old'\n",
    "print(string)"
   ]
  },
  {
   "cell_type": "markdown",
   "metadata": {},
   "source": [
    "Few things to take note here. First, a string cannot concatenate with a non-string data type, thus we have to cast non-string values using `str` function. Second, we need to add leading or trailing spaces to some strings in order to make sure words are separated by spaces properly.  \n",
    "But with the string formatting feature in Python, we don't have to worry about such issues."
   ]
  },
  {
   "cell_type": "markdown",
   "metadata": {},
   "source": [
    "#### Basic formatting\n",
    "In Python, each string has a format function.  \n",
    "`format_string.format(arguments)`  \n",
    "In the above example, we can do something like this:"
   ]
  },
  {
   "cell_type": "code",
   "execution_count": 2,
   "metadata": {},
   "outputs": [
    {
     "name": "stdout",
     "output_type": "stream",
     "text": [
      "Tom is 23 years old\n"
     ]
    }
   ],
   "source": [
    "string = '{} is {} years old'.format(name, age)\n",
    "print(string)"
   ]
  },
  {
   "cell_type": "markdown",
   "metadata": {},
   "source": [
    "`{}` represents a variable in the format string. We can re-arrange the order by specifying the index number in the braces, for example `{2}`.\n",
    "\n",
    "#### Padding and Aligning\n",
    "By default, the formatted string takes up as many characters as needed to represent the content, but we can define a value that should be padded to a specific length."
   ]
  },
  {
   "cell_type": "code",
   "execution_count": 11,
   "metadata": {},
   "outputs": [
    {
     "data": {
      "text/plain": [
       "'Python    '"
      ]
     },
     "execution_count": 11,
     "metadata": {},
     "output_type": "execute_result"
    }
   ],
   "source": [
    "'{:10}'.format('Python')"
   ]
  },
  {
   "cell_type": "markdown",
   "metadata": {},
   "source": [
    "Add a colon `:` followed by a number to specify how many characters you want to use for this variable. By default, the variable is aligned to the left.  \n",
    "To change to right aligned:"
   ]
  },
  {
   "cell_type": "code",
   "execution_count": 2,
   "metadata": {},
   "outputs": [
    {
     "data": {
      "text/plain": [
       "'    Python'"
      ]
     },
     "execution_count": 2,
     "metadata": {},
     "output_type": "execute_result"
    }
   ],
   "source": [
    "'{:>10}'.format('Python')"
   ]
  },
  {
   "cell_type": "markdown",
   "metadata": {},
   "source": [
    "To center align the string:"
   ]
  },
  {
   "cell_type": "code",
   "execution_count": 1,
   "metadata": {},
   "outputs": [
    {
     "data": {
      "text/plain": [
       "'Python    '"
      ]
     },
     "execution_count": 1,
     "metadata": {},
     "output_type": "execute_result"
    }
   ],
   "source": [
    "'{:<10}'.format('Python')"
   ]
  },
  {
   "cell_type": "markdown",
   "metadata": {},
   "source": [
    "We can also define the padding character, for example, using underscore"
   ]
  },
  {
   "cell_type": "code",
   "execution_count": 14,
   "metadata": {},
   "outputs": [
    {
     "data": {
      "text/plain": [
       "'____Python_____'"
      ]
     },
     "execution_count": 14,
     "metadata": {},
     "output_type": "execute_result"
    }
   ],
   "source": [
    "'{:_^15}'.format('Python')"
   ]
  },
  {
   "cell_type": "markdown",
   "metadata": {},
   "source": [
    "#### Truncating\n",
    "We can truncate overly long strings to a specific length.\n",
    "To specify the precision of the output string, we can put a dot `.` followed by a number indicating the length."
   ]
  },
  {
   "cell_type": "code",
   "execution_count": 15,
   "metadata": {},
   "outputs": [
    {
     "data": {
      "text/plain": [
       "'Data An'"
      ]
     },
     "execution_count": 15,
     "metadata": {},
     "output_type": "execute_result"
    }
   ],
   "source": [
    "'{:.7}'.format('Data Analysis with Python')"
   ]
  },
  {
   "cell_type": "markdown",
   "metadata": {},
   "source": [
    "#### Formatting Numbers\n",
    "We can also apply padding, aligning and truncating to formatting numbers.  \n",
    "Using `d` to indicate it is an integer."
   ]
  },
  {
   "cell_type": "code",
   "execution_count": 54,
   "metadata": {},
   "outputs": [
    {
     "data": {
      "text/plain": [
       "'=246=='"
      ]
     },
     "execution_count": 54,
     "metadata": {},
     "output_type": "execute_result"
    }
   ],
   "source": [
    "'{:=^6d}'.format(246)"
   ]
  },
  {
   "cell_type": "markdown",
   "metadata": {},
   "source": [
    "For floating point numbers, use letter `f`, similar to truncating strings, add a number after `.` to limit the number of digits after the decimal point."
   ]
  },
  {
   "cell_type": "code",
   "execution_count": 3,
   "metadata": {},
   "outputs": [
    {
     "data": {
      "text/plain": [
       "'003.14'"
      ]
     },
     "execution_count": 3,
     "metadata": {},
     "output_type": "execute_result"
    }
   ],
   "source": [
    "'{:06.2f}'.format(3.14159265358)"
   ]
  },
  {
   "cell_type": "markdown",
   "metadata": {},
   "source": [
    "## ⇒ Part 3 Data Structure\n",
    "***\n",
    "### §3.1 List\n",
    "A `list` is a sequential collection of Python data values, where each value is identified by an index. \n",
    "The values that make up a `list` are called its elements. \n",
    "Lists are like strings, which are ordered collections of characters, except that the elements of a list can have any type and for any one list, the items can be of different types."
   ]
  },
  {
   "cell_type": "code",
   "execution_count": 7,
   "metadata": {},
   "outputs": [
    {
     "name": "stdout",
     "output_type": "stream",
     "text": [
      "[17, 123]\n",
      "['hello', 2.0, 10, [10, 20]]\n",
      "[[17, 123], ['iteration', 'selection', 'control']]\n"
     ]
    }
   ],
   "source": [
    "vocabulary = [\"iteration\", \"selection\", \"control\"]\n",
    "numbers = [17, 123]\n",
    "empty = []\n",
    "mixedlist = [\"hello\", 2.0, 5*2, [10, 20]]\n",
    "\n",
    "print(numbers)\n",
    "print(mixedlist)\n",
    "newlist = [ numbers, vocabulary ]\n",
    "print(newlist)"
   ]
  },
  {
   "cell_type": "markdown",
   "metadata": {},
   "source": [
    "The variable `vocabulary` is a `list`. You can get the number of items in it by using `len()`:"
   ]
  },
  {
   "cell_type": "code",
   "execution_count": 8,
   "metadata": {},
   "outputs": [
    {
     "data": {
      "text/plain": [
       "3"
      ]
     },
     "execution_count": 8,
     "metadata": {},
     "output_type": "execute_result"
    }
   ],
   "source": [
    "len(vocabulary)"
   ]
  },
  {
   "cell_type": "markdown",
   "metadata": {},
   "source": [
    "Visit elements in the list by using indexing. Bare in mind that the index starts from `0`."
   ]
  },
  {
   "cell_type": "code",
   "execution_count": 9,
   "metadata": {},
   "outputs": [
    {
     "name": "stdout",
     "output_type": "stream",
     "text": [
      "17\n",
      "123\n",
      "8398\n",
      "44\n"
     ]
    },
    {
     "ename": "IndexError",
     "evalue": "list index out of range",
     "output_type": "error",
     "traceback": [
      "\u001b[1;31m---------------------------------------------------------------------------\u001b[0m",
      "\u001b[1;31mIndexError\u001b[0m                                Traceback (most recent call last)",
      "\u001b[1;32m<ipython-input-9-dc4b21ffdba2>\u001b[0m in \u001b[0;36m<module>\u001b[1;34m\u001b[0m\n\u001b[0;32m      4\u001b[0m \u001b[0mprint\u001b[0m\u001b[1;33m(\u001b[0m\u001b[0mnumbers\u001b[0m\u001b[1;33m[\u001b[0m\u001b[1;33m-\u001b[0m\u001b[1;36m2\u001b[0m\u001b[1;33m]\u001b[0m\u001b[1;33m)\u001b[0m\u001b[1;33m\u001b[0m\u001b[1;33m\u001b[0m\u001b[0m\n\u001b[0;32m      5\u001b[0m \u001b[0mprint\u001b[0m\u001b[1;33m(\u001b[0m\u001b[0mnumbers\u001b[0m\u001b[1;33m[\u001b[0m\u001b[0mlen\u001b[0m\u001b[1;33m(\u001b[0m\u001b[0mnumbers\u001b[0m\u001b[1;33m)\u001b[0m \u001b[1;33m-\u001b[0m \u001b[1;36m1\u001b[0m\u001b[1;33m]\u001b[0m\u001b[1;33m)\u001b[0m\u001b[1;33m\u001b[0m\u001b[1;33m\u001b[0m\u001b[0m\n\u001b[1;32m----> 6\u001b[1;33m \u001b[0mprint\u001b[0m\u001b[1;33m(\u001b[0m\u001b[0mnumbers\u001b[0m\u001b[1;33m[\u001b[0m\u001b[1;36m7\u001b[0m\u001b[1;33m]\u001b[0m\u001b[1;33m)\u001b[0m \u001b[1;31m# out of range, will cause error\u001b[0m\u001b[1;33m\u001b[0m\u001b[1;33m\u001b[0m\u001b[0m\n\u001b[0m",
      "\u001b[1;31mIndexError\u001b[0m: list index out of range"
     ]
    }
   ],
   "source": [
    "numbers = [17, 123, 87, 34, 66, 8398, 44]\n",
    "print(numbers[0])\n",
    "print(numbers[9 - 8])\n",
    "print(numbers[-2])\n",
    "print(numbers[len(numbers) - 1])\n",
    "print(numbers[7]) # out of range, will cause error"
   ]
  },
  {
   "cell_type": "markdown",
   "metadata": {},
   "source": [
    "We can get the index number of the last element in a list by calculating `len(countries) - 1`.  \n",
    "Or we can use `-1` to get the last index directly:"
   ]
  },
  {
   "cell_type": "code",
   "execution_count": 10,
   "metadata": {},
   "outputs": [
    {
     "name": "stdout",
     "output_type": "stream",
     "text": [
      "44\n"
     ]
    }
   ],
   "source": [
    "print(numbers[-1])"
   ]
  },
  {
   "cell_type": "markdown",
   "metadata": {},
   "source": [
    "`list` is a mutable sequence, which means you can add items to it, or remove items from it.\n",
    "####  append()\n",
    "To add one more item to the end of the list:"
   ]
  },
  {
   "cell_type": "code",
   "execution_count": 1,
   "metadata": {},
   "outputs": [
    {
     "name": "stdout",
     "output_type": "stream",
     "text": [
      "['apple', 'banana', 'orange', 'cherry', 'kiwi', 'coconat']\n"
     ]
    }
   ],
   "source": [
    "fruit = ['apple', 'banana', 'orange', 'cherry', 'kiwi']\n",
    "fruit.append('coconat')\n",
    "print(fruit)"
   ]
  },
  {
   "cell_type": "markdown",
   "metadata": {},
   "source": [
    "#### extend()"
   ]
  },
  {
   "cell_type": "code",
   "execution_count": 2,
   "metadata": {},
   "outputs": [
    {
     "name": "stdout",
     "output_type": "stream",
     "text": [
      "['apple', 'banana', 'orange', 'cherry', 'kiwi', 'coconat', 'avocado', 'mango']\n"
     ]
    }
   ],
   "source": [
    "fruit.extend(['avocado', 'mango'])\n",
    "print(fruit)"
   ]
  },
  {
   "cell_type": "markdown",
   "metadata": {},
   "source": [
    "Another way to extend a list:"
   ]
  },
  {
   "cell_type": "code",
   "execution_count": 3,
   "metadata": {},
   "outputs": [
    {
     "name": "stdout",
     "output_type": "stream",
     "text": [
      "['apple', 'banana', 'orange', 'cherry', 'kiwi', 'coconat', 'avocado', 'mango']\n"
     ]
    }
   ],
   "source": [
    "fruit = ['apple', 'banana', 'orange', 'cherry', 'kiwi', 'coconat'] + ['avocado', 'mango']\n",
    "print(fruit)"
   ]
  },
  {
   "cell_type": "markdown",
   "metadata": {},
   "source": [
    "####  insert()\n",
    "Insert an item to a specific position in the list:"
   ]
  },
  {
   "cell_type": "code",
   "execution_count": 4,
   "metadata": {},
   "outputs": [
    {
     "name": "stdout",
     "output_type": "stream",
     "text": [
      "['apple', 'banana', 'mango', 'oranges', 'cherry', 'kiwi']\n"
     ]
    }
   ],
   "source": [
    "fruit = ['apple', 'banana', 'oranges', 'cherry', 'kiwi']\n",
    "fruit.insert(2, 'mango')\n",
    "print(fruit)"
   ]
  },
  {
   "cell_type": "markdown",
   "metadata": {},
   "source": [
    "#### pop()\n",
    "Remove the last item."
   ]
  },
  {
   "cell_type": "code",
   "execution_count": 5,
   "metadata": {},
   "outputs": [
    {
     "name": "stdout",
     "output_type": "stream",
     "text": [
      "kiwi\n",
      "['apple', 'banana', 'orange', 'cherry']\n"
     ]
    }
   ],
   "source": [
    "fruit = ['apple', 'banana', 'orange', 'cherry', 'kiwi']\n",
    "print(fruit.pop()) # pop() returns the popped item\n",
    "print(fruit)"
   ]
  },
  {
   "cell_type": "markdown",
   "metadata": {},
   "source": [
    "The data types in a list can be different. For example:"
   ]
  },
  {
   "cell_type": "code",
   "execution_count": null,
   "metadata": {},
   "outputs": [],
   "source": [
    "my_list = [123, 'abc', False]"
   ]
  },
  {
   "cell_type": "markdown",
   "metadata": {},
   "source": [
    "`list` can be nested, which means a `list` can be in another list:"
   ]
  },
  {
   "cell_type": "code",
   "execution_count": 11,
   "metadata": {},
   "outputs": [
    {
     "data": {
      "text/plain": [
       "5"
      ]
     },
     "execution_count": 11,
     "metadata": {},
     "output_type": "execute_result"
    }
   ],
   "source": [
    "my_list = [1, 2, 3, [4, 5, 6], 7]\n",
    "len(my_list)"
   ]
  },
  {
   "cell_type": "markdown",
   "metadata": {},
   "source": [
    "If there is nothin in a `list`, its length is `0`:"
   ]
  },
  {
   "cell_type": "code",
   "execution_count": 12,
   "metadata": {},
   "outputs": [
    {
     "data": {
      "text/plain": [
       "0"
      ]
     },
     "execution_count": 12,
     "metadata": {},
     "output_type": "execute_result"
    }
   ],
   "source": [
    "empty_list = []\n",
    "len(empty_list)"
   ]
  },
  {
   "cell_type": "markdown",
   "metadata": {},
   "source": [
    "> ⇨ Exercise 3.1.1  \n",
    "Flatten a list.  \n",
    "E.g. `['a', 'b', ['c', 'd', ['e']], [], 'f']` => `['a', 'b', 'c', 'd', 'e', 'f']`\n",
    "\n",
    "#### Slicing\n",
    "It is a common operation to get a part of a `list`.\n",
    "For instance, to get the first 3 items in the following list."
   ]
  },
  {
   "cell_type": "code",
   "execution_count": 4,
   "metadata": {},
   "outputs": [],
   "source": [
    "fruit = ['apple', 'banana', 'organge', 'cherry', 'kiwi']"
   ]
  },
  {
   "cell_type": "code",
   "execution_count": 5,
   "metadata": {},
   "outputs": [
    {
     "data": {
      "text/plain": [
       "['apple', 'banana', 'organge']"
      ]
     },
     "execution_count": 5,
     "metadata": {},
     "output_type": "execute_result"
    }
   ],
   "source": [
    "fruit[0:3]"
   ]
  },
  {
   "cell_type": "markdown",
   "metadata": {},
   "source": [
    "`fruit[0:3]` means getting the items from index `0` to index `3`, but `3` is not included. Thus the result is equivalent to `[ fruit[0], fruit[1], fruit[2] ]`."
   ]
  },
  {
   "cell_type": "markdown",
   "metadata": {},
   "source": [
    "We can omit the starting index if it is `0`."
   ]
  },
  {
   "cell_type": "code",
   "execution_count": 6,
   "metadata": {},
   "outputs": [
    {
     "data": {
      "text/plain": [
       "['apple', 'banana', 'organge']"
      ]
     },
     "execution_count": 6,
     "metadata": {},
     "output_type": "execute_result"
    }
   ],
   "source": [
    "# from the beginning to the 3rd item -> the first 3 items\n",
    "fruit[:3]"
   ]
  },
  {
   "cell_type": "markdown",
   "metadata": {},
   "source": [
    "Since `fruit[-2]` represent the second last item, we can apply the same idea in slicing:"
   ]
  },
  {
   "cell_type": "code",
   "execution_count": 7,
   "metadata": {},
   "outputs": [
    {
     "data": {
      "text/plain": [
       "['cherry', 'kiwi']"
      ]
     },
     "execution_count": 7,
     "metadata": {},
     "output_type": "execute_result"
    }
   ],
   "source": [
    "# from the second last to the end -> the last 2 items\n",
    "fruit[-2:]"
   ]
  },
  {
   "cell_type": "code",
   "execution_count": 7,
   "metadata": {},
   "outputs": [
    {
     "data": {
      "text/plain": [
       "['cherry']"
      ]
     },
     "execution_count": 7,
     "metadata": {},
     "output_type": "execute_result"
    }
   ],
   "source": [
    "# from the 2nd last to the last -> the 2nd last item\n",
    "fruit[-2:-1]"
   ]
  },
  {
   "cell_type": "markdown",
   "metadata": {},
   "source": [
    "If the ending index is not included, slicing will get until the end of the list. Remember that `-1` index represents the last item.  \n",
    "If there is a number after two colons `:`, it represents steps."
   ]
  },
  {
   "cell_type": "code",
   "execution_count": 9,
   "metadata": {},
   "outputs": [
    {
     "data": {
      "text/plain": [
       "['apple', 'organge', 'kiwi']"
      ]
     },
     "execution_count": 9,
     "metadata": {},
     "output_type": "execute_result"
    }
   ],
   "source": [
    "# starting at 0 and continuing until end, \n",
    "# take every other item from `fruit`\n",
    "fruit[::2]"
   ]
  },
  {
   "cell_type": "markdown",
   "metadata": {},
   "source": [
    "#### List and Loops"
   ]
  },
  {
   "cell_type": "markdown",
   "metadata": {},
   "source": [
    "It is also possible to perform list traversal using iteration by item as well as iteration by index."
   ]
  },
  {
   "cell_type": "code",
   "execution_count": 10,
   "metadata": {},
   "outputs": [
    {
     "name": "stdout",
     "output_type": "stream",
     "text": [
      "apple\n",
      "orange\n",
      "banana\n",
      "cherry\n"
     ]
    }
   ],
   "source": [
    "fruits = [\"apple\", \"orange\", \"banana\", \"cherry\"]\n",
    "\n",
    "for afruit in fruits:     # by item\n",
    "    print(afruit)"
   ]
  },
  {
   "cell_type": "markdown",
   "metadata": {},
   "source": [
    "It almost reads like natural language: For (every) fruit in (the list of) fruits, print (the name of the) fruit.\n",
    "\n",
    "We can also use the indices to access the items in an iterative fashion."
   ]
  },
  {
   "cell_type": "code",
   "execution_count": 11,
   "metadata": {},
   "outputs": [
    {
     "name": "stdout",
     "output_type": "stream",
     "text": [
      "apple\n",
      "orange\n",
      "banana\n",
      "cherry\n"
     ]
    }
   ],
   "source": [
    "fruits = [\"apple\", \"orange\", \"banana\", \"cherry\"]\n",
    "\n",
    "for position in range(len(fruits)):     # by index\n",
    "    print(fruits[position])"
   ]
  },
  {
   "cell_type": "markdown",
   "metadata": {},
   "source": [
    "Since lists are mutable, it is often desirable to traverse a list, modifying each of its elements as you go. The following code squares all the numbers from 1 to 5 using iteration by position."
   ]
  },
  {
   "cell_type": "code",
   "execution_count": 12,
   "metadata": {},
   "outputs": [
    {
     "name": "stdout",
     "output_type": "stream",
     "text": [
      "[1, 2, 3, 4, 5]\n",
      "[1, 4, 9, 16, 25]\n"
     ]
    }
   ],
   "source": [
    "numbers = [1, 2, 3, 4, 5]\n",
    "print(numbers)\n",
    "\n",
    "for i in range(len(numbers)):\n",
    "    numbers[i] = numbers[i] ** 2\n",
    "\n",
    "print(numbers)\n"
   ]
  },
  {
   "cell_type": "markdown",
   "metadata": {},
   "source": [
    "The following example shows how we can get the maximum value from a list of integers."
   ]
  },
  {
   "cell_type": "code",
   "execution_count": 13,
   "metadata": {},
   "outputs": [
    {
     "name": "stdout",
     "output_type": "stream",
     "text": [
      "29\n"
     ]
    }
   ],
   "source": [
    "nums = [9, 3, 8, 11, 5, 29, 2]\n",
    "best_num = 0\n",
    "for n in nums:\n",
    "    if n > best_num:\n",
    "        best_num = n\n",
    "print(best_num)"
   ]
  },
  {
   "cell_type": "markdown",
   "metadata": {},
   "source": [
    "#### List generation"
   ]
  },
  {
   "cell_type": "markdown",
   "metadata": {},
   "source": [
    "Whenever you need to write a function that creates and returns a list, the pattern is usually:"
   ]
  },
  {
   "cell_type": "code",
   "execution_count": 15,
   "metadata": {},
   "outputs": [
    {
     "name": "stdout",
     "output_type": "stream",
     "text": [
      "[2, 5, 9]\n",
      "[4, 10, 18]\n"
     ]
    }
   ],
   "source": [
    "def doubleStuff(a_list):\n",
    "    new_list = []\n",
    "    for value in a_list:\n",
    "        new_elem = 2 * value\n",
    "        new_list.append(new_elem)\n",
    "    return new_list\n",
    "\n",
    "things = [2, 5, 9]\n",
    "print(things)\n",
    "things = doubleStuff(things)\n",
    "print(things)"
   ]
  },
  {
   "cell_type": "code",
   "execution_count": 14,
   "metadata": {},
   "outputs": [],
   "source": [
    "def primes_upto(n):\n",
    "    \"\"\" Return a list of all prime numbers less than n. \"\"\"\n",
    "    result = []\n",
    "    for i in range(2, n):\n",
    "        if is_prime(i):\n",
    "            result.append(i)\n",
    "    return result"
   ]
  },
  {
   "cell_type": "markdown",
   "metadata": {},
   "source": [
    "`Slicing` is also applied to `string` and `tuple`.\n",
    "\n",
    "#### List Comprehension\n",
    "List comprehension is a handy way to generate lists in Python.  \n",
    "For example, to generate a list `[1, 2, 3, 4, 5]`, we can easily try `list(range(1, 6))`. However, what if we want a list like `[1**2, 2**2, 3**2, 4**2, 5**2]`?  \n",
    "We can write a loop like the following way:"
   ]
  },
  {
   "cell_type": "code",
   "execution_count": 26,
   "metadata": {},
   "outputs": [
    {
     "name": "stdout",
     "output_type": "stream",
     "text": [
      "[1, 4, 9, 16, 25]\n"
     ]
    }
   ],
   "source": [
    "num = []\n",
    "for i in range(1, 6):\n",
    "    num.append(i ** 2)\n",
    "print(num)"
   ]
  },
  {
   "cell_type": "markdown",
   "metadata": {},
   "source": [
    "By using `list comprehension`, we can easily do the same thing with only one line of code:"
   ]
  },
  {
   "cell_type": "code",
   "execution_count": 27,
   "metadata": {},
   "outputs": [
    {
     "data": {
      "text/plain": [
       "[1, 4, 9, 16, 25]"
      ]
     },
     "execution_count": 27,
     "metadata": {},
     "output_type": "execute_result"
    }
   ],
   "source": [
    "[i * i for i in range(1, 6)]"
   ]
  },
  {
   "cell_type": "markdown",
   "metadata": {},
   "source": [
    "In list comprehension, we first write down the expression to calculate every item in the list, followed by a `for` loop.  \n",
    "You can also add a condition after the `for` loop to filter the source list."
   ]
  },
  {
   "cell_type": "code",
   "execution_count": 29,
   "metadata": {},
   "outputs": [
    {
     "data": {
      "text/plain": [
       "[4, 16]"
      ]
     },
     "execution_count": 29,
     "metadata": {},
     "output_type": "execute_result"
    }
   ],
   "source": [
    "[i * i for i in range(1, 6) if i % 2 == 0]"
   ]
  },
  {
   "cell_type": "markdown",
   "metadata": {},
   "source": [
    "It is possible to have multiple levels of `for` loops.  \n",
    "Try to explain the difference between the following 2 list comprehensions:"
   ]
  },
  {
   "cell_type": "code",
   "execution_count": 33,
   "metadata": {},
   "outputs": [
    {
     "name": "stdout",
     "output_type": "stream",
     "text": [
      "['a0', 'a1', 'a2', 'b0', 'b1', 'b2', 'c0', 'c1', 'c2']\n",
      "['a0', 'b0', 'c0', 'a1', 'b1', 'c1', 'a2', 'b2', 'c2']\n"
     ]
    }
   ],
   "source": [
    "list_1 = [x + str(y) for x in 'abc' for y in range(3)]\n",
    "list_2 = [x + str(y) for y in range(3) for x in 'abc']\n",
    "\n",
    "print(list_1)\n",
    "print(list_2)"
   ]
  },
  {
   "cell_type": "markdown",
   "metadata": {},
   "source": [
    "> ⇨ Exercise 3.1.2  \n",
    "Convert all the strings in a list to upper case using list comprehension.  \n",
    "e.g. `['apple', 3, 'Python']` => `['APPLE', 'PYTHON']`"
   ]
  },
  {
   "cell_type": "markdown",
   "metadata": {},
   "source": [
    "### §3.2 Tuple\n",
    "`tuple` is very similar to `list` except that `tuple` is immutable, which means you cannot modify a `tuple`, including add or remove items.\n",
    "Instead of using square brackets `[]` as in a list, we use parentheses `()` to represent tuples."
   ]
  },
  {
   "cell_type": "code",
   "execution_count": 1,
   "metadata": {},
   "outputs": [],
   "source": [
    "colors = ('red', 'green', 'blue')"
   ]
  },
  {
   "cell_type": "markdown",
   "metadata": {},
   "source": [
    "Once a tuple is initialized, elements cannot be changed, thus methods like `append()` or `insert()` are not applicable to tuples. But you can do indexing, slicing on tuples just lists."
   ]
  },
  {
   "cell_type": "code",
   "execution_count": 2,
   "metadata": {},
   "outputs": [
    {
     "data": {
      "text/plain": [
       "'blue'"
      ]
     },
     "execution_count": 2,
     "metadata": {},
     "output_type": "execute_result"
    }
   ],
   "source": [
    "colors[-1]"
   ]
  },
  {
   "cell_type": "code",
   "execution_count": 3,
   "metadata": {},
   "outputs": [
    {
     "data": {
      "text/plain": [
       "('red',)"
      ]
     },
     "execution_count": 3,
     "metadata": {},
     "output_type": "execute_result"
    }
   ],
   "source": [
    "colors[:-2]"
   ]
  },
  {
   "cell_type": "markdown",
   "metadata": {},
   "source": [
    "#### Tuple as return values"
   ]
  },
  {
   "cell_type": "markdown",
   "metadata": {},
   "source": [
    "Functions can return tuples as return values. This is very useful — we often want to know some batsman’s highest and lowest score, or we want to find the mean and the standard deviation, or we want to know the year, the month, and the day, or if we’re doing some ecological modeling we may want to know the number of rabbits and the number of wolves on an island at a given time. In each case, a function (which can only return a single value), can create a single tuple holding multiple elements.\n",
    "\n",
    "For example, we could write a function that returns both the area and the circumference of a circle of radius r."
   ]
  },
  {
   "cell_type": "code",
   "execution_count": 4,
   "metadata": {},
   "outputs": [
    {
     "name": "stdout",
     "output_type": "stream",
     "text": [
      "(62.8318, 314.159)\n"
     ]
    }
   ],
   "source": [
    "def circleInfo(r):\n",
    "    \"\"\" Return (circumference, area) of a circle of radius r \"\"\"\n",
    "    c = 2 * 3.14159 * r\n",
    "    a = 3.14159 * r * r\n",
    "    return (c, a)\n",
    "\n",
    "print(circleInfo(10))"
   ]
  },
  {
   "cell_type": "markdown",
   "metadata": {},
   "source": [
    "### §3.3 Dictionary\n",
    "Python has a dictionary data structure, called `dict`. `dict` stores key-value pairs. It is super efficient to look up values by keys.\n",
    "The following dict contains name-age pairs, where names are the keys:"
   ]
  },
  {
   "cell_type": "code",
   "execution_count": 1,
   "metadata": {},
   "outputs": [
    {
     "data": {
      "text/plain": [
       "42"
      ]
     },
     "execution_count": 1,
     "metadata": {},
     "output_type": "execute_result"
    }
   ],
   "source": [
    "ages = {\n",
    "    'Elbert': 23,\n",
    "    'Bob': 55,\n",
    "    'David': 8,\n",
    "    'Alice': 20,\n",
    "    'Frank': 14,\n",
    "    'Calvin': 42,\n",
    "}\n",
    "ages['Calvin']"
   ]
  },
  {
   "cell_type": "markdown",
   "metadata": {},
   "source": [
    "We can add new key-value pairs into a `dict`:"
   ]
  },
  {
   "cell_type": "code",
   "execution_count": 2,
   "metadata": {},
   "outputs": [
    {
     "data": {
      "text/plain": [
       "{'Elbert': 23,\n",
       " 'Bob': 55,\n",
       " 'David': 8,\n",
       " 'Alice': 20,\n",
       " 'Frank': 14,\n",
       " 'Calvin': 42,\n",
       " 'Harry': 19}"
      ]
     },
     "execution_count": 2,
     "metadata": {},
     "output_type": "execute_result"
    }
   ],
   "source": [
    "ages['Harry'] = 19\n",
    "ages"
   ]
  },
  {
   "cell_type": "markdown",
   "metadata": {},
   "source": [
    "Since keys are unique in a `dict`, assigning a value to an existing key will replace the old value:"
   ]
  },
  {
   "cell_type": "code",
   "execution_count": 3,
   "metadata": {
    "scrolled": true
   },
   "outputs": [
    {
     "data": {
      "text/plain": [
       "{'Elbert': 23,\n",
       " 'Bob': 55,\n",
       " 'David': 8,\n",
       " 'Alice': 30,\n",
       " 'Frank': 14,\n",
       " 'Calvin': 42,\n",
       " 'Harry': 19}"
      ]
     },
     "execution_count": 3,
     "metadata": {},
     "output_type": "execute_result"
    }
   ],
   "source": [
    "ages['Alice'] = 30\n",
    "ages"
   ]
  },
  {
   "cell_type": "markdown",
   "metadata": {},
   "source": [
    "> Note:  \n",
    "The order of key-value pairs is not preserved in `dict`.  \n",
    "Keys must be immutable, mutable objects like `list` cannot be used as keys.\n",
    "\n",
    "If a key is not in the dict, trying to get its value will cause a KeyError:"
   ]
  },
  {
   "cell_type": "code",
   "execution_count": 23,
   "metadata": {},
   "outputs": [
    {
     "ename": "KeyError",
     "evalue": "'Jack'",
     "output_type": "error",
     "traceback": [
      "\u001b[0;31m---------------------------------------------------------------------------\u001b[0m",
      "\u001b[0;31mKeyError\u001b[0m                                  Traceback (most recent call last)",
      "\u001b[0;32m<ipython-input-23-a1344884c4a4>\u001b[0m in \u001b[0;36m<module>\u001b[0;34m()\u001b[0m\n\u001b[0;32m----> 1\u001b[0;31m \u001b[0mages\u001b[0m\u001b[0;34m[\u001b[0m\u001b[0;34m'Jack'\u001b[0m\u001b[0;34m]\u001b[0m\u001b[0;34m\u001b[0m\u001b[0m\n\u001b[0m",
      "\u001b[0;31mKeyError\u001b[0m: 'Jack'"
     ]
    }
   ],
   "source": [
    "ages['Jack']"
   ]
  },
  {
   "cell_type": "markdown",
   "metadata": {},
   "source": [
    "To check if a key is in a `dict`, we can use `in` keyword, just like checking if a value is in a `list`:"
   ]
  },
  {
   "cell_type": "code",
   "execution_count": 24,
   "metadata": {},
   "outputs": [
    {
     "data": {
      "text/plain": [
       "True"
      ]
     },
     "execution_count": 24,
     "metadata": {},
     "output_type": "execute_result"
    }
   ],
   "source": [
    "'David' in ages"
   ]
  },
  {
   "cell_type": "markdown",
   "metadata": {},
   "source": [
    "#### keys method"
   ]
  },
  {
   "cell_type": "markdown",
   "metadata": {},
   "source": [
    "The keys method returns what Python 3 calls a view of its underlying keys. We can iterate over the view or turn the view into a list by using the list conversion function."
   ]
  },
  {
   "cell_type": "code",
   "execution_count": 4,
   "metadata": {},
   "outputs": [
    {
     "name": "stdout",
     "output_type": "stream",
     "text": [
      "Got key apples which maps to value 430\n",
      "Got key bananas which maps to value 312\n",
      "Got key oranges which maps to value 525\n",
      "Got key pears which maps to value 217\n",
      "['apples', 'bananas', 'oranges', 'pears']\n"
     ]
    }
   ],
   "source": [
    "inventory = {'apples': 430, 'bananas': 312, 'oranges': 525, 'pears': 217}\n",
    "\n",
    "for akey in inventory.keys():     # the order in which we get the keys is not defined\n",
    "   print(\"Got key\", akey, \"which maps to value\", inventory[akey])\n",
    "\n",
    "ks = list(inventory.keys())\n",
    "print(ks)"
   ]
  },
  {
   "cell_type": "markdown",
   "metadata": {},
   "source": [
    "#### values method"
   ]
  },
  {
   "cell_type": "markdown",
   "metadata": {},
   "source": [
    "The values and items methods are similar to keys. They return view objects which can be turned into lists or iterated over directly. Note that the items are shown as tuples containing the key and the associated value."
   ]
  },
  {
   "cell_type": "code",
   "execution_count": 8,
   "metadata": {},
   "outputs": [
    {
     "name": "stdout",
     "output_type": "stream",
     "text": [
      "[430, 312, 525, 217]\n"
     ]
    }
   ],
   "source": [
    "inventory = {'apples': 430, 'bananas': 312, 'oranges': 525, 'pears': 217}\n",
    "\n",
    "print(list(inventory.values()))"
   ]
  },
  {
   "cell_type": "code",
   "execution_count": 9,
   "metadata": {},
   "outputs": [
    {
     "name": "stdout",
     "output_type": "stream",
     "text": [
      "[('apples', 430), ('bananas', 312), ('oranges', 525), ('pears', 217)]\n",
      "Got apples that maps to 430\n",
      "Got bananas that maps to 312\n",
      "Got oranges that maps to 525\n",
      "Got pears that maps to 217\n"
     ]
    }
   ],
   "source": [
    "inventory = {'apples': 430, 'bananas': 312, 'oranges': 525, 'pears': 217}\n",
    "print(list(inventory.items()))\n",
    "\n",
    "for (k,v) in inventory.items():\n",
    "    print(\"Got\", k, \"that maps to\", v)"
   ]
  },
  {
   "cell_type": "markdown",
   "metadata": {},
   "source": [
    "#### Get method"
   ]
  },
  {
   "cell_type": "markdown",
   "metadata": {},
   "source": [
    "There is also a safe way to get value by key using `get()`, we can get a default value if the specified key does not exists:"
   ]
  },
  {
   "cell_type": "code",
   "execution_count": 10,
   "metadata": {},
   "outputs": [
    {
     "name": "stdout",
     "output_type": "stream",
     "text": [
      "430\n",
      "None\n"
     ]
    }
   ],
   "source": [
    "print(inventory.get('apples'))\n",
    "print(inventory.get('mango'))"
   ]
  },
  {
   "cell_type": "markdown",
   "metadata": {},
   "source": [
    "A `None` value is returned by default if the key cannot bt found.  \n",
    "You can also define your own default value as the second argument:"
   ]
  },
  {
   "cell_type": "code",
   "execution_count": 11,
   "metadata": {},
   "outputs": [
    {
     "name": "stdout",
     "output_type": "stream",
     "text": [
      "0\n"
     ]
    }
   ],
   "source": [
    "ages = {\n",
    "    'Elbert': 23,\n",
    "    'Bob': 55,\n",
    "    'David': 8,\n",
    "    'Alice': 20,\n",
    "    'Frank': 14,\n",
    "    'Calvin': 42,\n",
    "}\n",
    "print(ages.get('Jack', 0))"
   ]
  },
  {
   "cell_type": "markdown",
   "metadata": {},
   "source": [
    "Using `pop(key)` to remove a key-value pair from a `dict`:"
   ]
  },
  {
   "cell_type": "code",
   "execution_count": 28,
   "metadata": {},
   "outputs": [
    {
     "name": "stdout",
     "output_type": "stream",
     "text": [
      "23\n",
      "{'Bob': 55, 'Alice': 20, 'Calvin': 42, 'David': 8, 'Frank': 14}\n"
     ]
    }
   ],
   "source": [
    "popped_value = ages.pop('Elbert')\n",
    "print(popped_value)\n",
    "print(ages)"
   ]
  },
  {
   "cell_type": "markdown",
   "metadata": {},
   "source": [
    "If you only need to remove a cetrain key-value pair without caring about the removed value, you can use the `del` keyword:"
   ]
  },
  {
   "cell_type": "code",
   "execution_count": 31,
   "metadata": {},
   "outputs": [
    {
     "name": "stdout",
     "output_type": "stream",
     "text": [
      "{'Bob': 55, 'Alice': 20, 'Calvin': 42, 'David': 8, 'Frank': 14}\n"
     ]
    }
   ],
   "source": [
    "del ages['Elbert']\n",
    "print(ages)"
   ]
  },
  {
   "cell_type": "markdown",
   "metadata": {},
   "source": [
    "Using a `for` loop to iterate all the key-value pairs in the dictionary:"
   ]
  },
  {
   "cell_type": "code",
   "execution_count": 2,
   "metadata": {
    "scrolled": true
   },
   "outputs": [
    {
     "name": "stdout",
     "output_type": "stream",
     "text": [
      "Elbert 23\n",
      "Calvin 42\n",
      "Bob 55\n",
      "Alice 20\n",
      "David 8\n",
      "Frank 14\n"
     ]
    }
   ],
   "source": [
    "for key in ages:\n",
    "    print(key, ages[key])"
   ]
  },
  {
   "cell_type": "code",
   "execution_count": 3,
   "metadata": {},
   "outputs": [
    {
     "name": "stdout",
     "output_type": "stream",
     "text": [
      "Elbert 23\n",
      "Calvin 42\n",
      "Bob 55\n",
      "Alice 20\n",
      "David 8\n",
      "Frank 14\n"
     ]
    }
   ],
   "source": [
    "for key, value in ages.items():\n",
    "    print(key, value)"
   ]
  },
  {
   "cell_type": "markdown",
   "metadata": {},
   "source": [
    "### §3.4 Set\n",
    "`set` is like a `dict` without values. Since keys are always unique, there is no duplicate in a `set`."
   ]
  },
  {
   "cell_type": "code",
   "execution_count": 1,
   "metadata": {},
   "outputs": [
    {
     "name": "stdout",
     "output_type": "stream",
     "text": [
      "{1, 2, 3}\n"
     ]
    },
    {
     "ename": "TypeError",
     "evalue": "'set' object is not subscriptable",
     "output_type": "error",
     "traceback": [
      "\u001b[1;31m---------------------------------------------------------------------------\u001b[0m",
      "\u001b[1;31mTypeError\u001b[0m                                 Traceback (most recent call last)",
      "\u001b[1;32m<ipython-input-1-7a2a240ba0f6>\u001b[0m in \u001b[0;36m<module>\u001b[1;34m\u001b[0m\n\u001b[0;32m      1\u001b[0m \u001b[0ms\u001b[0m \u001b[1;33m=\u001b[0m \u001b[1;33m{\u001b[0m\u001b[1;36m2\u001b[0m\u001b[1;33m,\u001b[0m \u001b[1;36m1\u001b[0m\u001b[1;33m,\u001b[0m \u001b[1;36m1\u001b[0m\u001b[1;33m,\u001b[0m \u001b[1;36m3\u001b[0m\u001b[1;33m,\u001b[0m \u001b[1;36m2\u001b[0m\u001b[1;33m}\u001b[0m\u001b[1;33m\u001b[0m\u001b[1;33m\u001b[0m\u001b[0m\n\u001b[0;32m      2\u001b[0m \u001b[0mprint\u001b[0m\u001b[1;33m(\u001b[0m\u001b[0ms\u001b[0m\u001b[1;33m)\u001b[0m\u001b[1;33m\u001b[0m\u001b[1;33m\u001b[0m\u001b[0m\n\u001b[1;32m----> 3\u001b[1;33m \u001b[0mprint\u001b[0m\u001b[1;33m(\u001b[0m\u001b[0ms\u001b[0m\u001b[1;33m[\u001b[0m\u001b[1;36m0\u001b[0m\u001b[1;33m]\u001b[0m\u001b[1;33m)\u001b[0m \u001b[1;31m# error, because the items in a set have no order\u001b[0m\u001b[1;33m\u001b[0m\u001b[1;33m\u001b[0m\u001b[0m\n\u001b[0m",
      "\u001b[1;31mTypeError\u001b[0m: 'set' object is not subscriptable"
     ]
    }
   ],
   "source": [
    "s = {2, 1, 1, 3, 2}\n",
    "print(s)\n",
    "print(s[0]) # error, because the items in a set have no order"
   ]
  },
  {
   "cell_type": "markdown",
   "metadata": {},
   "source": [
    "Or you can also construct a `set` by passing a list to the `set()` function:"
   ]
  },
  {
   "cell_type": "code",
   "execution_count": 2,
   "metadata": {},
   "outputs": [
    {
     "name": "stdout",
     "output_type": "stream",
     "text": [
      "{1, 2, 3}\n"
     ]
    }
   ],
   "source": [
    "s = set([2, 1, 1, 3, 2])\n",
    "print(s)"
   ]
  },
  {
   "cell_type": "markdown",
   "metadata": {},
   "source": [
    "To create an empty set, you should use the `set()` function without an argument. You cannot use `{}` since it represents an empty dictionary."
   ]
  },
  {
   "cell_type": "code",
   "execution_count": 5,
   "metadata": {},
   "outputs": [
    {
     "name": "stdout",
     "output_type": "stream",
     "text": [
      "set()\n"
     ]
    }
   ],
   "source": [
    "empty_set = set()\n",
    "print(empty_set)"
   ]
  },
  {
   "cell_type": "markdown",
   "metadata": {},
   "source": [
    "The above example shows how to create a `set`. As you can see, all the duplicates in the input list are removed after creating the set. Similar to `dict`, the order of keys in a set is not preserved.  \n",
    "#### add"
   ]
  },
  {
   "cell_type": "code",
   "execution_count": 1,
   "metadata": {},
   "outputs": [
    {
     "name": "stdout",
     "output_type": "stream",
     "text": [
      "{1, 2, 3, 9}\n"
     ]
    }
   ],
   "source": [
    "s = set([2, 1, 1, 3, 2])\n",
    "s.add(9)\n",
    "print(s)"
   ]
  },
  {
   "cell_type": "markdown",
   "metadata": {},
   "source": [
    "#### remove"
   ]
  },
  {
   "cell_type": "code",
   "execution_count": 2,
   "metadata": {},
   "outputs": [
    {
     "name": "stdout",
     "output_type": "stream",
     "text": [
      "{1, 3, 9}\n"
     ]
    }
   ],
   "source": [
    "s.remove(2)\n",
    "print(s)"
   ]
  },
  {
   "cell_type": "markdown",
   "metadata": {},
   "source": [
    "#### difference\n",
    "The difference() method returns a set that contains the difference between two sets."
   ]
  },
  {
   "cell_type": "code",
   "execution_count": 3,
   "metadata": {},
   "outputs": [
    {
     "name": "stdout",
     "output_type": "stream",
     "text": [
      "{'microsoft', 'google'}\n"
     ]
    }
   ],
   "source": [
    "x = {\"apple\", \"banana\", \"cherry\"}\n",
    "y = {\"google\", \"microsoft\", \"apple\"}\n",
    "z = y.difference(x)\n",
    "\n",
    "print(z)"
   ]
  },
  {
   "cell_type": "markdown",
   "metadata": {},
   "source": [
    "#### update\n",
    "The update() method updates the current set, by adding items from another set."
   ]
  },
  {
   "cell_type": "code",
   "execution_count": 4,
   "metadata": {},
   "outputs": [
    {
     "name": "stdout",
     "output_type": "stream",
     "text": [
      "{'microsoft', 'banana', 'apple', 'google', 'cherry'}\n"
     ]
    }
   ],
   "source": [
    "x = {\"apple\", \"banana\", \"cherry\"}\n",
    "y = {\"google\", \"microsoft\", \"apple\"}\n",
    "\n",
    "x.update(y)\n",
    "\n",
    "print(x)"
   ]
  },
  {
   "cell_type": "markdown",
   "metadata": {},
   "source": [
    "## ⇒ Part 4 File\n",
    "***\n",
    "\n",
    "File reading and writing are common input/output (IO) operations.\n",
    "\n",
    "### §4.1 Reading from Files\n",
    "\n",
    "Python provides an `open()` function to create a file object, and we can read data from the file object."
   ]
  },
  {
   "cell_type": "code",
   "execution_count": 1,
   "metadata": {},
   "outputs": [
    {
     "ename": "FileNotFoundError",
     "evalue": "[Errno 2] No such file or directory: '../folder/data.txt'",
     "output_type": "error",
     "traceback": [
      "\u001b[1;31m---------------------------------------------------------------------------\u001b[0m",
      "\u001b[1;31mFileNotFoundError\u001b[0m                         Traceback (most recent call last)",
      "\u001b[1;32m<ipython-input-1-369adf4bca6a>\u001b[0m in \u001b[0;36m<module>\u001b[1;34m\u001b[0m\n\u001b[1;32m----> 1\u001b[1;33m \u001b[0mf\u001b[0m \u001b[1;33m=\u001b[0m \u001b[0mopen\u001b[0m\u001b[1;33m(\u001b[0m\u001b[1;34m'../folder/data.txt'\u001b[0m\u001b[1;33m,\u001b[0m \u001b[1;34m'r'\u001b[0m\u001b[1;33m)\u001b[0m\u001b[1;33m\u001b[0m\u001b[1;33m\u001b[0m\u001b[0m\n\u001b[0m",
      "\u001b[1;31mFileNotFoundError\u001b[0m: [Errno 2] No such file or directory: '../folder/data.txt'"
     ]
    }
   ],
   "source": [
    "f = open('../folder/data.txt', 'r')"
   ]
  },
  {
   "cell_type": "markdown",
   "metadata": {},
   "source": [
    "In the above example, `'folder/data.txt'` is the path to the file we want to read, `'r'` stands for reading mode.\n",
    "If the file does not exists, `open()` will throw an `IOError` exception."
   ]
  },
  {
   "cell_type": "markdown",
   "metadata": {},
   "source": [
    "If the specified file can be successfully opened, we can call the file object's `read()` method to get the contents from it:"
   ]
  },
  {
   "cell_type": "code",
   "execution_count": 2,
   "metadata": {},
   "outputs": [
    {
     "ename": "NameError",
     "evalue": "name 'f' is not defined",
     "output_type": "error",
     "traceback": [
      "\u001b[1;31m---------------------------------------------------------------------------\u001b[0m",
      "\u001b[1;31mNameError\u001b[0m                                 Traceback (most recent call last)",
      "\u001b[1;32m<ipython-input-2-571e9fb02258>\u001b[0m in \u001b[0;36m<module>\u001b[1;34m\u001b[0m\n\u001b[1;32m----> 1\u001b[1;33m \u001b[0mf\u001b[0m\u001b[1;33m.\u001b[0m\u001b[0mread\u001b[0m\u001b[1;33m(\u001b[0m\u001b[1;33m)\u001b[0m\u001b[1;33m\u001b[0m\u001b[1;33m\u001b[0m\u001b[0m\n\u001b[0m",
      "\u001b[1;31mNameError\u001b[0m: name 'f' is not defined"
     ]
    }
   ],
   "source": [
    "f.read()"
   ]
  },
  {
   "cell_type": "markdown",
   "metadata": {},
   "source": [
    "The final step is calling `close()` method to close the file. Opened files must be closed in order to release system resources."
   ]
  },
  {
   "cell_type": "code",
   "execution_count": 3,
   "metadata": {},
   "outputs": [
    {
     "ename": "NameError",
     "evalue": "name 'f' is not defined",
     "output_type": "error",
     "traceback": [
      "\u001b[1;31m---------------------------------------------------------------------------\u001b[0m",
      "\u001b[1;31mNameError\u001b[0m                                 Traceback (most recent call last)",
      "\u001b[1;32m<ipython-input-3-b5edb7b78a9a>\u001b[0m in \u001b[0;36m<module>\u001b[1;34m\u001b[0m\n\u001b[1;32m----> 1\u001b[1;33m \u001b[0mf\u001b[0m\u001b[1;33m.\u001b[0m\u001b[0mclose\u001b[0m\u001b[1;33m(\u001b[0m\u001b[1;33m)\u001b[0m\u001b[1;33m\u001b[0m\u001b[1;33m\u001b[0m\u001b[0m\n\u001b[0m",
      "\u001b[1;31mNameError\u001b[0m: name 'f' is not defined"
     ]
    }
   ],
   "source": [
    "f.close()"
   ]
  },
  {
   "cell_type": "markdown",
   "metadata": {},
   "source": [
    "There is an `with` statement in Python which can help us close the opened files automatically:"
   ]
  },
  {
   "cell_type": "code",
   "execution_count": 6,
   "metadata": {
    "collapsed": true
   },
   "outputs": [
    {
     "name": "stdout",
     "output_type": "stream",
     "text": [
      "year,sex,type_of_course,no_of_graduates\n",
      "1993,Males,Education,na\n",
      "1993,Males,Applied Arts,na\n",
      "1993,Males,Humanities & Social Sciences,481\n",
      "1993,Males,Mass Communication,na\n",
      "1993,Males,Accountancy,295\n",
      "1993,Males,Business & Administration,282\n",
      "1993,Males,Law,92\n",
      "1993,Males,\"Natural, Physical & Mathematical Sciences\",404\n",
      "1993,Males,Medicine,95\n",
      "1993,Males,Dentistry,14\n",
      "1993,Males,Health Sciences,10\n",
      "1993,Males,Information Technology,264\n",
      "1993,Males,Architecture & Building,132\n",
      "1993,Males,Engineering Sciences,1496\n",
      "1993,Males,Services,na\n",
      "1993,Females,Education,na\n",
      "1993,Females,Applied Arts,na\n",
      "1993,Females,Humanities & Social Sciences,1173\n",
      "1993,Females,Mass Communication,na\n",
      "1993,Females,Accountancy,396\n",
      "1993,Females,Business & Administration,708\n",
      "1993,Females,Law,93\n",
      "1993,Females,\"Natural, Physical & Mathematical Sciences\",588\n",
      "1993,Females,Medicine,61\n",
      "1993,Females,Dentistry,11\n",
      "1993,Females,Health Sciences,40\n",
      "1993,Females,Information Technology,215\n",
      "1993,Females,Architecture & Building,144\n",
      "1993,Females,Engineering Sciences,254\n",
      "1993,Females,Services,na\n",
      "1994,Males,Education,na\n",
      "1994,Males,Applied Arts,na\n",
      "1994,Males,Humanities & Social Sciences,512\n",
      "1994,Males,Mass Communication,na\n",
      "1994,Males,Accountancy,271\n",
      "1994,Males,Business & Administration,413\n",
      "1994,Males,Law,87\n",
      "1994,Males,\"Natural, Physical & Mathematical Sciences\",374\n",
      "1994,Males,Medicine,99\n",
      "1994,Males,Dentistry,23\n",
      "1994,Males,Health Sciences,14\n",
      "1994,Males,Information Technology,294\n",
      "1994,Males,Architecture & Building,136\n",
      "1994,Males,Engineering Sciences,1666\n",
      "1994,Males,Services,na\n",
      "1994,Females,Education,na\n",
      "1994,Females,Applied Arts,na\n",
      "1994,Females,Humanities & Social Sciences,1133\n",
      "1994,Females,Mass Communication,na\n",
      "1994,Females,Accountancy,378\n",
      "1994,Females,Business & Administration,733\n",
      "1994,Females,Law,99\n",
      "1994,Females,\"Natural, Physical & Mathematical Sciences\",566\n",
      "1994,Females,Medicine,66\n",
      "1994,Females,Dentistry,6\n",
      "1994,Females,Health Sciences,39\n",
      "1994,Females,Information Technology,196\n",
      "1994,Females,Architecture & Building,182\n",
      "1994,Females,Engineering Sciences,227\n",
      "1994,Females,Services,na\n",
      "1995,Males,Education,12\n",
      "1995,Males,Applied Arts,na\n",
      "1995,Males,Humanities & Social Sciences,497\n",
      "1995,Males,Mass Communication,na\n",
      "1995,Males,Accountancy,289\n",
      "1995,Males,Business & Administration,365\n",
      "1995,Males,Law,94\n",
      "1995,Males,\"Natural, Physical & Mathematical Sciences\",460\n",
      "1995,Males,Medicine,93\n",
      "1995,Males,Dentistry,20\n",
      "1995,Males,Health Sciences,12\n",
      "1995,Males,Information Technology,306\n",
      "1995,Males,Architecture & Building,140\n",
      "1995,Males,Engineering Sciences,1715\n",
      "1995,Males,Services,na\n",
      "1995,Females,Education,101\n",
      "1995,Females,Applied Arts,na\n",
      "1995,Females,Humanities & Social Sciences,1240\n",
      "1995,Females,Mass Communication,na\n",
      "1995,Females,Accountancy,395\n",
      "1995,Females,Business & Administration,788\n",
      "1995,Females,Law,100\n",
      "1995,Females,\"Natural, Physical & Mathematical Sciences\",572\n",
      "1995,Females,Medicine,48\n",
      "1995,Females,Dentistry,8\n",
      "1995,Females,Health Sciences,46\n",
      "1995,Females,Information Technology,193\n",
      "1995,Females,Architecture & Building,156\n",
      "1995,Females,Engineering Sciences,276\n",
      "1995,Females,Services,na\n",
      "1996,Males,Education,46\n",
      "1996,Males,Applied Arts,na\n",
      "1996,Males,Humanities & Social Sciences,497\n",
      "1996,Males,Mass Communication,na\n",
      "1996,Males,Accountancy,262\n",
      "1996,Males,Business & Administration,358\n",
      "1996,Males,Law,75\n",
      "1996,Males,\"Natural, Physical & Mathematical Sciences\",449\n",
      "1996,Males,Medicine,97\n",
      "1996,Males,Dentistry,24\n",
      "1996,Males,Health Sciences,9\n",
      "1996,Males,Information Technology,362\n",
      "1996,Males,Architecture & Building,142\n",
      "1996,Males,Engineering Sciences,1701\n",
      "1996,Males,Services,na\n",
      "1996,Females,Education,199\n",
      "1996,Females,Applied Arts,na\n",
      "1996,Females,Humanities & Social Sciences,1364\n",
      "1996,Females,Mass Communication,na\n",
      "1996,Females,Accountancy,433\n",
      "1996,Females,Business & Administration,848\n",
      "1996,Females,Law,106\n",
      "1996,Females,\"Natural, Physical & Mathematical Sciences\",541\n",
      "1996,Females,Medicine,53\n",
      "1996,Females,Dentistry,13\n",
      "1996,Females,Health Sciences,59\n",
      "1996,Females,Information Technology,194\n",
      "1996,Females,Architecture & Building,136\n",
      "1996,Females,Engineering Sciences,250\n",
      "1996,Females,Services,na\n",
      "1997,Males,Education,45\n",
      "1997,Males,Applied Arts,na\n",
      "1997,Males,Humanities & Social Sciences,554\n",
      "1997,Males,Mass Communication,28\n",
      "1997,Males,Accountancy,227\n",
      "1997,Males,Business & Administration,448\n",
      "1997,Males,Law,90\n",
      "1997,Males,\"Natural, Physical & Mathematical Sciences\",437\n",
      "1997,Males,Medicine,107\n",
      "1997,Males,Dentistry,20\n",
      "1997,Males,Health Sciences,9\n",
      "1997,Males,Information Technology,370\n",
      "1997,Males,Architecture & Building,135\n",
      "1997,Males,Engineering Sciences,1806\n",
      "1997,Males,Services,na\n",
      "1997,Females,Education,187\n",
      "1997,Females,Applied Arts,na\n",
      "1997,Females,Humanities & Social Sciences,1367\n",
      "1997,Females,Mass Communication,67\n",
      "1997,Females,Accountancy,453\n",
      "1997,Females,Business & Administration,808\n",
      "1997,Females,Law,97\n",
      "1997,Females,\"Natural, Physical & Mathematical Sciences\",600\n",
      "1997,Females,Medicine,40\n",
      "1997,Females,Dentistry,10\n",
      "1997,Females,Health Sciences,60\n",
      "1997,Females,Information Technology,218\n",
      "1997,Females,Architecture & Building,163\n",
      "1997,Females,Engineering Sciences,333\n",
      "1997,Females,Services,na\n",
      "1998,Males,Education,56\n",
      "1998,Males,Applied Arts,na\n",
      "1998,Males,Humanities & Social Sciences,547\n",
      "1998,Males,Mass Communication,27\n",
      "1998,Males,Accountancy,264\n",
      "1998,Males,Business & Administration,461\n",
      "1998,Males,Law,70\n",
      "1998,Males,\"Natural, Physical & Mathematical Sciences\",422\n",
      "1998,Males,Medicine,106\n",
      "1998,Males,Dentistry,24\n",
      "1998,Males,Health Sciences,8\n",
      "1998,Males,Information Technology,377\n",
      "1998,Males,Architecture & Building,141\n",
      "1998,Males,Engineering Sciences,1952\n",
      "1998,Males,Services,na\n",
      "1998,Females,Education,133\n",
      "1998,Females,Applied Arts,na\n",
      "1998,Females,Humanities & Social Sciences,1547\n",
      "1998,Females,Mass Communication,74\n",
      "1998,Females,Accountancy,487\n",
      "1998,Females,Business & Administration,869\n",
      "1998,Females,Law,103\n",
      "1998,Females,\"Natural, Physical & Mathematical Sciences\",678\n",
      "1998,Females,Medicine,42\n",
      "1998,Females,Dentistry,12\n",
      "1998,Females,Health Sciences,69\n",
      "1998,Females,Information Technology,296\n",
      "1998,Females,Architecture & Building,153\n",
      "1998,Females,Engineering Sciences,413\n",
      "1998,Females,Services,na\n",
      "1999,Males,Education,44\n",
      "1999,Males,Applied Arts,na\n",
      "1999,Males,Humanities & Social Sciences,576\n",
      "1999,Males,Mass Communication,19\n",
      "1999,Males,Accountancy,297\n",
      "1999,Males,Business & Administration,349\n",
      "1999,Males,Law,92\n",
      "1999,Males,\"Natural, Physical & Mathematical Sciences\",401\n",
      "1999,Males,Medicine,104\n",
      "1999,Males,Dentistry,18\n",
      "1999,Males,Health Sciences,14\n",
      "1999,Males,Information Technology,355\n",
      "1999,Males,Architecture & Building,104\n",
      "1999,Males,Engineering Sciences,2200\n",
      "1999,Males,Services,na\n",
      "1999,Females,Education,158\n",
      "1999,Females,Applied Arts,na\n",
      "1999,Females,Humanities & Social Sciences,1492\n",
      "1999,Females,Mass Communication,93\n",
      "1999,Females,Accountancy,482\n",
      "1999,Females,Business & Administration,905\n",
      "1999,Females,Law,77\n",
      "1999,Females,\"Natural, Physical & Mathematical Sciences\",674\n",
      "1999,Females,Medicine,41\n",
      "1999,Females,Dentistry,14\n",
      "1999,Females,Health Sciences,77\n",
      "1999,Females,Information Technology,218\n",
      "1999,Females,Architecture & Building,167\n",
      "1999,Females,Engineering Sciences,492\n",
      "1999,Females,Services,na\n",
      "2000,Males,Education,35\n",
      "2000,Males,Applied Arts,na\n",
      "2000,Males,Humanities & Social Sciences,574\n",
      "2000,Males,Mass Communication,34\n",
      "2000,Males,Accountancy,250\n",
      "2000,Males,Business & Administration,328\n",
      "2000,Males,Law,74\n",
      "2000,Males,\"Natural, Physical & Mathematical Sciences\",378\n",
      "2000,Males,Medicine,119\n",
      "2000,Males,Dentistry,17\n",
      "2000,Males,Health Sciences,11\n",
      "2000,Males,Information Technology,348\n",
      "2000,Males,Architecture & Building,101\n",
      "2000,Males,Engineering Sciences,2267\n",
      "2000,Males,Services,na\n",
      "2000,Females,Education,115\n",
      "2000,Females,Applied Arts,na\n",
      "2000,Females,Humanities & Social Sciences,1452\n",
      "2000,Females,Mass Communication,80\n",
      "2000,Females,Accountancy,495\n",
      "2000,Females,Business & Administration,851\n",
      "2000,Females,Law,79\n",
      "2000,Females,\"Natural, Physical & Mathematical Sciences\",655\n",
      "2000,Females,Medicine,37\n",
      "2000,Females,Dentistry,15\n",
      "2000,Females,Health Sciences,30\n",
      "2000,Females,Information Technology,187\n",
      "2000,Females,Architecture & Building,192\n",
      "2000,Females,Engineering Sciences,682\n",
      "2000,Females,Services,na\n",
      "2001,Males,Education,63\n",
      "2001,Males,Applied Arts,na\n",
      "2001,Males,Humanities & Social Sciences,534\n",
      "2001,Males,Mass Communication,39\n",
      "2001,Males,Accountancy,257\n",
      "2001,Males,Business & Administration,403\n",
      "2001,Males,Law,58\n",
      "2001,Males,\"Natural, Physical & Mathematical Sciences\",358\n",
      "2001,Males,Medicine,97\n",
      "2001,Males,Dentistry,19\n",
      "2001,Males,Health Sciences,17\n",
      "2001,Males,Information Technology,249\n",
      "2001,Males,Architecture & Building,124\n",
      "2001,Males,Engineering Sciences,2517\n",
      "2001,Males,Services,na\n",
      "2001,Females,Education,147\n",
      "2001,Females,Applied Arts,na\n",
      "2001,Females,Humanities & Social Sciences,1520\n",
      "2001,Females,Mass Communication,77\n",
      "2001,Females,Accountancy,484\n",
      "2001,Females,Business & Administration,807\n",
      "2001,Females,Law,96\n",
      "2001,Females,\"Natural, Physical & Mathematical Sciences\",754\n",
      "2001,Females,Medicine,42\n",
      "2001,Females,Dentistry,16\n",
      "2001,Females,Health Sciences,46\n",
      "2001,Females,Information Technology,133\n",
      "2001,Females,Architecture & Building,199\n",
      "2001,Females,Engineering Sciences,803\n",
      "2001,Females,Services,na\n",
      "2002,Males,Education,63\n",
      "2002,Males,Applied Arts,na\n",
      "2002,Males,Humanities & Social Sciences,591\n",
      "2002,Males,Mass Communication,30\n",
      "2002,Males,Accountancy,226\n",
      "2002,Males,Business & Administration,318\n",
      "2002,Males,Law,73\n",
      "2002,Males,\"Natural, Physical & Mathematical Sciences\",276\n",
      "2002,Males,Medicine,122\n",
      "2002,Males,Dentistry,23\n",
      "2002,Males,Health Sciences,20\n",
      "2002,Males,Information Technology,365\n",
      "2002,Males,Architecture & Building,134\n",
      "2002,Males,Engineering Sciences,2617\n",
      "2002,Males,Services,na\n",
      "2002,Females,Education,163\n",
      "2002,Females,Applied Arts,na\n",
      "2002,Females,Humanities & Social Sciences,1609\n",
      "2002,Females,Mass Communication,91\n",
      "2002,Females,Accountancy,541\n",
      "2002,Females,Business & Administration,751\n",
      "2002,Females,Law,77\n",
      "2002,Females,\"Natural, Physical & Mathematical Sciences\",699\n",
      "2002,Females,Medicine,60\n",
      "2002,Females,Dentistry,11\n",
      "2002,Females,Health Sciences,49\n",
      "2002,Females,Information Technology,199\n",
      "2002,Females,Architecture & Building,224\n",
      "2002,Females,Engineering Sciences,880\n",
      "2002,Females,Services,na\n",
      "2003,Males,Education,97\n",
      "2003,Males,Applied Arts,11\n",
      "2003,Males,Humanities & Social Sciences,456\n",
      "2003,Males,Mass Communication,33\n",
      "2003,Males,Accountancy,222\n",
      "2003,Males,Business & Administration,284\n",
      "2003,Males,Law,59\n",
      "2003,Males,\"Natural, Physical & Mathematical Sciences\",371\n",
      "2003,Males,Medicine,128\n",
      "2003,Males,Dentistry,21\n",
      "2003,Males,Health Sciences,15\n",
      "2003,Males,Information Technology,377\n",
      "2003,Males,Architecture & Building,175\n",
      "2003,Males,Engineering Sciences,2948\n",
      "2003,Males,Services,na\n",
      "2003,Females,Education,264\n",
      "2003,Females,Applied Arts,10\n",
      "2003,Females,Humanities & Social Sciences,1152\n",
      "2003,Females,Mass Communication,82\n",
      "2003,Females,Accountancy,524\n",
      "2003,Females,Business & Administration,693\n",
      "2003,Females,Law,81\n",
      "2003,Females,\"Natural, Physical & Mathematical Sciences\",742\n",
      "2003,Females,Medicine,66\n",
      "2003,Females,Dentistry,11\n",
      "2003,Females,Health Sciences,48\n",
      "2003,Females,Information Technology,242\n",
      "2003,Females,Architecture & Building,235\n",
      "2003,Females,Engineering Sciences,1016\n",
      "2003,Females,Services,na\n",
      "2004,Males,Education,76\n",
      "2004,Males,Applied Arts,11\n",
      "2004,Males,Humanities & Social Sciences,383\n",
      "2004,Males,Mass Communication,34\n",
      "2004,Males,Accountancy,234\n",
      "2004,Males,Business & Administration,325\n",
      "2004,Males,Law,56\n",
      "2004,Males,\"Natural, Physical & Mathematical Sciences\",409\n",
      "2004,Males,Medicine,122\n",
      "2004,Males,Dentistry,14\n",
      "2004,Males,Health Sciences,11\n",
      "2004,Males,Information Technology,412\n",
      "2004,Males,Architecture & Building,137\n",
      "2004,Males,Engineering Sciences,3022\n",
      "2004,Males,Services,na\n",
      "2004,Females,Education,336\n",
      "2004,Females,Applied Arts,14\n",
      "2004,Females,Humanities & Social Sciences,993\n",
      "2004,Females,Mass Communication,109\n",
      "2004,Females,Accountancy,387\n",
      "2004,Females,Business & Administration,742\n",
      "2004,Females,Law,91\n",
      "2004,Females,\"Natural, Physical & Mathematical Sciences\",781\n",
      "2004,Females,Medicine,77\n",
      "2004,Females,Dentistry,18\n",
      "2004,Females,Health Sciences,78\n",
      "2004,Females,Information Technology,309\n",
      "2004,Females,Architecture & Building,185\n",
      "2004,Females,Engineering Sciences,1179\n",
      "2004,Females,Services,na\n",
      "2005,Males,Education,86\n",
      "2005,Males,Applied Arts,11\n",
      "2005,Males,Humanities & Social Sciences,351\n",
      "2005,Males,Mass Communication,36\n",
      "2005,Males,Accountancy,211\n",
      "2005,Males,Business & Administration,322\n",
      "2005,Males,Law,62\n",
      "2005,Males,\"Natural, Physical & Mathematical Sciences\",321\n",
      "2005,Males,Medicine,123\n",
      "2005,Males,Dentistry,22\n",
      "2005,Males,Health Sciences,16\n",
      "2005,Males,Information Technology,363\n",
      "2005,Males,Architecture & Building,138\n",
      "2005,Males,Engineering Sciences,2887\n",
      "2005,Males,Services,na\n",
      "2005,Females,Education,278\n",
      "2005,Females,Applied Arts,11\n",
      "2005,Females,Humanities & Social Sciences,1027\n",
      "2005,Females,Mass Communication,110\n",
      "2005,Females,Accountancy,495\n",
      "2005,Females,Business & Administration,799\n",
      "2005,Females,Law,125\n",
      "2005,Females,\"Natural, Physical & Mathematical Sciences\",674\n",
      "2005,Females,Medicine,86\n",
      "2005,Females,Dentistry,12\n",
      "2005,Females,Health Sciences,69\n",
      "2005,Females,Information Technology,199\n",
      "2005,Females,Architecture & Building,234\n",
      "2005,Females,Engineering Sciences,1241\n",
      "2005,Females,Services,na\n",
      "2006,Males,Education,89\n",
      "2006,Males,Applied Arts,11\n",
      "2006,Males,Humanities & Social Sciences,412\n",
      "2006,Males,Mass Communication,33\n",
      "2006,Males,Accountancy,176\n",
      "2006,Males,Business & Administration,432\n",
      "2006,Males,Law,70\n",
      "2006,Males,\"Natural, Physical & Mathematical Sciences\",388\n",
      "2006,Males,Medicine,135\n",
      "2006,Males,Dentistry,18\n",
      "2006,Males,Health Sciences,24\n",
      "2006,Males,Information Technology,319\n",
      "2006,Males,Architecture & Building,166\n",
      "2006,Males,Engineering Sciences,2934\n",
      "2006,Males,Services,na\n",
      "2006,Females,Education,302\n",
      "2006,Females,Applied Arts,13\n",
      "2006,Females,Humanities & Social Sciences,1071\n",
      "2006,Females,Mass Communication,108\n",
      "2006,Females,Accountancy,468\n",
      "2006,Females,Business & Administration,819\n",
      "2006,Females,Law,134\n",
      "2006,Females,\"Natural, Physical & Mathematical Sciences\",880\n",
      "2006,Females,Medicine,94\n",
      "2006,Females,Dentistry,14\n",
      "2006,Females,Health Sciences,57\n",
      "2006,Females,Information Technology,130\n",
      "2006,Females,Architecture & Building,214\n",
      "2006,Females,Engineering Sciences,1199\n",
      "2006,Females,Services,na\n",
      "2007,Males,Education,73\n",
      "2007,Males,Applied Arts,28\n",
      "2007,Males,Humanities & Social Sciences,441\n",
      "2007,Males,Mass Communication,28\n",
      "2007,Males,Accountancy,260\n",
      "2007,Males,Business & Administration,493\n",
      "2007,Males,Law,84\n",
      "2007,Males,\"Natural, Physical & Mathematical Sciences\",427\n",
      "2007,Males,Medicine,144\n",
      "2007,Males,Dentistry,21\n",
      "2007,Males,Health Sciences,19\n",
      "2007,Males,Information Technology,303\n",
      "2007,Males,Architecture & Building,131\n",
      "2007,Males,Engineering Sciences,3371\n",
      "2007,Males,Services,0\n",
      "2007,Females,Education,189\n",
      "2007,Females,Applied Arts,41\n",
      "2007,Females,Humanities & Social Sciences,980\n",
      "2007,Females,Mass Communication,141\n",
      "2007,Females,Accountancy,575\n",
      "2007,Females,Business & Administration,894\n",
      "2007,Females,Law,123\n",
      "2007,Females,\"Natural, Physical & Mathematical Sciences\",827\n",
      "2007,Females,Medicine,83\n",
      "2007,Females,Dentistry,15\n",
      "2007,Females,Health Sciences,67\n",
      "2007,Females,Information Technology,190\n",
      "2007,Females,Architecture & Building,208\n",
      "2007,Females,Engineering Sciences,1337\n",
      "2007,Females,Services,0\n",
      "2008,Males,Education,53\n",
      "2008,Males,Applied Arts,31\n",
      "2008,Males,Humanities & Social Sciences,478\n",
      "2008,Males,Mass Communication,32\n",
      "2008,Males,Accountancy,295\n",
      "2008,Males,Business & Administration,505\n",
      "2008,Males,Law,94\n",
      "2008,Males,\"Natural, Physical & Mathematical Sciences\",469\n",
      "2008,Males,Medicine,131\n",
      "2008,Males,Dentistry,18\n",
      "2008,Males,Health Sciences,10\n",
      "2008,Males,Information Technology,308\n",
      "2008,Males,Architecture & Building,148\n",
      "2008,Males,Engineering Sciences,3150\n",
      "2008,Males,Services,14\n",
      "2008,Females,Education,172\n",
      "2008,Females,Applied Arts,50\n",
      "2008,Females,Humanities & Social Sciences,1203\n",
      "2008,Females,Mass Communication,132\n",
      "2008,Females,Accountancy,536\n",
      "2008,Females,Business & Administration,960\n",
      "2008,Females,Law,115\n",
      "2008,Females,\"Natural, Physical & Mathematical Sciences\",796\n",
      "2008,Females,Medicine,96\n",
      "2008,Females,Dentistry,17\n",
      "2008,Females,Health Sciences,77\n",
      "2008,Females,Information Technology,210\n",
      "2008,Females,Architecture & Building,243\n",
      "2008,Females,Engineering Sciences,1386\n",
      "2008,Females,Services,43\n",
      "2009,Males,Education,67\n",
      "2009,Males,Applied Arts,47\n",
      "2009,Males,Humanities & Social Sciences,547\n",
      "2009,Males,Mass Communication,36\n",
      "2009,Males,Accountancy,346\n",
      "2009,Males,Business & Administration,630\n",
      "2009,Males,Law,92\n",
      "2009,Males,\"Natural, Physical & Mathematical Sciences\",574\n",
      "2009,Males,Medicine,122\n",
      "2009,Males,Dentistry,12\n",
      "2009,Males,Health Sciences,22\n",
      "2009,Males,Information Technology,370\n",
      "2009,Males,Architecture & Building,135\n",
      "2009,Males,Engineering Sciences,2991\n",
      "2009,Males,Services,13\n",
      "2009,Females,Education,281\n",
      "2009,Females,Applied Arts,88\n",
      "2009,Females,Humanities & Social Sciences,1423\n",
      "2009,Females,Mass Communication,128\n",
      "2009,Females,Accountancy,596\n",
      "2009,Females,Business & Administration,857\n",
      "2009,Females,Law,118\n",
      "2009,Females,\"Natural, Physical & Mathematical Sciences\",946\n",
      "2009,Females,Medicine,97\n",
      "2009,Females,Dentistry,19\n",
      "2009,Females,Health Sciences,107\n",
      "2009,Females,Information Technology,162\n",
      "2009,Females,Architecture & Building,179\n",
      "2009,Females,Engineering Sciences,1217\n",
      "2009,Females,Services,36\n",
      "2010,Males,Education,67\n",
      "2010,Males,Applied Arts,84\n",
      "2010,Males,Humanities & Social Sciences,703\n",
      "2010,Males,Mass Communication,30\n",
      "2010,Males,Accountancy,380\n",
      "2010,Males,Business & Administration,674\n",
      "2010,Males,Law,139\n",
      "2010,Males,\"Natural, Physical & Mathematical Sciences\",568\n",
      "2010,Males,Medicine,134\n",
      "2010,Males,Dentistry,16\n",
      "2010,Males,Health Sciences,39\n",
      "2010,Males,Information Technology,419\n",
      "2010,Males,Architecture & Building,97\n",
      "2010,Males,Engineering Sciences,3117\n",
      "2010,Males,Services,29\n",
      "2010,Females,Education,262\n",
      "2010,Females,Applied Arts,121\n",
      "2010,Females,Humanities & Social Sciences,1474\n",
      "2010,Females,Mass Communication,147\n",
      "2010,Females,Accountancy,554\n",
      "2010,Females,Business & Administration,859\n",
      "2010,Females,Law,90\n",
      "2010,Females,\"Natural, Physical & Mathematical Sciences\",1091\n",
      "2010,Females,Medicine,94\n",
      "2010,Females,Dentistry,25\n",
      "2010,Females,Health Sciences,196\n",
      "2010,Females,Information Technology,154\n",
      "2010,Females,Architecture & Building,178\n",
      "2010,Females,Engineering Sciences,1020\n",
      "2010,Females,Services,35\n",
      "2011,Males,Education,103\n",
      "2011,Males,Applied Arts,84\n",
      "2011,Males,Humanities & Social Sciences,708\n",
      "2011,Males,Mass Communication,41\n",
      "2011,Males,Accountancy,332\n",
      "2011,Males,Business & Administration,633\n",
      "2011,Males,Law,121\n",
      "2011,Males,\"Natural, Physical & Mathematical Sciences\",619\n",
      "2011,Males,Medicine,136\n",
      "2011,Males,Dentistry,16\n",
      "2011,Males,Health Sciences,42\n",
      "2011,Males,Information Technology,388\n",
      "2011,Males,Architecture & Building,121\n",
      "2011,Males,Engineering Sciences,3060\n",
      "2011,Males,Services,24\n",
      "2011,Females,Education,303\n",
      "2011,Females,Applied Arts,132\n",
      "2011,Females,Humanities & Social Sciences,1772\n",
      "2011,Females,Mass Communication,133\n",
      "2011,Females,Accountancy,507\n",
      "2011,Females,Business & Administration,944\n",
      "2011,Females,Law,208\n",
      "2011,Females,\"Natural, Physical & Mathematical Sciences\",1217\n",
      "2011,Females,Medicine,119\n",
      "2011,Females,Dentistry,26\n",
      "2011,Females,Health Sciences,213\n",
      "2011,Females,Information Technology,195\n",
      "2011,Females,Architecture & Building,247\n",
      "2011,Females,Engineering Sciences,1215\n",
      "2011,Females,Services,50\n",
      "2012,Males,Education,116\n",
      "2012,Males,Applied Arts,102\n",
      "2012,Males,Humanities & Social Sciences,737\n",
      "2012,Males,Mass Communication,37\n",
      "2012,Males,Accountancy,447\n",
      "2012,Males,Business & Administration,572\n",
      "2012,Males,Law,140\n",
      "2012,Males,\"Natural, Physical & Mathematical Sciences\",837\n",
      "2012,Males,Medicine,129\n",
      "2012,Males,Dentistry,21\n",
      "2012,Males,Health Sciences,61\n",
      "2012,Males,Information Technology,484\n",
      "2012,Males,Architecture & Building,155\n",
      "2012,Males,Engineering Sciences,2870\n",
      "2012,Males,Services,28\n",
      "2012,Females,Education,526\n",
      "2012,Females,Applied Arts,139\n",
      "2012,Females,Humanities & Social Sciences,1494\n",
      "2012,Females,Mass Communication,133\n",
      "2012,Females,Accountancy,589\n",
      "2012,Females,Business & Administration,825\n",
      "2012,Females,Law,207\n",
      "2012,Females,\"Natural, Physical & Mathematical Sciences\",1074\n",
      "2012,Females,Medicine,123\n",
      "2012,Females,Dentistry,21\n",
      "2012,Females,Health Sciences,218\n",
      "2012,Females,Information Technology,280\n",
      "2012,Females,Architecture & Building,241\n",
      "2012,Females,Engineering Sciences,1210\n",
      "2012,Females,Services,34\n",
      "2013,Males,Education,167\n",
      "2013,Males,Applied Arts,172\n",
      "2013,Males,Humanities & Social Sciences,818\n",
      "2013,Males,Mass Communication,62\n",
      "2013,Males,Accountancy,399\n",
      "2013,Males,Business & Administration,693\n",
      "2013,Males,Law,189\n",
      "2013,Males,\"Natural, Physical & Mathematical Sciences\",870\n",
      "2013,Males,Medicine,134\n",
      "2013,Males,Dentistry,21\n",
      "2013,Males,Health Sciences,95\n",
      "2013,Males,Information Technology,542\n",
      "2013,Males,Architecture & Building,143\n",
      "2013,Males,Engineering Sciences,3346\n",
      "2013,Males,Services,134\n",
      "2013,Females,Education,422\n",
      "2013,Females,Applied Arts,164\n",
      "2013,Females,Humanities & Social Sciences,1766\n",
      "2013,Females,Mass Communication,100\n",
      "2013,Females,Accountancy,688\n",
      "2013,Females,Business & Administration,897\n",
      "2013,Females,Law,179\n",
      "2013,Females,\"Natural, Physical & Mathematical Sciences\",1257\n",
      "2013,Females,Medicine,124\n",
      "2013,Females,Dentistry,27\n",
      "2013,Females,Health Sciences,296\n",
      "2013,Females,Information Technology,250\n",
      "2013,Females,Architecture & Building,258\n",
      "2013,Females,Engineering Sciences,1344\n",
      "2013,Females,Services,398\n",
      "2014,Males,Education,124\n",
      "2014,Males,Applied Arts,165\n",
      "2014,Males,Humanities & Social Sciences,803\n",
      "2014,Males,Mass Communication,44\n",
      "2014,Males,Accountancy,473\n",
      "2014,Males,Business & Administration,631\n",
      "2014,Males,Law,180\n",
      "2014,Males,\"Natural, Physical & Mathematical Sciences\",786\n",
      "2014,Males,Medicine,134\n",
      "2014,Males,Dentistry,15\n",
      "2014,Males,Health Sciences,124\n",
      "2014,Males,Information Technology,708\n",
      "2014,Males,Architecture & Building,146\n",
      "2014,Males,Engineering Sciences,3288\n",
      "2014,Males,Services,135\n",
      "2014,Females,Education,401\n",
      "2014,Females,Applied Arts,229\n",
      "2014,Females,Humanities & Social Sciences,1619\n",
      "2014,Females,Mass Communication,114\n",
      "2014,Females,Accountancy,649\n",
      "2014,Females,Business & Administration,846\n",
      "2014,Females,Law,176\n",
      "2014,Females,\"Natural, Physical & Mathematical Sciences\",1103\n",
      "2014,Females,Medicine,127\n",
      "2014,Females,Dentistry,30\n",
      "2014,Females,Health Sciences,309\n",
      "2014,Females,Information Technology,289\n",
      "2014,Females,Architecture & Building,258\n",
      "2014,Females,Engineering Sciences,1251\n",
      "2014,Females,Services,219\n"
     ]
    }
   ],
   "source": [
    "with open('graudate course type in Singapore.csv', 'r') as f:\n",
    "    print(f.read())"
   ]
  },
  {
   "cell_type": "markdown",
   "metadata": {},
   "source": [
    "If the file size is small, we can read all the data from the file using `read()` conveniently. However, it is not practical to read all the data from a large file directly, instead, we can add a size argument to it and read repeatedly:"
   ]
  },
  {
   "cell_type": "code",
   "execution_count": 9,
   "metadata": {
    "collapsed": true
   },
   "outputs": [
    {
     "name": "stdout",
     "output_type": "stream",
     "text": [
      "In Year  1993 , There are  na\n",
      "   Males  graduates in course  Education\n",
      "In Year  1993 , There are  na\n",
      "   Males  graduates in course  Applied Arts\n",
      "In Year  1993 , There are  481\n",
      "   Males  graduates in course  Humanities & Social Sciences\n",
      "In Year  1993 , There are  na\n",
      "   Males  graduates in course  Mass Communication\n",
      "In Year  1993 , There are  295\n",
      "   Males  graduates in course  Accountancy\n",
      "In Year  1993 , There are  282\n",
      "   Males  graduates in course  Business & Administration\n",
      "In Year  1993 , There are  92\n",
      "   Males  graduates in course  Law\n",
      "In Year  1993 , There are   Physical & Mathematical Sciences\"   Males  graduates in course  \"Natural\n",
      "In Year  1993 , There are  95\n",
      "   Males  graduates in course  Medicine\n",
      "In Year  1993 , There are  14\n",
      "   Males  graduates in course  Dentistry\n",
      "In Year  1993 , There are  10\n",
      "   Males  graduates in course  Health Sciences\n",
      "In Year  1993 , There are  264\n",
      "   Males  graduates in course  Information Technology\n",
      "In Year  1993 , There are  132\n",
      "   Males  graduates in course  Architecture & Building\n",
      "In Year  1993 , There are  1496\n",
      "   Males  graduates in course  Engineering Sciences\n",
      "In Year  1993 , There are  na\n",
      "   Males  graduates in course  Services\n",
      "In Year  1993 , There are  na\n",
      "   Females  graduates in course  Education\n",
      "In Year  1993 , There are  na\n",
      "   Females  graduates in course  Applied Arts\n",
      "In Year  1993 , There are  1173\n",
      "   Females  graduates in course  Humanities & Social Sciences\n",
      "In Year  1993 , There are  na\n",
      "   Females  graduates in course  Mass Communication\n",
      "In Year  1993 , There are  396\n",
      "   Females  graduates in course  Accountancy\n",
      "In Year  1993 , There are  708\n",
      "   Females  graduates in course  Business & Administration\n",
      "In Year  1993 , There are  93\n",
      "   Females  graduates in course  Law\n",
      "In Year  1993 , There are   Physical & Mathematical Sciences\"   Females  graduates in course  \"Natural\n",
      "In Year  1993 , There are  61\n",
      "   Females  graduates in course  Medicine\n",
      "In Year  1993 , There are  11\n",
      "   Females  graduates in course  Dentistry\n",
      "In Year  1993 , There are  40\n",
      "   Females  graduates in course  Health Sciences\n",
      "In Year  1993 , There are  215\n",
      "   Females  graduates in course  Information Technology\n",
      "In Year  1993 , There are  144\n",
      "   Females  graduates in course  Architecture & Building\n",
      "In Year  1993 , There are  254\n",
      "   Females  graduates in course  Engineering Sciences\n",
      "In Year  1993 , There are  na\n",
      "   Females  graduates in course  Services\n",
      "In Year  1994 , There are  na\n",
      "   Males  graduates in course  Education\n",
      "In Year  1994 , There are  na\n",
      "   Males  graduates in course  Applied Arts\n",
      "In Year  1994 , There are  512\n",
      "   Males  graduates in course  Humanities & Social Sciences\n",
      "In Year  1994 , There are  na\n",
      "   Males  graduates in course  Mass Communication\n",
      "In Year  1994 , There are  271\n",
      "   Males  graduates in course  Accountancy\n",
      "In Year  1994 , There are  413\n",
      "   Males  graduates in course  Business & Administration\n",
      "In Year  1994 , There are  87\n",
      "   Males  graduates in course  Law\n",
      "In Year  1994 , There are   Physical & Mathematical Sciences\"   Males  graduates in course  \"Natural\n",
      "In Year  1994 , There are  99\n",
      "   Males  graduates in course  Medicine\n",
      "In Year  1994 , There are  23\n",
      "   Males  graduates in course  Dentistry\n",
      "In Year  1994 , There are  14\n",
      "   Males  graduates in course  Health Sciences\n",
      "In Year  1994 , There are  294\n",
      "   Males  graduates in course  Information Technology\n",
      "In Year  1994 , There are  136\n",
      "   Males  graduates in course  Architecture & Building\n",
      "In Year  1994 , There are  1666\n",
      "   Males  graduates in course  Engineering Sciences\n",
      "In Year  1994 , There are  na\n",
      "   Males  graduates in course  Services\n",
      "In Year  1994 , There are  na\n",
      "   Females  graduates in course  Education\n",
      "In Year  1994 , There are  na\n",
      "   Females  graduates in course  Applied Arts\n",
      "In Year  1994 , There are  1133\n",
      "   Females  graduates in course  Humanities & Social Sciences\n",
      "In Year  1994 , There are  na\n",
      "   Females  graduates in course  Mass Communication\n",
      "In Year  1994 , There are  378\n",
      "   Females  graduates in course  Accountancy\n",
      "In Year  1994 , There are  733\n",
      "   Females  graduates in course  Business & Administration\n",
      "In Year  1994 , There are  99\n",
      "   Females  graduates in course  Law\n",
      "In Year  1994 , There are   Physical & Mathematical Sciences\"   Females  graduates in course  \"Natural\n",
      "In Year  1994 , There are  66\n",
      "   Females  graduates in course  Medicine\n",
      "In Year  1994 , There are  6\n",
      "   Females  graduates in course  Dentistry\n",
      "In Year  1994 , There are  39\n",
      "   Females  graduates in course  Health Sciences\n",
      "In Year  1994 , There are  196\n",
      "   Females  graduates in course  Information Technology\n",
      "In Year  1994 , There are  182\n",
      "   Females  graduates in course  Architecture & Building\n",
      "In Year  1994 , There are  227\n",
      "   Females  graduates in course  Engineering Sciences\n",
      "In Year  1994 , There are  na\n",
      "   Females  graduates in course  Services\n",
      "In Year  1995 , There are  12\n",
      "   Males  graduates in course  Education\n",
      "In Year  1995 , There are  na\n",
      "   Males  graduates in course  Applied Arts\n",
      "In Year  1995 , There are  497\n",
      "   Males  graduates in course  Humanities & Social Sciences\n",
      "In Year  1995 , There are  na\n",
      "   Males  graduates in course  Mass Communication\n",
      "In Year  1995 , There are  289\n",
      "   Males  graduates in course  Accountancy\n",
      "In Year  1995 , There are  365\n",
      "   Males  graduates in course  Business & Administration\n",
      "In Year  1995 , There are  94\n",
      "   Males  graduates in course  Law\n",
      "In Year  1995 , There are   Physical & Mathematical Sciences\"   Males  graduates in course  \"Natural\n",
      "In Year  1995 , There are  93\n",
      "   Males  graduates in course  Medicine\n",
      "In Year  1995 , There are  20\n",
      "   Males  graduates in course  Dentistry\n",
      "In Year  1995 , There are  12\n",
      "   Males  graduates in course  Health Sciences\n",
      "In Year  1995 , There are  306\n",
      "   Males  graduates in course  Information Technology\n",
      "In Year  1995 , There are  140\n",
      "   Males  graduates in course  Architecture & Building\n",
      "In Year  1995 , There are  1715\n",
      "   Males  graduates in course  Engineering Sciences\n",
      "In Year  1995 , There are  na\n",
      "   Males  graduates in course  Services\n",
      "In Year  1995 , There are  101\n",
      "   Females  graduates in course  Education\n",
      "In Year  1995 , There are  na\n",
      "   Females  graduates in course  Applied Arts\n",
      "In Year  1995 , There are  1240\n",
      "   Females  graduates in course  Humanities & Social Sciences\n",
      "In Year  1995 , There are  na\n",
      "   Females  graduates in course  Mass Communication\n",
      "In Year  1995 , There are  395\n",
      "   Females  graduates in course  Accountancy\n",
      "In Year  1995 , There are  788\n",
      "   Females  graduates in course  Business & Administration\n",
      "In Year  1995 , There are  100\n",
      "   Females  graduates in course  Law\n",
      "In Year  1995 , There are   Physical & Mathematical Sciences\"   Females  graduates in course  \"Natural\n",
      "In Year  1995 , There are  48\n",
      "   Females  graduates in course  Medicine\n",
      "In Year  1995 , There are  8\n",
      "   Females  graduates in course  Dentistry\n",
      "In Year  1995 , There are  46\n",
      "   Females  graduates in course  Health Sciences\n",
      "In Year  1995 , There are  193\n",
      "   Females  graduates in course  Information Technology\n",
      "In Year  1995 , There are  156\n",
      "   Females  graduates in course  Architecture & Building\n",
      "In Year  1995 , There are  276\n",
      "   Females  graduates in course  Engineering Sciences\n",
      "In Year  1995 , There are  na\n",
      "   Females  graduates in course  Services\n",
      "In Year  1996 , There are  46\n",
      "   Males  graduates in course  Education\n",
      "In Year  1996 , There are  na\n",
      "   Males  graduates in course  Applied Arts\n",
      "In Year  1996 , There are  497\n",
      "   Males  graduates in course  Humanities & Social Sciences\n",
      "In Year  1996 , There are  na\n",
      "   Males  graduates in course  Mass Communication\n",
      "In Year  1996 , There are  262\n",
      "   Males  graduates in course  Accountancy\n",
      "In Year  1996 , There are  358\n",
      "   Males  graduates in course  Business & Administration\n",
      "In Year  1996 , There are  75\n",
      "   Males  graduates in course  Law\n",
      "In Year  1996 , There are   Physical & Mathematical Sciences\"   Males  graduates in course  \"Natural\n",
      "In Year  1996 , There are  97\n",
      "   Males  graduates in course  Medicine\n",
      "In Year  1996 , There are  24\n",
      "   Males  graduates in course  Dentistry\n",
      "In Year  1996 , There are  9\n",
      "   Males  graduates in course  Health Sciences\n",
      "In Year  1996 , There are  362\n",
      "   Males  graduates in course  Information Technology\n",
      "In Year  1996 , There are  142\n",
      "   Males  graduates in course  Architecture & Building\n",
      "In Year  1996 , There are  1701\n",
      "   Males  graduates in course  Engineering Sciences\n",
      "In Year  1996 , There are  na\n",
      "   Males  graduates in course  Services\n",
      "In Year  1996 , There are  199\n",
      "   Females  graduates in course  Education\n",
      "In Year  1996 , There are  na\n",
      "   Females  graduates in course  Applied Arts\n",
      "In Year  1996 , There are  1364\n",
      "   Females  graduates in course  Humanities & Social Sciences\n",
      "In Year  1996 , There are  na\n",
      "   Females  graduates in course  Mass Communication\n",
      "In Year  1996 , There are  433\n",
      "   Females  graduates in course  Accountancy\n",
      "In Year  1996 , There are  848\n",
      "   Females  graduates in course  Business & Administration\n",
      "In Year  1996 , There are  106\n",
      "   Females  graduates in course  Law\n",
      "In Year  1996 , There are   Physical & Mathematical Sciences\"   Females  graduates in course  \"Natural\n",
      "In Year  1996 , There are  53\n",
      "   Females  graduates in course  Medicine\n",
      "In Year  1996 , There are  13\n",
      "   Females  graduates in course  Dentistry\n",
      "In Year  1996 , There are  59\n",
      "   Females  graduates in course  Health Sciences\n",
      "In Year  1996 , There are  194\n",
      "   Females  graduates in course  Information Technology\n",
      "In Year  1996 , There are  136\n",
      "   Females  graduates in course  Architecture & Building\n",
      "In Year  1996 , There are  250\n",
      "   Females  graduates in course  Engineering Sciences\n",
      "In Year  1996 , There are  na\n",
      "   Females  graduates in course  Services\n",
      "In Year  1997 , There are  45\n",
      "   Males  graduates in course  Education\n",
      "In Year  1997 , There are  na\n",
      "   Males  graduates in course  Applied Arts\n",
      "In Year  1997 , There are  554\n",
      "   Males  graduates in course  Humanities & Social Sciences\n",
      "In Year  1997 , There are  28\n",
      "   Males  graduates in course  Mass Communication\n",
      "In Year  1997 , There are  227\n",
      "   Males  graduates in course  Accountancy\n",
      "In Year  1997 , There are  448\n",
      "   Males  graduates in course  Business & Administration\n",
      "In Year  1997 , There are  90\n",
      "   Males  graduates in course  Law\n",
      "In Year  1997 , There are   Physical & Mathematical Sciences\"   Males  graduates in course  \"Natural\n",
      "In Year  1997 , There are  107\n",
      "   Males  graduates in course  Medicine\n",
      "In Year  1997 , There are  20\n",
      "   Males  graduates in course  Dentistry\n",
      "In Year  1997 , There are  9\n",
      "   Males  graduates in course  Health Sciences\n",
      "In Year  1997 , There are  370\n",
      "   Males  graduates in course  Information Technology\n",
      "In Year  1997 , There are  135\n",
      "   Males  graduates in course  Architecture & Building\n",
      "In Year  1997 , There are  1806\n",
      "   Males  graduates in course  Engineering Sciences\n",
      "In Year  1997 , There are  na\n",
      "   Males  graduates in course  Services\n",
      "In Year  1997 , There are  187\n",
      "   Females  graduates in course  Education\n",
      "In Year  1997 , There are  na\n",
      "   Females  graduates in course  Applied Arts\n",
      "In Year  1997 , There are  1367\n",
      "   Females  graduates in course  Humanities & Social Sciences\n",
      "In Year  1997 , There are  67\n",
      "   Females  graduates in course  Mass Communication\n",
      "In Year  1997 , There are  453\n",
      "   Females  graduates in course  Accountancy\n",
      "In Year  1997 , There are  808\n",
      "   Females  graduates in course  Business & Administration\n",
      "In Year  1997 , There are  97\n",
      "   Females  graduates in course  Law\n",
      "In Year  1997 , There are   Physical & Mathematical Sciences\"   Females  graduates in course  \"Natural\n",
      "In Year  1997 , There are  40\n",
      "   Females  graduates in course  Medicine\n",
      "In Year  1997 , There are  10\n",
      "   Females  graduates in course  Dentistry\n",
      "In Year  1997 , There are  60\n",
      "   Females  graduates in course  Health Sciences\n",
      "In Year  1997 , There are  218\n",
      "   Females  graduates in course  Information Technology\n",
      "In Year  1997 , There are  163\n",
      "   Females  graduates in course  Architecture & Building\n",
      "In Year  1997 , There are  333\n",
      "   Females  graduates in course  Engineering Sciences\n",
      "In Year  1997 , There are  na\n",
      "   Females  graduates in course  Services\n",
      "In Year  1998 , There are  56\n",
      "   Males  graduates in course  Education\n",
      "In Year  1998 , There are  na\n",
      "   Males  graduates in course  Applied Arts\n",
      "In Year  1998 , There are  547\n",
      "   Males  graduates in course  Humanities & Social Sciences\n",
      "In Year  1998 , There are  27\n",
      "   Males  graduates in course  Mass Communication\n",
      "In Year  1998 , There are  264\n",
      "   Males  graduates in course  Accountancy\n",
      "In Year  1998 , There are  461\n",
      "   Males  graduates in course  Business & Administration\n",
      "In Year  1998 , There are  70\n",
      "   Males  graduates in course  Law\n",
      "In Year  1998 , There are   Physical & Mathematical Sciences\"   Males  graduates in course  \"Natural\n",
      "In Year  1998 , There are  106\n",
      "   Males  graduates in course  Medicine\n",
      "In Year  1998 , There are  24\n",
      "   Males  graduates in course  Dentistry\n",
      "In Year  1998 , There are  8\n",
      "   Males  graduates in course  Health Sciences\n",
      "In Year  1998 , There are  377\n",
      "   Males  graduates in course  Information Technology\n",
      "In Year  1998 , There are  141\n",
      "   Males  graduates in course  Architecture & Building\n",
      "In Year  1998 , There are  1952\n",
      "   Males  graduates in course  Engineering Sciences\n",
      "In Year  1998 , There are  na\n",
      "   Males  graduates in course  Services\n",
      "In Year  1998 , There are  133\n",
      "   Females  graduates in course  Education\n",
      "In Year  1998 , There are  na\n",
      "   Females  graduates in course  Applied Arts\n",
      "In Year  1998 , There are  1547\n",
      "   Females  graduates in course  Humanities & Social Sciences\n",
      "In Year  1998 , There are  74\n",
      "   Females  graduates in course  Mass Communication\n",
      "In Year  1998 , There are  487\n",
      "   Females  graduates in course  Accountancy\n",
      "In Year  1998 , There are  869\n",
      "   Females  graduates in course  Business & Administration\n",
      "In Year  1998 , There are  103\n",
      "   Females  graduates in course  Law\n",
      "In Year  1998 , There are   Physical & Mathematical Sciences\"   Females  graduates in course  \"Natural\n",
      "In Year  1998 , There are  42\n",
      "   Females  graduates in course  Medicine\n",
      "In Year  1998 , There are  12\n",
      "   Females  graduates in course  Dentistry\n",
      "In Year  1998 , There are  69\n",
      "   Females  graduates in course  Health Sciences\n",
      "In Year  1998 , There are  296\n",
      "   Females  graduates in course  Information Technology\n",
      "In Year  1998 , There are  153\n",
      "   Females  graduates in course  Architecture & Building\n",
      "In Year  1998 , There are  413\n",
      "   Females  graduates in course  Engineering Sciences\n",
      "In Year  1998 , There are  na\n",
      "   Females  graduates in course  Services\n",
      "In Year  1999 , There are  44\n",
      "   Males  graduates in course  Education\n",
      "In Year  1999 , There are  na\n",
      "   Males  graduates in course  Applied Arts\n",
      "In Year  1999 , There are  576\n",
      "   Males  graduates in course  Humanities & Social Sciences\n",
      "In Year  1999 , There are  19\n",
      "   Males  graduates in course  Mass Communication\n",
      "In Year  1999 , There are  297\n",
      "   Males  graduates in course  Accountancy\n",
      "In Year  1999 , There are  349\n",
      "   Males  graduates in course  Business & Administration\n",
      "In Year  1999 , There are  92\n",
      "   Males  graduates in course  Law\n",
      "In Year  1999 , There are   Physical & Mathematical Sciences\"   Males  graduates in course  \"Natural\n",
      "In Year  1999 , There are  104\n",
      "   Males  graduates in course  Medicine\n",
      "In Year  1999 , There are  18\n",
      "   Males  graduates in course  Dentistry\n",
      "In Year  1999 , There are  14\n",
      "   Males  graduates in course  Health Sciences\n",
      "In Year  1999 , There are  355\n",
      "   Males  graduates in course  Information Technology\n",
      "In Year  1999 , There are  104\n",
      "   Males  graduates in course  Architecture & Building\n",
      "In Year  1999 , There are  2200\n",
      "   Males  graduates in course  Engineering Sciences\n",
      "In Year  1999 , There are  na\n",
      "   Males  graduates in course  Services\n",
      "In Year  1999 , There are  158\n",
      "   Females  graduates in course  Education\n",
      "In Year  1999 , There are  na\n",
      "   Females  graduates in course  Applied Arts\n",
      "In Year  1999 , There are  1492\n",
      "   Females  graduates in course  Humanities & Social Sciences\n",
      "In Year  1999 , There are  93\n",
      "   Females  graduates in course  Mass Communication\n",
      "In Year  1999 , There are  482\n",
      "   Females  graduates in course  Accountancy\n",
      "In Year  1999 , There are  905\n",
      "   Females  graduates in course  Business & Administration\n",
      "In Year  1999 , There are  77\n",
      "   Females  graduates in course  Law\n",
      "In Year  1999 , There are   Physical & Mathematical Sciences\"   Females  graduates in course  \"Natural\n",
      "In Year  1999 , There are  41\n",
      "   Females  graduates in course  Medicine\n",
      "In Year  1999 , There are  14\n",
      "   Females  graduates in course  Dentistry\n",
      "In Year  1999 , There are  77\n",
      "   Females  graduates in course  Health Sciences\n",
      "In Year  1999 , There are  218\n",
      "   Females  graduates in course  Information Technology\n",
      "In Year  1999 , There are  167\n",
      "   Females  graduates in course  Architecture & Building\n",
      "In Year  1999 , There are  492\n",
      "   Females  graduates in course  Engineering Sciences\n",
      "In Year  1999 , There are  na\n",
      "   Females  graduates in course  Services\n",
      "In Year  2000 , There are  35\n",
      "   Males  graduates in course  Education\n",
      "In Year  2000 , There are  na\n",
      "   Males  graduates in course  Applied Arts\n",
      "In Year  2000 , There are  574\n",
      "   Males  graduates in course  Humanities & Social Sciences\n",
      "In Year  2000 , There are  34\n",
      "   Males  graduates in course  Mass Communication\n",
      "In Year  2000 , There are  250\n",
      "   Males  graduates in course  Accountancy\n",
      "In Year  2000 , There are  328\n",
      "   Males  graduates in course  Business & Administration\n",
      "In Year  2000 , There are  74\n",
      "   Males  graduates in course  Law\n",
      "In Year  2000 , There are   Physical & Mathematical Sciences\"   Males  graduates in course  \"Natural\n",
      "In Year  2000 , There are  119\n",
      "   Males  graduates in course  Medicine\n",
      "In Year  2000 , There are  17\n",
      "   Males  graduates in course  Dentistry\n",
      "In Year  2000 , There are  11\n",
      "   Males  graduates in course  Health Sciences\n",
      "In Year  2000 , There are  348\n",
      "   Males  graduates in course  Information Technology\n",
      "In Year  2000 , There are  101\n",
      "   Males  graduates in course  Architecture & Building\n",
      "In Year  2000 , There are  2267\n",
      "   Males  graduates in course  Engineering Sciences\n",
      "In Year  2000 , There are  na\n",
      "   Males  graduates in course  Services\n",
      "In Year  2000 , There are  115\n",
      "   Females  graduates in course  Education\n",
      "In Year  2000 , There are  na\n",
      "   Females  graduates in course  Applied Arts\n",
      "In Year  2000 , There are  1452\n",
      "   Females  graduates in course  Humanities & Social Sciences\n",
      "In Year  2000 , There are  80\n",
      "   Females  graduates in course  Mass Communication\n",
      "In Year  2000 , There are  495\n",
      "   Females  graduates in course  Accountancy\n",
      "In Year  2000 , There are  851\n",
      "   Females  graduates in course  Business & Administration\n",
      "In Year  2000 , There are  79\n",
      "   Females  graduates in course  Law\n",
      "In Year  2000 , There are   Physical & Mathematical Sciences\"   Females  graduates in course  \"Natural\n",
      "In Year  2000 , There are  37\n",
      "   Females  graduates in course  Medicine\n",
      "In Year  2000 , There are  15\n",
      "   Females  graduates in course  Dentistry\n",
      "In Year  2000 , There are  30\n",
      "   Females  graduates in course  Health Sciences\n",
      "In Year  2000 , There are  187\n",
      "   Females  graduates in course  Information Technology\n",
      "In Year  2000 , There are  192\n",
      "   Females  graduates in course  Architecture & Building\n",
      "In Year  2000 , There are  682\n",
      "   Females  graduates in course  Engineering Sciences\n",
      "In Year  2000 , There are  na\n",
      "   Females  graduates in course  Services\n",
      "In Year  2001 , There are  63\n",
      "   Males  graduates in course  Education\n",
      "In Year  2001 , There are  na\n",
      "   Males  graduates in course  Applied Arts\n",
      "In Year  2001 , There are  534\n",
      "   Males  graduates in course  Humanities & Social Sciences\n",
      "In Year  2001 , There are  39\n",
      "   Males  graduates in course  Mass Communication\n",
      "In Year  2001 , There are  257\n",
      "   Males  graduates in course  Accountancy\n",
      "In Year  2001 , There are  403\n",
      "   Males  graduates in course  Business & Administration\n",
      "In Year  2001 , There are  58\n",
      "   Males  graduates in course  Law\n",
      "In Year  2001 , There are   Physical & Mathematical Sciences\"   Males  graduates in course  \"Natural\n",
      "In Year  2001 , There are  97\n",
      "   Males  graduates in course  Medicine\n",
      "In Year  2001 , There are  19\n",
      "   Males  graduates in course  Dentistry\n",
      "In Year  2001 , There are  17\n",
      "   Males  graduates in course  Health Sciences\n",
      "In Year  2001 , There are  249\n",
      "   Males  graduates in course  Information Technology\n",
      "In Year  2001 , There are  124\n",
      "   Males  graduates in course  Architecture & Building\n",
      "In Year  2001 , There are  2517\n",
      "   Males  graduates in course  Engineering Sciences\n",
      "In Year  2001 , There are  na\n",
      "   Males  graduates in course  Services\n",
      "In Year  2001 , There are  147\n",
      "   Females  graduates in course  Education\n",
      "In Year  2001 , There are  na\n",
      "   Females  graduates in course  Applied Arts\n",
      "In Year  2001 , There are  1520\n",
      "   Females  graduates in course  Humanities & Social Sciences\n",
      "In Year  2001 , There are  77\n",
      "   Females  graduates in course  Mass Communication\n",
      "In Year  2001 , There are  484\n",
      "   Females  graduates in course  Accountancy\n",
      "In Year  2001 , There are  807\n",
      "   Females  graduates in course  Business & Administration\n",
      "In Year  2001 , There are  96\n",
      "   Females  graduates in course  Law\n",
      "In Year  2001 , There are   Physical & Mathematical Sciences\"   Females  graduates in course  \"Natural\n",
      "In Year  2001 , There are  42\n",
      "   Females  graduates in course  Medicine\n",
      "In Year  2001 , There are  16\n",
      "   Females  graduates in course  Dentistry\n",
      "In Year  2001 , There are  46\n",
      "   Females  graduates in course  Health Sciences\n",
      "In Year  2001 , There are  133\n",
      "   Females  graduates in course  Information Technology\n",
      "In Year  2001 , There are  199\n",
      "   Females  graduates in course  Architecture & Building\n",
      "In Year  2001 , There are  803\n",
      "   Females  graduates in course  Engineering Sciences\n",
      "In Year  2001 , There are  na\n",
      "   Females  graduates in course  Services\n",
      "In Year  2002 , There are  63\n",
      "   Males  graduates in course  Education\n",
      "In Year  2002 , There are  na\n",
      "   Males  graduates in course  Applied Arts\n",
      "In Year  2002 , There are  591\n",
      "   Males  graduates in course  Humanities & Social Sciences\n",
      "In Year  2002 , There are  30\n",
      "   Males  graduates in course  Mass Communication\n",
      "In Year  2002 , There are  226\n",
      "   Males  graduates in course  Accountancy\n",
      "In Year  2002 , There are  318\n",
      "   Males  graduates in course  Business & Administration\n",
      "In Year  2002 , There are  73\n",
      "   Males  graduates in course  Law\n",
      "In Year  2002 , There are   Physical & Mathematical Sciences\"   Males  graduates in course  \"Natural\n",
      "In Year  2002 , There are  122\n",
      "   Males  graduates in course  Medicine\n",
      "In Year  2002 , There are  23\n",
      "   Males  graduates in course  Dentistry\n",
      "In Year  2002 , There are  20\n",
      "   Males  graduates in course  Health Sciences\n",
      "In Year  2002 , There are  365\n",
      "   Males  graduates in course  Information Technology\n",
      "In Year  2002 , There are  134\n",
      "   Males  graduates in course  Architecture & Building\n",
      "In Year  2002 , There are  2617\n",
      "   Males  graduates in course  Engineering Sciences\n",
      "In Year  2002 , There are  na\n",
      "   Males  graduates in course  Services\n",
      "In Year  2002 , There are  163\n",
      "   Females  graduates in course  Education\n",
      "In Year  2002 , There are  na\n",
      "   Females  graduates in course  Applied Arts\n",
      "In Year  2002 , There are  1609\n",
      "   Females  graduates in course  Humanities & Social Sciences\n",
      "In Year  2002 , There are  91\n",
      "   Females  graduates in course  Mass Communication\n",
      "In Year  2002 , There are  541\n",
      "   Females  graduates in course  Accountancy\n",
      "In Year  2002 , There are  751\n",
      "   Females  graduates in course  Business & Administration\n",
      "In Year  2002 , There are  77\n",
      "   Females  graduates in course  Law\n",
      "In Year  2002 , There are   Physical & Mathematical Sciences\"   Females  graduates in course  \"Natural\n",
      "In Year  2002 , There are  60\n",
      "   Females  graduates in course  Medicine\n",
      "In Year  2002 , There are  11\n",
      "   Females  graduates in course  Dentistry\n",
      "In Year  2002 , There are  49\n",
      "   Females  graduates in course  Health Sciences\n",
      "In Year  2002 , There are  199\n",
      "   Females  graduates in course  Information Technology\n",
      "In Year  2002 , There are  224\n",
      "   Females  graduates in course  Architecture & Building\n",
      "In Year  2002 , There are  880\n",
      "   Females  graduates in course  Engineering Sciences\n",
      "In Year  2002 , There are  na\n",
      "   Females  graduates in course  Services\n",
      "In Year  2003 , There are  97\n",
      "   Males  graduates in course  Education\n",
      "In Year  2003 , There are  11\n",
      "   Males  graduates in course  Applied Arts\n",
      "In Year  2003 , There are  456\n",
      "   Males  graduates in course  Humanities & Social Sciences\n",
      "In Year  2003 , There are  33\n",
      "   Males  graduates in course  Mass Communication\n",
      "In Year  2003 , There are  222\n",
      "   Males  graduates in course  Accountancy\n",
      "In Year  2003 , There are  284\n",
      "   Males  graduates in course  Business & Administration\n",
      "In Year  2003 , There are  59\n",
      "   Males  graduates in course  Law\n",
      "In Year  2003 , There are   Physical & Mathematical Sciences\"   Males  graduates in course  \"Natural\n",
      "In Year  2003 , There are  128\n",
      "   Males  graduates in course  Medicine\n",
      "In Year  2003 , There are  21\n",
      "   Males  graduates in course  Dentistry\n",
      "In Year  2003 , There are  15\n",
      "   Males  graduates in course  Health Sciences\n",
      "In Year  2003 , There are  377\n",
      "   Males  graduates in course  Information Technology\n",
      "In Year  2003 , There are  175\n",
      "   Males  graduates in course  Architecture & Building\n",
      "In Year  2003 , There are  2948\n",
      "   Males  graduates in course  Engineering Sciences\n",
      "In Year  2003 , There are  na\n",
      "   Males  graduates in course  Services\n",
      "In Year  2003 , There are  264\n",
      "   Females  graduates in course  Education\n",
      "In Year  2003 , There are  10\n",
      "   Females  graduates in course  Applied Arts\n",
      "In Year  2003 , There are  1152\n",
      "   Females  graduates in course  Humanities & Social Sciences\n",
      "In Year  2003 , There are  82\n",
      "   Females  graduates in course  Mass Communication\n",
      "In Year  2003 , There are  524\n",
      "   Females  graduates in course  Accountancy\n",
      "In Year  2003 , There are  693\n",
      "   Females  graduates in course  Business & Administration\n",
      "In Year  2003 , There are  81\n",
      "   Females  graduates in course  Law\n",
      "In Year  2003 , There are   Physical & Mathematical Sciences\"   Females  graduates in course  \"Natural\n",
      "In Year  2003 , There are  66\n",
      "   Females  graduates in course  Medicine\n",
      "In Year  2003 , There are  11\n",
      "   Females  graduates in course  Dentistry\n",
      "In Year  2003 , There are  48\n",
      "   Females  graduates in course  Health Sciences\n",
      "In Year  2003 , There are  242\n",
      "   Females  graduates in course  Information Technology\n",
      "In Year  2003 , There are  235\n",
      "   Females  graduates in course  Architecture & Building\n",
      "In Year  2003 , There are  1016\n",
      "   Females  graduates in course  Engineering Sciences\n",
      "In Year  2003 , There are  na\n",
      "   Females  graduates in course  Services\n",
      "In Year  2004 , There are  76\n",
      "   Males  graduates in course  Education\n",
      "In Year  2004 , There are  11\n",
      "   Males  graduates in course  Applied Arts\n",
      "In Year  2004 , There are  383\n",
      "   Males  graduates in course  Humanities & Social Sciences\n",
      "In Year  2004 , There are  34\n",
      "   Males  graduates in course  Mass Communication\n",
      "In Year  2004 , There are  234\n",
      "   Males  graduates in course  Accountancy\n",
      "In Year  2004 , There are  325\n",
      "   Males  graduates in course  Business & Administration\n",
      "In Year  2004 , There are  56\n",
      "   Males  graduates in course  Law\n",
      "In Year  2004 , There are   Physical & Mathematical Sciences\"   Males  graduates in course  \"Natural\n",
      "In Year  2004 , There are  122\n",
      "   Males  graduates in course  Medicine\n",
      "In Year  2004 , There are  14\n",
      "   Males  graduates in course  Dentistry\n",
      "In Year  2004 , There are  11\n",
      "   Males  graduates in course  Health Sciences\n",
      "In Year  2004 , There are  412\n",
      "   Males  graduates in course  Information Technology\n",
      "In Year  2004 , There are  137\n",
      "   Males  graduates in course  Architecture & Building\n",
      "In Year  2004 , There are  3022\n",
      "   Males  graduates in course  Engineering Sciences\n",
      "In Year  2004 , There are  na\n",
      "   Males  graduates in course  Services\n",
      "In Year  2004 , There are  336\n",
      "   Females  graduates in course  Education\n",
      "In Year  2004 , There are  14\n",
      "   Females  graduates in course  Applied Arts\n",
      "In Year  2004 , There are  993\n",
      "   Females  graduates in course  Humanities & Social Sciences\n",
      "In Year  2004 , There are  109\n",
      "   Females  graduates in course  Mass Communication\n",
      "In Year  2004 , There are  387\n",
      "   Females  graduates in course  Accountancy\n",
      "In Year  2004 , There are  742\n",
      "   Females  graduates in course  Business & Administration\n",
      "In Year  2004 , There are  91\n",
      "   Females  graduates in course  Law\n",
      "In Year  2004 , There are   Physical & Mathematical Sciences\"   Females  graduates in course  \"Natural\n",
      "In Year  2004 , There are  77\n",
      "   Females  graduates in course  Medicine\n",
      "In Year  2004 , There are  18\n",
      "   Females  graduates in course  Dentistry\n",
      "In Year  2004 , There are  78\n",
      "   Females  graduates in course  Health Sciences\n",
      "In Year  2004 , There are  309\n",
      "   Females  graduates in course  Information Technology\n",
      "In Year  2004 , There are  185\n",
      "   Females  graduates in course  Architecture & Building\n",
      "In Year  2004 , There are  1179\n",
      "   Females  graduates in course  Engineering Sciences\n",
      "In Year  2004 , There are  na\n",
      "   Females  graduates in course  Services\n",
      "In Year  2005 , There are  86\n",
      "   Males  graduates in course  Education\n",
      "In Year  2005 , There are  11\n",
      "   Males  graduates in course  Applied Arts\n",
      "In Year  2005 , There are  351\n",
      "   Males  graduates in course  Humanities & Social Sciences\n",
      "In Year  2005 , There are  36\n",
      "   Males  graduates in course  Mass Communication\n",
      "In Year  2005 , There are  211\n",
      "   Males  graduates in course  Accountancy\n",
      "In Year  2005 , There are  322\n",
      "   Males  graduates in course  Business & Administration\n",
      "In Year  2005 , There are  62\n",
      "   Males  graduates in course  Law\n",
      "In Year  2005 , There are   Physical & Mathematical Sciences\"   Males  graduates in course  \"Natural\n",
      "In Year  2005 , There are  123\n",
      "   Males  graduates in course  Medicine\n",
      "In Year  2005 , There are  22\n",
      "   Males  graduates in course  Dentistry\n",
      "In Year  2005 , There are  16\n",
      "   Males  graduates in course  Health Sciences\n",
      "In Year  2005 , There are  363\n",
      "   Males  graduates in course  Information Technology\n",
      "In Year  2005 , There are  138\n",
      "   Males  graduates in course  Architecture & Building\n",
      "In Year  2005 , There are  2887\n",
      "   Males  graduates in course  Engineering Sciences\n",
      "In Year  2005 , There are  na\n",
      "   Males  graduates in course  Services\n",
      "In Year  2005 , There are  278\n",
      "   Females  graduates in course  Education\n",
      "In Year  2005 , There are  11\n",
      "   Females  graduates in course  Applied Arts\n",
      "In Year  2005 , There are  1027\n",
      "   Females  graduates in course  Humanities & Social Sciences\n",
      "In Year  2005 , There are  110\n",
      "   Females  graduates in course  Mass Communication\n",
      "In Year  2005 , There are  495\n",
      "   Females  graduates in course  Accountancy\n",
      "In Year  2005 , There are  799\n",
      "   Females  graduates in course  Business & Administration\n",
      "In Year  2005 , There are  125\n",
      "   Females  graduates in course  Law\n",
      "In Year  2005 , There are   Physical & Mathematical Sciences\"   Females  graduates in course  \"Natural\n",
      "In Year  2005 , There are  86\n",
      "   Females  graduates in course  Medicine\n",
      "In Year  2005 , There are  12\n",
      "   Females  graduates in course  Dentistry\n",
      "In Year  2005 , There are  69\n",
      "   Females  graduates in course  Health Sciences\n",
      "In Year  2005 , There are  199\n",
      "   Females  graduates in course  Information Technology\n",
      "In Year  2005 , There are  234\n",
      "   Females  graduates in course  Architecture & Building\n",
      "In Year  2005 , There are  1241\n",
      "   Females  graduates in course  Engineering Sciences\n",
      "In Year  2005 , There are  na\n",
      "   Females  graduates in course  Services\n",
      "In Year  2006 , There are  89\n",
      "   Males  graduates in course  Education\n",
      "In Year  2006 , There are  11\n",
      "   Males  graduates in course  Applied Arts\n",
      "In Year  2006 , There are  412\n",
      "   Males  graduates in course  Humanities & Social Sciences\n",
      "In Year  2006 , There are  33\n",
      "   Males  graduates in course  Mass Communication\n",
      "In Year  2006 , There are  176\n",
      "   Males  graduates in course  Accountancy\n",
      "In Year  2006 , There are  432\n",
      "   Males  graduates in course  Business & Administration\n",
      "In Year  2006 , There are  70\n",
      "   Males  graduates in course  Law\n",
      "In Year  2006 , There are   Physical & Mathematical Sciences\"   Males  graduates in course  \"Natural\n",
      "In Year  2006 , There are  135\n",
      "   Males  graduates in course  Medicine\n",
      "In Year  2006 , There are  18\n",
      "   Males  graduates in course  Dentistry\n",
      "In Year  2006 , There are  24\n",
      "   Males  graduates in course  Health Sciences\n",
      "In Year  2006 , There are  319\n",
      "   Males  graduates in course  Information Technology\n",
      "In Year  2006 , There are  166\n",
      "   Males  graduates in course  Architecture & Building\n",
      "In Year  2006 , There are  2934\n",
      "   Males  graduates in course  Engineering Sciences\n",
      "In Year  2006 , There are  na\n",
      "   Males  graduates in course  Services\n",
      "In Year  2006 , There are  302\n",
      "   Females  graduates in course  Education\n",
      "In Year  2006 , There are  13\n",
      "   Females  graduates in course  Applied Arts\n",
      "In Year  2006 , There are  1071\n",
      "   Females  graduates in course  Humanities & Social Sciences\n",
      "In Year  2006 , There are  108\n",
      "   Females  graduates in course  Mass Communication\n",
      "In Year  2006 , There are  468\n",
      "   Females  graduates in course  Accountancy\n",
      "In Year  2006 , There are  819\n",
      "   Females  graduates in course  Business & Administration\n",
      "In Year  2006 , There are  134\n",
      "   Females  graduates in course  Law\n",
      "In Year  2006 , There are   Physical & Mathematical Sciences\"   Females  graduates in course  \"Natural\n",
      "In Year  2006 , There are  94\n",
      "   Females  graduates in course  Medicine\n",
      "In Year  2006 , There are  14\n",
      "   Females  graduates in course  Dentistry\n",
      "In Year  2006 , There are  57\n",
      "   Females  graduates in course  Health Sciences\n",
      "In Year  2006 , There are  130\n",
      "   Females  graduates in course  Information Technology\n",
      "In Year  2006 , There are  214\n",
      "   Females  graduates in course  Architecture & Building\n",
      "In Year  2006 , There are  1199\n",
      "   Females  graduates in course  Engineering Sciences\n",
      "In Year  2006 , There are  na\n",
      "   Females  graduates in course  Services\n",
      "In Year  2007 , There are  73\n",
      "   Males  graduates in course  Education\n",
      "In Year  2007 , There are  28\n",
      "   Males  graduates in course  Applied Arts\n",
      "In Year  2007 , There are  441\n",
      "   Males  graduates in course  Humanities & Social Sciences\n",
      "In Year  2007 , There are  28\n",
      "   Males  graduates in course  Mass Communication\n",
      "In Year  2007 , There are  260\n",
      "   Males  graduates in course  Accountancy\n",
      "In Year  2007 , There are  493\n",
      "   Males  graduates in course  Business & Administration\n",
      "In Year  2007 , There are  84\n",
      "   Males  graduates in course  Law\n",
      "In Year  2007 , There are   Physical & Mathematical Sciences\"   Males  graduates in course  \"Natural\n",
      "In Year  2007 , There are  144\n",
      "   Males  graduates in course  Medicine\n",
      "In Year  2007 , There are  21\n",
      "   Males  graduates in course  Dentistry\n",
      "In Year  2007 , There are  19\n",
      "   Males  graduates in course  Health Sciences\n",
      "In Year  2007 , There are  303\n",
      "   Males  graduates in course  Information Technology\n",
      "In Year  2007 , There are  131\n",
      "   Males  graduates in course  Architecture & Building\n",
      "In Year  2007 , There are  3371\n",
      "   Males  graduates in course  Engineering Sciences\n",
      "In Year  2007 , There are  0\n",
      "   Males  graduates in course  Services\n",
      "In Year  2007 , There are  189\n",
      "   Females  graduates in course  Education\n",
      "In Year  2007 , There are  41\n",
      "   Females  graduates in course  Applied Arts\n",
      "In Year  2007 , There are  980\n",
      "   Females  graduates in course  Humanities & Social Sciences\n",
      "In Year  2007 , There are  141\n",
      "   Females  graduates in course  Mass Communication\n",
      "In Year  2007 , There are  575\n",
      "   Females  graduates in course  Accountancy\n",
      "In Year  2007 , There are  894\n",
      "   Females  graduates in course  Business & Administration\n",
      "In Year  2007 , There are  123\n",
      "   Females  graduates in course  Law\n",
      "In Year  2007 , There are   Physical & Mathematical Sciences\"   Females  graduates in course  \"Natural\n",
      "In Year  2007 , There are  83\n",
      "   Females  graduates in course  Medicine\n",
      "In Year  2007 , There are  15\n",
      "   Females  graduates in course  Dentistry\n",
      "In Year  2007 , There are  67\n",
      "   Females  graduates in course  Health Sciences\n",
      "In Year  2007 , There are  190\n",
      "   Females  graduates in course  Information Technology\n",
      "In Year  2007 , There are  208\n",
      "   Females  graduates in course  Architecture & Building\n",
      "In Year  2007 , There are  1337\n",
      "   Females  graduates in course  Engineering Sciences\n",
      "In Year  2007 , There are  0\n",
      "   Females  graduates in course  Services\n",
      "In Year  2008 , There are  53\n",
      "   Males  graduates in course  Education\n",
      "In Year  2008 , There are  31\n",
      "   Males  graduates in course  Applied Arts\n",
      "In Year  2008 , There are  478\n",
      "   Males  graduates in course  Humanities & Social Sciences\n",
      "In Year  2008 , There are  32\n",
      "   Males  graduates in course  Mass Communication\n",
      "In Year  2008 , There are  295\n"
     ]
    },
    {
     "name": "stdout",
     "output_type": "stream",
     "text": [
      "   Males  graduates in course  Accountancy\n",
      "In Year  2008 , There are  505\n",
      "   Males  graduates in course  Business & Administration\n",
      "In Year  2008 , There are  94\n",
      "   Males  graduates in course  Law\n",
      "In Year  2008 , There are   Physical & Mathematical Sciences\"   Males  graduates in course  \"Natural\n",
      "In Year  2008 , There are  131\n",
      "   Males  graduates in course  Medicine\n",
      "In Year  2008 , There are  18\n",
      "   Males  graduates in course  Dentistry\n",
      "In Year  2008 , There are  10\n",
      "   Males  graduates in course  Health Sciences\n",
      "In Year  2008 , There are  308\n",
      "   Males  graduates in course  Information Technology\n",
      "In Year  2008 , There are  148\n",
      "   Males  graduates in course  Architecture & Building\n",
      "In Year  2008 , There are  3150\n",
      "   Males  graduates in course  Engineering Sciences\n",
      "In Year  2008 , There are  14\n",
      "   Males  graduates in course  Services\n",
      "In Year  2008 , There are  172\n",
      "   Females  graduates in course  Education\n",
      "In Year  2008 , There are  50\n",
      "   Females  graduates in course  Applied Arts\n",
      "In Year  2008 , There are  1203\n",
      "   Females  graduates in course  Humanities & Social Sciences\n",
      "In Year  2008 , There are  132\n",
      "   Females  graduates in course  Mass Communication\n",
      "In Year  2008 , There are  536\n",
      "   Females  graduates in course  Accountancy\n",
      "In Year  2008 , There are  960\n",
      "   Females  graduates in course  Business & Administration\n",
      "In Year  2008 , There are  115\n",
      "   Females  graduates in course  Law\n",
      "In Year  2008 , There are   Physical & Mathematical Sciences\"   Females  graduates in course  \"Natural\n",
      "In Year  2008 , There are  96\n",
      "   Females  graduates in course  Medicine\n",
      "In Year  2008 , There are  17\n",
      "   Females  graduates in course  Dentistry\n",
      "In Year  2008 , There are  77\n",
      "   Females  graduates in course  Health Sciences\n",
      "In Year  2008 , There are  210\n",
      "   Females  graduates in course  Information Technology\n",
      "In Year  2008 , There are  243\n",
      "   Females  graduates in course  Architecture & Building\n",
      "In Year  2008 , There are  1386\n",
      "   Females  graduates in course  Engineering Sciences\n",
      "In Year  2008 , There are  43\n",
      "   Females  graduates in course  Services\n",
      "In Year  2009 , There are  67\n",
      "   Males  graduates in course  Education\n",
      "In Year  2009 , There are  47\n",
      "   Males  graduates in course  Applied Arts\n",
      "In Year  2009 , There are  547\n",
      "   Males  graduates in course  Humanities & Social Sciences\n",
      "In Year  2009 , There are  36\n",
      "   Males  graduates in course  Mass Communication\n",
      "In Year  2009 , There are  346\n",
      "   Males  graduates in course  Accountancy\n",
      "In Year  2009 , There are  630\n",
      "   Males  graduates in course  Business & Administration\n",
      "In Year  2009 , There are  92\n",
      "   Males  graduates in course  Law\n",
      "In Year  2009 , There are   Physical & Mathematical Sciences\"   Males  graduates in course  \"Natural\n",
      "In Year  2009 , There are  122\n",
      "   Males  graduates in course  Medicine\n",
      "In Year  2009 , There are  12\n",
      "   Males  graduates in course  Dentistry\n",
      "In Year  2009 , There are  22\n",
      "   Males  graduates in course  Health Sciences\n",
      "In Year  2009 , There are  370\n",
      "   Males  graduates in course  Information Technology\n",
      "In Year  2009 , There are  135\n",
      "   Males  graduates in course  Architecture & Building\n",
      "In Year  2009 , There are  2991\n",
      "   Males  graduates in course  Engineering Sciences\n",
      "In Year  2009 , There are  13\n",
      "   Males  graduates in course  Services\n",
      "In Year  2009 , There are  281\n",
      "   Females  graduates in course  Education\n",
      "In Year  2009 , There are  88\n",
      "   Females  graduates in course  Applied Arts\n",
      "In Year  2009 , There are  1423\n",
      "   Females  graduates in course  Humanities & Social Sciences\n",
      "In Year  2009 , There are  128\n",
      "   Females  graduates in course  Mass Communication\n",
      "In Year  2009 , There are  596\n",
      "   Females  graduates in course  Accountancy\n",
      "In Year  2009 , There are  857\n",
      "   Females  graduates in course  Business & Administration\n",
      "In Year  2009 , There are  118\n",
      "   Females  graduates in course  Law\n",
      "In Year  2009 , There are   Physical & Mathematical Sciences\"   Females  graduates in course  \"Natural\n",
      "In Year  2009 , There are  97\n",
      "   Females  graduates in course  Medicine\n",
      "In Year  2009 , There are  19\n",
      "   Females  graduates in course  Dentistry\n",
      "In Year  2009 , There are  107\n",
      "   Females  graduates in course  Health Sciences\n",
      "In Year  2009 , There are  162\n",
      "   Females  graduates in course  Information Technology\n",
      "In Year  2009 , There are  179\n",
      "   Females  graduates in course  Architecture & Building\n",
      "In Year  2009 , There are  1217\n",
      "   Females  graduates in course  Engineering Sciences\n",
      "In Year  2009 , There are  36\n",
      "   Females  graduates in course  Services\n",
      "In Year  2010 , There are  67\n",
      "   Males  graduates in course  Education\n",
      "In Year  2010 , There are  84\n",
      "   Males  graduates in course  Applied Arts\n",
      "In Year  2010 , There are  703\n",
      "   Males  graduates in course  Humanities & Social Sciences\n",
      "In Year  2010 , There are  30\n",
      "   Males  graduates in course  Mass Communication\n",
      "In Year  2010 , There are  380\n",
      "   Males  graduates in course  Accountancy\n",
      "In Year  2010 , There are  674\n",
      "   Males  graduates in course  Business & Administration\n",
      "In Year  2010 , There are  139\n",
      "   Males  graduates in course  Law\n",
      "In Year  2010 , There are   Physical & Mathematical Sciences\"   Males  graduates in course  \"Natural\n",
      "In Year  2010 , There are  134\n",
      "   Males  graduates in course  Medicine\n",
      "In Year  2010 , There are  16\n",
      "   Males  graduates in course  Dentistry\n",
      "In Year  2010 , There are  39\n",
      "   Males  graduates in course  Health Sciences\n",
      "In Year  2010 , There are  419\n",
      "   Males  graduates in course  Information Technology\n",
      "In Year  2010 , There are  97\n",
      "   Males  graduates in course  Architecture & Building\n",
      "In Year  2010 , There are  3117\n",
      "   Males  graduates in course  Engineering Sciences\n",
      "In Year  2010 , There are  29\n",
      "   Males  graduates in course  Services\n",
      "In Year  2010 , There are  262\n",
      "   Females  graduates in course  Education\n",
      "In Year  2010 , There are  121\n",
      "   Females  graduates in course  Applied Arts\n",
      "In Year  2010 , There are  1474\n",
      "   Females  graduates in course  Humanities & Social Sciences\n",
      "In Year  2010 , There are  147\n",
      "   Females  graduates in course  Mass Communication\n",
      "In Year  2010 , There are  554\n",
      "   Females  graduates in course  Accountancy\n",
      "In Year  2010 , There are  859\n",
      "   Females  graduates in course  Business & Administration\n",
      "In Year  2010 , There are  90\n",
      "   Females  graduates in course  Law\n",
      "In Year  2010 , There are   Physical & Mathematical Sciences\"   Females  graduates in course  \"Natural\n",
      "In Year  2010 , There are  94\n",
      "   Females  graduates in course  Medicine\n",
      "In Year  2010 , There are  25\n",
      "   Females  graduates in course  Dentistry\n",
      "In Year  2010 , There are  196\n",
      "   Females  graduates in course  Health Sciences\n",
      "In Year  2010 , There are  154\n",
      "   Females  graduates in course  Information Technology\n",
      "In Year  2010 , There are  178\n",
      "   Females  graduates in course  Architecture & Building\n",
      "In Year  2010 , There are  1020\n",
      "   Females  graduates in course  Engineering Sciences\n",
      "In Year  2010 , There are  35\n",
      "   Females  graduates in course  Services\n",
      "In Year  2011 , There are  103\n",
      "   Males  graduates in course  Education\n",
      "In Year  2011 , There are  84\n",
      "   Males  graduates in course  Applied Arts\n",
      "In Year  2011 , There are  708\n",
      "   Males  graduates in course  Humanities & Social Sciences\n",
      "In Year  2011 , There are  41\n",
      "   Males  graduates in course  Mass Communication\n",
      "In Year  2011 , There are  332\n",
      "   Males  graduates in course  Accountancy\n",
      "In Year  2011 , There are  633\n",
      "   Males  graduates in course  Business & Administration\n",
      "In Year  2011 , There are  121\n",
      "   Males  graduates in course  Law\n",
      "In Year  2011 , There are   Physical & Mathematical Sciences\"   Males  graduates in course  \"Natural\n",
      "In Year  2011 , There are  136\n",
      "   Males  graduates in course  Medicine\n",
      "In Year  2011 , There are  16\n",
      "   Males  graduates in course  Dentistry\n",
      "In Year  2011 , There are  42\n",
      "   Males  graduates in course  Health Sciences\n",
      "In Year  2011 , There are  388\n",
      "   Males  graduates in course  Information Technology\n",
      "In Year  2011 , There are  121\n",
      "   Males  graduates in course  Architecture & Building\n",
      "In Year  2011 , There are  3060\n",
      "   Males  graduates in course  Engineering Sciences\n",
      "In Year  2011 , There are  24\n",
      "   Males  graduates in course  Services\n",
      "In Year  2011 , There are  303\n",
      "   Females  graduates in course  Education\n",
      "In Year  2011 , There are  132\n",
      "   Females  graduates in course  Applied Arts\n",
      "In Year  2011 , There are  1772\n",
      "   Females  graduates in course  Humanities & Social Sciences\n",
      "In Year  2011 , There are  133\n",
      "   Females  graduates in course  Mass Communication\n",
      "In Year  2011 , There are  507\n",
      "   Females  graduates in course  Accountancy\n",
      "In Year  2011 , There are  944\n",
      "   Females  graduates in course  Business & Administration\n",
      "In Year  2011 , There are  208\n",
      "   Females  graduates in course  Law\n",
      "In Year  2011 , There are   Physical & Mathematical Sciences\"   Females  graduates in course  \"Natural\n",
      "In Year  2011 , There are  119\n",
      "   Females  graduates in course  Medicine\n",
      "In Year  2011 , There are  26\n",
      "   Females  graduates in course  Dentistry\n",
      "In Year  2011 , There are  213\n",
      "   Females  graduates in course  Health Sciences\n",
      "In Year  2011 , There are  195\n",
      "   Females  graduates in course  Information Technology\n",
      "In Year  2011 , There are  247\n",
      "   Females  graduates in course  Architecture & Building\n",
      "In Year  2011 , There are  1215\n",
      "   Females  graduates in course  Engineering Sciences\n",
      "In Year  2011 , There are  50\n",
      "   Females  graduates in course  Services\n",
      "In Year  2012 , There are  116\n",
      "   Males  graduates in course  Education\n",
      "In Year  2012 , There are  102\n",
      "   Males  graduates in course  Applied Arts\n",
      "In Year  2012 , There are  737\n",
      "   Males  graduates in course  Humanities & Social Sciences\n",
      "In Year  2012 , There are  37\n",
      "   Males  graduates in course  Mass Communication\n",
      "In Year  2012 , There are  447\n",
      "   Males  graduates in course  Accountancy\n",
      "In Year  2012 , There are  572\n",
      "   Males  graduates in course  Business & Administration\n",
      "In Year  2012 , There are  140\n",
      "   Males  graduates in course  Law\n",
      "In Year  2012 , There are   Physical & Mathematical Sciences\"   Males  graduates in course  \"Natural\n",
      "In Year  2012 , There are  129\n",
      "   Males  graduates in course  Medicine\n",
      "In Year  2012 , There are  21\n",
      "   Males  graduates in course  Dentistry\n",
      "In Year  2012 , There are  61\n",
      "   Males  graduates in course  Health Sciences\n",
      "In Year  2012 , There are  484\n",
      "   Males  graduates in course  Information Technology\n",
      "In Year  2012 , There are  155\n",
      "   Males  graduates in course  Architecture & Building\n",
      "In Year  2012 , There are  2870\n",
      "   Males  graduates in course  Engineering Sciences\n",
      "In Year  2012 , There are  28\n",
      "   Males  graduates in course  Services\n",
      "In Year  2012 , There are  526\n",
      "   Females  graduates in course  Education\n",
      "In Year  2012 , There are  139\n",
      "   Females  graduates in course  Applied Arts\n",
      "In Year  2012 , There are  1494\n",
      "   Females  graduates in course  Humanities & Social Sciences\n",
      "In Year  2012 , There are  133\n",
      "   Females  graduates in course  Mass Communication\n",
      "In Year  2012 , There are  589\n",
      "   Females  graduates in course  Accountancy\n",
      "In Year  2012 , There are  825\n",
      "   Females  graduates in course  Business & Administration\n",
      "In Year  2012 , There are  207\n",
      "   Females  graduates in course  Law\n",
      "In Year  2012 , There are   Physical & Mathematical Sciences\"   Females  graduates in course  \"Natural\n",
      "In Year  2012 , There are  123\n",
      "   Females  graduates in course  Medicine\n",
      "In Year  2012 , There are  21\n",
      "   Females  graduates in course  Dentistry\n",
      "In Year  2012 , There are  218\n",
      "   Females  graduates in course  Health Sciences\n",
      "In Year  2012 , There are  280\n",
      "   Females  graduates in course  Information Technology\n",
      "In Year  2012 , There are  241\n",
      "   Females  graduates in course  Architecture & Building\n",
      "In Year  2012 , There are  1210\n",
      "   Females  graduates in course  Engineering Sciences\n",
      "In Year  2012 , There are  34\n",
      "   Females  graduates in course  Services\n",
      "In Year  2013 , There are  167\n",
      "   Males  graduates in course  Education\n",
      "In Year  2013 , There are  172\n",
      "   Males  graduates in course  Applied Arts\n",
      "In Year  2013 , There are  818\n",
      "   Males  graduates in course  Humanities & Social Sciences\n",
      "In Year  2013 , There are  62\n",
      "   Males  graduates in course  Mass Communication\n",
      "In Year  2013 , There are  399\n",
      "   Males  graduates in course  Accountancy\n",
      "In Year  2013 , There are  693\n",
      "   Males  graduates in course  Business & Administration\n",
      "In Year  2013 , There are  189\n",
      "   Males  graduates in course  Law\n",
      "In Year  2013 , There are   Physical & Mathematical Sciences\"   Males  graduates in course  \"Natural\n",
      "In Year  2013 , There are  134\n",
      "   Males  graduates in course  Medicine\n",
      "In Year  2013 , There are  21\n",
      "   Males  graduates in course  Dentistry\n",
      "In Year  2013 , There are  95\n",
      "   Males  graduates in course  Health Sciences\n",
      "In Year  2013 , There are  542\n",
      "   Males  graduates in course  Information Technology\n",
      "In Year  2013 , There are  143\n",
      "   Males  graduates in course  Architecture & Building\n",
      "In Year  2013 , There are  3346\n",
      "   Males  graduates in course  Engineering Sciences\n",
      "In Year  2013 , There are  134\n",
      "   Males  graduates in course  Services\n",
      "In Year  2013 , There are  422\n",
      "   Females  graduates in course  Education\n",
      "In Year  2013 , There are  164\n",
      "   Females  graduates in course  Applied Arts\n",
      "In Year  2013 , There are  1766\n",
      "   Females  graduates in course  Humanities & Social Sciences\n",
      "In Year  2013 , There are  100\n",
      "   Females  graduates in course  Mass Communication\n",
      "In Year  2013 , There are  688\n",
      "   Females  graduates in course  Accountancy\n",
      "In Year  2013 , There are  897\n",
      "   Females  graduates in course  Business & Administration\n",
      "In Year  2013 , There are  179\n",
      "   Females  graduates in course  Law\n",
      "In Year  2013 , There are   Physical & Mathematical Sciences\"   Females  graduates in course  \"Natural\n",
      "In Year  2013 , There are  124\n",
      "   Females  graduates in course  Medicine\n",
      "In Year  2013 , There are  27\n",
      "   Females  graduates in course  Dentistry\n",
      "In Year  2013 , There are  296\n",
      "   Females  graduates in course  Health Sciences\n",
      "In Year  2013 , There are  250\n",
      "   Females  graduates in course  Information Technology\n",
      "In Year  2013 , There are  258\n",
      "   Females  graduates in course  Architecture & Building\n",
      "In Year  2013 , There are  1344\n",
      "   Females  graduates in course  Engineering Sciences\n",
      "In Year  2013 , There are  398\n",
      "   Females  graduates in course  Services\n",
      "In Year  2014 , There are  124\n",
      "   Males  graduates in course  Education\n",
      "In Year  2014 , There are  165\n",
      "   Males  graduates in course  Applied Arts\n",
      "In Year  2014 , There are  803\n",
      "   Males  graduates in course  Humanities & Social Sciences\n",
      "In Year  2014 , There are  44\n",
      "   Males  graduates in course  Mass Communication\n",
      "In Year  2014 , There are  473\n",
      "   Males  graduates in course  Accountancy\n",
      "In Year  2014 , There are  631\n",
      "   Males  graduates in course  Business & Administration\n",
      "In Year  2014 , There are  180\n",
      "   Males  graduates in course  Law\n",
      "In Year  2014 , There are   Physical & Mathematical Sciences\"   Males  graduates in course  \"Natural\n",
      "In Year  2014 , There are  134\n",
      "   Males  graduates in course  Medicine\n",
      "In Year  2014 , There are  15\n",
      "   Males  graduates in course  Dentistry\n",
      "In Year  2014 , There are  124\n",
      "   Males  graduates in course  Health Sciences\n",
      "In Year  2014 , There are  708\n",
      "   Males  graduates in course  Information Technology\n",
      "In Year  2014 , There are  146\n",
      "   Males  graduates in course  Architecture & Building\n",
      "In Year  2014 , There are  3288\n",
      "   Males  graduates in course  Engineering Sciences\n",
      "In Year  2014 , There are  135\n",
      "   Males  graduates in course  Services\n",
      "In Year  2014 , There are  401\n",
      "   Females  graduates in course  Education\n",
      "In Year  2014 , There are  229\n",
      "   Females  graduates in course  Applied Arts\n",
      "In Year  2014 , There are  1619\n",
      "   Females  graduates in course  Humanities & Social Sciences\n",
      "In Year  2014 , There are  114\n",
      "   Females  graduates in course  Mass Communication\n",
      "In Year  2014 , There are  649\n",
      "   Females  graduates in course  Accountancy\n",
      "In Year  2014 , There are  846\n",
      "   Females  graduates in course  Business & Administration\n",
      "In Year  2014 , There are  176\n",
      "   Females  graduates in course  Law\n",
      "In Year  2014 , There are   Physical & Mathematical Sciences\"   Females  graduates in course  \"Natural\n",
      "In Year  2014 , There are  127\n",
      "   Females  graduates in course  Medicine\n",
      "In Year  2014 , There are  30\n",
      "   Females  graduates in course  Dentistry\n",
      "In Year  2014 , There are  309\n",
      "   Females  graduates in course  Health Sciences\n",
      "In Year  2014 , There are  289\n",
      "   Females  graduates in course  Information Technology\n",
      "In Year  2014 , There are  258\n",
      "   Females  graduates in course  Architecture & Building\n",
      "In Year  2014 , There are  1251\n",
      "   Females  graduates in course  Engineering Sciences\n",
      "In Year  2014 , There are  219   Females  graduates in course  Services\n"
     ]
    }
   ],
   "source": [
    "gcfile = open(\"graduate course type in Singapore.txt\", \"r\")\n",
    "\n",
    "for aline in gcfile:\n",
    "    values = aline.split(\",\")\n",
    "    print('In Year ', values[0], \", There are \",values[3], \" \", values[1], \" graduates in course \", values[2] )\n",
    "\n",
    "gcfile.close()"
   ]
  },
  {
   "cell_type": "markdown",
   "metadata": {},
   "source": [
    "Instead of reading the whole file content, we can read one line from the file.\n",
    "Below table summarizes methods we can use.\n",
    "When it reaches end of file, readline() and readlines() will return empty string."
   ]
  },
  {
   "attachments": {
    "image.png": {
     "image/png": "[encoded data removed]"
    }
   },
   "cell_type": "markdown",
   "metadata": {},
   "source": [
    "![image.png](attachment:image.png)"
   ]
  },
  {
   "cell_type": "code",
   "execution_count": 15,
   "metadata": {
    "collapsed": true
   },
   "outputs": [
    {
     "name": "stdout",
     "output_type": "stream",
     "text": [
      "In Year  1993 , There are  na\n",
      "   Males  graduates in course  Education\n",
      "In Year  1993 , There are  na\n",
      "   Males  graduates in course  Applied Arts\n",
      "In Year  1993 , There are  481\n",
      "   Males  graduates in course  Humanities & Social Sciences\n",
      "In Year  1993 , There are  na\n",
      "   Males  graduates in course  Mass Communication\n",
      "In Year  1993 , There are  295\n",
      "   Males  graduates in course  Accountancy\n",
      "In Year  1993 , There are  282\n",
      "   Males  graduates in course  Business & Administration\n",
      "In Year  1993 , There are  92\n",
      "   Males  graduates in course  Law\n",
      "In Year  1993 , There are   Physical & Mathematical Sciences\"   Males  graduates in course  \"Natural\n",
      "In Year  1993 , There are  95\n",
      "   Males  graduates in course  Medicine\n",
      "In Year  1993 , There are  14\n",
      "   Males  graduates in course  Dentistry\n",
      "In Year  1993 , There are  10\n",
      "   Males  graduates in course  Health Sciences\n",
      "In Year  1993 , There are  264\n",
      "   Males  graduates in course  Information Technology\n",
      "In Year  1993 , There are  132\n",
      "   Males  graduates in course  Architecture & Building\n",
      "In Year  1993 , There are  1496\n",
      "   Males  graduates in course  Engineering Sciences\n",
      "In Year  1993 , There are  na\n",
      "   Males  graduates in course  Services\n",
      "In Year  1993 , There are  na\n",
      "   Females  graduates in course  Education\n",
      "In Year  1993 , There are  na\n",
      "   Females  graduates in course  Applied Arts\n",
      "In Year  1993 , There are  1173\n",
      "   Females  graduates in course  Humanities & Social Sciences\n",
      "In Year  1993 , There are  na\n",
      "   Females  graduates in course  Mass Communication\n",
      "In Year  1993 , There are  396\n",
      "   Females  graduates in course  Accountancy\n",
      "In Year  1993 , There are  708\n",
      "   Females  graduates in course  Business & Administration\n",
      "In Year  1993 , There are  93\n",
      "   Females  graduates in course  Law\n",
      "In Year  1993 , There are   Physical & Mathematical Sciences\"   Females  graduates in course  \"Natural\n",
      "In Year  1993 , There are  61\n",
      "   Females  graduates in course  Medicine\n",
      "In Year  1993 , There are  11\n",
      "   Females  graduates in course  Dentistry\n",
      "In Year  1993 , There are  40\n",
      "   Females  graduates in course  Health Sciences\n",
      "In Year  1993 , There are  215\n",
      "   Females  graduates in course  Information Technology\n",
      "In Year  1993 , There are  144\n",
      "   Females  graduates in course  Architecture & Building\n",
      "In Year  1993 , There are  254\n",
      "   Females  graduates in course  Engineering Sciences\n",
      "In Year  1993 , There are  na\n",
      "   Females  graduates in course  Services\n",
      "In Year  1994 , There are  na\n",
      "   Males  graduates in course  Education\n",
      "In Year  1994 , There are  na\n",
      "   Males  graduates in course  Applied Arts\n",
      "In Year  1994 , There are  512\n",
      "   Males  graduates in course  Humanities & Social Sciences\n",
      "In Year  1994 , There are  na\n",
      "   Males  graduates in course  Mass Communication\n",
      "In Year  1994 , There are  271\n",
      "   Males  graduates in course  Accountancy\n",
      "In Year  1994 , There are  413\n",
      "   Males  graduates in course  Business & Administration\n",
      "In Year  1994 , There are  87\n",
      "   Males  graduates in course  Law\n",
      "In Year  1994 , There are   Physical & Mathematical Sciences\"   Males  graduates in course  \"Natural\n",
      "In Year  1994 , There are  99\n",
      "   Males  graduates in course  Medicine\n",
      "In Year  1994 , There are  23\n",
      "   Males  graduates in course  Dentistry\n",
      "In Year  1994 , There are  14\n",
      "   Males  graduates in course  Health Sciences\n",
      "In Year  1994 , There are  294\n",
      "   Males  graduates in course  Information Technology\n",
      "In Year  1994 , There are  136\n",
      "   Males  graduates in course  Architecture & Building\n",
      "In Year  1994 , There are  1666\n",
      "   Males  graduates in course  Engineering Sciences\n",
      "In Year  1994 , There are  na\n",
      "   Males  graduates in course  Services\n",
      "In Year  1994 , There are  na\n",
      "   Females  graduates in course  Education\n",
      "In Year  1994 , There are  na\n",
      "   Females  graduates in course  Applied Arts\n",
      "In Year  1994 , There are  1133\n",
      "   Females  graduates in course  Humanities & Social Sciences\n",
      "In Year  1994 , There are  na\n",
      "   Females  graduates in course  Mass Communication\n",
      "In Year  1994 , There are  378\n",
      "   Females  graduates in course  Accountancy\n",
      "In Year  1994 , There are  733\n",
      "   Females  graduates in course  Business & Administration\n",
      "In Year  1994 , There are  99\n",
      "   Females  graduates in course  Law\n",
      "In Year  1994 , There are   Physical & Mathematical Sciences\"   Females  graduates in course  \"Natural\n",
      "In Year  1994 , There are  66\n",
      "   Females  graduates in course  Medicine\n",
      "In Year  1994 , There are  6\n",
      "   Females  graduates in course  Dentistry\n",
      "In Year  1994 , There are  39\n",
      "   Females  graduates in course  Health Sciences\n",
      "In Year  1994 , There are  196\n",
      "   Females  graduates in course  Information Technology\n",
      "In Year  1994 , There are  182\n",
      "   Females  graduates in course  Architecture & Building\n",
      "In Year  1994 , There are  227\n",
      "   Females  graduates in course  Engineering Sciences\n",
      "In Year  1994 , There are  na\n",
      "   Females  graduates in course  Services\n",
      "In Year  1995 , There are  12\n",
      "   Males  graduates in course  Education\n",
      "In Year  1995 , There are  na\n",
      "   Males  graduates in course  Applied Arts\n",
      "In Year  1995 , There are  497\n",
      "   Males  graduates in course  Humanities & Social Sciences\n",
      "In Year  1995 , There are  na\n",
      "   Males  graduates in course  Mass Communication\n",
      "In Year  1995 , There are  289\n",
      "   Males  graduates in course  Accountancy\n",
      "In Year  1995 , There are  365\n",
      "   Males  graduates in course  Business & Administration\n",
      "In Year  1995 , There are  94\n",
      "   Males  graduates in course  Law\n",
      "In Year  1995 , There are   Physical & Mathematical Sciences\"   Males  graduates in course  \"Natural\n",
      "In Year  1995 , There are  93\n",
      "   Males  graduates in course  Medicine\n",
      "In Year  1995 , There are  20\n",
      "   Males  graduates in course  Dentistry\n",
      "In Year  1995 , There are  12\n",
      "   Males  graduates in course  Health Sciences\n",
      "In Year  1995 , There are  306\n",
      "   Males  graduates in course  Information Technology\n",
      "In Year  1995 , There are  140\n",
      "   Males  graduates in course  Architecture & Building\n",
      "In Year  1995 , There are  1715\n",
      "   Males  graduates in course  Engineering Sciences\n",
      "In Year  1995 , There are  na\n",
      "   Males  graduates in course  Services\n",
      "In Year  1995 , There are  101\n",
      "   Females  graduates in course  Education\n",
      "In Year  1995 , There are  na\n",
      "   Females  graduates in course  Applied Arts\n",
      "In Year  1995 , There are  1240\n",
      "   Females  graduates in course  Humanities & Social Sciences\n",
      "In Year  1995 , There are  na\n",
      "   Females  graduates in course  Mass Communication\n",
      "In Year  1995 , There are  395\n",
      "   Females  graduates in course  Accountancy\n",
      "In Year  1995 , There are  788\n",
      "   Females  graduates in course  Business & Administration\n",
      "In Year  1995 , There are  100\n",
      "   Females  graduates in course  Law\n",
      "In Year  1995 , There are   Physical & Mathematical Sciences\"   Females  graduates in course  \"Natural\n",
      "In Year  1995 , There are  48\n",
      "   Females  graduates in course  Medicine\n",
      "In Year  1995 , There are  8\n",
      "   Females  graduates in course  Dentistry\n",
      "In Year  1995 , There are  46\n",
      "   Females  graduates in course  Health Sciences\n",
      "In Year  1995 , There are  193\n",
      "   Females  graduates in course  Information Technology\n",
      "In Year  1995 , There are  156\n",
      "   Females  graduates in course  Architecture & Building\n",
      "In Year  1995 , There are  276\n",
      "   Females  graduates in course  Engineering Sciences\n",
      "In Year  1995 , There are  na\n",
      "   Females  graduates in course  Services\n",
      "In Year  1996 , There are  46\n",
      "   Males  graduates in course  Education\n",
      "In Year  1996 , There are  na\n",
      "   Males  graduates in course  Applied Arts\n",
      "In Year  1996 , There are  497\n",
      "   Males  graduates in course  Humanities & Social Sciences\n",
      "In Year  1996 , There are  na\n",
      "   Males  graduates in course  Mass Communication\n",
      "In Year  1996 , There are  262\n",
      "   Males  graduates in course  Accountancy\n",
      "In Year  1996 , There are  358\n",
      "   Males  graduates in course  Business & Administration\n",
      "In Year  1996 , There are  75\n",
      "   Males  graduates in course  Law\n",
      "In Year  1996 , There are   Physical & Mathematical Sciences\"   Males  graduates in course  \"Natural\n",
      "In Year  1996 , There are  97\n",
      "   Males  graduates in course  Medicine\n",
      "In Year  1996 , There are  24\n",
      "   Males  graduates in course  Dentistry\n",
      "In Year  1996 , There are  9\n",
      "   Males  graduates in course  Health Sciences\n",
      "In Year  1996 , There are  362\n",
      "   Males  graduates in course  Information Technology\n",
      "In Year  1996 , There are  142\n",
      "   Males  graduates in course  Architecture & Building\n",
      "In Year  1996 , There are  1701\n",
      "   Males  graduates in course  Engineering Sciences\n",
      "In Year  1996 , There are  na\n",
      "   Males  graduates in course  Services\n",
      "In Year  1996 , There are  199\n",
      "   Females  graduates in course  Education\n",
      "In Year  1996 , There are  na\n",
      "   Females  graduates in course  Applied Arts\n",
      "In Year  1996 , There are  1364\n",
      "   Females  graduates in course  Humanities & Social Sciences\n",
      "In Year  1996 , There are  na\n",
      "   Females  graduates in course  Mass Communication\n",
      "In Year  1996 , There are  433\n",
      "   Females  graduates in course  Accountancy\n",
      "In Year  1996 , There are  848\n",
      "   Females  graduates in course  Business & Administration\n",
      "In Year  1996 , There are  106\n",
      "   Females  graduates in course  Law\n",
      "In Year  1996 , There are   Physical & Mathematical Sciences\"   Females  graduates in course  \"Natural\n",
      "In Year  1996 , There are  53\n",
      "   Females  graduates in course  Medicine\n",
      "In Year  1996 , There are  13\n",
      "   Females  graduates in course  Dentistry\n",
      "In Year  1996 , There are  59\n",
      "   Females  graduates in course  Health Sciences\n",
      "In Year  1996 , There are  194\n",
      "   Females  graduates in course  Information Technology\n",
      "In Year  1996 , There are  136\n",
      "   Females  graduates in course  Architecture & Building\n",
      "In Year  1996 , There are  250\n",
      "   Females  graduates in course  Engineering Sciences\n",
      "In Year  1996 , There are  na\n",
      "   Females  graduates in course  Services\n",
      "In Year  1997 , There are  45\n",
      "   Males  graduates in course  Education\n",
      "In Year  1997 , There are  na\n",
      "   Males  graduates in course  Applied Arts\n",
      "In Year  1997 , There are  554\n",
      "   Males  graduates in course  Humanities & Social Sciences\n",
      "In Year  1997 , There are  28\n",
      "   Males  graduates in course  Mass Communication\n",
      "In Year  1997 , There are  227\n",
      "   Males  graduates in course  Accountancy\n",
      "In Year  1997 , There are  448\n",
      "   Males  graduates in course  Business & Administration\n",
      "In Year  1997 , There are  90\n",
      "   Males  graduates in course  Law\n",
      "In Year  1997 , There are   Physical & Mathematical Sciences\"   Males  graduates in course  \"Natural\n",
      "In Year  1997 , There are  107\n",
      "   Males  graduates in course  Medicine\n",
      "In Year  1997 , There are  20\n",
      "   Males  graduates in course  Dentistry\n",
      "In Year  1997 , There are  9\n",
      "   Males  graduates in course  Health Sciences\n",
      "In Year  1997 , There are  370\n",
      "   Males  graduates in course  Information Technology\n",
      "In Year  1997 , There are  135\n",
      "   Males  graduates in course  Architecture & Building\n",
      "In Year  1997 , There are  1806\n",
      "   Males  graduates in course  Engineering Sciences\n",
      "In Year  1997 , There are  na\n",
      "   Males  graduates in course  Services\n",
      "In Year  1997 , There are  187\n",
      "   Females  graduates in course  Education\n",
      "In Year  1997 , There are  na\n",
      "   Females  graduates in course  Applied Arts\n",
      "In Year  1997 , There are  1367\n",
      "   Females  graduates in course  Humanities & Social Sciences\n",
      "In Year  1997 , There are  67\n",
      "   Females  graduates in course  Mass Communication\n",
      "In Year  1997 , There are  453\n",
      "   Females  graduates in course  Accountancy\n",
      "In Year  1997 , There are  808\n",
      "   Females  graduates in course  Business & Administration\n",
      "In Year  1997 , There are  97\n",
      "   Females  graduates in course  Law\n",
      "In Year  1997 , There are   Physical & Mathematical Sciences\"   Females  graduates in course  \"Natural\n",
      "In Year  1997 , There are  40\n",
      "   Females  graduates in course  Medicine\n",
      "In Year  1997 , There are  10\n",
      "   Females  graduates in course  Dentistry\n",
      "In Year  1997 , There are  60\n",
      "   Females  graduates in course  Health Sciences\n",
      "In Year  1997 , There are  218\n",
      "   Females  graduates in course  Information Technology\n",
      "In Year  1997 , There are  163\n",
      "   Females  graduates in course  Architecture & Building\n",
      "In Year  1997 , There are  333\n",
      "   Females  graduates in course  Engineering Sciences\n",
      "In Year  1997 , There are  na\n",
      "   Females  graduates in course  Services\n",
      "In Year  1998 , There are  56\n",
      "   Males  graduates in course  Education\n",
      "In Year  1998 , There are  na\n",
      "   Males  graduates in course  Applied Arts\n",
      "In Year  1998 , There are  547\n",
      "   Males  graduates in course  Humanities & Social Sciences\n",
      "In Year  1998 , There are  27\n",
      "   Males  graduates in course  Mass Communication\n",
      "In Year  1998 , There are  264\n",
      "   Males  graduates in course  Accountancy\n",
      "In Year  1998 , There are  461\n",
      "   Males  graduates in course  Business & Administration\n",
      "In Year  1998 , There are  70\n",
      "   Males  graduates in course  Law\n",
      "In Year  1998 , There are   Physical & Mathematical Sciences\"   Males  graduates in course  \"Natural\n",
      "In Year  1998 , There are  106\n",
      "   Males  graduates in course  Medicine\n",
      "In Year  1998 , There are  24\n",
      "   Males  graduates in course  Dentistry\n",
      "In Year  1998 , There are  8\n",
      "   Males  graduates in course  Health Sciences\n",
      "In Year  1998 , There are  377\n",
      "   Males  graduates in course  Information Technology\n",
      "In Year  1998 , There are  141\n",
      "   Males  graduates in course  Architecture & Building\n",
      "In Year  1998 , There are  1952\n",
      "   Males  graduates in course  Engineering Sciences\n",
      "In Year  1998 , There are  na\n",
      "   Males  graduates in course  Services\n",
      "In Year  1998 , There are  133\n",
      "   Females  graduates in course  Education\n",
      "In Year  1998 , There are  na\n",
      "   Females  graduates in course  Applied Arts\n",
      "In Year  1998 , There are  1547\n",
      "   Females  graduates in course  Humanities & Social Sciences\n",
      "In Year  1998 , There are  74\n",
      "   Females  graduates in course  Mass Communication\n",
      "In Year  1998 , There are  487\n",
      "   Females  graduates in course  Accountancy\n",
      "In Year  1998 , There are  869\n",
      "   Females  graduates in course  Business & Administration\n",
      "In Year  1998 , There are  103\n",
      "   Females  graduates in course  Law\n",
      "In Year  1998 , There are   Physical & Mathematical Sciences\"   Females  graduates in course  \"Natural\n",
      "In Year  1998 , There are  42\n",
      "   Females  graduates in course  Medicine\n",
      "In Year  1998 , There are  12\n",
      "   Females  graduates in course  Dentistry\n",
      "In Year  1998 , There are  69\n",
      "   Females  graduates in course  Health Sciences\n",
      "In Year  1998 , There are  296\n",
      "   Females  graduates in course  Information Technology\n",
      "In Year  1998 , There are  153\n",
      "   Females  graduates in course  Architecture & Building\n",
      "In Year  1998 , There are  413\n",
      "   Females  graduates in course  Engineering Sciences\n",
      "In Year  1998 , There are  na\n",
      "   Females  graduates in course  Services\n",
      "In Year  1999 , There are  44\n",
      "   Males  graduates in course  Education\n",
      "In Year  1999 , There are  na\n",
      "   Males  graduates in course  Applied Arts\n",
      "In Year  1999 , There are  576\n",
      "   Males  graduates in course  Humanities & Social Sciences\n",
      "In Year  1999 , There are  19\n",
      "   Males  graduates in course  Mass Communication\n",
      "In Year  1999 , There are  297\n",
      "   Males  graduates in course  Accountancy\n",
      "In Year  1999 , There are  349\n",
      "   Males  graduates in course  Business & Administration\n",
      "In Year  1999 , There are  92\n",
      "   Males  graduates in course  Law\n",
      "In Year  1999 , There are   Physical & Mathematical Sciences\"   Males  graduates in course  \"Natural\n",
      "In Year  1999 , There are  104\n",
      "   Males  graduates in course  Medicine\n",
      "In Year  1999 , There are  18\n",
      "   Males  graduates in course  Dentistry\n",
      "In Year  1999 , There are  14\n",
      "   Males  graduates in course  Health Sciences\n",
      "In Year  1999 , There are  355\n",
      "   Males  graduates in course  Information Technology\n",
      "In Year  1999 , There are  104\n",
      "   Males  graduates in course  Architecture & Building\n",
      "In Year  1999 , There are  2200\n",
      "   Males  graduates in course  Engineering Sciences\n",
      "In Year  1999 , There are  na\n",
      "   Males  graduates in course  Services\n",
      "In Year  1999 , There are  158\n",
      "   Females  graduates in course  Education\n",
      "In Year  1999 , There are  na\n",
      "   Females  graduates in course  Applied Arts\n",
      "In Year  1999 , There are  1492\n",
      "   Females  graduates in course  Humanities & Social Sciences\n",
      "In Year  1999 , There are  93\n",
      "   Females  graduates in course  Mass Communication\n",
      "In Year  1999 , There are  482\n",
      "   Females  graduates in course  Accountancy\n",
      "In Year  1999 , There are  905\n",
      "   Females  graduates in course  Business & Administration\n",
      "In Year  1999 , There are  77\n",
      "   Females  graduates in course  Law\n",
      "In Year  1999 , There are   Physical & Mathematical Sciences\"   Females  graduates in course  \"Natural\n",
      "In Year  1999 , There are  41\n",
      "   Females  graduates in course  Medicine\n",
      "In Year  1999 , There are  14\n",
      "   Females  graduates in course  Dentistry\n",
      "In Year  1999 , There are  77\n",
      "   Females  graduates in course  Health Sciences\n",
      "In Year  1999 , There are  218\n",
      "   Females  graduates in course  Information Technology\n",
      "In Year  1999 , There are  167\n",
      "   Females  graduates in course  Architecture & Building\n",
      "In Year  1999 , There are  492\n",
      "   Females  graduates in course  Engineering Sciences\n",
      "In Year  1999 , There are  na\n",
      "   Females  graduates in course  Services\n",
      "In Year  2000 , There are  35\n",
      "   Males  graduates in course  Education\n",
      "In Year  2000 , There are  na\n",
      "   Males  graduates in course  Applied Arts\n",
      "In Year  2000 , There are  574\n",
      "   Males  graduates in course  Humanities & Social Sciences\n",
      "In Year  2000 , There are  34\n",
      "   Males  graduates in course  Mass Communication\n",
      "In Year  2000 , There are  250\n",
      "   Males  graduates in course  Accountancy\n",
      "In Year  2000 , There are  328\n",
      "   Males  graduates in course  Business & Administration\n",
      "In Year  2000 , There are  74\n",
      "   Males  graduates in course  Law\n",
      "In Year  2000 , There are   Physical & Mathematical Sciences\"   Males  graduates in course  \"Natural\n",
      "In Year  2000 , There are  119\n",
      "   Males  graduates in course  Medicine\n",
      "In Year  2000 , There are  17\n",
      "   Males  graduates in course  Dentistry\n",
      "In Year  2000 , There are  11\n",
      "   Males  graduates in course  Health Sciences\n",
      "In Year  2000 , There are  348\n",
      "   Males  graduates in course  Information Technology\n",
      "In Year  2000 , There are  101\n",
      "   Males  graduates in course  Architecture & Building\n",
      "In Year  2000 , There are  2267\n",
      "   Males  graduates in course  Engineering Sciences\n",
      "In Year  2000 , There are  na\n",
      "   Males  graduates in course  Services\n",
      "In Year  2000 , There are  115\n",
      "   Females  graduates in course  Education\n",
      "In Year  2000 , There are  na\n",
      "   Females  graduates in course  Applied Arts\n",
      "In Year  2000 , There are  1452\n",
      "   Females  graduates in course  Humanities & Social Sciences\n",
      "In Year  2000 , There are  80\n",
      "   Females  graduates in course  Mass Communication\n",
      "In Year  2000 , There are  495\n",
      "   Females  graduates in course  Accountancy\n",
      "In Year  2000 , There are  851\n",
      "   Females  graduates in course  Business & Administration\n",
      "In Year  2000 , There are  79\n",
      "   Females  graduates in course  Law\n",
      "In Year  2000 , There are   Physical & Mathematical Sciences\"   Females  graduates in course  \"Natural\n",
      "In Year  2000 , There are  37\n",
      "   Females  graduates in course  Medicine\n",
      "In Year  2000 , There are  15\n",
      "   Females  graduates in course  Dentistry\n",
      "In Year  2000 , There are  30\n",
      "   Females  graduates in course  Health Sciences\n",
      "In Year  2000 , There are  187\n",
      "   Females  graduates in course  Information Technology\n",
      "In Year  2000 , There are  192\n",
      "   Females  graduates in course  Architecture & Building\n",
      "In Year  2000 , There are  682\n",
      "   Females  graduates in course  Engineering Sciences\n",
      "In Year  2000 , There are  na\n",
      "   Females  graduates in course  Services\n",
      "In Year  2001 , There are  63\n",
      "   Males  graduates in course  Education\n",
      "In Year  2001 , There are  na\n",
      "   Males  graduates in course  Applied Arts\n",
      "In Year  2001 , There are  534\n",
      "   Males  graduates in course  Humanities & Social Sciences\n",
      "In Year  2001 , There are  39\n",
      "   Males  graduates in course  Mass Communication\n",
      "In Year  2001 , There are  257\n",
      "   Males  graduates in course  Accountancy\n",
      "In Year  2001 , There are  403\n",
      "   Males  graduates in course  Business & Administration\n",
      "In Year  2001 , There are  58\n",
      "   Males  graduates in course  Law\n",
      "In Year  2001 , There are   Physical & Mathematical Sciences\"   Males  graduates in course  \"Natural\n",
      "In Year  2001 , There are  97\n",
      "   Males  graduates in course  Medicine\n",
      "In Year  2001 , There are  19\n",
      "   Males  graduates in course  Dentistry\n",
      "In Year  2001 , There are  17\n",
      "   Males  graduates in course  Health Sciences\n",
      "In Year  2001 , There are  249\n",
      "   Males  graduates in course  Information Technology\n",
      "In Year  2001 , There are  124\n",
      "   Males  graduates in course  Architecture & Building\n",
      "In Year  2001 , There are  2517\n",
      "   Males  graduates in course  Engineering Sciences\n",
      "In Year  2001 , There are  na\n",
      "   Males  graduates in course  Services\n",
      "In Year  2001 , There are  147\n",
      "   Females  graduates in course  Education\n",
      "In Year  2001 , There are  na\n",
      "   Females  graduates in course  Applied Arts\n",
      "In Year  2001 , There are  1520\n",
      "   Females  graduates in course  Humanities & Social Sciences\n",
      "In Year  2001 , There are  77\n",
      "   Females  graduates in course  Mass Communication\n",
      "In Year  2001 , There are  484\n",
      "   Females  graduates in course  Accountancy\n",
      "In Year  2001 , There are  807\n",
      "   Females  graduates in course  Business & Administration\n",
      "In Year  2001 , There are  96\n",
      "   Females  graduates in course  Law\n",
      "In Year  2001 , There are   Physical & Mathematical Sciences\"   Females  graduates in course  \"Natural\n",
      "In Year  2001 , There are  42\n",
      "   Females  graduates in course  Medicine\n",
      "In Year  2001 , There are  16\n",
      "   Females  graduates in course  Dentistry\n",
      "In Year  2001 , There are  46\n",
      "   Females  graduates in course  Health Sciences\n",
      "In Year  2001 , There are  133\n",
      "   Females  graduates in course  Information Technology\n",
      "In Year  2001 , There are  199\n",
      "   Females  graduates in course  Architecture & Building\n",
      "In Year  2001 , There are  803\n",
      "   Females  graduates in course  Engineering Sciences\n",
      "In Year  2001 , There are  na\n",
      "   Females  graduates in course  Services\n",
      "In Year  2002 , There are  63\n",
      "   Males  graduates in course  Education\n",
      "In Year  2002 , There are  na\n",
      "   Males  graduates in course  Applied Arts\n",
      "In Year  2002 , There are  591\n",
      "   Males  graduates in course  Humanities & Social Sciences\n",
      "In Year  2002 , There are  30\n",
      "   Males  graduates in course  Mass Communication\n",
      "In Year  2002 , There are  226\n",
      "   Males  graduates in course  Accountancy\n",
      "In Year  2002 , There are  318\n",
      "   Males  graduates in course  Business & Administration\n",
      "In Year  2002 , There are  73\n",
      "   Males  graduates in course  Law\n",
      "In Year  2002 , There are   Physical & Mathematical Sciences\"   Males  graduates in course  \"Natural\n",
      "In Year  2002 , There are  122\n",
      "   Males  graduates in course  Medicine\n",
      "In Year  2002 , There are  23\n",
      "   Males  graduates in course  Dentistry\n",
      "In Year  2002 , There are  20\n",
      "   Males  graduates in course  Health Sciences\n",
      "In Year  2002 , There are  365\n",
      "   Males  graduates in course  Information Technology\n",
      "In Year  2002 , There are  134\n",
      "   Males  graduates in course  Architecture & Building\n",
      "In Year  2002 , There are  2617\n",
      "   Males  graduates in course  Engineering Sciences\n",
      "In Year  2002 , There are  na\n",
      "   Males  graduates in course  Services\n",
      "In Year  2002 , There are  163\n",
      "   Females  graduates in course  Education\n",
      "In Year  2002 , There are  na\n",
      "   Females  graduates in course  Applied Arts\n",
      "In Year  2002 , There are  1609\n",
      "   Females  graduates in course  Humanities & Social Sciences\n",
      "In Year  2002 , There are  91\n",
      "   Females  graduates in course  Mass Communication\n",
      "In Year  2002 , There are  541\n",
      "   Females  graduates in course  Accountancy\n",
      "In Year  2002 , There are  751\n",
      "   Females  graduates in course  Business & Administration\n",
      "In Year  2002 , There are  77\n",
      "   Females  graduates in course  Law\n",
      "In Year  2002 , There are   Physical & Mathematical Sciences\"   Females  graduates in course  \"Natural\n",
      "In Year  2002 , There are  60\n",
      "   Females  graduates in course  Medicine\n",
      "In Year  2002 , There are  11\n",
      "   Females  graduates in course  Dentistry\n",
      "In Year  2002 , There are  49\n",
      "   Females  graduates in course  Health Sciences\n",
      "In Year  2002 , There are  199\n",
      "   Females  graduates in course  Information Technology\n",
      "In Year  2002 , There are  224\n",
      "   Females  graduates in course  Architecture & Building\n",
      "In Year  2002 , There are  880\n",
      "   Females  graduates in course  Engineering Sciences\n",
      "In Year  2002 , There are  na\n",
      "   Females  graduates in course  Services\n",
      "In Year  2003 , There are  97\n",
      "   Males  graduates in course  Education\n",
      "In Year  2003 , There are  11\n",
      "   Males  graduates in course  Applied Arts\n",
      "In Year  2003 , There are  456\n",
      "   Males  graduates in course  Humanities & Social Sciences\n",
      "In Year  2003 , There are  33\n",
      "   Males  graduates in course  Mass Communication\n",
      "In Year  2003 , There are  222\n",
      "   Males  graduates in course  Accountancy\n",
      "In Year  2003 , There are  284\n",
      "   Males  graduates in course  Business & Administration\n",
      "In Year  2003 , There are  59\n",
      "   Males  graduates in course  Law\n",
      "In Year  2003 , There are   Physical & Mathematical Sciences\"   Males  graduates in course  \"Natural\n",
      "In Year  2003 , There are  128\n",
      "   Males  graduates in course  Medicine\n",
      "In Year  2003 , There are  21\n",
      "   Males  graduates in course  Dentistry\n",
      "In Year  2003 , There are  15\n",
      "   Males  graduates in course  Health Sciences\n",
      "In Year  2003 , There are  377\n",
      "   Males  graduates in course  Information Technology\n",
      "In Year  2003 , There are  175\n",
      "   Males  graduates in course  Architecture & Building\n",
      "In Year  2003 , There are  2948\n",
      "   Males  graduates in course  Engineering Sciences\n",
      "In Year  2003 , There are  na\n",
      "   Males  graduates in course  Services\n",
      "In Year  2003 , There are  264\n",
      "   Females  graduates in course  Education\n",
      "In Year  2003 , There are  10\n",
      "   Females  graduates in course  Applied Arts\n",
      "In Year  2003 , There are  1152\n",
      "   Females  graduates in course  Humanities & Social Sciences\n",
      "In Year  2003 , There are  82\n",
      "   Females  graduates in course  Mass Communication\n",
      "In Year  2003 , There are  524\n",
      "   Females  graduates in course  Accountancy\n",
      "In Year  2003 , There are  693\n",
      "   Females  graduates in course  Business & Administration\n",
      "In Year  2003 , There are  81\n",
      "   Females  graduates in course  Law\n",
      "In Year  2003 , There are   Physical & Mathematical Sciences\"   Females  graduates in course  \"Natural\n",
      "In Year  2003 , There are  66\n",
      "   Females  graduates in course  Medicine\n",
      "In Year  2003 , There are  11\n",
      "   Females  graduates in course  Dentistry\n",
      "In Year  2003 , There are  48\n",
      "   Females  graduates in course  Health Sciences\n",
      "In Year  2003 , There are  242\n",
      "   Females  graduates in course  Information Technology\n",
      "In Year  2003 , There are  235\n",
      "   Females  graduates in course  Architecture & Building\n",
      "In Year  2003 , There are  1016\n",
      "   Females  graduates in course  Engineering Sciences\n",
      "In Year  2003 , There are  na\n",
      "   Females  graduates in course  Services\n",
      "In Year  2004 , There are  76\n",
      "   Males  graduates in course  Education\n",
      "In Year  2004 , There are  11\n",
      "   Males  graduates in course  Applied Arts\n",
      "In Year  2004 , There are  383\n",
      "   Males  graduates in course  Humanities & Social Sciences\n",
      "In Year  2004 , There are  34\n",
      "   Males  graduates in course  Mass Communication\n",
      "In Year  2004 , There are  234\n",
      "   Males  graduates in course  Accountancy\n",
      "In Year  2004 , There are  325\n",
      "   Males  graduates in course  Business & Administration\n",
      "In Year  2004 , There are  56\n",
      "   Males  graduates in course  Law\n",
      "In Year  2004 , There are   Physical & Mathematical Sciences\"   Males  graduates in course  \"Natural\n",
      "In Year  2004 , There are  122\n",
      "   Males  graduates in course  Medicine\n",
      "In Year  2004 , There are  14\n",
      "   Males  graduates in course  Dentistry\n",
      "In Year  2004 , There are  11\n",
      "   Males  graduates in course  Health Sciences\n",
      "In Year  2004 , There are  412\n",
      "   Males  graduates in course  Information Technology\n",
      "In Year  2004 , There are  137\n",
      "   Males  graduates in course  Architecture & Building\n",
      "In Year  2004 , There are  3022\n",
      "   Males  graduates in course  Engineering Sciences\n",
      "In Year  2004 , There are  na\n",
      "   Males  graduates in course  Services\n",
      "In Year  2004 , There are  336\n",
      "   Females  graduates in course  Education\n",
      "In Year  2004 , There are  14\n",
      "   Females  graduates in course  Applied Arts\n",
      "In Year  2004 , There are  993\n",
      "   Females  graduates in course  Humanities & Social Sciences\n",
      "In Year  2004 , There are  109\n",
      "   Females  graduates in course  Mass Communication\n",
      "In Year  2004 , There are  387\n",
      "   Females  graduates in course  Accountancy\n",
      "In Year  2004 , There are  742\n",
      "   Females  graduates in course  Business & Administration\n",
      "In Year  2004 , There are  91\n",
      "   Females  graduates in course  Law\n",
      "In Year  2004 , There are   Physical & Mathematical Sciences\"   Females  graduates in course  \"Natural\n",
      "In Year  2004 , There are  77\n",
      "   Females  graduates in course  Medicine\n",
      "In Year  2004 , There are  18\n",
      "   Females  graduates in course  Dentistry\n",
      "In Year  2004 , There are  78\n",
      "   Females  graduates in course  Health Sciences\n",
      "In Year  2004 , There are  309\n",
      "   Females  graduates in course  Information Technology\n",
      "In Year  2004 , There are  185\n",
      "   Females  graduates in course  Architecture & Building\n",
      "In Year  2004 , There are  1179\n",
      "   Females  graduates in course  Engineering Sciences\n",
      "In Year  2004 , There are  na\n",
      "   Females  graduates in course  Services\n",
      "In Year  2005 , There are  86\n",
      "   Males  graduates in course  Education\n",
      "In Year  2005 , There are  11\n",
      "   Males  graduates in course  Applied Arts\n",
      "In Year  2005 , There are  351\n",
      "   Males  graduates in course  Humanities & Social Sciences\n",
      "In Year  2005 , There are  36\n",
      "   Males  graduates in course  Mass Communication\n",
      "In Year  2005 , There are  211\n",
      "   Males  graduates in course  Accountancy\n",
      "In Year  2005 , There are  322\n",
      "   Males  graduates in course  Business & Administration\n",
      "In Year  2005 , There are  62\n",
      "   Males  graduates in course  Law\n",
      "In Year  2005 , There are   Physical & Mathematical Sciences\"   Males  graduates in course  \"Natural\n",
      "In Year  2005 , There are  123\n",
      "   Males  graduates in course  Medicine\n",
      "In Year  2005 , There are  22\n",
      "   Males  graduates in course  Dentistry\n",
      "In Year  2005 , There are  16\n",
      "   Males  graduates in course  Health Sciences\n",
      "In Year  2005 , There are  363\n",
      "   Males  graduates in course  Information Technology\n",
      "In Year  2005 , There are  138\n",
      "   Males  graduates in course  Architecture & Building\n",
      "In Year  2005 , There are  2887\n",
      "   Males  graduates in course  Engineering Sciences\n",
      "In Year  2005 , There are  na\n",
      "   Males  graduates in course  Services\n",
      "In Year  2005 , There are  278\n",
      "   Females  graduates in course  Education\n",
      "In Year  2005 , There are  11\n",
      "   Females  graduates in course  Applied Arts\n",
      "In Year  2005 , There are  1027\n",
      "   Females  graduates in course  Humanities & Social Sciences\n",
      "In Year  2005 , There are  110\n",
      "   Females  graduates in course  Mass Communication\n",
      "In Year  2005 , There are  495\n",
      "   Females  graduates in course  Accountancy\n",
      "In Year  2005 , There are  799\n",
      "   Females  graduates in course  Business & Administration\n",
      "In Year  2005 , There are  125\n",
      "   Females  graduates in course  Law\n",
      "In Year  2005 , There are   Physical & Mathematical Sciences\"   Females  graduates in course  \"Natural\n",
      "In Year  2005 , There are  86\n",
      "   Females  graduates in course  Medicine\n",
      "In Year  2005 , There are  12\n",
      "   Females  graduates in course  Dentistry\n",
      "In Year  2005 , There are  69\n",
      "   Females  graduates in course  Health Sciences\n",
      "In Year  2005 , There are  199\n",
      "   Females  graduates in course  Information Technology\n",
      "In Year  2005 , There are  234\n",
      "   Females  graduates in course  Architecture & Building\n",
      "In Year  2005 , There are  1241\n",
      "   Females  graduates in course  Engineering Sciences\n",
      "In Year  2005 , There are  na\n",
      "   Females  graduates in course  Services\n",
      "In Year  2006 , There are  89\n",
      "   Males  graduates in course  Education\n",
      "In Year  2006 , There are  11\n",
      "   Males  graduates in course  Applied Arts\n",
      "In Year  2006 , There are  412\n",
      "   Males  graduates in course  Humanities & Social Sciences\n",
      "In Year  2006 , There are  33\n",
      "   Males  graduates in course  Mass Communication\n",
      "In Year  2006 , There are  176\n",
      "   Males  graduates in course  Accountancy\n",
      "In Year  2006 , There are  432\n",
      "   Males  graduates in course  Business & Administration\n",
      "In Year  2006 , There are  70\n",
      "   Males  graduates in course  Law\n",
      "In Year  2006 , There are   Physical & Mathematical Sciences\"   Males  graduates in course  \"Natural\n",
      "In Year  2006 , There are  135\n",
      "   Males  graduates in course  Medicine\n",
      "In Year  2006 , There are  18\n",
      "   Males  graduates in course  Dentistry\n",
      "In Year  2006 , There are  24\n",
      "   Males  graduates in course  Health Sciences\n",
      "In Year  2006 , There are  319\n",
      "   Males  graduates in course  Information Technology\n",
      "In Year  2006 , There are  166\n",
      "   Males  graduates in course  Architecture & Building\n",
      "In Year  2006 , There are  2934\n",
      "   Males  graduates in course  Engineering Sciences\n",
      "In Year  2006 , There are  na\n",
      "   Males  graduates in course  Services\n",
      "In Year  2006 , There are  302\n",
      "   Females  graduates in course  Education\n",
      "In Year  2006 , There are  13\n",
      "   Females  graduates in course  Applied Arts\n",
      "In Year  2006 , There are  1071\n",
      "   Females  graduates in course  Humanities & Social Sciences\n",
      "In Year  2006 , There are  108\n",
      "   Females  graduates in course  Mass Communication\n",
      "In Year  2006 , There are  468\n",
      "   Females  graduates in course  Accountancy\n",
      "In Year  2006 , There are  819\n",
      "   Females  graduates in course  Business & Administration\n",
      "In Year  2006 , There are  134\n"
     ]
    },
    {
     "name": "stdout",
     "output_type": "stream",
     "text": [
      "   Females  graduates in course  Law\n",
      "In Year  2006 , There are   Physical & Mathematical Sciences\"   Females  graduates in course  \"Natural\n",
      "In Year  2006 , There are  94\n",
      "   Females  graduates in course  Medicine\n",
      "In Year  2006 , There are  14\n",
      "   Females  graduates in course  Dentistry\n",
      "In Year  2006 , There are  57\n",
      "   Females  graduates in course  Health Sciences\n",
      "In Year  2006 , There are  130\n",
      "   Females  graduates in course  Information Technology\n",
      "In Year  2006 , There are  214\n",
      "   Females  graduates in course  Architecture & Building\n",
      "In Year  2006 , There are  1199\n",
      "   Females  graduates in course  Engineering Sciences\n",
      "In Year  2006 , There are  na\n",
      "   Females  graduates in course  Services\n",
      "In Year  2007 , There are  73\n",
      "   Males  graduates in course  Education\n",
      "In Year  2007 , There are  28\n",
      "   Males  graduates in course  Applied Arts\n",
      "In Year  2007 , There are  441\n",
      "   Males  graduates in course  Humanities & Social Sciences\n",
      "In Year  2007 , There are  28\n",
      "   Males  graduates in course  Mass Communication\n",
      "In Year  2007 , There are  260\n",
      "   Males  graduates in course  Accountancy\n",
      "In Year  2007 , There are  493\n",
      "   Males  graduates in course  Business & Administration\n",
      "In Year  2007 , There are  84\n",
      "   Males  graduates in course  Law\n",
      "In Year  2007 , There are   Physical & Mathematical Sciences\"   Males  graduates in course  \"Natural\n",
      "In Year  2007 , There are  144\n",
      "   Males  graduates in course  Medicine\n",
      "In Year  2007 , There are  21\n",
      "   Males  graduates in course  Dentistry\n",
      "In Year  2007 , There are  19\n",
      "   Males  graduates in course  Health Sciences\n",
      "In Year  2007 , There are  303\n",
      "   Males  graduates in course  Information Technology\n",
      "In Year  2007 , There are  131\n",
      "   Males  graduates in course  Architecture & Building\n",
      "In Year  2007 , There are  3371\n",
      "   Males  graduates in course  Engineering Sciences\n",
      "In Year  2007 , There are  0\n",
      "   Males  graduates in course  Services\n",
      "In Year  2007 , There are  189\n",
      "   Females  graduates in course  Education\n",
      "In Year  2007 , There are  41\n",
      "   Females  graduates in course  Applied Arts\n",
      "In Year  2007 , There are  980\n",
      "   Females  graduates in course  Humanities & Social Sciences\n",
      "In Year  2007 , There are  141\n",
      "   Females  graduates in course  Mass Communication\n",
      "In Year  2007 , There are  575\n",
      "   Females  graduates in course  Accountancy\n",
      "In Year  2007 , There are  894\n",
      "   Females  graduates in course  Business & Administration\n",
      "In Year  2007 , There are  123\n",
      "   Females  graduates in course  Law\n",
      "In Year  2007 , There are   Physical & Mathematical Sciences\"   Females  graduates in course  \"Natural\n",
      "In Year  2007 , There are  83\n",
      "   Females  graduates in course  Medicine\n",
      "In Year  2007 , There are  15\n",
      "   Females  graduates in course  Dentistry\n",
      "In Year  2007 , There are  67\n",
      "   Females  graduates in course  Health Sciences\n",
      "In Year  2007 , There are  190\n",
      "   Females  graduates in course  Information Technology\n",
      "In Year  2007 , There are  208\n",
      "   Females  graduates in course  Architecture & Building\n",
      "In Year  2007 , There are  1337\n",
      "   Females  graduates in course  Engineering Sciences\n",
      "In Year  2007 , There are  0\n",
      "   Females  graduates in course  Services\n",
      "In Year  2008 , There are  53\n",
      "   Males  graduates in course  Education\n",
      "In Year  2008 , There are  31\n",
      "   Males  graduates in course  Applied Arts\n",
      "In Year  2008 , There are  478\n",
      "   Males  graduates in course  Humanities & Social Sciences\n",
      "In Year  2008 , There are  32\n",
      "   Males  graduates in course  Mass Communication\n",
      "In Year  2008 , There are  295\n",
      "   Males  graduates in course  Accountancy\n",
      "In Year  2008 , There are  505\n",
      "   Males  graduates in course  Business & Administration\n",
      "In Year  2008 , There are  94\n",
      "   Males  graduates in course  Law\n",
      "In Year  2008 , There are   Physical & Mathematical Sciences\"   Males  graduates in course  \"Natural\n",
      "In Year  2008 , There are  131\n",
      "   Males  graduates in course  Medicine\n",
      "In Year  2008 , There are  18\n",
      "   Males  graduates in course  Dentistry\n",
      "In Year  2008 , There are  10\n",
      "   Males  graduates in course  Health Sciences\n",
      "In Year  2008 , There are  308\n",
      "   Males  graduates in course  Information Technology\n",
      "In Year  2008 , There are  148\n",
      "   Males  graduates in course  Architecture & Building\n",
      "In Year  2008 , There are  3150\n",
      "   Males  graduates in course  Engineering Sciences\n",
      "In Year  2008 , There are  14\n",
      "   Males  graduates in course  Services\n",
      "In Year  2008 , There are  172\n",
      "   Females  graduates in course  Education\n",
      "In Year  2008 , There are  50\n",
      "   Females  graduates in course  Applied Arts\n",
      "In Year  2008 , There are  1203\n",
      "   Females  graduates in course  Humanities & Social Sciences\n",
      "In Year  2008 , There are  132\n",
      "   Females  graduates in course  Mass Communication\n",
      "In Year  2008 , There are  536\n",
      "   Females  graduates in course  Accountancy\n",
      "In Year  2008 , There are  960\n",
      "   Females  graduates in course  Business & Administration\n",
      "In Year  2008 , There are  115\n",
      "   Females  graduates in course  Law\n",
      "In Year  2008 , There are   Physical & Mathematical Sciences\"   Females  graduates in course  \"Natural\n",
      "In Year  2008 , There are  96\n",
      "   Females  graduates in course  Medicine\n",
      "In Year  2008 , There are  17\n",
      "   Females  graduates in course  Dentistry\n",
      "In Year  2008 , There are  77\n",
      "   Females  graduates in course  Health Sciences\n",
      "In Year  2008 , There are  210\n",
      "   Females  graduates in course  Information Technology\n",
      "In Year  2008 , There are  243\n",
      "   Females  graduates in course  Architecture & Building\n",
      "In Year  2008 , There are  1386\n",
      "   Females  graduates in course  Engineering Sciences\n",
      "In Year  2008 , There are  43\n",
      "   Females  graduates in course  Services\n",
      "In Year  2009 , There are  67\n",
      "   Males  graduates in course  Education\n",
      "In Year  2009 , There are  47\n",
      "   Males  graduates in course  Applied Arts\n",
      "In Year  2009 , There are  547\n",
      "   Males  graduates in course  Humanities & Social Sciences\n",
      "In Year  2009 , There are  36\n",
      "   Males  graduates in course  Mass Communication\n",
      "In Year  2009 , There are  346\n",
      "   Males  graduates in course  Accountancy\n",
      "In Year  2009 , There are  630\n",
      "   Males  graduates in course  Business & Administration\n",
      "In Year  2009 , There are  92\n",
      "   Males  graduates in course  Law\n",
      "In Year  2009 , There are   Physical & Mathematical Sciences\"   Males  graduates in course  \"Natural\n",
      "In Year  2009 , There are  122\n",
      "   Males  graduates in course  Medicine\n",
      "In Year  2009 , There are  12\n",
      "   Males  graduates in course  Dentistry\n",
      "In Year  2009 , There are  22\n",
      "   Males  graduates in course  Health Sciences\n",
      "In Year  2009 , There are  370\n",
      "   Males  graduates in course  Information Technology\n",
      "In Year  2009 , There are  135\n",
      "   Males  graduates in course  Architecture & Building\n",
      "In Year  2009 , There are  2991\n",
      "   Males  graduates in course  Engineering Sciences\n",
      "In Year  2009 , There are  13\n",
      "   Males  graduates in course  Services\n",
      "In Year  2009 , There are  281\n",
      "   Females  graduates in course  Education\n",
      "In Year  2009 , There are  88\n",
      "   Females  graduates in course  Applied Arts\n",
      "In Year  2009 , There are  1423\n",
      "   Females  graduates in course  Humanities & Social Sciences\n",
      "In Year  2009 , There are  128\n",
      "   Females  graduates in course  Mass Communication\n",
      "In Year  2009 , There are  596\n",
      "   Females  graduates in course  Accountancy\n",
      "In Year  2009 , There are  857\n",
      "   Females  graduates in course  Business & Administration\n",
      "In Year  2009 , There are  118\n",
      "   Females  graduates in course  Law\n",
      "In Year  2009 , There are   Physical & Mathematical Sciences\"   Females  graduates in course  \"Natural\n",
      "In Year  2009 , There are  97\n",
      "   Females  graduates in course  Medicine\n",
      "In Year  2009 , There are  19\n",
      "   Females  graduates in course  Dentistry\n",
      "In Year  2009 , There are  107\n",
      "   Females  graduates in course  Health Sciences\n",
      "In Year  2009 , There are  162\n",
      "   Females  graduates in course  Information Technology\n",
      "In Year  2009 , There are  179\n",
      "   Females  graduates in course  Architecture & Building\n",
      "In Year  2009 , There are  1217\n",
      "   Females  graduates in course  Engineering Sciences\n",
      "In Year  2009 , There are  36\n",
      "   Females  graduates in course  Services\n",
      "In Year  2010 , There are  67\n",
      "   Males  graduates in course  Education\n",
      "In Year  2010 , There are  84\n",
      "   Males  graduates in course  Applied Arts\n",
      "In Year  2010 , There are  703\n",
      "   Males  graduates in course  Humanities & Social Sciences\n",
      "In Year  2010 , There are  30\n",
      "   Males  graduates in course  Mass Communication\n",
      "In Year  2010 , There are  380\n",
      "   Males  graduates in course  Accountancy\n",
      "In Year  2010 , There are  674\n",
      "   Males  graduates in course  Business & Administration\n",
      "In Year  2010 , There are  139\n",
      "   Males  graduates in course  Law\n",
      "In Year  2010 , There are   Physical & Mathematical Sciences\"   Males  graduates in course  \"Natural\n",
      "In Year  2010 , There are  134\n",
      "   Males  graduates in course  Medicine\n",
      "In Year  2010 , There are  16\n",
      "   Males  graduates in course  Dentistry\n",
      "In Year  2010 , There are  39\n",
      "   Males  graduates in course  Health Sciences\n",
      "In Year  2010 , There are  419\n",
      "   Males  graduates in course  Information Technology\n",
      "In Year  2010 , There are  97\n",
      "   Males  graduates in course  Architecture & Building\n",
      "In Year  2010 , There are  3117\n",
      "   Males  graduates in course  Engineering Sciences\n",
      "In Year  2010 , There are  29\n",
      "   Males  graduates in course  Services\n",
      "In Year  2010 , There are  262\n",
      "   Females  graduates in course  Education\n",
      "In Year  2010 , There are  121\n",
      "   Females  graduates in course  Applied Arts\n",
      "In Year  2010 , There are  1474\n",
      "   Females  graduates in course  Humanities & Social Sciences\n",
      "In Year  2010 , There are  147\n",
      "   Females  graduates in course  Mass Communication\n",
      "In Year  2010 , There are  554\n",
      "   Females  graduates in course  Accountancy\n",
      "In Year  2010 , There are  859\n",
      "   Females  graduates in course  Business & Administration\n",
      "In Year  2010 , There are  90\n",
      "   Females  graduates in course  Law\n",
      "In Year  2010 , There are   Physical & Mathematical Sciences\"   Females  graduates in course  \"Natural\n",
      "In Year  2010 , There are  94\n",
      "   Females  graduates in course  Medicine\n",
      "In Year  2010 , There are  25\n",
      "   Females  graduates in course  Dentistry\n",
      "In Year  2010 , There are  196\n",
      "   Females  graduates in course  Health Sciences\n",
      "In Year  2010 , There are  154\n",
      "   Females  graduates in course  Information Technology\n",
      "In Year  2010 , There are  178\n",
      "   Females  graduates in course  Architecture & Building\n",
      "In Year  2010 , There are  1020\n",
      "   Females  graduates in course  Engineering Sciences\n",
      "In Year  2010 , There are  35\n",
      "   Females  graduates in course  Services\n",
      "In Year  2011 , There are  103\n",
      "   Males  graduates in course  Education\n",
      "In Year  2011 , There are  84\n",
      "   Males  graduates in course  Applied Arts\n",
      "In Year  2011 , There are  708\n",
      "   Males  graduates in course  Humanities & Social Sciences\n",
      "In Year  2011 , There are  41\n",
      "   Males  graduates in course  Mass Communication\n",
      "In Year  2011 , There are  332\n",
      "   Males  graduates in course  Accountancy\n",
      "In Year  2011 , There are  633\n",
      "   Males  graduates in course  Business & Administration\n",
      "In Year  2011 , There are  121\n",
      "   Males  graduates in course  Law\n",
      "In Year  2011 , There are   Physical & Mathematical Sciences\"   Males  graduates in course  \"Natural\n",
      "In Year  2011 , There are  136\n",
      "   Males  graduates in course  Medicine\n",
      "In Year  2011 , There are  16\n",
      "   Males  graduates in course  Dentistry\n",
      "In Year  2011 , There are  42\n",
      "   Males  graduates in course  Health Sciences\n",
      "In Year  2011 , There are  388\n",
      "   Males  graduates in course  Information Technology\n",
      "In Year  2011 , There are  121\n",
      "   Males  graduates in course  Architecture & Building\n",
      "In Year  2011 , There are  3060\n",
      "   Males  graduates in course  Engineering Sciences\n",
      "In Year  2011 , There are  24\n",
      "   Males  graduates in course  Services\n",
      "In Year  2011 , There are  303\n",
      "   Females  graduates in course  Education\n",
      "In Year  2011 , There are  132\n",
      "   Females  graduates in course  Applied Arts\n",
      "In Year  2011 , There are  1772\n",
      "   Females  graduates in course  Humanities & Social Sciences\n",
      "In Year  2011 , There are  133\n",
      "   Females  graduates in course  Mass Communication\n",
      "In Year  2011 , There are  507\n",
      "   Females  graduates in course  Accountancy\n",
      "In Year  2011 , There are  944\n",
      "   Females  graduates in course  Business & Administration\n",
      "In Year  2011 , There are  208\n",
      "   Females  graduates in course  Law\n",
      "In Year  2011 , There are   Physical & Mathematical Sciences\"   Females  graduates in course  \"Natural\n",
      "In Year  2011 , There are  119\n",
      "   Females  graduates in course  Medicine\n",
      "In Year  2011 , There are  26\n",
      "   Females  graduates in course  Dentistry\n",
      "In Year  2011 , There are  213\n",
      "   Females  graduates in course  Health Sciences\n",
      "In Year  2011 , There are  195\n",
      "   Females  graduates in course  Information Technology\n",
      "In Year  2011 , There are  247\n",
      "   Females  graduates in course  Architecture & Building\n",
      "In Year  2011 , There are  1215\n",
      "   Females  graduates in course  Engineering Sciences\n",
      "In Year  2011 , There are  50\n",
      "   Females  graduates in course  Services\n",
      "In Year  2012 , There are  116\n",
      "   Males  graduates in course  Education\n",
      "In Year  2012 , There are  102\n",
      "   Males  graduates in course  Applied Arts\n",
      "In Year  2012 , There are  737\n",
      "   Males  graduates in course  Humanities & Social Sciences\n",
      "In Year  2012 , There are  37\n",
      "   Males  graduates in course  Mass Communication\n",
      "In Year  2012 , There are  447\n",
      "   Males  graduates in course  Accountancy\n",
      "In Year  2012 , There are  572\n",
      "   Males  graduates in course  Business & Administration\n",
      "In Year  2012 , There are  140\n",
      "   Males  graduates in course  Law\n",
      "In Year  2012 , There are   Physical & Mathematical Sciences\"   Males  graduates in course  \"Natural\n",
      "In Year  2012 , There are  129\n",
      "   Males  graduates in course  Medicine\n",
      "In Year  2012 , There are  21\n",
      "   Males  graduates in course  Dentistry\n",
      "In Year  2012 , There are  61\n",
      "   Males  graduates in course  Health Sciences\n",
      "In Year  2012 , There are  484\n",
      "   Males  graduates in course  Information Technology\n",
      "In Year  2012 , There are  155\n",
      "   Males  graduates in course  Architecture & Building\n",
      "In Year  2012 , There are  2870\n",
      "   Males  graduates in course  Engineering Sciences\n",
      "In Year  2012 , There are  28\n",
      "   Males  graduates in course  Services\n",
      "In Year  2012 , There are  526\n",
      "   Females  graduates in course  Education\n",
      "In Year  2012 , There are  139\n",
      "   Females  graduates in course  Applied Arts\n",
      "In Year  2012 , There are  1494\n",
      "   Females  graduates in course  Humanities & Social Sciences\n",
      "In Year  2012 , There are  133\n",
      "   Females  graduates in course  Mass Communication\n",
      "In Year  2012 , There are  589\n",
      "   Females  graduates in course  Accountancy\n",
      "In Year  2012 , There are  825\n",
      "   Females  graduates in course  Business & Administration\n",
      "In Year  2012 , There are  207\n",
      "   Females  graduates in course  Law\n",
      "In Year  2012 , There are   Physical & Mathematical Sciences\"   Females  graduates in course  \"Natural\n",
      "In Year  2012 , There are  123\n",
      "   Females  graduates in course  Medicine\n",
      "In Year  2012 , There are  21\n",
      "   Females  graduates in course  Dentistry\n",
      "In Year  2012 , There are  218\n",
      "   Females  graduates in course  Health Sciences\n",
      "In Year  2012 , There are  280\n",
      "   Females  graduates in course  Information Technology\n",
      "In Year  2012 , There are  241\n",
      "   Females  graduates in course  Architecture & Building\n",
      "In Year  2012 , There are  1210\n",
      "   Females  graduates in course  Engineering Sciences\n",
      "In Year  2012 , There are  34\n",
      "   Females  graduates in course  Services\n",
      "In Year  2013 , There are  167\n",
      "   Males  graduates in course  Education\n",
      "In Year  2013 , There are  172\n",
      "   Males  graduates in course  Applied Arts\n",
      "In Year  2013 , There are  818\n",
      "   Males  graduates in course  Humanities & Social Sciences\n",
      "In Year  2013 , There are  62\n",
      "   Males  graduates in course  Mass Communication\n",
      "In Year  2013 , There are  399\n",
      "   Males  graduates in course  Accountancy\n",
      "In Year  2013 , There are  693\n",
      "   Males  graduates in course  Business & Administration\n",
      "In Year  2013 , There are  189\n",
      "   Males  graduates in course  Law\n",
      "In Year  2013 , There are   Physical & Mathematical Sciences\"   Males  graduates in course  \"Natural\n",
      "In Year  2013 , There are  134\n",
      "   Males  graduates in course  Medicine\n",
      "In Year  2013 , There are  21\n",
      "   Males  graduates in course  Dentistry\n",
      "In Year  2013 , There are  95\n",
      "   Males  graduates in course  Health Sciences\n",
      "In Year  2013 , There are  542\n",
      "   Males  graduates in course  Information Technology\n",
      "In Year  2013 , There are  143\n",
      "   Males  graduates in course  Architecture & Building\n",
      "In Year  2013 , There are  3346\n",
      "   Males  graduates in course  Engineering Sciences\n",
      "In Year  2013 , There are  134\n",
      "   Males  graduates in course  Services\n",
      "In Year  2013 , There are  422\n",
      "   Females  graduates in course  Education\n",
      "In Year  2013 , There are  164\n",
      "   Females  graduates in course  Applied Arts\n",
      "In Year  2013 , There are  1766\n",
      "   Females  graduates in course  Humanities & Social Sciences\n",
      "In Year  2013 , There are  100\n",
      "   Females  graduates in course  Mass Communication\n",
      "In Year  2013 , There are  688\n",
      "   Females  graduates in course  Accountancy\n",
      "In Year  2013 , There are  897\n",
      "   Females  graduates in course  Business & Administration\n",
      "In Year  2013 , There are  179\n",
      "   Females  graduates in course  Law\n",
      "In Year  2013 , There are   Physical & Mathematical Sciences\"   Females  graduates in course  \"Natural\n",
      "In Year  2013 , There are  124\n",
      "   Females  graduates in course  Medicine\n",
      "In Year  2013 , There are  27\n",
      "   Females  graduates in course  Dentistry\n",
      "In Year  2013 , There are  296\n",
      "   Females  graduates in course  Health Sciences\n",
      "In Year  2013 , There are  250\n",
      "   Females  graduates in course  Information Technology\n",
      "In Year  2013 , There are  258\n",
      "   Females  graduates in course  Architecture & Building\n",
      "In Year  2013 , There are  1344\n",
      "   Females  graduates in course  Engineering Sciences\n",
      "In Year  2013 , There are  398\n",
      "   Females  graduates in course  Services\n",
      "In Year  2014 , There are  124\n",
      "   Males  graduates in course  Education\n",
      "In Year  2014 , There are  165\n",
      "   Males  graduates in course  Applied Arts\n",
      "In Year  2014 , There are  803\n",
      "   Males  graduates in course  Humanities & Social Sciences\n",
      "In Year  2014 , There are  44\n",
      "   Males  graduates in course  Mass Communication\n",
      "In Year  2014 , There are  473\n",
      "   Males  graduates in course  Accountancy\n",
      "In Year  2014 , There are  631\n",
      "   Males  graduates in course  Business & Administration\n",
      "In Year  2014 , There are  180\n",
      "   Males  graduates in course  Law\n",
      "In Year  2014 , There are   Physical & Mathematical Sciences\"   Males  graduates in course  \"Natural\n",
      "In Year  2014 , There are  134\n",
      "   Males  graduates in course  Medicine\n",
      "In Year  2014 , There are  15\n",
      "   Males  graduates in course  Dentistry\n",
      "In Year  2014 , There are  124\n",
      "   Males  graduates in course  Health Sciences\n",
      "In Year  2014 , There are  708\n",
      "   Males  graduates in course  Information Technology\n",
      "In Year  2014 , There are  146\n",
      "   Males  graduates in course  Architecture & Building\n",
      "In Year  2014 , There are  3288\n",
      "   Males  graduates in course  Engineering Sciences\n",
      "In Year  2014 , There are  135\n",
      "   Males  graduates in course  Services\n",
      "In Year  2014 , There are  401\n",
      "   Females  graduates in course  Education\n",
      "In Year  2014 , There are  229\n",
      "   Females  graduates in course  Applied Arts\n",
      "In Year  2014 , There are  1619\n",
      "   Females  graduates in course  Humanities & Social Sciences\n",
      "In Year  2014 , There are  114\n",
      "   Females  graduates in course  Mass Communication\n",
      "In Year  2014 , There are  649\n",
      "   Females  graduates in course  Accountancy\n",
      "In Year  2014 , There are  846\n",
      "   Females  graduates in course  Business & Administration\n",
      "In Year  2014 , There are  176\n",
      "   Females  graduates in course  Law\n",
      "In Year  2014 , There are   Physical & Mathematical Sciences\"   Females  graduates in course  \"Natural\n",
      "In Year  2014 , There are  127\n",
      "   Females  graduates in course  Medicine\n",
      "In Year  2014 , There are  30\n",
      "   Females  graduates in course  Dentistry\n",
      "In Year  2014 , There are  309\n",
      "   Females  graduates in course  Health Sciences\n",
      "In Year  2014 , There are  289\n",
      "   Females  graduates in course  Information Technology\n",
      "In Year  2014 , There are  258\n",
      "   Females  graduates in course  Architecture & Building\n",
      "In Year  2014 , There are  1251\n",
      "   Females  graduates in course  Engineering Sciences\n",
      "In Year  2014 , There are  219   Females  graduates in course  Services\n"
     ]
    }
   ],
   "source": [
    "infile = open(\"graduate course type in Singapore.txt\", \"r\")\n",
    "line = infile.readline()\n",
    "while line:\n",
    "    values = line.split(\",\")\n",
    "    print('In Year ', values[0], \", There are \",values[3], \" \", values[1], \" graduates in course \", values[2] )\n",
    "    line = infile.readline()\n",
    "\n",
    "infile.close()"
   ]
  },
  {
   "cell_type": "code",
   "execution_count": 14,
   "metadata": {},
   "outputs": [
    {
     "data": {
      "text/plain": [
       "['1993,Males,Education,na\\n']"
      ]
     },
     "execution_count": 14,
     "metadata": {},
     "output_type": "execute_result"
    }
   ],
   "source": [
    "f = open('graduate course type in Singapore.txt', 'r')\n",
    "f.readlines(5)"
   ]
  },
  {
   "cell_type": "markdown",
   "metadata": {},
   "source": [
    "Calling `readlines()` method can read the file into lines, so that we can process line by line:"
   ]
  },
  {
   "cell_type": "code",
   "execution_count": null,
   "metadata": {},
   "outputs": [],
   "source": [
    "for line in f.readlines():\n",
    "    print(line.strip()) # strip() removes '\\n' at the end of the line"
   ]
  },
  {
   "cell_type": "markdown",
   "metadata": {},
   "source": [
    "In `'rb'` mode, we can read binary files like image, video, etc."
   ]
  },
  {
   "cell_type": "code",
   "execution_count": null,
   "metadata": {},
   "outputs": [],
   "source": [
    "f = open('binary_file.bin', 'rb')"
   ]
  },
  {
   "cell_type": "markdown",
   "metadata": {},
   "source": [
    "### §4.2 Writing to Files\n",
    "Writing files is similar to reading files, but we use `'w'` or `'wb'` mode to write text or binary files respectively."
   ]
  },
  {
   "cell_type": "code",
   "execution_count": 16,
   "metadata": {},
   "outputs": [],
   "source": [
    "f = open('data.txt', 'w')\n",
    "f.write('01 02 03')\n",
    "f.close()"
   ]
  },
  {
   "cell_type": "markdown",
   "metadata": {},
   "source": [
    "Remember to close the file, otherwise the last part of the data may be lost.  \n",
    "Similarly, we can also write files using `with` statement without caring about closing it:"
   ]
  },
  {
   "cell_type": "code",
   "execution_count": 18,
   "metadata": {},
   "outputs": [],
   "source": [
    "with open('data.txt', 'w') as f:\n",
    "    f.write('1234567')"
   ]
  },
  {
   "cell_type": "markdown",
   "metadata": {},
   "source": [
    "If the file we are going to write is already existing, the original one will be replace. To append new content to the existing file, we can use `'a'` mode instead of `'w'`.\n",
    "\n",
    "> ⇨ Exercise 4.2.1  \n",
    "Read a sequence of numbers from a text file `nums.txt`, calculate the sum and write to another file called `sum.txt`."
   ]
  },
  {
   "cell_type": "markdown",
   "metadata": {},
   "source": [
    "## ⇒ Part 5 Modules\n",
    "***\n",
    "\n",
    "It makes a Python program unmaintainable if there are too many variables and functions in a single file. Through grouping functions into different modules, each file can have fewer codes. In Python, each `.py` file can be regarded as a `module`.\n",
    "\n",
    "### §5.1 Packages\n",
    "In order to prevent conflicts between modules, Python provides `package` to organize modules.\n",
    "\n",
    "For example, there are two modules, and both of them are called `mod`, but if they are in differnt packages, `packageone` and `packagetwo`, then it is totally fine. They can be identified as `packageone.mod` and `packagetwo.mod`:"
   ]
  },
  {
   "cell_type": "markdown",
   "metadata": {},
   "source": [
    "```\n",
    "packageone\n",
    "    ├─ __init__.py\n",
    "    └─ mod.py\n",
    "\n",
    "packagetwo\n",
    "    ├─ __init__.py\n",
    "    └─ mod.py\n",
    "```"
   ]
  },
  {
   "cell_type": "markdown",
   "metadata": {},
   "source": [
    "Every package directory has a `__init__.py`, otherwise, Python will regard this directory as a normal folder instead of a package. `__init__` can be an empty file.  \n",
    "Package can be nested, like the following directory structure:"
   ]
  },
  {
   "cell_type": "markdown",
   "metadata": {},
   "source": [
    "```\n",
    "mypackage\n",
    "    │\n",
    "    ├─ innerpackage\n",
    "    │    ├─ __init__.py\n",
    "    │    ├─ one.py\n",
    "    │    └─ two.py\n",
    "    │\n",
    "    ├─ __init__.py\n",
    "    └─ mod.py\n",
    "```"
   ]
  },
  {
   "cell_type": "markdown",
   "metadata": {},
   "source": [
    "`one.py`'s module name is `mypackage.innerpackage.one`.  \n",
    "The Python file for module `mypackage.innerpackage` is `__init__.py` in `mypackage/innerpackage`.\n",
    "\n",
    "> Note:  \n",
    "The names of self created modules should never conflict with system modules, such as `os`, `sys`.\n"
   ]
  },
  {
   "cell_type": "code",
   "execution_count": 1,
   "metadata": {},
   "outputs": [
    {
     "name": "stdout",
     "output_type": "stream",
     "text": [
      "Requirement already satisfied: pandas in c:\\users\\jszhang\\anaconda3\\lib\\site-packages (1.0.5)\n",
      "Requirement already satisfied: python-dateutil>=2.6.1 in c:\\users\\jszhang\\anaconda3\\lib\\site-packages (from pandas) (2.8.1)\n",
      "Requirement already satisfied: numpy>=1.13.3 in c:\\users\\jszhang\\anaconda3\\lib\\site-packages (from pandas) (1.19.5)\n",
      "Requirement already satisfied: pytz>=2017.2 in c:\\users\\jszhang\\anaconda3\\lib\\site-packages (from pandas) (2020.1)\n",
      "Requirement already satisfied: six>=1.5 in c:\\users\\jszhang\\anaconda3\\lib\\site-packages (from python-dateutil>=2.6.1->pandas) (1.15.0)\n"
     ]
    },
    {
     "name": "stderr",
     "output_type": "stream",
     "text": [
      "WARNING: You are using pip version 21.0; however, version 21.0.1 is available.\n",
      "You should consider upgrading via the 'C:\\Users\\jszhang\\Anaconda3\\python.exe -m pip install --upgrade pip' command.\n"
     ]
    }
   ],
   "source": [
    "import sys\n",
    "!{sys.executable} -m pip install pandas"
   ]
  },
  {
   "cell_type": "markdown",
   "metadata": {},
   "source": [
    "### §5.2 Regular Imports\n",
    "To use a certain module/package in our code, we can simply import it at the beginning of our codes:"
   ]
  },
  {
   "cell_type": "code",
   "execution_count": 2,
   "metadata": {},
   "outputs": [
    {
     "name": "stdout",
     "output_type": "stream",
     "text": [
      "120\n"
     ]
    }
   ],
   "source": [
    "import math\n",
    "\n",
    "result = math.factorial(5)\n",
    "print(result)"
   ]
  },
  {
   "cell_type": "markdown",
   "metadata": {},
   "source": [
    "We can import multiple modules in one line:"
   ]
  },
  {
   "cell_type": "code",
   "execution_count": 2,
   "metadata": {},
   "outputs": [],
   "source": [
    "import math, time"
   ]
  },
  {
   "cell_type": "markdown",
   "metadata": {},
   "source": [
    "We can also rename the package/module imported:"
   ]
  },
  {
   "cell_type": "code",
   "execution_count": 5,
   "metadata": {},
   "outputs": [
    {
     "data": {
      "text/plain": [
       "2.5"
      ]
     },
     "execution_count": 5,
     "metadata": {},
     "output_type": "execute_result"
    }
   ],
   "source": [
    "import numpy as np\n",
    "\n",
    "np.average([1,2,3,4])"
   ]
  },
  {
   "cell_type": "markdown",
   "metadata": {},
   "source": [
    "Sometimes we may just want to import a certain part of a module or library:"
   ]
  },
  {
   "cell_type": "code",
   "execution_count": 3,
   "metadata": {},
   "outputs": [
    {
     "data": {
      "text/plain": [
       "3.0"
      ]
     },
     "execution_count": 3,
     "metadata": {},
     "output_type": "execute_result"
    }
   ],
   "source": [
    "from math import sqrt\n",
    "sqrt(9)"
   ]
  },
  {
   "cell_type": "code",
   "execution_count": 3,
   "metadata": {},
   "outputs": [
    {
     "data": {
      "text/plain": [
       "3.0"
      ]
     },
     "execution_count": 3,
     "metadata": {},
     "output_type": "execute_result"
    }
   ],
   "source": [
    "import math\n",
    "math.sqrt(9)"
   ]
  },
  {
   "cell_type": "markdown",
   "metadata": {},
   "source": [
    "You can check the function documentations using `?`"
   ]
  },
  {
   "cell_type": "code",
   "execution_count": 6,
   "metadata": {},
   "outputs": [],
   "source": [
    "math.sqrt?"
   ]
  },
  {
   "cell_type": "markdown",
   "metadata": {},
   "source": [
    "You can also import everything from a package/module using `*` (this manner is usually not recommended):"
   ]
  },
  {
   "cell_type": "code",
   "execution_count": null,
   "metadata": {},
   "outputs": [],
   "source": [
    "from math import *"
   ]
  },
  {
   "cell_type": "markdown",
   "metadata": {},
   "source": [
    "The built-in function dir() is used to find out which names a module defines. It returns a sorted list of strings"
   ]
  },
  {
   "cell_type": "code",
   "execution_count": 5,
   "metadata": {
    "collapsed": true
   },
   "outputs": [
    {
     "data": {
      "text/plain": [
       "['__breakpointhook__',\n",
       " '__displayhook__',\n",
       " '__doc__',\n",
       " '__excepthook__',\n",
       " '__interactivehook__',\n",
       " '__loader__',\n",
       " '__name__',\n",
       " '__package__',\n",
       " '__spec__',\n",
       " '__stderr__',\n",
       " '__stdin__',\n",
       " '__stdout__',\n",
       " '__unraisablehook__',\n",
       " '_base_executable',\n",
       " '_clear_type_cache',\n",
       " '_current_frames',\n",
       " '_debugmallocstats',\n",
       " '_enablelegacywindowsfsencoding',\n",
       " '_framework',\n",
       " '_getframe',\n",
       " '_git',\n",
       " '_home',\n",
       " '_xoptions',\n",
       " 'addaudithook',\n",
       " 'api_version',\n",
       " 'argv',\n",
       " 'audit',\n",
       " 'base_exec_prefix',\n",
       " 'base_prefix',\n",
       " 'breakpointhook',\n",
       " 'builtin_module_names',\n",
       " 'byteorder',\n",
       " 'call_tracing',\n",
       " 'callstats',\n",
       " 'copyright',\n",
       " 'displayhook',\n",
       " 'dllhandle',\n",
       " 'dont_write_bytecode',\n",
       " 'exc_info',\n",
       " 'excepthook',\n",
       " 'exec_prefix',\n",
       " 'executable',\n",
       " 'exit',\n",
       " 'flags',\n",
       " 'float_info',\n",
       " 'float_repr_style',\n",
       " 'get_asyncgen_hooks',\n",
       " 'get_coroutine_origin_tracking_depth',\n",
       " 'getallocatedblocks',\n",
       " 'getcheckinterval',\n",
       " 'getdefaultencoding',\n",
       " 'getfilesystemencodeerrors',\n",
       " 'getfilesystemencoding',\n",
       " 'getprofile',\n",
       " 'getrecursionlimit',\n",
       " 'getrefcount',\n",
       " 'getsizeof',\n",
       " 'getswitchinterval',\n",
       " 'gettrace',\n",
       " 'getwindowsversion',\n",
       " 'hash_info',\n",
       " 'hexversion',\n",
       " 'implementation',\n",
       " 'int_info',\n",
       " 'intern',\n",
       " 'is_finalizing',\n",
       " 'maxsize',\n",
       " 'maxunicode',\n",
       " 'meta_path',\n",
       " 'modules',\n",
       " 'path',\n",
       " 'path_hooks',\n",
       " 'path_importer_cache',\n",
       " 'platform',\n",
       " 'prefix',\n",
       " 'ps1',\n",
       " 'ps2',\n",
       " 'ps3',\n",
       " 'pycache_prefix',\n",
       " 'set_asyncgen_hooks',\n",
       " 'set_coroutine_origin_tracking_depth',\n",
       " 'setcheckinterval',\n",
       " 'setprofile',\n",
       " 'setrecursionlimit',\n",
       " 'setswitchinterval',\n",
       " 'settrace',\n",
       " 'stderr',\n",
       " 'stdin',\n",
       " 'stdout',\n",
       " 'thread_info',\n",
       " 'unraisablehook',\n",
       " 'version',\n",
       " 'version_info',\n",
       " 'warnoptions',\n",
       " 'winver']"
      ]
     },
     "execution_count": 5,
     "metadata": {},
     "output_type": "execute_result"
    }
   ],
   "source": [
    "import sys\n",
    "dir(sys)"
   ]
  },
  {
   "cell_type": "markdown",
   "metadata": {},
   "source": [
    "## ⇒ Part 6 Exceptions\n",
    "***\n",
    "\n",
    "Sometimes, running our syntactically correct code may cause errors, and we call it exceptions.  \n",
    "For exmaple, trying to concatenate a number to a string directly will raise a `TypeError` exception."
   ]
  },
  {
   "cell_type": "code",
   "execution_count": 1,
   "metadata": {},
   "outputs": [
    {
     "ename": "TypeError",
     "evalue": "can only concatenate str (not \"int\") to str",
     "output_type": "error",
     "traceback": [
      "\u001b[1;31m---------------------------------------------------------------------------\u001b[0m",
      "\u001b[1;31mTypeError\u001b[0m                                 Traceback (most recent call last)",
      "\u001b[1;32m<ipython-input-1-fe454ded8bee>\u001b[0m in \u001b[0;36m<module>\u001b[1;34m\u001b[0m\n\u001b[1;32m----> 1\u001b[1;33m \u001b[0mprint\u001b[0m\u001b[1;33m(\u001b[0m\u001b[1;34m'Result:'\u001b[0m \u001b[1;33m+\u001b[0m \u001b[1;36m200\u001b[0m\u001b[1;33m)\u001b[0m\u001b[1;33m\u001b[0m\u001b[1;33m\u001b[0m\u001b[0m\n\u001b[0m",
      "\u001b[1;31mTypeError\u001b[0m: can only concatenate str (not \"int\") to str"
     ]
    }
   ],
   "source": [
    "print('Result:' + 200)"
   ]
  },
  {
   "cell_type": "markdown",
   "metadata": {},
   "source": [
    "Of course we can prevent the above exception by casting the data types properly. However, it is not likely to guarantee there is no exception in some situations, especially while dealing with IO (input/output) and network requests.  \n",
    "For example, your program asks the user to input an integer, but the user inputs a letter:"
   ]
  },
  {
   "cell_type": "code",
   "execution_count": 2,
   "metadata": {},
   "outputs": [
    {
     "name": "stdout",
     "output_type": "stream",
     "text": [
      "Input a number: a\n"
     ]
    },
    {
     "ename": "ValueError",
     "evalue": "invalid literal for int() with base 10: 'a'",
     "output_type": "error",
     "traceback": [
      "\u001b[1;31m---------------------------------------------------------------------------\u001b[0m",
      "\u001b[1;31mValueError\u001b[0m                                Traceback (most recent call last)",
      "\u001b[1;32m<ipython-input-2-d280f79920ff>\u001b[0m in \u001b[0;36m<module>\u001b[1;34m\u001b[0m\n\u001b[0;32m      1\u001b[0m \u001b[0muser_input\u001b[0m \u001b[1;33m=\u001b[0m \u001b[0minput\u001b[0m\u001b[1;33m(\u001b[0m\u001b[1;34m'Input a number: '\u001b[0m\u001b[1;33m)\u001b[0m\u001b[1;33m\u001b[0m\u001b[1;33m\u001b[0m\u001b[0m\n\u001b[1;32m----> 2\u001b[1;33m \u001b[0mprint\u001b[0m\u001b[1;33m(\u001b[0m\u001b[0mint\u001b[0m\u001b[1;33m(\u001b[0m\u001b[0muser_input\u001b[0m\u001b[1;33m)\u001b[0m\u001b[1;33m)\u001b[0m\u001b[1;33m\u001b[0m\u001b[1;33m\u001b[0m\u001b[0m\n\u001b[0m",
      "\u001b[1;31mValueError\u001b[0m: invalid literal for int() with base 10: 'a'"
     ]
    }
   ],
   "source": [
    "user_input = input('Input a number: ')\n",
    "print(int(user_input))"
   ]
  },
  {
   "cell_type": "markdown",
   "metadata": {},
   "source": [
    "Another example, you are trying to read data from a non-existing file:"
   ]
  },
  {
   "cell_type": "code",
   "execution_count": 3,
   "metadata": {},
   "outputs": [
    {
     "ename": "FileNotFoundError",
     "evalue": "[Errno 2] No such file or directory: 'no_such_file.txt'",
     "output_type": "error",
     "traceback": [
      "\u001b[1;31m---------------------------------------------------------------------------\u001b[0m",
      "\u001b[1;31mFileNotFoundError\u001b[0m                         Traceback (most recent call last)",
      "\u001b[1;32m<ipython-input-3-1554493fe29f>\u001b[0m in \u001b[0;36m<module>\u001b[1;34m\u001b[0m\n\u001b[1;32m----> 1\u001b[1;33m \u001b[1;32mwith\u001b[0m \u001b[0mopen\u001b[0m\u001b[1;33m(\u001b[0m\u001b[1;34m'no_such_file.txt'\u001b[0m\u001b[1;33m,\u001b[0m \u001b[1;34m'r'\u001b[0m\u001b[1;33m)\u001b[0m \u001b[1;32mas\u001b[0m \u001b[0mf\u001b[0m\u001b[1;33m:\u001b[0m\u001b[1;33m\u001b[0m\u001b[1;33m\u001b[0m\u001b[0m\n\u001b[0m\u001b[0;32m      2\u001b[0m     \u001b[0mprint\u001b[0m\u001b[1;33m(\u001b[0m\u001b[0mf\u001b[0m\u001b[1;33m.\u001b[0m\u001b[0mread\u001b[0m\u001b[1;33m(\u001b[0m\u001b[1;33m)\u001b[0m\u001b[1;33m)\u001b[0m\u001b[1;33m\u001b[0m\u001b[1;33m\u001b[0m\u001b[0m\n",
      "\u001b[1;31mFileNotFoundError\u001b[0m: [Errno 2] No such file or directory: 'no_such_file.txt'"
     ]
    }
   ],
   "source": [
    "with open('no_such_file.txt', 'r') as f:\n",
    "    print(f.read())"
   ]
  },
  {
   "cell_type": "markdown",
   "metadata": {},
   "source": [
    "#### Handling Exceptions\n",
    "You can detect exceptions and handle them properly using try-except blocks.  \n",
    "```\n",
    "try:\n",
    "    run your code\n",
    "except:\n",
    "    this part will be executed if any exception occurs\n",
    "```"
   ]
  },
  {
   "cell_type": "code",
   "execution_count": 29,
   "metadata": {},
   "outputs": [
    {
     "name": "stdout",
     "output_type": "stream",
     "text": [
      "Error: invalid input.\n"
     ]
    }
   ],
   "source": [
    "try:\n",
    "    user_input = 'a'\n",
    "    print(int(user_input))\n",
    "except:\n",
    "    print('Error: invalid input.')"
   ]
  },
  {
   "cell_type": "code",
   "execution_count": 4,
   "metadata": {},
   "outputs": [
    {
     "name": "stdout",
     "output_type": "stream",
     "text": [
      "Input a number: a\n",
      "[invalid number]\n",
      "Input a number: 10\n",
      "10\n"
     ]
    }
   ],
   "source": [
    "while True:\n",
    "    try:\n",
    "        user_input = input('Input a number: ')\n",
    "        print(int(user_input))\n",
    "        break\n",
    "    except:\n",
    "        print('[invalid number]')\n",
    "        continue"
   ]
  },
  {
   "cell_type": "markdown",
   "metadata": {},
   "source": [
    "In the above examples, you can find there are different types of exceptions. Actually you can catch a specific type of exception and define a variable for it."
   ]
  },
  {
   "cell_type": "code",
   "execution_count": 5,
   "metadata": {},
   "outputs": [
    {
     "name": "stdout",
     "output_type": "stream",
     "text": [
      "Input a number: a\n",
      "invalid literal for int() with base 10: 'a'\n"
     ]
    }
   ],
   "source": [
    "try:\n",
    "    user_input = input('Input a number: ')\n",
    "    print(int(user_input))\n",
    "except ValueError as error:\n",
    "    print(error)"
   ]
  },
  {
   "cell_type": "markdown",
   "metadata": {},
   "source": [
    "The try statement has another optional clause which is intended to define clean-up actions that must be executed under all circumstances. "
   ]
  },
  {
   "cell_type": "code",
   "execution_count": 6,
   "metadata": {},
   "outputs": [
    {
     "name": "stdout",
     "output_type": "stream",
     "text": [
      "Goodbye, world!\n"
     ]
    },
    {
     "ename": "KeyboardInterrupt",
     "evalue": "",
     "output_type": "error",
     "traceback": [
      "\u001b[1;31m---------------------------------------------------------------------------\u001b[0m",
      "\u001b[1;31mKeyboardInterrupt\u001b[0m                         Traceback (most recent call last)",
      "\u001b[1;32m<ipython-input-6-ca8991ac7661>\u001b[0m in \u001b[0;36m<module>\u001b[1;34m\u001b[0m\n\u001b[0;32m      1\u001b[0m \u001b[1;32mtry\u001b[0m\u001b[1;33m:\u001b[0m\u001b[1;33m\u001b[0m\u001b[1;33m\u001b[0m\u001b[0m\n\u001b[1;32m----> 2\u001b[1;33m     \u001b[1;32mraise\u001b[0m \u001b[0mKeyboardInterrupt\u001b[0m\u001b[1;33m\u001b[0m\u001b[1;33m\u001b[0m\u001b[0m\n\u001b[0m\u001b[0;32m      3\u001b[0m \u001b[1;32mfinally\u001b[0m\u001b[1;33m:\u001b[0m\u001b[1;33m\u001b[0m\u001b[1;33m\u001b[0m\u001b[0m\n\u001b[0;32m      4\u001b[0m     \u001b[0mprint\u001b[0m\u001b[1;33m(\u001b[0m\u001b[1;34m'Goodbye, world!'\u001b[0m\u001b[1;33m)\u001b[0m\u001b[1;33m\u001b[0m\u001b[1;33m\u001b[0m\u001b[0m\n",
      "\u001b[1;31mKeyboardInterrupt\u001b[0m: "
     ]
    }
   ],
   "source": [
    "try:\n",
    "    raise KeyboardInterrupt\n",
    "finally:\n",
    "    print('Goodbye, world!')"
   ]
  },
  {
   "cell_type": "code",
   "execution_count": 7,
   "metadata": {},
   "outputs": [
    {
     "ename": "SyntaxError",
     "evalue": "Missing parentheses in call to 'print'. Did you mean print(\"Error: my_file.txt does not exist or it can't be opened for output.\")? (<ipython-input-7-4fbaeabe97c9>, line 8)",
     "output_type": "error",
     "traceback": [
      "\u001b[1;36m  File \u001b[1;32m\"<ipython-input-7-4fbaeabe97c9>\"\u001b[1;36m, line \u001b[1;32m8\u001b[0m\n\u001b[1;33m    print \"Error: my_file.txt does not exist or it can't be opened for output.\"\u001b[0m\n\u001b[1;37m          ^\u001b[0m\n\u001b[1;31mSyntaxError\u001b[0m\u001b[1;31m:\u001b[0m Missing parentheses in call to 'print'. Did you mean print(\"Error: my_file.txt does not exist or it can't be opened for output.\")?\n"
     ]
    }
   ],
   "source": [
    "try:\n",
    "   f = open(\"my_file.txt\", \"w\")\n",
    "   try:\n",
    "      f.write(\"Writing some data to the file\")\n",
    "   finally:\n",
    "      f.close()\n",
    "except IOError:\n",
    "   print \"Error: my_file.txt does not exist or it can't be opened for output.\""
   ]
  },
  {
   "cell_type": "markdown",
   "metadata": {},
   "source": [
    "## ⇒ Part 7 Functional Programming\n",
    "***\n",
    "\n",
    "Python's functional programming features make data processing more convenient.\n",
    "\n",
    "### §7.1 Lambda Function\n",
    "In Python, `lambda` functions are just anonymous functions."
   ]
  },
  {
   "cell_type": "markdown",
   "metadata": {},
   "source": [
    "A lambda function can take any number of arguments but can only have one expression."
   ]
  },
  {
   "cell_type": "code",
   "execution_count": 1,
   "metadata": {},
   "outputs": [
    {
     "name": "stdout",
     "output_type": "stream",
     "text": [
      "13\n"
     ]
    }
   ],
   "source": [
    "x = lambda a, b, c : a + b + c\n",
    "print(x(5, 6, 2))"
   ]
  },
  {
   "cell_type": "code",
   "execution_count": 4,
   "metadata": {
    "scrolled": true
   },
   "outputs": [
    {
     "data": {
      "text/plain": [
       "<function __main__.<lambda>>"
      ]
     },
     "execution_count": 4,
     "metadata": {},
     "output_type": "execute_result"
    }
   ],
   "source": [
    "lambda x: x**3"
   ]
  },
  {
   "cell_type": "markdown",
   "metadata": {},
   "source": [
    "The above `lambda` returns the cube of the input value:"
   ]
  },
  {
   "cell_type": "code",
   "execution_count": 8,
   "metadata": {
    "scrolled": true
   },
   "outputs": [
    {
     "data": {
      "text/plain": [
       "8"
      ]
     },
     "execution_count": 8,
     "metadata": {},
     "output_type": "execute_result"
    }
   ],
   "source": [
    "(lambda x: x**3)(2)"
   ]
  },
  {
   "cell_type": "markdown",
   "metadata": {},
   "source": [
    "The `x` before `:` is the input argument, the expression after `:` will be evaluated and returned. There should not be any `return` statement inside a `lambda`.  \n",
    "The above `lambda` does the same job as the following normal function:"
   ]
  },
  {
   "cell_type": "code",
   "execution_count": 6,
   "metadata": {},
   "outputs": [
    {
     "name": "stdout",
     "output_type": "stream",
     "text": [
      "8\n"
     ]
    }
   ],
   "source": [
    "def cube(x):\n",
    "    return x ** 3\n",
    "\n",
    "print(cube(2))"
   ]
  },
  {
   "cell_type": "markdown",
   "metadata": {},
   "source": [
    "If a function is \"small\" enough and only used once, it is convenient to use `lambda`. `lambda` also accepts multiple arguments:"
   ]
  },
  {
   "cell_type": "code",
   "execution_count": 7,
   "metadata": {},
   "outputs": [
    {
     "data": {
      "text/plain": [
       "7"
      ]
     },
     "execution_count": 7,
     "metadata": {},
     "output_type": "execute_result"
    }
   ],
   "source": [
    "(lambda x, y: x + y)(2, 5)"
   ]
  },
  {
   "cell_type": "markdown",
   "metadata": {},
   "source": [
    "### §7.2 Filter\n",
    "Creating a list of elements for which a function/lambda returns `True`."
   ]
  },
  {
   "cell_type": "markdown",
   "metadata": {},
   "source": [
    "The filter() function returns an iterator were the items are filtered through a function to test if the item is accepted or not. \n",
    "\n",
    "Filter the array, and return a new array with only the values equal to or above 18:"
   ]
  },
  {
   "cell_type": "code",
   "execution_count": 2,
   "metadata": {},
   "outputs": [
    {
     "name": "stdout",
     "output_type": "stream",
     "text": [
      "18\n",
      "24\n",
      "32\n"
     ]
    }
   ],
   "source": [
    "ages = [5, 12, 17, 18, 24, 32]\n",
    "\n",
    "def myFunc(x):\n",
    "  if x < 18:\n",
    "    return False\n",
    "  else:\n",
    "    return True\n",
    "\n",
    "adults = filter(myFunc, ages)\n",
    "\n",
    "for x in adults:\n",
    "  print(x)"
   ]
  },
  {
   "cell_type": "code",
   "execution_count": 3,
   "metadata": {},
   "outputs": [
    {
     "data": {
      "text/plain": [
       "[18, 24, 32]"
      ]
     },
     "execution_count": 3,
     "metadata": {},
     "output_type": "execute_result"
    }
   ],
   "source": [
    "ages = [5, 12, 17, 18, 24, 32]\n",
    "list(filter(lambda x: x >= 18, ages))"
   ]
  },
  {
   "cell_type": "markdown",
   "metadata": {},
   "source": [
    "### §7.3 Map\n",
    "\n",
    "A map function executes a specified function for each item in an iterable. The item is sent to the function as a parameter.\n",
    "\n",
    "Applying a function/lambda to every item in a list."
   ]
  },
  {
   "cell_type": "code",
   "execution_count": 4,
   "metadata": {},
   "outputs": [
    {
     "name": "stdout",
     "output_type": "stream",
     "text": [
      "[2, 4, 6, 8]\n"
     ]
    }
   ],
   "source": [
    "def addition(n): \n",
    "    return n + n \n",
    "  \n",
    "# We double all numbers using map() \n",
    "numbers = (1, 2, 3, 4) \n",
    "result = map(addition, numbers) \n",
    "print(list(result))"
   ]
  },
  {
   "cell_type": "code",
   "execution_count": 8,
   "metadata": {},
   "outputs": [
    {
     "data": {
      "text/plain": [
       "[6, 8, 10, 12]"
      ]
     },
     "execution_count": 8,
     "metadata": {},
     "output_type": "execute_result"
    }
   ],
   "source": [
    "nums_1 = [1, 2, 3, 4]\n",
    "nums_2 = [5, 6, 7, 8]\n",
    "list(map(lambda x, y: x + y, nums_1, nums_2))"
   ]
  },
  {
   "cell_type": "code",
   "execution_count": 1,
   "metadata": {},
   "outputs": [
    {
     "data": {
      "text/plain": [
       "[2, 3, 4, 5]"
      ]
     },
     "execution_count": 1,
     "metadata": {},
     "output_type": "execute_result"
    }
   ],
   "source": [
    "nums_1 = [1, 2, 3, 4]\n",
    "\n",
    "list(map(lambda x: x + 1, nums_1))"
   ]
  },
  {
   "cell_type": "markdown",
   "metadata": {},
   "source": [
    "### §7.4 Reduce\n",
    "Performing some computation on a list and return the result.\n",
    "Applying a rolling computation to sequential pairs of values in a list."
   ]
  },
  {
   "cell_type": "code",
   "execution_count": 7,
   "metadata": {
    "scrolled": true
   },
   "outputs": [
    {
     "name": "stdout",
     "output_type": "stream",
     "text": [
      "The sum of the list elements is : 17\n",
      "The maximum element of the list is : 6\n"
     ]
    }
   ],
   "source": [
    "import functools \n",
    "\n",
    "lis = [ 1 , 3, 5, 6, 2, ] \n",
    "  \n",
    "# using reduce to compute sum of list \n",
    "print (\"The sum of the list elements is : \",end=\"\") \n",
    "print (functools.reduce(lambda a,b : a+b,lis)) \n",
    "  \n",
    "# using reduce to compute maximum element from list \n",
    "print (\"The maximum element of the list is : \",end=\"\") \n",
    "print (functools.reduce(lambda a,b : a if a > b else b,lis)) "
   ]
  },
  {
   "cell_type": "code",
   "execution_count": 13,
   "metadata": {},
   "outputs": [
    {
     "data": {
      "text/plain": [
       "120"
      ]
     },
     "execution_count": 13,
     "metadata": {},
     "output_type": "execute_result"
    }
   ],
   "source": [
    "from functools import reduce\n",
    "\n",
    "nums = [1, 2, 3, 4, 5]\n",
    "reduce(lambda x, y: x * y, nums)"
   ]
  },
  {
   "cell_type": "markdown",
   "metadata": {},
   "source": [
    "We can also write a for loop to get the same result:"
   ]
  },
  {
   "cell_type": "code",
   "execution_count": 36,
   "metadata": {},
   "outputs": [
    {
     "name": "stdout",
     "output_type": "stream",
     "text": [
      "120\n"
     ]
    }
   ],
   "source": [
    "nums = [1, 2, 3, 4, 5]\n",
    "result = 1\n",
    "for num in nums:\n",
    "    result *= num\n",
    "print(result)"
   ]
  },
  {
   "cell_type": "markdown",
   "metadata": {},
   "source": [
    "#### Map lambda function as a list comprehension\n",
    "\n",
    "The map() function runs a lambda function over the list [1, 2, 3, 4, 5], building a list-like collection of the results, like this:"
   ]
  },
  {
   "cell_type": "code",
   "execution_count": 1,
   "metadata": {},
   "outputs": [
    {
     "data": {
      "text/plain": [
       "[2, 4, 6, 8, 10]"
      ]
     },
     "execution_count": 1,
     "metadata": {},
     "output_type": "execute_result"
    }
   ],
   "source": [
    "list(map(lambda n: n * 2, [1, 2, 3, 4, 5]))"
   ]
  },
  {
   "cell_type": "code",
   "execution_count": 2,
   "metadata": {},
   "outputs": [
    {
     "data": {
      "text/plain": [
       "['PYTHON!', 'IS!', 'GREAT!']"
      ]
     },
     "execution_count": 2,
     "metadata": {},
     "output_type": "execute_result"
    }
   ],
   "source": [
    "strs = ['Python', 'is', 'great']\n",
    "list(map(lambda s: s.upper() + '!', strs))"
   ]
  },
  {
   "cell_type": "markdown",
   "metadata": {},
   "source": [
    "## ⇒ Part 8 Database\n",
    "***\n",
    "\n",
    "We can connect to SQLite Databases through `sqlite3` module.\n",
    "\n",
    "First, let's connect to our DB from Python, we can do that using the connect function."
   ]
  },
  {
   "cell_type": "code",
   "execution_count": 4,
   "metadata": {},
   "outputs": [],
   "source": [
    "import sqlite3\n",
    "\n",
    "conn = sqlite3.connect(\"test.db\")"
   ]
  },
  {
   "cell_type": "markdown",
   "metadata": {},
   "source": [
    "`conn` is our Connection object, and we can work with our DB by using this object.  \n",
    "If the DB file `test.db` is not in your directory, it will be created automatically.\n",
    "\n",
    "Next, let's create a Cursor object, which allows us to execute SQL queries against our DB."
   ]
  },
  {
   "cell_type": "code",
   "execution_count": 5,
   "metadata": {},
   "outputs": [],
   "source": [
    "cur = conn.cursor()"
   ]
  },
  {
   "cell_type": "markdown",
   "metadata": {},
   "source": [
    "Then we can execute queries by calling the `execute` method of the cursor object.  \n",
    "For example, let's create a table called `movie`."
   ]
  },
  {
   "cell_type": "code",
   "execution_count": 6,
   "metadata": {},
   "outputs": [],
   "source": [
    "cur.execute('''\n",
    "    CREATE TABLE `movie` ( \n",
    "        `id` INTEGER PRIMARY KEY AUTOINCREMENT, \n",
    "        `title` TEXT, \n",
    "        `year` INTEGER, \n",
    "        `genre` TEXT, \n",
    "        `length` INTEGER, \n",
    "        `color` INTEGER, \n",
    "        `rating` REAL \n",
    "    );\n",
    "''')\n",
    "conn.commit()"
   ]
  },
  {
   "cell_type": "markdown",
   "metadata": {},
   "source": [
    "Remember to call the `commit` method to save the changes to the DB.  \n",
    "\n",
    "To insert a result to the `movie` table:"
   ]
  },
  {
   "cell_type": "code",
   "execution_count": 7,
   "metadata": {},
   "outputs": [],
   "source": [
    "cur.execute('''\n",
    "INSERT INTO `movie` (`title`, `year`, `genre`, `length`, `color`, `rating`)\n",
    "VALUES ('Sky', '2018', 'Action|Crime', '120', '1', '9.5');\n",
    "''')\n",
    "conn.commit()"
   ]
  },
  {
   "cell_type": "markdown",
   "metadata": {},
   "source": [
    "Actually, we don't need to `commit` after each `execution`, instead, we can `commit` once after a series of actions.  \n",
    "\n",
    "Let's select a record from the DB:"
   ]
  },
  {
   "cell_type": "code",
   "execution_count": 9,
   "metadata": {},
   "outputs": [
    {
     "name": "stdout",
     "output_type": "stream",
     "text": [
      "[(1, 'Sky', 2018, 'Action|Crime', 120, 1, 9.5)]\n"
     ]
    }
   ],
   "source": [
    "result = cur.execute('''\n",
    "SELECT * FROM `movie` WHERE `year`>2010 AND `rating`>9.0;\n",
    "''').fetchall()\n",
    "print(result)"
   ]
  },
  {
   "cell_type": "markdown",
   "metadata": {},
   "source": [
    "We use the `fetchall` method to fetch all the query results. \n",
    "\n",
    "The returned result is a list of tuples, which contains the value of fields you selected.\n",
    "\n",
    "Finaly, close the cursor and connection:"
   ]
  },
  {
   "cell_type": "code",
   "execution_count": null,
   "metadata": {},
   "outputs": [],
   "source": [
    "cur.close()\n",
    "conn.close()"
   ]
  },
  {
   "cell_type": "markdown",
   "metadata": {},
   "source": [
    "## Pandas"
   ]
  },
  {
   "cell_type": "code",
   "execution_count": 1,
   "metadata": {},
   "outputs": [
    {
     "name": "stdout",
     "output_type": "stream",
     "text": [
      "0    1\n",
      "1    3\n",
      "2    5\n",
      "3    4\n",
      "4    6\n",
      "5    8\n",
      "dtype: int64\n"
     ]
    }
   ],
   "source": [
    "import pandas as pd\n",
    "\n",
    "s = pd.Series([1, 3, 5, 4, 6, 8])\n",
    "print(s)"
   ]
  },
  {
   "cell_type": "code",
   "execution_count": 2,
   "metadata": {},
   "outputs": [
    {
     "name": "stdout",
     "output_type": "stream",
     "text": [
      "        one       two\n",
      "a  1.195455 -0.765270\n",
      "b  0.296938  0.410411\n",
      "c -0.288035 -1.309089\n",
      "d       NaN -0.133508\n"
     ]
    }
   ],
   "source": [
    "import numpy as np\n",
    "import pandas as pd\n",
    "df = pd.DataFrame(\n",
    "            {\n",
    "               \"one\": pd.Series(np.random.randn(3), index=[\"a\", \"b\", \"c\"]),\n",
    "               \"two\": pd.Series(np.random.randn(4), index=[\"a\", \"b\", \"c\", \"d\"])\n",
    "           }\n",
    "       )\n",
    "\n",
    "print(df)"
   ]
  },
  {
   "cell_type": "markdown",
   "metadata": {},
   "source": [
    "## ⇒ Part 9 NumPy Basics\n",
    "***\n",
    "\n",
    "NumPy is a package for scientific computing and data analysis.\n",
    "\n",
    "NumPy provides a multi-dimensional array data structure, `ndarray`, which is a fast, flexible container for large data sets in Python.\n",
    "\n",
    "In an ndarray, all the elements must be the same type.\n",
    "Every ndarray has a `shape`, which is a tuple indicating the size of each dimension, and a `dtype`, describing the data type of the elements in the array."
   ]
  },
  {
   "cell_type": "code",
   "execution_count": 5,
   "metadata": {},
   "outputs": [
    {
     "name": "stdout",
     "output_type": "stream",
     "text": [
      "[[ 0  1  2  3  4]\n",
      " [ 5  6  7  8  9]\n",
      " [10 11 12 13 14]]\n",
      "(3, 5)\n",
      "2\n",
      "int32\n",
      "15\n"
     ]
    }
   ],
   "source": [
    "import numpy as np\n",
    "a = np.arange(15).reshape(3, 5)\n",
    "print(a)\n",
    "\n",
    "print(a.shape)\n",
    "\n",
    "print(a.ndim)\n",
    "\n",
    "print(a.dtype.name)\n",
    "\n",
    "print(a.size)"
   ]
  },
  {
   "cell_type": "markdown",
   "metadata": {},
   "source": [
    "### §9.1 Array Creation\n",
    "\n",
    "The most common way to create an ndarray is through a regular Python list or tuple using `array` function:"
   ]
  },
  {
   "cell_type": "code",
   "execution_count": 2,
   "metadata": {},
   "outputs": [
    {
     "name": "stdout",
     "output_type": "stream",
     "text": [
      "[1 2 3]\n"
     ]
    },
    {
     "data": {
      "text/plain": [
       "dtype('int32')"
      ]
     },
     "execution_count": 2,
     "metadata": {},
     "output_type": "execute_result"
    }
   ],
   "source": [
    "import numpy as np\n",
    "data = [1,2,3]\n",
    "a = np.array(data)\n",
    "print(a)\n",
    "a.dtype"
   ]
  },
  {
   "cell_type": "markdown",
   "metadata": {},
   "source": [
    "A frequent error consists in calling array with multiple arguments, rather than providing a single sequence as an argument."
   ]
  },
  {
   "cell_type": "code",
   "execution_count": 3,
   "metadata": {},
   "outputs": [
    {
     "ename": "TypeError",
     "evalue": "array() takes from 1 to 2 positional arguments but 4 were given",
     "output_type": "error",
     "traceback": [
      "\u001b[1;31m---------------------------------------------------------------------------\u001b[0m",
      "\u001b[1;31mTypeError\u001b[0m                                 Traceback (most recent call last)",
      "\u001b[1;32m<ipython-input-3-dfad7faaf733>\u001b[0m in \u001b[0;36m<module>\u001b[1;34m\u001b[0m\n\u001b[1;32m----> 1\u001b[1;33m \u001b[0ma\u001b[0m \u001b[1;33m=\u001b[0m \u001b[0mnp\u001b[0m\u001b[1;33m.\u001b[0m\u001b[0marray\u001b[0m\u001b[1;33m(\u001b[0m\u001b[1;36m1\u001b[0m\u001b[1;33m,\u001b[0m\u001b[1;36m2\u001b[0m\u001b[1;33m,\u001b[0m\u001b[1;36m3\u001b[0m\u001b[1;33m,\u001b[0m\u001b[1;36m4\u001b[0m\u001b[1;33m)\u001b[0m\u001b[1;33m\u001b[0m\u001b[1;33m\u001b[0m\u001b[0m\n\u001b[0m",
      "\u001b[1;31mTypeError\u001b[0m: array() takes from 1 to 2 positional arguments but 4 were given"
     ]
    }
   ],
   "source": [
    "a = np.array(1,2,3,4)"
   ]
  },
  {
   "cell_type": "code",
   "execution_count": 7,
   "metadata": {},
   "outputs": [
    {
     "name": "stdout",
     "output_type": "stream",
     "text": [
      "int32\n"
     ]
    }
   ],
   "source": [
    "b = np.array([1,2,3,4])\n",
    "print(b.dtype)"
   ]
  },
  {
   "cell_type": "markdown",
   "metadata": {},
   "source": [
    "> Be careful that the input argument is a `list`.\n",
    "\n",
    "The nested level decides the number of dimensions. For example, a sequence (can be list, tuple, etc.) of sequences is a two-dimensional array. "
   ]
  },
  {
   "cell_type": "code",
   "execution_count": 8,
   "metadata": {},
   "outputs": [
    {
     "data": {
      "text/plain": [
       "array([[ 2.1,  4. ,  7. ],\n",
       "       [-5. , 72. ,  4.3]])"
      ]
     },
     "execution_count": 8,
     "metadata": {},
     "output_type": "execute_result"
    }
   ],
   "source": [
    "arr = np.array([(2.1, 4, 7.0), (-5, 72, 4.3)])\n",
    "arr"
   ]
  },
  {
   "cell_type": "markdown",
   "metadata": {},
   "source": [
    "While creating an array, `np.array` will try to choose a proper data type for you."
   ]
  },
  {
   "cell_type": "code",
   "execution_count": 4,
   "metadata": {},
   "outputs": [
    {
     "data": {
      "text/plain": [
       "dtype('float64')"
      ]
     },
     "execution_count": 4,
     "metadata": {},
     "output_type": "execute_result"
    }
   ],
   "source": [
    "arr.dtype"
   ]
  },
  {
   "cell_type": "markdown",
   "metadata": {},
   "source": [
    "There are some other functions for creating new arrays:"
   ]
  },
  {
   "cell_type": "code",
   "execution_count": 9,
   "metadata": {},
   "outputs": [
    {
     "data": {
      "text/plain": [
       "array([[0., 0., 0.],\n",
       "       [0., 0., 0.],\n",
       "       [0., 0., 0.],\n",
       "       [0., 0., 0.],\n",
       "       [0., 0., 0.]])"
      ]
     },
     "execution_count": 9,
     "metadata": {},
     "output_type": "execute_result"
    }
   ],
   "source": [
    "np.zeros( (5,3) )"
   ]
  },
  {
   "cell_type": "code",
   "execution_count": 10,
   "metadata": {},
   "outputs": [
    {
     "data": {
      "text/plain": [
       "array([[1., 1., 1., 1.],\n",
       "       [1., 1., 1., 1.]])"
      ]
     },
     "execution_count": 10,
     "metadata": {},
     "output_type": "execute_result"
    }
   ],
   "source": [
    "np.ones( (2, 4) )"
   ]
  },
  {
   "cell_type": "code",
   "execution_count": 12,
   "metadata": {},
   "outputs": [
    {
     "data": {
      "text/plain": [
       "array([[6.94196918e-310, 6.94196918e-310, 2.91137470e-317,\n",
       "        9.88131292e-324, 0.00000000e+000, 0.00000000e+000],\n",
       "       [0.00000000e+000, 1.74569531e+238, 0.00000000e+000,\n",
       "        0.00000000e+000, 1.03056810e-012, 6.94194020e-310],\n",
       "       [5.39489646e-317, 1.03056810e-012, 6.94194020e-310,\n",
       "        5.39491227e-317, 4.05940981e-086, 0.00000000e+000],\n",
       "       [0.00000000e+000, 2.76999326e-057, 0.00000000e+000,\n",
       "        0.00000000e+000, 1.17385643e+165, 0.00000000e+000],\n",
       "       [0.00000000e+000, 1.00797184e-012, 6.94196352e-310,\n",
       "        5.39492808e-317, 1.10791775e-047, 6.94196758e-310]])"
      ]
     },
     "execution_count": 12,
     "metadata": {},
     "output_type": "execute_result"
    }
   ],
   "source": [
    "np.empty( (5, 6) ) # with garbage values"
   ]
  },
  {
   "cell_type": "code",
   "execution_count": 3,
   "metadata": {},
   "outputs": [
    {
     "data": {
      "text/plain": [
       "array([0, 1, 2, 3, 4, 5, 6, 7])"
      ]
     },
     "execution_count": 3,
     "metadata": {},
     "output_type": "execute_result"
    }
   ],
   "source": [
    "np.arange(8)"
   ]
  },
  {
   "cell_type": "code",
   "execution_count": 4,
   "metadata": {},
   "outputs": [
    {
     "data": {
      "text/plain": [
       "array([[1., 0., 0., 0.],\n",
       "       [0., 1., 0., 0.],\n",
       "       [0., 0., 1., 0.],\n",
       "       [0., 0., 0., 1.]])"
      ]
     },
     "execution_count": 4,
     "metadata": {},
     "output_type": "execute_result"
    }
   ],
   "source": [
    "np.eye(4) # identity"
   ]
  },
  {
   "cell_type": "code",
   "execution_count": 5,
   "metadata": {},
   "outputs": [
    {
     "data": {
      "text/plain": [
       "array([ 0.,  2.,  4.,  6.,  8., 10., 12., 14., 16., 18.])"
      ]
     },
     "execution_count": 5,
     "metadata": {},
     "output_type": "execute_result"
    }
   ],
   "source": [
    "np.linspace(0, 18, 10)  # 10 numbers from 0 to 18"
   ]
  },
  {
   "cell_type": "code",
   "execution_count": 6,
   "metadata": {},
   "outputs": [
    {
     "data": {
      "image/png": "[encoded data removed]",
      "text/plain": [
       "<Figure size 432x288 with 1 Axes>"
      ]
     },
     "metadata": {
      "needs_background": "light"
     },
     "output_type": "display_data"
    }
   ],
   "source": [
    "import matplotlib.pyplot as plt\n",
    "\n",
    "x_ = np.linspace(-5, 5, 100)\n",
    "y_ = 4 * (x_**3) + 2 * (x_**2) + 5 * x_\n",
    "plt.plot(x_, y_)\n",
    "plt.show()"
   ]
  },
  {
   "cell_type": "markdown",
   "metadata": {},
   "source": [
    "You can specify the data type of the created array by setting the `dtype` argument:"
   ]
  },
  {
   "cell_type": "code",
   "execution_count": 24,
   "metadata": {},
   "outputs": [
    {
     "data": {
      "text/plain": [
       "array([1., 2., 3.])"
      ]
     },
     "execution_count": 24,
     "metadata": {},
     "output_type": "execute_result"
    }
   ],
   "source": [
    "np.array([1,2,3], dtype=np.float64)"
   ]
  },
  {
   "cell_type": "markdown",
   "metadata": {},
   "source": [
    "> Note  \n",
    "You can explicitly convert an array from one dtype to another using `astype`.  \n",
    "e.g. arr.astype(np.int32)"
   ]
  },
  {
   "cell_type": "markdown",
   "metadata": {},
   "source": [
    "When you print an array, NumPy displays it in a similar way to nested lists, but with the following layout:\n",
    "\n",
    "- the last axis is printed from left to right,\n",
    "\n",
    "- the second-to-last is printed from top to bottom,\n",
    "\n",
    "- the rest are also printed from top to bottom, with each slice separated from the next by an empty line.\n",
    "\n",
    "One-dimensional arrays are then printed as rows, bidimensionals as matrices and tridimensionals as lists of matrices."
   ]
  },
  {
   "cell_type": "code",
   "execution_count": 16,
   "metadata": {},
   "outputs": [
    {
     "name": "stdout",
     "output_type": "stream",
     "text": [
      "[0 1 2 3 4 5]\n"
     ]
    }
   ],
   "source": [
    "a = np.arange(6)  # 1d array\n",
    "print(a)"
   ]
  },
  {
   "cell_type": "code",
   "execution_count": 17,
   "metadata": {},
   "outputs": [
    {
     "name": "stdout",
     "output_type": "stream",
     "text": [
      "[[ 0  1  2]\n",
      " [ 3  4  5]\n",
      " [ 6  7  8]\n",
      " [ 9 10 11]]\n"
     ]
    }
   ],
   "source": [
    "b = np.arange(12).reshape(4,3) # 2d array\n",
    "print(b)"
   ]
  },
  {
   "cell_type": "code",
   "execution_count": 18,
   "metadata": {},
   "outputs": [
    {
     "name": "stdout",
     "output_type": "stream",
     "text": [
      "[[[ 0  1  2  3]\n",
      "  [ 4  5  6  7]\n",
      "  [ 8  9 10 11]]\n",
      "\n",
      " [[12 13 14 15]\n",
      "  [16 17 18 19]\n",
      "  [20 21 22 23]]]\n"
     ]
    }
   ],
   "source": [
    "c = np.arange(24).reshape(2,3,4) # 3d array\n",
    "print(c)"
   ]
  },
  {
   "cell_type": "markdown",
   "metadata": {},
   "source": [
    "### §9.2 Array Attributes\n",
    "\n",
    "`.ndim`  \n",
    "the number of dimensions (rank)\n",
    "\n",
    "`.shape`  \n",
    "the dimensions of the array represented as a tuple\n",
    "\n",
    "`.size`  \n",
    "the number of items in the array, which is also the product of the numbers in `.shape`\n",
    "\n",
    "`.dtype`  \n",
    "the data type of the items in the array\n",
    "\n",
    "`.itemsize`  \n",
    "the size of bytes of each item in the array\n"
   ]
  },
  {
   "cell_type": "code",
   "execution_count": 28,
   "metadata": {
    "scrolled": true
   },
   "outputs": [
    {
     "name": "stdout",
     "output_type": "stream",
     "text": [
      "Dimension: 2\n",
      "Shape:     (3, 5)\n",
      "Size:      15\n",
      "Type:      int64\n",
      "Item size: 8\n"
     ]
    }
   ],
   "source": [
    "arr = np.array( [ [1, 2, 3, 4, 5],\n",
    "                  [9, 7, 5, 3, 1],\n",
    "                  [-2, 4, -6, 8, -10]] )\n",
    "print( \"Dimension:\", arr.ndim )\n",
    "print( \"Shape:    \", arr.shape )\n",
    "print( \"Size:     \", arr.size )\n",
    "print( \"Type:     \", arr.dtype )\n",
    "print( \"Item size:\", arr.itemsize )"
   ]
  },
  {
   "cell_type": "markdown",
   "metadata": {},
   "source": [
    "> ⇨ Exercise 8.2.1  \n",
    "Try printing a one-dimensional array, two-dimensional array, three-dimensional array, and so on, and see how they are printed.\n",
    "\n",
    "### §9.3 Basic Operations\n",
    "Any arithmetic operations between equal-size arrays applies the operation elementwise:\n"
   ]
  },
  {
   "cell_type": "code",
   "execution_count": 7,
   "metadata": {},
   "outputs": [
    {
     "data": {
      "text/plain": [
       "array([[1, 3, 5],\n",
       "       [2, 4, 6]])"
      ]
     },
     "execution_count": 7,
     "metadata": {},
     "output_type": "execute_result"
    }
   ],
   "source": [
    "arr = np.array([[1, 3, 5], [2, 4, 6]])\n",
    "arr"
   ]
  },
  {
   "cell_type": "code",
   "execution_count": 8,
   "metadata": {},
   "outputs": [
    {
     "data": {
      "text/plain": [
       "array([[ 2,  6, 10],\n",
       "       [ 4,  8, 12]])"
      ]
     },
     "execution_count": 8,
     "metadata": {},
     "output_type": "execute_result"
    }
   ],
   "source": [
    "arr + arr"
   ]
  },
  {
   "cell_type": "code",
   "execution_count": 6,
   "metadata": {},
   "outputs": [
    {
     "data": {
      "text/plain": [
       "array([[ 1,  9, 25],\n",
       "       [ 4, 16, 36]])"
      ]
     },
     "execution_count": 6,
     "metadata": {},
     "output_type": "execute_result"
    }
   ],
   "source": [
    "arr * arr"
   ]
  },
  {
   "cell_type": "markdown",
   "metadata": {},
   "source": [
    "When doing arithmetic operations with scalars, the operation will take effects on each item:"
   ]
  },
  {
   "cell_type": "code",
   "execution_count": 8,
   "metadata": {},
   "outputs": [
    {
     "data": {
      "text/plain": [
       "array([[0.5, 1.5, 2.5],\n",
       "       [1. , 2. , 3. ]])"
      ]
     },
     "execution_count": 8,
     "metadata": {},
     "output_type": "execute_result"
    }
   ],
   "source": [
    "arr / 2"
   ]
  },
  {
   "cell_type": "code",
   "execution_count": 9,
   "metadata": {},
   "outputs": [
    {
     "data": {
      "text/plain": [
       "array([[1.        , 1.73205081, 2.23606798],\n",
       "       [1.41421356, 2.        , 2.44948974]])"
      ]
     },
     "execution_count": 9,
     "metadata": {},
     "output_type": "execute_result"
    }
   ],
   "source": [
    "arr ** 0.5"
   ]
  },
  {
   "cell_type": "code",
   "execution_count": 15,
   "metadata": {},
   "outputs": [
    {
     "data": {
      "text/plain": [
       "array([[ True,  True, False],\n",
       "       [ True,  True, False]])"
      ]
     },
     "execution_count": 15,
     "metadata": {},
     "output_type": "execute_result"
    }
   ],
   "source": [
    "arr < 5"
   ]
  },
  {
   "cell_type": "markdown",
   "metadata": {},
   "source": [
    "Unlike in many matrix languages, the product operator * operates elementwise in NumPy arrays. The matrix product can be performed using the @ operator (in python >=3.5) or the dot function or method:"
   ]
  },
  {
   "cell_type": "code",
   "execution_count": 10,
   "metadata": {},
   "outputs": [
    {
     "name": "stdout",
     "output_type": "stream",
     "text": [
      "[[11 16]\n",
      " [ 3  4]]\n",
      "[[11 16]\n",
      " [ 3  4]]\n"
     ]
    }
   ],
   "source": [
    "X = np.array( [ [2, 3],   # [ [a,b],\n",
    "                [0, 1] ]) #   [c,d] ]\n",
    "Y = np.array( [ [1, 2],   # [ [e,f],\n",
    "                [3, 4] ]) #   [g,h] ]\n",
    "print(X @ Y)\n",
    "print(X.dot(Y))\n",
    "\n",
    "#[ [a*e+b*g, a*f+b*h]\n",
    "#  [c*e+d*g, c*f+d*h] ]"
   ]
  },
  {
   "cell_type": "markdown",
   "metadata": {},
   "source": [
    "Assignment operations, such as `+=`, `*=`, will modify the existing array, rather than create a new one."
   ]
  },
  {
   "cell_type": "code",
   "execution_count": 19,
   "metadata": {},
   "outputs": [
    {
     "data": {
      "text/plain": [
       "array([[5., 5.],\n",
       "       [5., 5.],\n",
       "       [5., 5.]])"
      ]
     },
     "execution_count": 19,
     "metadata": {},
     "output_type": "execute_result"
    }
   ],
   "source": [
    "arr = np.zeros( (3, 2) )\n",
    "arr += 5\n",
    "arr"
   ]
  },
  {
   "cell_type": "markdown",
   "metadata": {},
   "source": [
    "### §9.4 Basic Indexing and Slicing\n",
    "\n",
    "Indexing and slicing on a one-dimensional array is the same as on a list.  \n",
    "For multi-dimensional arryas, these indices are given in a tuple separated by commas,  \n",
    "i.e. `arr[(1st dimension), (2nd dimension), (3rd dimension), ...]`"
   ]
  },
  {
   "cell_type": "code",
   "execution_count": 11,
   "metadata": {},
   "outputs": [
    {
     "data": {
      "text/plain": [
       "array([[0, 1, 2],\n",
       "       [3, 4, 5],\n",
       "       [6, 7, 8]])"
      ]
     },
     "execution_count": 11,
     "metadata": {},
     "output_type": "execute_result"
    }
   ],
   "source": [
    "arr = np.arange(9).reshape(3,3)\n",
    "arr"
   ]
  },
  {
   "cell_type": "code",
   "execution_count": 12,
   "metadata": {},
   "outputs": [
    {
     "data": {
      "text/plain": [
       "5"
      ]
     },
     "execution_count": 12,
     "metadata": {},
     "output_type": "execute_result"
    }
   ],
   "source": [
    "arr[1,2] # the element on the 2nd row, 3rd column"
   ]
  },
  {
   "cell_type": "code",
   "execution_count": 13,
   "metadata": {},
   "outputs": [
    {
     "data": {
      "text/plain": [
       "array([1, 4, 7])"
      ]
     },
     "execution_count": 13,
     "metadata": {},
     "output_type": "execute_result"
    }
   ],
   "source": [
    "arr[0:3, 1] # row from 0 to 3 in the 2nd column"
   ]
  },
  {
   "cell_type": "code",
   "execution_count": 14,
   "metadata": {},
   "outputs": [
    {
     "data": {
      "text/plain": [
       "array([1, 4, 7])"
      ]
     },
     "execution_count": 14,
     "metadata": {},
     "output_type": "execute_result"
    }
   ],
   "source": [
    "arr[:, 1] # same as above"
   ]
  },
  {
   "cell_type": "code",
   "execution_count": 15,
   "metadata": {},
   "outputs": [
    {
     "data": {
      "text/plain": [
       "array([[3, 4, 5],\n",
       "       [6, 7, 8]])"
      ]
     },
     "execution_count": 15,
     "metadata": {},
     "output_type": "execute_result"
    }
   ],
   "source": [
    "arr[1:3, :] # 2nd and 3rd (1:3) rows of all collumns"
   ]
  },
  {
   "cell_type": "markdown",
   "metadata": {},
   "source": [
    "> ⇨ Exercise 8.4.1  \n",
    "Try to predict the following slicing result on a 3*3 array  \n",
    "`arr[:2, 1:]`\n",
    ">  \n",
    "`arr[2]`\n",
    "`arr[2, :]`\n",
    "`arr[2:, :]`\n",
    ">  \n",
    "`arr[:, :2]`\n",
    ">  \n",
    "`arr[1, :2]`\n",
    "`arr[1:2, :2]`"
   ]
  },
  {
   "cell_type": "markdown",
   "metadata": {},
   "source": [
    "### Array index tricks\n",
    "\n",
    "NumPy offers more indexing facilities than regular Python sequences. In addition to indexing by integers and slices, as we saw before, arrays can be indexed by arrays of integers and arrays of booleans."
   ]
  },
  {
   "cell_type": "code",
   "execution_count": 19,
   "metadata": {},
   "outputs": [
    {
     "name": "stdout",
     "output_type": "stream",
     "text": [
      "[  0   1   4   9  16  25  36  49  64  81 100 121]\n"
     ]
    },
    {
     "data": {
      "text/plain": [
       "array([ 1,  1,  9, 64, 25], dtype=int32)"
      ]
     },
     "execution_count": 19,
     "metadata": {},
     "output_type": "execute_result"
    }
   ],
   "source": [
    "a = np.arange(12)**2 # the first 12 square numbers\n",
    "i = np.array([1, 1, 3, 8, 5]) # an array of indices\n",
    "print(a)\n",
    "\n",
    "a[i]"
   ]
  },
  {
   "cell_type": "code",
   "execution_count": 21,
   "metadata": {},
   "outputs": [
    {
     "data": {
      "text/plain": [
       "array([[ 9, 16],\n",
       "       [81, 49]], dtype=int32)"
      ]
     },
     "execution_count": 21,
     "metadata": {},
     "output_type": "execute_result"
    }
   ],
   "source": [
    "j = np.array([[3, 4], [9, 7]]) # a bidimensional array of indices\n",
    "a[j]"
   ]
  },
  {
   "cell_type": "code",
   "execution_count": 20,
   "metadata": {},
   "outputs": [
    {
     "data": {
      "text/plain": [
       "array([[[  0,   0,   0],\n",
       "        [255,   0,   0],\n",
       "        [  0, 255,   0],\n",
       "        [  0,   0,   0]],\n",
       "\n",
       "       [[  0,   0,   0],\n",
       "        [  0,   0, 255],\n",
       "        [255, 255, 255],\n",
       "        [  0,   0,   0]]])"
      ]
     },
     "execution_count": 20,
     "metadata": {},
     "output_type": "execute_result"
    }
   ],
   "source": [
    "palette = np.array([[0, 0, 0],         # black\n",
    "                    [255, 0, 0],       # red\n",
    "                    [0, 255, 0],       # green\n",
    "                    [0, 0, 255],       # blue\n",
    "                    [255, 255, 255]])  # white\n",
    "\n",
    "image = np.array([[0, 1, 2, 0],        \n",
    "                  [0, 3, 4, 0]])\n",
    "# each value corresponds to a color in the palette\n",
    "\n",
    "palette[image] # the (2, 4, 3) color image"
   ]
  },
  {
   "cell_type": "markdown",
   "metadata": {},
   "source": [
    "The most natural way one can think of for boolean indexing is to use boolean arrays that have the same shape as the original array:"
   ]
  },
  {
   "cell_type": "code",
   "execution_count": 25,
   "metadata": {},
   "outputs": [
    {
     "data": {
      "text/plain": [
       "array([[False, False, False, False],\n",
       "       [False,  True,  True,  True],\n",
       "       [ True,  True,  True,  True]])"
      ]
     },
     "execution_count": 25,
     "metadata": {},
     "output_type": "execute_result"
    }
   ],
   "source": [
    "a = np.arange(12).reshape(3,4)\n",
    "b = a > 4\n",
    "b # b is a boolean with a's shape"
   ]
  },
  {
   "cell_type": "code",
   "execution_count": 26,
   "metadata": {},
   "outputs": [
    {
     "data": {
      "text/plain": [
       "array([ 5,  6,  7,  8,  9, 10, 11])"
      ]
     },
     "execution_count": 26,
     "metadata": {},
     "output_type": "execute_result"
    }
   ],
   "source": [
    "a[b] # 1d array with the selected elements"
   ]
  },
  {
   "cell_type": "markdown",
   "metadata": {},
   "source": [
    "This property can be very useful in assignments:"
   ]
  },
  {
   "cell_type": "code",
   "execution_count": 27,
   "metadata": {},
   "outputs": [
    {
     "data": {
      "text/plain": [
       "array([[0, 1, 2, 3],\n",
       "       [4, 0, 0, 0],\n",
       "       [0, 0, 0, 0]])"
      ]
     },
     "execution_count": 27,
     "metadata": {},
     "output_type": "execute_result"
    }
   ],
   "source": [
    "a[b] = 0\n",
    "a"
   ]
  },
  {
   "cell_type": "markdown",
   "metadata": {},
   "source": [
    "### §9.5 Funtions and Methods\n",
    "`.random.random`  \n",
    "Return random floats in the half-open interval [0.0, 1.0)."
   ]
  },
  {
   "cell_type": "code",
   "execution_count": 1,
   "metadata": {},
   "outputs": [
    {
     "data": {
      "text/plain": [
       "array([0.26166948, 0.52634598, 0.11630677, 0.27079236, 0.1666527 ])"
      ]
     },
     "execution_count": 1,
     "metadata": {},
     "output_type": "execute_result"
    }
   ],
   "source": [
    "np.random.random(5)"
   ]
  },
  {
   "cell_type": "markdown",
   "metadata": {},
   "source": [
    "`.random.normal`  \n",
    "Draw random samples from a normal (Gaussian) distribution."
   ]
  },
  {
   "cell_type": "code",
   "execution_count": 28,
   "metadata": {},
   "outputs": [
    {
     "data": {
      "image/png": "[encoded data removed]",
      "text/plain": [
       "<Figure size 432x288 with 1 Axes>"
      ]
     },
     "metadata": {
      "needs_background": "light"
     },
     "output_type": "display_data"
    }
   ],
   "source": [
    "import matplotlib.pyplot as plt\n",
    "values= np.random.normal(size=100)\n",
    "plt.hist(values, 30)\n",
    "plt.show()"
   ]
  },
  {
   "cell_type": "markdown",
   "metadata": {},
   "source": [
    "`.random.permutation`  \n",
    "Randomly permute a sequence, or return a permuted range."
   ]
  },
  {
   "cell_type": "code",
   "execution_count": 22,
   "metadata": {},
   "outputs": [
    {
     "data": {
      "text/plain": [
       "array([3, 1, 2, 4, 0])"
      ]
     },
     "execution_count": 22,
     "metadata": {},
     "output_type": "execute_result"
    }
   ],
   "source": [
    "np.random.permutation(5)"
   ]
  },
  {
   "cell_type": "code",
   "execution_count": 23,
   "metadata": {},
   "outputs": [
    {
     "data": {
      "text/plain": [
       "array([ 5,  2,  3,  0, 10])"
      ]
     },
     "execution_count": 23,
     "metadata": {},
     "output_type": "execute_result"
    }
   ],
   "source": [
    "np.random.permutation([3, 5, 2, 10, 0])"
   ]
  },
  {
   "cell_type": "markdown",
   "metadata": {},
   "source": [
    "`.floor`  \n",
    "Return the floor of the input, element-wise."
   ]
  },
  {
   "cell_type": "code",
   "execution_count": 2,
   "metadata": {},
   "outputs": [
    {
     "data": {
      "text/plain": [
       "array([-3., -2., -2.,  0.,  1.])"
      ]
     },
     "execution_count": 2,
     "metadata": {},
     "output_type": "execute_result"
    }
   ],
   "source": [
    "arr = np.array([-2.5, -1.7, -2.0, 0.2, 1.3])\n",
    "np.floor(arr)"
   ]
  },
  {
   "cell_type": "markdown",
   "metadata": {},
   "source": [
    "`.vstack`  \n",
    "Stack arrays in sequence vertically (row wise)."
   ]
  },
  {
   "cell_type": "code",
   "execution_count": 3,
   "metadata": {},
   "outputs": [
    {
     "data": {
      "text/plain": [
       "array([[1, 2, 3],\n",
       "       [4, 5, 6]])"
      ]
     },
     "execution_count": 3,
     "metadata": {},
     "output_type": "execute_result"
    }
   ],
   "source": [
    "a = np.array([1, 2, 3])\n",
    "b = np.array([4, 5, 6])\n",
    "np.vstack((a,b))"
   ]
  },
  {
   "cell_type": "markdown",
   "metadata": {},
   "source": [
    "`.hstack`  \n",
    "Stack arrays in sequence horizontally (column wise)."
   ]
  },
  {
   "cell_type": "code",
   "execution_count": 5,
   "metadata": {},
   "outputs": [
    {
     "data": {
      "text/plain": [
       "array([[1, 2, 5, 6],\n",
       "       [3, 4, 7, 8]])"
      ]
     },
     "execution_count": 5,
     "metadata": {},
     "output_type": "execute_result"
    }
   ],
   "source": [
    "a = np.array([(1,2),(3,4)])\n",
    "b = np.array([(5,6),(7,8)])\n",
    "np.hstack((a,b))"
   ]
  },
  {
   "cell_type": "markdown",
   "metadata": {},
   "source": [
    "`.hsplit`  \n",
    "Split an array into multiple sub-arrays horizontally (column-wise)."
   ]
  },
  {
   "cell_type": "code",
   "execution_count": 10,
   "metadata": {},
   "outputs": [
    {
     "data": {
      "text/plain": [
       "[array([[0, 1],\n",
       "        [4, 5],\n",
       "        [8, 9]]), array([[ 2,  3],\n",
       "        [ 6,  7],\n",
       "        [10, 11]])]"
      ]
     },
     "execution_count": 10,
     "metadata": {},
     "output_type": "execute_result"
    }
   ],
   "source": [
    "x = np.arange(12).reshape(3, 4)\n",
    "np.hsplit(x, 2)"
   ]
  },
  {
   "cell_type": "markdown",
   "metadata": {},
   "source": [
    "`.vsplit`  \n",
    "Split an array into multiple sub-arrays vertically (row-wise)."
   ]
  },
  {
   "cell_type": "code",
   "execution_count": 11,
   "metadata": {},
   "outputs": [
    {
     "data": {
      "text/plain": [
       "[array([[0, 1],\n",
       "        [2, 3]]), array([[4, 5],\n",
       "        [6, 7]])]"
      ]
     },
     "execution_count": 11,
     "metadata": {},
     "output_type": "execute_result"
    }
   ],
   "source": [
    "x = np.arange(8).reshape(4, 2)\n",
    "np.vsplit(x, 2)"
   ]
  },
  {
   "cell_type": "markdown",
   "metadata": {},
   "source": [
    "`.split`  \n",
    "`.array_split`  \n",
    "Split an array into multiple sub-arrays."
   ]
  },
  {
   "cell_type": "code",
   "execution_count": 10,
   "metadata": {},
   "outputs": [
    {
     "data": {
      "text/plain": [
       "[array([0, 1, 2, 3]), array([4, 5, 6])]"
      ]
     },
     "execution_count": 10,
     "metadata": {},
     "output_type": "execute_result"
    }
   ],
   "source": [
    "import numpy as np\n",
    "x = np.arange(7)\n",
    "np.array_split(x, 2)"
   ]
  },
  {
   "cell_type": "markdown",
   "metadata": {},
   "source": [
    "`.diag`  \n",
    "Extract a diagonal or construct a diagonal array."
   ]
  },
  {
   "cell_type": "code",
   "execution_count": 30,
   "metadata": {},
   "outputs": [
    {
     "data": {
      "text/plain": [
       "array([[0, 1, 2],\n",
       "       [3, 4, 5],\n",
       "       [6, 7, 8]])"
      ]
     },
     "execution_count": 30,
     "metadata": {},
     "output_type": "execute_result"
    }
   ],
   "source": [
    "x = np.arange(9).reshape((3,3))\n",
    "x"
   ]
  },
  {
   "cell_type": "code",
   "execution_count": 31,
   "metadata": {},
   "outputs": [
    {
     "data": {
      "text/plain": [
       "array([0, 4, 8])"
      ]
     },
     "execution_count": 31,
     "metadata": {},
     "output_type": "execute_result"
    }
   ],
   "source": [
    "np.diag(x)"
   ]
  },
  {
   "cell_type": "code",
   "execution_count": 12,
   "metadata": {},
   "outputs": [
    {
     "data": {
      "text/plain": [
       "array([[0, 0, 0],\n",
       "       [0, 4, 0],\n",
       "       [0, 0, 8]])"
      ]
     },
     "execution_count": 12,
     "metadata": {},
     "output_type": "execute_result"
    }
   ],
   "source": [
    "np.diag(np.diag(x))"
   ]
  },
  {
   "cell_type": "markdown",
   "metadata": {},
   "source": [
    "#### Universal Functions\n",
    "A universal function, or `ufunc` is a function that performs elementwise operations on data in `ndarray`.  \n",
    "**Unary ufuncs**  \n",
    "`abs`  "
   ]
  },
  {
   "cell_type": "code",
   "execution_count": 32,
   "metadata": {},
   "outputs": [
    {
     "data": {
      "text/plain": [
       "array([ 3. ,  6. ,  0. , 19. ,  5.4])"
      ]
     },
     "execution_count": 32,
     "metadata": {},
     "output_type": "execute_result"
    }
   ],
   "source": [
    "arr = np.array([3, -6, 0, 19, -5.4])\n",
    "np.abs(arr)"
   ]
  },
  {
   "cell_type": "markdown",
   "metadata": {},
   "source": [
    "`sqrt`  \n",
    "`square`  \n",
    "`exp`  \n",
    "`log`,`log10`, `log2`   \n",
    "`ceil`  \n",
    "`floor`  \n",
    "\n",
    "**Binary ufuncs**  \n",
    "`add`  "
   ]
  },
  {
   "cell_type": "code",
   "execution_count": 14,
   "metadata": {},
   "outputs": [
    {
     "data": {
      "text/plain": [
       "array([ 6,  8, 10, 12])"
      ]
     },
     "execution_count": 14,
     "metadata": {},
     "output_type": "execute_result"
    }
   ],
   "source": [
    "arr1 = np.array([1,2,3,4])\n",
    "arr2 = np.array([5,6,7,8])\n",
    "np.add(arr1, arr2)"
   ]
  },
  {
   "cell_type": "markdown",
   "metadata": {},
   "source": [
    "`subtract`  \n",
    "`multiply`  \n",
    "`divide`, `floor_divide`  \n",
    "`power`  "
   ]
  },
  {
   "cell_type": "markdown",
   "metadata": {},
   "source": [
    "`maximum`  "
   ]
  },
  {
   "cell_type": "code",
   "execution_count": 33,
   "metadata": {},
   "outputs": [
    {
     "data": {
      "text/plain": [
       "array([2, 4, 6, 8])"
      ]
     },
     "execution_count": 33,
     "metadata": {},
     "output_type": "execute_result"
    }
   ],
   "source": [
    "arr1 = np.array([1,4,5,8])\n",
    "arr2 = np.array([2,3,6,7])\n",
    "np.maximum(arr1, arr2)"
   ]
  },
  {
   "cell_type": "markdown",
   "metadata": {},
   "source": [
    "`minimum`  \n",
    "`mod`  \n",
    "`greater`, `greater_equal`  \n",
    "`less`, `less_equal`, `equal`  \n",
    "`not_equal`  \n",
    "\n",
    "#### Mathematical and Statistical Methods\n",
    "`.sum`  \n",
    "Sum of all the elements in the array or along an axis. Zero-length arrays have sum 0.  "
   ]
  },
  {
   "cell_type": "code",
   "execution_count": 34,
   "metadata": {},
   "outputs": [
    {
     "data": {
      "text/plain": [
       "45"
      ]
     },
     "execution_count": 34,
     "metadata": {},
     "output_type": "execute_result"
    }
   ],
   "source": [
    "arr = np.arange(10)\n",
    "arr.sum()"
   ]
  },
  {
   "cell_type": "markdown",
   "metadata": {},
   "source": [
    "`.mean`  \n",
    "`.std`, `.var`  \n",
    "`.min`, `.max`  \n",
    "`.argmin`, `.argmax`  \n",
    "Indives of minimum and maximum elements, respectively.  \n",
    "`.cumsum`  \n",
    "Cumulative sum of elements starting from 0.  \n",
    "`.cumprod`   \n",
    "Cumulative product of elements starting from 1.  "
   ]
  },
  {
   "cell_type": "markdown",
   "metadata": {},
   "source": [
    "### §9.6 Data Processing Using Arrays\n",
    "** Expressing Conditional Logics as Array Operations **  \n",
    "The is a `where` function in NumPy that allows us to create a new array of values base on another array."
   ]
  },
  {
   "cell_type": "code",
   "execution_count": 35,
   "metadata": {},
   "outputs": [
    {
     "data": {
      "text/plain": [
       "array([[ 0.66475571, -1.67258499, -0.68724068],\n",
       "       [-1.14677306, -0.74840783, -0.88483543],\n",
       "       [ 1.08542353,  0.12343565,  0.18753589]])"
      ]
     },
     "execution_count": 35,
     "metadata": {},
     "output_type": "execute_result"
    }
   ],
   "source": [
    "arr = np.random.randn(3,3)\n",
    "arr"
   ]
  },
  {
   "cell_type": "code",
   "execution_count": 37,
   "metadata": {},
   "outputs": [
    {
     "data": {
      "text/plain": [
       "array([[0.66475571, 0.        , 0.        ],\n",
       "       [0.        , 0.        , 0.        ],\n",
       "       [1.08542353, 0.12343565, 0.18753589]])"
      ]
     },
     "execution_count": 37,
     "metadata": {},
     "output_type": "execute_result"
    }
   ],
   "source": [
    "# if the value less than 0, then 0, otherwise, unchanged\n",
    "np.where(arr < 0, 0, arr) "
   ]
  },
  {
   "cell_type": "markdown",
   "metadata": {},
   "source": [
    "**Methods for Boolean Arrays**  \n"
   ]
  },
  {
   "cell_type": "markdown",
   "metadata": {},
   "source": [
    "`sum` is often used to count `True` values in a boolean array."
   ]
  },
  {
   "cell_type": "code",
   "execution_count": 38,
   "metadata": {},
   "outputs": [
    {
     "data": {
      "text/plain": [
       "4"
      ]
     },
     "execution_count": 38,
     "metadata": {},
     "output_type": "execute_result"
    }
   ],
   "source": [
    "(arr > 0).sum()"
   ]
  },
  {
   "cell_type": "markdown",
   "metadata": {},
   "source": [
    "`any` and `all` are two methods used in boolean arrays.  \n",
    "`any` checks if one or more values in an array is `True`.  \n",
    "`all` checks if every value in an array is `True`."
   ]
  },
  {
   "cell_type": "code",
   "execution_count": 39,
   "metadata": {},
   "outputs": [
    {
     "name": "stdout",
     "output_type": "stream",
     "text": [
      "True\n",
      "False\n"
     ]
    }
   ],
   "source": [
    "bools = np.array([True, False, True, True])\n",
    "\n",
    "print( bools.any() )\n",
    "print( bools.all() )"
   ]
  },
  {
   "cell_type": "markdown",
   "metadata": {},
   "source": [
    "## ⇒ Part 10 Requesting Online Resources\n",
    "***\n",
    "Nowadays, most of the programs or applications requres access to the internet and downloads or uploads certatin data. In this part, let's look at how can we download data in Python in a convenient way.\n",
    "\n",
    "### §10.1 Using requests\n",
    "Making a request by a cetrain URL using `requests` module is very simple. First, install `requests` module by running\n",
    "```\n",
    "pip install requests\n",
    "```\n",
    "then import it in your code"
   ]
  },
  {
   "cell_type": "code",
   "execution_count": 2,
   "metadata": {},
   "outputs": [],
   "source": [
    "import requests"
   ]
  },
  {
   "cell_type": "markdown",
   "metadata": {},
   "source": [
    "Now, let's try to get some data from an API:"
   ]
  },
  {
   "cell_type": "code",
   "execution_count": 4,
   "metadata": {
    "scrolled": false
   },
   "outputs": [
    {
     "name": "stdout",
     "output_type": "stream",
     "text": [
      "Hello World!\n"
     ]
    }
   ],
   "source": [
    "r = requests.get('https://www.xcourse.sg/test/python/api/hello')\n",
    "print(r.text)"
   ]
  },
  {
   "cell_type": "markdown",
   "metadata": {},
   "source": [
    "By passing the URL to the `requests.get` function, we can get the response from the URL, which is a string `Hello Wrold`.  \n",
    "If you copy paste the URL to your browser, you can see the same result.\n",
    "\n",
    "Most of the webpages returns the HTML data, instead of plain text. Let's look at a more practical case.  \n",
    "Try the URL `https://www.xcourse.sg/practice/api/date` in your browser, you can see a title in large font size with samller text showing the current date. Right click the webpage and select `View Page Source`, you can see the following HTML code:\n",
    "```\n",
    "<h1>Hello World!</h1><p>Current Date: April 21, 2019</p>\n",
    "```\n",
    "If you want to extract certain information from the webpage, especially when you are writing a web crawler, you have to deal with such string containing HTML tags. In this simple example, let's try to extract the current month from it."
   ]
  },
  {
   "cell_type": "code",
   "execution_count": 5,
   "metadata": {},
   "outputs": [
    {
     "name": "stdout",
     "output_type": "stream",
     "text": [
      "April\n"
     ]
    }
   ],
   "source": [
    "r = requests.get('https://www.xcourse.sg/test/python/api/date')\n",
    "month = r.text.split('Date:')[1].split()[0]\n",
    "print(month)"
   ]
  },
  {
   "cell_type": "markdown",
   "metadata": {},
   "source": [
    "It is possbile to encounter network issues while requesting online resources, thus it is important to surround your requests with try-except blocks, check response status, as well as set timeout."
   ]
  },
  {
   "cell_type": "code",
   "execution_count": 6,
   "metadata": {},
   "outputs": [
    {
     "name": "stdout",
     "output_type": "stream",
     "text": [
      "April\n"
     ]
    }
   ],
   "source": [
    "try:\n",
    "    # set timeout as 5 seconds, to prevent endless waitting\n",
    "    r = requests.get('https://www.xcourse.sg/test/python/api/date', timeout=5)\n",
    "    if r.status_code == 200:\n",
    "        # HTTP 200 status response code indicates the request has succeeded\n",
    "        month = r.text.split('Date:')[1].split()[0]\n",
    "        print(month)\n",
    "    else:\n",
    "        print('Invalid response status')\n",
    "except:\n",
    "    print('Error occurred')"
   ]
  },
  {
   "cell_type": "markdown",
   "metadata": {},
   "source": [
    "### §10.2 Working with JSON Data\n"
   ]
  },
  {
   "cell_type": "markdown",
   "metadata": {},
   "source": [
    "JSON is one of the most popular formats for transferring data through APIs nowadays.  \n",
    "Python comes with a built-in module for encoding and decoding JSON data."
   ]
  },
  {
   "cell_type": "code",
   "execution_count": 10,
   "metadata": {},
   "outputs": [],
   "source": [
    "import json"
   ]
  },
  {
   "cell_type": "markdown",
   "metadata": {},
   "source": [
    "The following API returns random quote with some extra information in JSON format."
   ]
  },
  {
   "cell_type": "code",
   "execution_count": 8,
   "metadata": {},
   "outputs": [
    {
     "name": "stdout",
     "output_type": "stream",
     "text": [
      "{\"index\": 1, \"total\": 7, \"author\": \"Ralph Waldo Emerson\", \"language\": \"en\", \"quote\": \"Books are for nothing but to inspire\"}\n"
     ]
    }
   ],
   "source": [
    "import requests\n",
    "r = requests.get('https://www.xcourse.sg/test/python/api/quote')\n",
    "print(r.text)"
   ]
  },
  {
   "cell_type": "markdown",
   "metadata": {},
   "source": [
    "We can convert this JSON object (saved as a Python string) to a Python dictionary using `json.loads`"
   ]
  },
  {
   "cell_type": "code",
   "execution_count": 11,
   "metadata": {},
   "outputs": [
    {
     "data": {
      "text/plain": [
       "{'index': 1,\n",
       " 'total': 7,\n",
       " 'author': 'Ralph Waldo Emerson',\n",
       " 'language': 'en',\n",
       " 'quote': 'Books are for nothing but to inspire'}"
      ]
     },
     "execution_count": 11,
     "metadata": {},
     "output_type": "execute_result"
    }
   ],
   "source": [
    "json.loads(r.text)"
   ]
  },
  {
   "cell_type": "markdown",
   "metadata": {},
   "source": [
    "In case the response we got is not in JSON format, calling `json.loads` will cause exceptions. Again, it is better to surround this piece of code with a try-except block."
   ]
  },
  {
   "cell_type": "code",
   "execution_count": 12,
   "metadata": {},
   "outputs": [
    {
     "name": "stdout",
     "output_type": "stream",
     "text": [
      "Books are for nothing but to inspire\n"
     ]
    }
   ],
   "source": [
    "try:\n",
    "    data = json.loads(r.text)\n",
    "    print(data['quote'])\n",
    "except:\n",
    "    print('invalid JSON data')"
   ]
  },
  {
   "cell_type": "markdown",
   "metadata": {},
   "source": [
    "`json.dumps` can convert a Python dictionary to a JSON formatted string."
   ]
  },
  {
   "cell_type": "code",
   "execution_count": 47,
   "metadata": {},
   "outputs": [
    {
     "data": {
      "text/plain": [
       "'{\"key\": \"abc\", \"value\": \"Hello World\", \"valid\": true}'"
      ]
     },
     "execution_count": 47,
     "metadata": {},
     "output_type": "execute_result"
    }
   ],
   "source": [
    "json.dumps({'key': 'abc', 'value': 'Hello World', 'valid': True})"
   ]
  }
 ],
 "metadata": {
  "kernelspec": {
   "display_name": "Python 3",
   "language": "python",
   "name": "python3"
  },
  "language_info": {
   "codemirror_mode": {
    "name": "ipython",
    "version": 3
   },
   "file_extension": ".py",
   "mimetype": "text/x-python",
   "name": "python",
   "nbconvert_exporter": "python",
   "pygments_lexer": "ipython3",
   "version": "3.8.3"
  }
 },
 "nbformat": 4,
 "nbformat_minor": 2
}
