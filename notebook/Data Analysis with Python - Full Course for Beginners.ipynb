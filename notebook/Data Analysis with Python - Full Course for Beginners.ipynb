{
 "cells": [
  {
   "cell_type": "markdown",
   "metadata": {},
   "source": [
    "# <a name=\"0\">Data Analysis with Python: Full Course for Beginners</a>\n",
    "> Version 1.0 [Course](https://www.udemy.com/course/data-analysis-with-python-full-course-for-beginners/)\n",
    "by Jason Zhang\n",
    ">\n",
    "> Contact: jszhang0001@gmail.com;\n",
    "\n",
    "[Chapter 1:Introduction](#introduction)\n",
    "- [1.1 What is Python](#What_is_Python)\n",
    "- [1.2 Install Python](#install_python)\n",
    "- [1.3 Jupyter notebook](#jupyter_notebook)\n",
    "\n",
    "[Chapter 2:Python Basics](#python_basics)\n",
    "- [2.1 print](#print)\n",
    "- [2.2 variables](#variables)\n",
    "- [2.3 comments](#comments)\n",
    "- [2.4 Data types](#data_types)\n",
    "- [2.5 String Formatting](#string_formatting)\n",
    "- [2.6 Operators](#operators)\n",
    "- [2.7 Control Flow](#control_flow)\n",
    "- [2.8 Built-in Functions](#builtin_functions)\n",
    "- [2.9 Functions](#functions)\n",
    "\n",
    "[Chapter 3:Data Structure](#data_structure)\n",
    "- [3.1 List](#list)\n",
    "- [3.2 Tuple](#tuple)\n",
    "- [3.3 Dictionary](#dictionary)\n",
    "- [3.4 Set](#set)\n",
    "\n",
    "[Chapter 4:Pandas Guidebook](#pandas)\n",
    "- [4.1 packages](#packages)\n",
    "- [4.2 regular imports](#imports)\n",
    "- [4.3 pandas intro](#pandas_intro)\n",
    "- [4.4 View data](#view_data)\n",
    "- [4.5 Slicing & Indexing](#slice_index_pandas)\n",
    "- [4.6 Operations](#operations_pandas)\n",
    "- [4.7 Merge Data](#merge_data)\n",
    "- [4.8 Concatenate Data](#concat_data)\n",
    "- [4.9 Group data](#group_data)\n",
    "- [4.10 Get data in/out](#get_data_inout)\n",
    "- [4.11 Handle missing values](#handle_missing_value)\n",
    "\n",
    "[Chapter 5:Numpy Guidebook](#numpy)\n",
    "- [5.1 array creation](#array_creation)\n",
    "- [5.2 array attribute](#array_attributes)\n",
    "- [5.3 Basic operations](#array_operations)\n",
    "- [5.4 Slicing & Indexing](#slice_index_numpy)\n",
    "- [5.5 Functions & Methods](#functions_methods)\n",
    "- [5.6 Data processing using array](#data_processing_numpy)\n",
    "\n",
    "[Chapter 6:Functional Programming](#functional_programming)\n",
    "- [6.1 Lambda Function](#lambda)\n",
    "- [6.2 Filter](#filter)\n",
    "- [6.3 Map](#map)\n",
    "- [6.4 Reduce](#reduce)\n",
    "\n",
    "[Chapter 7:Exception handling](#exception_handling)\n",
    "\n",
    "[Chapter 8:Work with Files](#work_with_files_in_pythons)\n",
    "- [8.1 Read from files](#read_files)\n",
    "- [8.2 Write to files](#write_files)\n",
    "- [8.3 Working with JSON files](#work_with_json)\n"
   ]
  },
  {
   "cell_type": "markdown",
   "metadata": {},
   "source": [
    "## Chapter 1: Introduction<a id='introduction'></a>\n",
    "<a href=\"#0\">Go to top</a>\n",
    "***\n",
    "\n",
    "### §1.1 What is Python<a id='What_is_Python'></a>\n",
    "\n",
    "Python is an interpreted, high-level and general-purpose programming language. Python's design philosophy emphasizes code readability with its notable use of significant indentation.\n",
    "\n",
    "\n",
    "- An interpreted high-level programming language\n",
    "- Emphasizes code readability\n",
    "- With tons of data science libraries\n",
    "\n",
    "#### What can python do?\n",
    "- Software and web application development ([Django](https://www.djangoproject.com/), [Flask](https://palletsprojects.com/p/flask/)...)\n",
    "- Data processing, scientific computing ([Pandas](https://pandas.pydata.org/),[scipy](https://www.scipy.org/)...), \n",
    "- Machine learning, artificial intelligence ([scikit-learn](https://scikit-learn.org/stable/),[PySpark](https://spark.apache.org/docs/latest/api/python/index.html),[PyTorch](https://pytorch.org/)...)\n",
    "- System scripting, robotic processing\n",
    "- Blockchain ([Ethereum Development](https://ethereum.org/en/developers/docs/programming-languages/python/)...)\n",
    "- and many more...\n",
    "\n",
    "#### Why do we use Python\n",
    "- Easy to read\n",
    "- Easy to write\n",
    "- Easy to learn"
   ]
  },
  {
   "cell_type": "markdown",
   "metadata": {},
   "source": [
    "### §1.2 Install Python3<a id='install_python'></a>\n",
    "#### Windows\n",
    "Download Python installer from official website according to your Windows version (32-bit or 64-bit).  \n",
    "Run the downloaded installer program, remember to select `Add Python 3.x to PATH` before clicking `Install Now`.\n",
    "\n",
    "To run Python3 REPL (interactice program, REPL stands for Read-Evaluate-Print-Loop), type `python` in Command Prompt.  \n",
    "If you see error message `'python' is not recognized as an internal or external command`, then add `the path to python.exe` to `environment variables`.\n",
    "\n",
    "> Type `exit()` to quite Python REPL.\n",
    "\n",
    "#### MacOS\n",
    "The pre-installed Python version is 2.7. There are 2 ways to install Python3:  \n",
    "Method 1:  \n",
    "Download installation package from Python official website:  \n",
    "[https://www.python.org/downloads/](https://www.python.org/downloads/)\n",
    "\n",
    "Method 2:  \n",
    "Run command `brew install python3` if Homebrew is installed.\n",
    "\n",
    "To run Python3 REPL, type `python3` in Terminal application."
   ]
  },
  {
   "cell_type": "markdown",
   "metadata": {},
   "source": [
    "### §1.3 Jupyter Notebook<a id='jupyter_notebook'></a>\n",
    "#### Install Jupyter Notebook through Anaconda\n",
    "[https://www.anaconda.com/download](https://www.anaconda.com/download)\n",
    "\n",
    "> Note: Python and pip (Python package manager) are included in Anaconda. After the installation, the default python path is modified by Anaconda.\n",
    "\n",
    "#### Jupyter Notebook Shortcuts\n",
    "**Edit mode**: text area is focused, left border is **<span style=\"color:#66BB6A\">green</span>**  \n",
    "**Command mode**: text area is out of focus, left border is **<span style=\"color:#42A5F5\">blue</span>**\n",
    "<h4><center>Keyboard shortcut</center></h4>\n",
    "\n",
    "| Key| Description|<th>Mode</th>|\n",
    "|---|---|---|\n",
    "| `ctrl` + `enter`       | run cell                    |<td rowspan=10>Command</td>|\n",
    "| `a`                    | insert cell above           |\n",
    "| `b`                    | insert cell below           |\n",
    "| `c`                    | copy the cell selected      |\n",
    "| `v`                    | paste cell                  |\n",
    "| `d`, `d`               | selete the selected cell    |\n",
    "| `shift` + `m`          | merge selected cells        |\n",
    "| `y`                    | change cell to Code         |\n",
    "| `m`                    | change cell to Markdown     |\n",
    "| `h`                    | view all keyboard shortcuts |\n",
    "| `cmd/ctrl` + `click`   | multi-cursor editing        |<td rowspan=3>Edit</td>|\n",
    "| `cmd/ctrl` + `/`       | toggle command line         |\n",
    "| `ctrl` + `shift` + `-` | split cell                  |\n",
    "|`cmd` + `shift` + `p`   | search commands             |<td>Any mode</td>|\n",
    "\n",
    "Press `Esc` to exit `Edit mode` and enter `Command mode`. Use up/down arrow keys to select different lines.  \n",
    "Press `Enter` to enter the `Edit mode` of the selected line.\n",
    "  \n",
    "> Tips:  \n",
    "to clean a cell's output,  \n",
    "select the target cell, then press `Esc`, `r`, `y` in sequence."
   ]
  },
  {
   "cell_type": "markdown",
   "metadata": {},
   "source": [
    "## Chapter 2: Python Basics<a id='python_basics'></a>\n",
    "<a href=\"#0\">Go to top</a>\n",
    "***\n",
    "\n",
    "### §2.1 print<a id='print'></a>\n",
    "\n",
    "Output values to the console."
   ]
  },
  {
   "cell_type": "code",
   "execution_count": null,
   "metadata": {},
   "outputs": [],
   "source": [
    "print(\"Hello World!\")"
   ]
  },
  {
   "cell_type": "markdown",
   "metadata": {},
   "source": [
    "In Python3, `print` is a function.  \n",
    "A function can be invoked by specifying the function name, followed by arguments eclosed by a pair of parentheses. We will look at more about functions later.  \n",
    "\n",
    "\n",
    "If no argument is given, `print` will output an empty line."
   ]
  },
  {
   "cell_type": "code",
   "execution_count": null,
   "metadata": {},
   "outputs": [],
   "source": [
    "print()"
   ]
  },
  {
   "cell_type": "markdown",
   "metadata": {},
   "source": [
    "`print` function accepts arbitrary number of arguments seperated by commas. `Print` outputs a `Space` for every comma."
   ]
  },
  {
   "cell_type": "code",
   "execution_count": null,
   "metadata": {},
   "outputs": [],
   "source": [
    "print(\"1 + 2 =\", 1 + 2)"
   ]
  },
  {
   "cell_type": "code",
   "execution_count": null,
   "metadata": {},
   "outputs": [],
   "source": [
    "print(12*25)"
   ]
  },
  {
   "cell_type": "markdown",
   "metadata": {},
   "source": [
    "The above `print` function outputs 2 parameters:\n",
    "- string `\"1 + 2 =\"`\n",
    "- the evaluated value of expression `1 + 2`, which is `3`."
   ]
  },
  {
   "cell_type": "markdown",
   "metadata": {},
   "source": [
    "### §2.2 Variables<a id='variables'></a>\n",
    "\n",
    "Variable is also called `Identifier`, which is a name referring to a value or values stored in the memory of the computer.\n",
    "\n",
    "We can imagine there is a look-up table stored inside the computer, every time we define a variable, Python inserts one key-value pair into that table, where `key` is our variable name, and `value` is simply the value that the variable name refering to.  \n",
    "\n",
    "Let's define a variable, and assign a value to it, then print it out."
   ]
  },
  {
   "cell_type": "code",
   "execution_count": null,
   "metadata": {},
   "outputs": [],
   "source": [
    "name = \"Jason Zhang\"\n",
    "print(name)"
   ]
  },
  {
   "cell_type": "markdown",
   "metadata": {},
   "source": [
    "In the above program, we created a variable called `name`, and assigned the value `\"Jason Zhang\"` to it. The first line of the program is called an `assignment statement`.  \n",
    "\n",
    "`name ← \"Jason Zhang\"`\n",
    "\n",
    "Variables' values can be changed (re-assigned)."
   ]
  },
  {
   "cell_type": "code",
   "execution_count": null,
   "metadata": {},
   "outputs": [],
   "source": [
    "a = 'abc'\n",
    "a = 3\n",
    "print(a)"
   ]
  },
  {
   "cell_type": "markdown",
   "metadata": {},
   "source": [
    "In the above program, variable `a` is defined with an initial value `'abc'`.\n",
    "Then a new value `3` is assigned to the variable `a`, thus the value of `a` is `3` at the final state.\n",
    "\n",
    "`Assignment statement` is evaluated from right to left. The `expression` on the right-hand-side of `=` is evaluated first, then assigned to the variable name on the left-hand-side of `=`.  "
   ]
  },
  {
   "cell_type": "code",
   "execution_count": null,
   "metadata": {},
   "outputs": [],
   "source": [
    "a = 5\n",
    "a = a + 3\n",
    "print(a)"
   ]
  },
  {
   "cell_type": "markdown",
   "metadata": {},
   "source": [
    "Try to explain the following program's output."
   ]
  },
  {
   "cell_type": "code",
   "execution_count": null,
   "metadata": {},
   "outputs": [],
   "source": [
    "a = 3\n",
    "b = a = 5\n",
    "print (a, b)"
   ]
  },
  {
   "cell_type": "markdown",
   "metadata": {},
   "source": [
    "Python is case sensitive, variable name `val` is differnt from `Val`.\n",
    "\n",
    "You can assign values to multiple variables within one `assignment statement`:"
   ]
  },
  {
   "cell_type": "code",
   "execution_count": null,
   "metadata": {
    "scrolled": true
   },
   "outputs": [],
   "source": [
    "a, b, c = 12, \"Wow!\", False\n",
    "print(a, b, c)"
   ]
  },
  {
   "cell_type": "markdown",
   "metadata": {},
   "source": [
    "Try the following program, and think about why `a` and `b` have different values eventually."
   ]
  },
  {
   "cell_type": "code",
   "execution_count": null,
   "metadata": {},
   "outputs": [],
   "source": [
    "a = 1\n",
    "b = a\n",
    "a = 2\n",
    "print(a, b)"
   ]
  },
  {
   "cell_type": "markdown",
   "metadata": {},
   "source": [
    "### 2.2 Code Challenge\n",
    "\n",
    "How can we swap two variables?\n"
   ]
  },
  {
   "cell_type": "code",
   "execution_count": null,
   "metadata": {},
   "outputs": [],
   "source": [
    "#TO DO\n",
    "\n",
    "\n"
   ]
  },
  {
   "cell_type": "markdown",
   "metadata": {},
   "source": [
    "### §2.3 Comments<a id='comments'></a>\n",
    "Comments are used to notate your work inside your source program. All the comments are ignored by the computer during execution.\n",
    "You can simply add a comment by beginning a line with the hash character `#`. It will be terminated by the end of line."
   ]
  },
  {
   "cell_type": "code",
   "execution_count": null,
   "metadata": {},
   "outputs": [],
   "source": [
    "# This is my variable\n",
    "myVar = 100"
   ]
  },
  {
   "cell_type": "markdown",
   "metadata": {},
   "source": [
    "Python only provides one way of adding single-line comments, but there is a trick to add multiple-line comments using triple quotes.\n",
    "\n",
    "> Try to add some meaningful comments to your program to help understanding, not only for you, but also someone who may read your code.\n",
    "\n",
    "### §2.4 Simple Data Types<a id='data_types'></a>\n",
    "There are several commonly used primary data types in Python.  \n",
    "Use `type()` to get the data type of a specific value or a variable."
   ]
  },
  {
   "cell_type": "code",
   "execution_count": null,
   "metadata": {},
   "outputs": [],
   "source": [
    "type_1 = type(123)\n",
    "type_2 = type(123.0)\n",
    "type_3 = type(\"123\")\n",
    "type_4 = type(True)\n",
    "type_5 = type(print)\n",
    "type_6 = type(None)\n",
    "\n",
    "print(\"type_1 =\", type_1)\n",
    "print(\"type_2 =\", type_2)\n",
    "print(\"type_3 =\", type_3)\n",
    "print(\"type_4 =\", type_4)\n",
    "print(\"type_5 =\", type_5)\n",
    "print(\"type_6 =\", type_6)"
   ]
  },
  {
   "cell_type": "markdown",
   "metadata": {},
   "source": [
    "#### Integers (`int`)\n",
    "Python can deal with any integer values, including negative integers.  \n",
    "For instance: `0`, `-99999999`, `12345`.  \n",
    "\n",
    "#### Floating Point Numbers (`float`)\n",
    "A floating point number is a number that has a fractional part. It is called floating point number because the position of the decimal point can be changed in the scientific notation. For example, `3.1415e9` is the same as `314.15e7`.  \n",
    "\n",
    "Floating point numbers are stored as approximated values in the computer's memory."
   ]
  },
  {
   "cell_type": "code",
   "execution_count": null,
   "metadata": {},
   "outputs": [],
   "source": [
    "print(5.1 + 2.3)"
   ]
  },
  {
   "cell_type": "markdown",
   "metadata": {},
   "source": [
    "We can round this number using `round` function."
   ]
  },
  {
   "cell_type": "code",
   "execution_count": null,
   "metadata": {},
   "outputs": [],
   "source": [
    "round(5.1 + 2.3, 2) # round to 2 digits precision after the decimal point"
   ]
  },
  {
   "cell_type": "markdown",
   "metadata": {},
   "source": [
    "#### String (`str`)\n",
    "A string is a text surrounded by a pair of single quotes `'` or double quotes `\"`, for example `'This is a string.'`, `\"This is another string.\"`. The first and last quotation marks should be matched, and they are not parts of the string.\n",
    "\n",
    "Use escape character (`\\`) to output new line `\\n`, tab `\\t`, back slash `\\\\`, single quote `\\'`, double quote `\\\"` etc. inside a string."
   ]
  },
  {
   "cell_type": "code",
   "execution_count": null,
   "metadata": {
    "scrolled": true
   },
   "outputs": [],
   "source": [
    "print('First line\\nSecond line\\nI\\'m the third line')"
   ]
  },
  {
   "cell_type": "markdown",
   "metadata": {},
   "source": [
    "You can use r'' to disable escape characters:"
   ]
  },
  {
   "cell_type": "code",
   "execution_count": null,
   "metadata": {
    "scrolled": true
   },
   "outputs": [],
   "source": [
    "print('This is \\\\ a string.')\n",
    "print(r'This is \\\\ a string.')"
   ]
  },
  {
   "cell_type": "markdown",
   "metadata": {},
   "source": [
    "To define a string which spans multiple lines, you can use triple quotes (`'''` or `\"\"\"`):"
   ]
  },
  {
   "cell_type": "code",
   "execution_count": null,
   "metadata": {},
   "outputs": [],
   "source": [
    "print('''\n",
    "First line\n",
    "Second line\n",
    "''')"
   ]
  },
  {
   "cell_type": "markdown",
   "metadata": {},
   "source": [
    "> Tips:  \n",
    "> Triple quotes strings can also be used for multi-line comments.\n",
    ">\n",
    "Use [`split`](https://docs.python.org/3/library/stdtypes.html#str.split) to split a string into a list.  \n",
    "`'a b c'.split()` => `['a', 'b', 'c']`  \n",
    "> \n",
    "Use [`join`](https://docs.python.org/3/library/stdtypes.html#str.join) to convert a list to a string  \n",
    "`' '.join(['a', 'b', 'c'])` => `'a b c'`  \n",
    "\n",
    "#### Boolean (`bool`)\n",
    "A boolean value can be either `True` or `False` in Python.\n",
    "> Be careful with the capitalization.\n",
    "\n",
    "#### None (`None`)\n",
    "In Python, `None` stands for an empty value.\n"
   ]
  },
  {
   "cell_type": "markdown",
   "metadata": {},
   "source": [
    "### §2.5 String Formatting<a id='string_formatting'></a>\n",
    "During programming, we are required to form strings containing variables frequently, and we can do this with concatenation using `+` operator.\n",
    "For example, we have the following defined variables:"
   ]
  },
  {
   "cell_type": "code",
   "execution_count": null,
   "metadata": {},
   "outputs": [],
   "source": [
    "name = 'Tom'\n",
    "age = 23\n",
    "\n",
    "string = name + ' is ' + str(age) + ' years old'\n",
    "print(string)"
   ]
  },
  {
   "cell_type": "markdown",
   "metadata": {},
   "source": [
    "Few things to take note here. First, a string cannot concatenate with a non-string data type, thus we have to cast non-string values using `str` function. Second, we need to add leading or trailing spaces to some strings in order to make sure words are separated by spaces properly.  \n",
    "But with the string formatting feature in Python, we don't have to worry about such issues."
   ]
  },
  {
   "cell_type": "markdown",
   "metadata": {},
   "source": [
    "#### Basic formatting\n",
    "In Python, each string has a format function.  \n",
    "`format_string.format(arguments)`  \n",
    "In the above example, we can do something like this:"
   ]
  },
  {
   "cell_type": "code",
   "execution_count": null,
   "metadata": {},
   "outputs": [],
   "source": [
    "string = '{} is {} years old'.format(name, age)\n",
    "print(string)"
   ]
  },
  {
   "cell_type": "markdown",
   "metadata": {},
   "source": [
    "`{}` represents a variable in the format string. We can re-arrange the order by specifying the index number in the braces, for example `{2}`.\n",
    "\n",
    "#### Padding and Aligning\n",
    "By default, the formatted string takes up as many characters as needed to represent the content, but we can define a value that should be padded to a specific length."
   ]
  },
  {
   "cell_type": "code",
   "execution_count": null,
   "metadata": {},
   "outputs": [],
   "source": [
    "'{:10}'.format('Python')"
   ]
  },
  {
   "cell_type": "markdown",
   "metadata": {},
   "source": [
    "Add a colon `:` followed by a number to specify how many characters you want to use for this variable. By default, the variable is aligned to the left.  \n",
    "To change to right aligned:"
   ]
  },
  {
   "cell_type": "code",
   "execution_count": null,
   "metadata": {},
   "outputs": [],
   "source": [
    "'{:>10}'.format('Python')"
   ]
  },
  {
   "cell_type": "markdown",
   "metadata": {},
   "source": [
    "To center align the string:"
   ]
  },
  {
   "cell_type": "code",
   "execution_count": null,
   "metadata": {},
   "outputs": [],
   "source": [
    "'{:<10}'.format('Python')"
   ]
  },
  {
   "cell_type": "markdown",
   "metadata": {},
   "source": [
    "We can also define the padding character, for example, using underscore"
   ]
  },
  {
   "cell_type": "code",
   "execution_count": null,
   "metadata": {},
   "outputs": [],
   "source": [
    "'{:_^15}'.format('Python')"
   ]
  },
  {
   "cell_type": "markdown",
   "metadata": {},
   "source": [
    "#### Truncating\n",
    "We can truncate overly long strings to a specific length.\n",
    "To specify the precision of the output string, we can put a dot `.` followed by a number indicating the length."
   ]
  },
  {
   "cell_type": "code",
   "execution_count": null,
   "metadata": {},
   "outputs": [],
   "source": [
    "'{:.7}'.format('Data Analysis with Python')"
   ]
  },
  {
   "cell_type": "markdown",
   "metadata": {},
   "source": [
    "#### Formatting Numbers\n",
    "We can also apply padding, aligning and truncating to formatting numbers.  \n",
    "Using `d` to indicate it is an integer."
   ]
  },
  {
   "cell_type": "code",
   "execution_count": null,
   "metadata": {},
   "outputs": [],
   "source": [
    "'{:=^6d}'.format(246)"
   ]
  },
  {
   "cell_type": "markdown",
   "metadata": {},
   "source": [
    "For floating point numbers, use letter `f`, similar to truncating strings, add a number after `.` to limit the number of digits after the decimal point."
   ]
  },
  {
   "cell_type": "code",
   "execution_count": null,
   "metadata": {},
   "outputs": [],
   "source": [
    "'{:06.2f}'.format(3.14159265358)"
   ]
  },
  {
   "cell_type": "markdown",
   "metadata": {},
   "source": [
    "\n",
    "### §2.6 Operators<a id='operators'></a>\n",
    "#### Basic Operators\n",
    "| Operator | Description    | Example     |\n",
    "|----------|----------------|-------------|\n",
    "| `+`        | Addition       | `3 + 5` ⇒ `8`   |\n",
    "| `-`        | Subtraction    | `5 - 3` ⇒ `2`   |\n",
    "| `*`        | Multiplication | `5 * 3` ⇒ `15`  |\n",
    "| `/`        | Division       | `9 / 2` ⇒ `4.5` |\n",
    "| `//`       | Floor Division | `9 // 2` ⇒ `4`  |\n",
    "| `%`        | Modulus        | `9 % 2` ⇒ `1`   |\n",
    "| `**`       | Exponent       | `2 ** 3` ⇒ `8`  |\n",
    "\n",
    "#### Assignment Operators\n",
    "An assignment operator applies a certain operation on the vraiable and the right operand, then assign the result to the variable on the left.\n",
    "\n",
    "| Operator | Example                  |\n",
    "|----------|--------------------------|\n",
    "| `=`        | `a = 10`                 |\n",
    "| `+=`       | `a += 5` ⇒ `a = a + 5`   |\n",
    "| `-=`       | `a -= 5` ⇒ `a = a - 5`   |\n",
    "| `*=`       | `a *= 5` ⇒ `a = a * 5`   |\n",
    "| `/=`       | `a /= 5` ⇒ `a = a / 5`   |\n",
    "| `//=`      | `a //= 5` ⇒ `a = a // 5` |\n",
    "| `%=`       | `a %= 5` ⇒ `a = a % 5`   |\n",
    "| `**=`      | `a **= 5` ⇒ `a = a ** 5` |\n",
    "\n",
    "#### Logical Operators\n",
    "| Operator | Description                  |\n",
    "|----------|--------------------------|\n",
    "| `>`        | greater than                 |\n",
    "| `>=`       | greater than or equal   |\n",
    "| `<`       | less than   |\n",
    "| `<=`       | less than or equal   |\n",
    "| `==`       | equal   |\n",
    "| `!=`       | not equal   |\n",
    "| `in`      | is in sequence |\n",
    "| `not in`       | is not in sequence   |\n",
    "\n",
    "> A sequence can be a list, tuple etc, see [Part 3](#%E2%87%92-Part-3-Data-Structure)\n",
    "\n",
    "#### Boolean Operations\n",
    "| Operator | Description    | Example     |\n",
    "|----------|----------------|-------------|\n",
    "| `and`        | Both conditons are True ⇒ result is True  | True and True ⇒ True   |\n",
    "| `or`        | At lease one of the conditions is true ⇒ result is True   | False or True ⇒ True   |\n",
    "| `not`        | Negate the boolean value | not True ⇒ False  |\n",
    "\n",
    "\n",
    "> ⇨ Exercise 2.5.1  \n",
    "Try different operators on the same or different data types.\n"
   ]
  },
  {
   "cell_type": "markdown",
   "metadata": {},
   "source": [
    "### §2.7 Control Flow<a id='control_flow'></a>\n",
    "#### if statement"
   ]
  },
  {
   "cell_type": "code",
   "execution_count": null,
   "metadata": {},
   "outputs": [],
   "source": [
    "score = 70\n",
    "if score >= 60:\n",
    "    print('Pass')"
   ]
  },
  {
   "cell_type": "markdown",
   "metadata": {},
   "source": [
    "Be careful to the indentation. Usually, we use 4-space or Tab indentation.  \n",
    "If the condition is `True`, the indented part (`if clause`) will be executed. Otherwise, the `if clause` will be skipped.\n",
    "You can also add an `else clause` in case the conditon is evaluated to be `False`, the `else clause` will be executed."
   ]
  },
  {
   "cell_type": "code",
   "execution_count": null,
   "metadata": {},
   "outputs": [],
   "source": [
    "score = 50\n",
    "if score >= 60:\n",
    "    print('Pass')\n",
    "else:\n",
    "    print('Fail')"
   ]
  },
  {
   "cell_type": "markdown",
   "metadata": {},
   "source": [
    "> Important:  \n",
    "> Don't miss the colon `:`.  \n",
    "\n",
    "If you want to add more condition branches, you can use `elif` clause:"
   ]
  },
  {
   "cell_type": "code",
   "execution_count": null,
   "metadata": {},
   "outputs": [],
   "source": [
    "score = 75\n",
    "if score >= 90:\n",
    "    print('A')\n",
    "elif score >= 80:\n",
    "    print('B')\n",
    "elif score >= 70:\n",
    "    print('C')\n",
    "elif score >= 60:\n",
    "    print('D')\n",
    "else:\n",
    "    print('F')"
   ]
  },
  {
   "cell_type": "markdown",
   "metadata": {},
   "source": [
    "#### for loops\n",
    "To calculate the sum of three numbers, we can write:"
   ]
  },
  {
   "cell_type": "code",
   "execution_count": null,
   "metadata": {},
   "outputs": [],
   "source": [
    "result = 1 + 2 + 3\n",
    "print(result)"
   ]
  },
  {
   "cell_type": "markdown",
   "metadata": {},
   "source": [
    "However, if we are going to calculate 1 + 2 + 3 + ... + 99999, it will not be pratical to list down all the numbers in the statement. Thus we need loop statements.  \n",
    "There are two types of loop statements in Python, they are `for` loops and `while` loops.\n",
    "\n",
    "To print out all the content in a list:"
   ]
  },
  {
   "cell_type": "code",
   "execution_count": null,
   "metadata": {},
   "outputs": [],
   "source": [
    "countries = ['Singapore', 'Vietnam', 'Thailand', 'Indonesia']\n",
    "for country in countries:\n",
    "    print(country)"
   ]
  },
  {
   "cell_type": "markdown",
   "metadata": {},
   "source": [
    "Let's calculate the sum of all the integers between 1 and 100.\n",
    "We don't have to list all the numbers, Python provides the `range()` function.\n",
    "We can check the generated range by converting it to a list:"
   ]
  },
  {
   "cell_type": "code",
   "execution_count": null,
   "metadata": {},
   "outputs": [],
   "source": [
    "r = range(10)\n",
    "print(list(r))"
   ]
  },
  {
   "cell_type": "markdown",
   "metadata": {},
   "source": [
    "Let's try calculating the sum from 1 to 100:"
   ]
  },
  {
   "cell_type": "code",
   "execution_count": null,
   "metadata": {},
   "outputs": [],
   "source": [
    "sum = 0\n",
    "for x in range(101):\n",
    "    sum += x\n",
    "print(sum)"
   ]
  },
  {
   "cell_type": "markdown",
   "metadata": {},
   "source": [
    "#### While Loop\n",
    "In while loop, the `loop body` is repeated as long as the condition is `True`, and it stops when the condition is evaluated to be `False`.\n",
    "For example, calculate the factorial of a given number:"
   ]
  },
  {
   "cell_type": "code",
   "execution_count": null,
   "metadata": {},
   "outputs": [],
   "source": [
    "def factorial(n):\n",
    "    fact = n\n",
    "    while n > 1:\n",
    "        n -= 1\n",
    "        fact *= n\n",
    "    return fact\n",
    "\n",
    "print(factorial(5))"
   ]
  },
  {
   "cell_type": "code",
   "execution_count": null,
   "metadata": {},
   "outputs": [],
   "source": [
    "i = 0\n",
    "while i < 5:\n",
    "    print(\"i is {}\".format(i)) \n",
    "    i = i + 1\n"
   ]
  },
  {
   "cell_type": "markdown",
   "metadata": {},
   "source": [
    "### 2.7 Code Challenge\n",
    "\n",
    "Write a program to get sum of all the odd numbers within 100 using loops in at least three ways."
   ]
  },
  {
   "cell_type": "code",
   "execution_count": null,
   "metadata": {},
   "outputs": [],
   "source": [
    "# TO DO"
   ]
  },
  {
   "cell_type": "markdown",
   "metadata": {},
   "source": [
    "#### Break\n",
    "We can use `break` statement to exit a loop."
   ]
  },
  {
   "cell_type": "code",
   "execution_count": null,
   "metadata": {},
   "outputs": [],
   "source": [
    "for x in [2, 4, 6, -1, 8, 0]:\n",
    "    if x < 0:\n",
    "        break\n",
    "    print(x)\n",
    "print('END')"
   ]
  },
  {
   "cell_type": "markdown",
   "metadata": {},
   "source": [
    "#### Continue\n",
    "We can use `continue` statement to skip current iteration, and continue with the next one.  \n",
    "For example, we are going to get the sum of all the non-negative numbers in a list:"
   ]
  },
  {
   "cell_type": "code",
   "execution_count": null,
   "metadata": {},
   "outputs": [],
   "source": [
    "sum = 0\n",
    "for x in [2, -2, 4, 6, -1, 8, 0]:\n",
    "    if x < 0:\n",
    "        print('skip ', x)\n",
    "        continue\n",
    "    sum += x\n",
    "print('END')\n",
    "print('result =', sum)"
   ]
  },
  {
   "cell_type": "markdown",
   "metadata": {},
   "source": [
    "### §2.8 Some Commonly Used Builtin Functions<a id='builtin_functions'></a>\n",
    "[int](https://docs.python.org/3/library/functions.html#int): Return an integer object constructed from a number or string x, or return 0 if no arguments are given.  \n",
    "[float](https://docs.python.org/3/library/functions.html#float): Return a floating point number constructed from a number or string x.  \n",
    "[str](https://docs.python.org/3/library/stdtypes.html#str): Return a string version of object.  \n",
    "[bool](https://docs.python.org/3/library/functions.html#bool): Return a Boolean value, i.e. one of True or False.  \n",
    "[isinstance](https://docs.python.org/3/library/functions.html#isinstance): Return true if the object argument is an instance of the classinfo argument, or of a (direct, indirect or virtual) subclass thereof.  \n",
    "[abs](https://docs.python.org/3/library/functions.html#abs): Return the absolute value of a number.  \n",
    "[max](https://docs.python.org/3/library/functions.html#max): Return the largest item in an iterable or the largest of two or more arguments.  \n",
    "[min](https://docs.python.org/3/library/functions.html#min): Return the smallest item in an iterable or the smallest of two or more arguments.  \n",
    "[len](https://docs.python.org/3/library/functions.html#len): Return the length (the number of items) of an object.  \n",
    "[range](https://docs.python.org/3/library/stdtypes.html#typesseq-range): The range type represents an immutable sequence of numbers and is commonly used for looping a specific number of times in for loops.  \n",
    "[type](https://docs.python.org/3/library/functions.html#type): With one argument, return the type of an object.  \n",
    "[round](https://docs.python.org/3/library/functions.html#round): Return number rounded to ndigits precision after the decimal point.  \n",
    "[map](https://docs.python.org/3/library/functions.html#map): Return an iterator that applies function to every item of iterable, yielding the results.  \n",
    "[filter](https://docs.python.org/3/library/functions.html#filter): Construct an iterator from those elements of iterable for which function returns true.  "
   ]
  },
  {
   "cell_type": "markdown",
   "metadata": {},
   "source": [
    "### §2.9 Functions<a id='functions'></a>\n",
    "We all know the following formula to calculate the area of a circle:\n",
    "\\begin{equation*}\n",
    "S = \\pi r^2\n",
    "\\end{equation*}\n",
    "\n",
    "Suppose we are going to calculate the areas of three different circles:"
   ]
  },
  {
   "cell_type": "code",
   "execution_count": null,
   "metadata": {},
   "outputs": [],
   "source": [
    "r1 = 5.23\n",
    "r2 = 45.6\n",
    "r3 = 9.4\n",
    "\n",
    "s1 = 3.14 * r1 ** 2\n",
    "s2 = 3.14 * r2 ** 2\n",
    "s3 = 3.14 * r3 ** 2\n",
    "\n",
    "print('s1={:.2f}, s2={:.2f}, s3={:.2f}'.format(s1, s2, s3))"
   ]
  },
  {
   "cell_type": "markdown",
   "metadata": {},
   "source": [
    "As you can see, we repeated `3.14 * r ** 2` every time we are trying to calculate a circle's area. Besides, once the value of π is changed, we have to update each place where π is used one by one.  \n",
    "We can extract the circle area calculation part into a function, so that we can simply call the defined function to do the work for us."
   ]
  },
  {
   "cell_type": "code",
   "execution_count": null,
   "metadata": {},
   "outputs": [],
   "source": [
    "def circle_area(r):\n",
    "    return 3.14 * r ** 2\n",
    "\n",
    "print('The circle area is {}'.format(circle_area(5.6)))"
   ]
  },
  {
   "cell_type": "markdown",
   "metadata": {},
   "source": [
    "`Functions` are defined using the def keyword. After this keyword comes an `identifier` name for the function, followed by a pair of parentheses which may enclose some names of variables, and by the final colon that ends the line. Next follows the block of statements that are part of this function. An example will show that this is actually very simple:"
   ]
  },
  {
   "cell_type": "code",
   "execution_count": null,
   "metadata": {},
   "outputs": [],
   "source": [
    "def say_hello():\n",
    "    # block belonging to the function\n",
    "    print('hello world')\n",
    "# End of function\n",
    "\n",
    "say_hello()  # call the function\n",
    "say_hello()  # call the function again"
   ]
  },
  {
   "cell_type": "code",
   "execution_count": null,
   "metadata": {},
   "outputs": [],
   "source": [
    "def print_max(a, b):\n",
    "    if a > b:\n",
    "        print(a, 'is maximum')\n",
    "    elif a == b:\n",
    "        print(a, 'is equal to', b)\n",
    "    else:\n",
    "        print(b, 'is maximum')\n",
    "\n",
    "# directly pass literal values\n",
    "print_max(3, 4)\n",
    "\n",
    "x = 5\n",
    "y = 7\n",
    "\n",
    "# pass variables as arguments\n",
    "print_max(x, y)"
   ]
  },
  {
   "attachments": {
    "image.png": {
     "image/png": "[encoded data removed]"
    }
   },
   "cell_type": "markdown",
   "metadata": {},
   "source": [
    "## Chapter 3: Data Structure<a id='data_structure'></a>\n",
    "<a href=\"#0\">Go to top</a>\n",
    "***\n",
    "\n",
    "Data structures provide us with a specific and way of storing and organizing data such that they can be easily accessed and worked with efficiently.\n",
    "\n",
    "![image.png](attachment:image.png)"
   ]
  },
  {
   "cell_type": "markdown",
   "metadata": {},
   "source": [
    "### §3.1 List<a id='list'></a>\n",
    "A `list` is a sequential collection of Python data values, where each value is identified by an index. \n",
    "The values that make up a `list` are called its elements. \n",
    "Lists are like strings, which are ordered collections of characters, except that the elements of a list can have any type and for any one list, the items can be of different types."
   ]
  },
  {
   "cell_type": "code",
   "execution_count": null,
   "metadata": {},
   "outputs": [],
   "source": [
    "vocabulary = [\"iteration\", \"selection\", \"control\"]\n",
    "numbers = [17, 123]\n",
    "empty = []\n",
    "mixedlist = [\"hello\", 2.0, 5*2, [10, 20]]\n",
    "\n",
    "print(numbers)\n",
    "print(mixedlist)\n",
    "newlist = [ numbers, vocabulary ]\n",
    "print(newlist)"
   ]
  },
  {
   "cell_type": "markdown",
   "metadata": {},
   "source": [
    "The variable `vocabulary` is a `list`. You can get the number of items in it by using `len()`:"
   ]
  },
  {
   "cell_type": "code",
   "execution_count": null,
   "metadata": {},
   "outputs": [],
   "source": [
    "len(vocabulary)"
   ]
  },
  {
   "cell_type": "markdown",
   "metadata": {},
   "source": [
    "Visit elements in the list by using indexing. Bare in mind that the index starts from `0`."
   ]
  },
  {
   "cell_type": "code",
   "execution_count": null,
   "metadata": {},
   "outputs": [],
   "source": [
    "numbers = [17, 123, 87, 34, 66, 8398, 44]\n",
    "print(numbers[0])\n",
    "print(numbers[9 - 8])\n",
    "print(numbers[-2])\n",
    "print(numbers[len(numbers) - 1])\n",
    "print(numbers[7]) # out of range, will cause error"
   ]
  },
  {
   "cell_type": "markdown",
   "metadata": {},
   "source": [
    "We can get the index number of the last element in a list by calculating `len(countries) - 1`.  \n",
    "Or we can use `-1` to get the last index directly:"
   ]
  },
  {
   "cell_type": "code",
   "execution_count": null,
   "metadata": {},
   "outputs": [],
   "source": [
    "print(numbers[-1])"
   ]
  },
  {
   "cell_type": "markdown",
   "metadata": {},
   "source": [
    "`list` is a mutable sequence, which means you can add items to it, or remove items from it.\n",
    "####  append()\n",
    "To add one more item to the end of the list:"
   ]
  },
  {
   "cell_type": "code",
   "execution_count": null,
   "metadata": {},
   "outputs": [],
   "source": [
    "fruit = ['apple', 'banana', 'orange', 'cherry', 'kiwi']\n",
    "fruit.append('coconat')\n",
    "print(fruit)"
   ]
  },
  {
   "cell_type": "markdown",
   "metadata": {},
   "source": [
    "#### extend()"
   ]
  },
  {
   "cell_type": "code",
   "execution_count": null,
   "metadata": {},
   "outputs": [],
   "source": [
    "fruit.extend(['avocado', 'mango'])\n",
    "print(fruit)"
   ]
  },
  {
   "cell_type": "markdown",
   "metadata": {},
   "source": [
    "Another way to extend a list:"
   ]
  },
  {
   "cell_type": "code",
   "execution_count": null,
   "metadata": {},
   "outputs": [],
   "source": [
    "fruit = ['apple', 'banana', 'orange', 'cherry', 'kiwi', 'coconat'] + ['avocado', 'mango']\n",
    "print(fruit)"
   ]
  },
  {
   "cell_type": "markdown",
   "metadata": {},
   "source": [
    "####  insert()\n",
    "Insert an item to a specific position in the list:"
   ]
  },
  {
   "cell_type": "code",
   "execution_count": null,
   "metadata": {},
   "outputs": [],
   "source": [
    "fruit = ['apple', 'banana', 'oranges', 'cherry', 'kiwi']\n",
    "fruit.insert(2, 'mango')\n",
    "print(fruit)"
   ]
  },
  {
   "cell_type": "markdown",
   "metadata": {},
   "source": [
    "#### pop()\n",
    "Remove the last item."
   ]
  },
  {
   "cell_type": "code",
   "execution_count": null,
   "metadata": {},
   "outputs": [],
   "source": [
    "fruit = ['apple', 'banana', 'orange', 'cherry', 'kiwi']\n",
    "print(fruit.pop()) # pop() returns the popped item\n",
    "print(fruit)"
   ]
  },
  {
   "cell_type": "markdown",
   "metadata": {},
   "source": [
    "The data types in a list can be different. For example:"
   ]
  },
  {
   "cell_type": "code",
   "execution_count": null,
   "metadata": {},
   "outputs": [],
   "source": [
    "my_list = [123, 'abc', False]"
   ]
  },
  {
   "cell_type": "markdown",
   "metadata": {},
   "source": [
    "`list` can be nested, which means a `list` can be in another list:"
   ]
  },
  {
   "cell_type": "code",
   "execution_count": null,
   "metadata": {},
   "outputs": [],
   "source": [
    "my_list = [1, 2, 3, [4, 5, 6], 7]\n",
    "len(my_list)"
   ]
  },
  {
   "cell_type": "markdown",
   "metadata": {},
   "source": [
    "If there is nothin in a `list`, its length is `0`:"
   ]
  },
  {
   "cell_type": "code",
   "execution_count": null,
   "metadata": {},
   "outputs": [],
   "source": [
    "empty_list = []\n",
    "len(empty_list)"
   ]
  },
  {
   "cell_type": "markdown",
   "metadata": {},
   "source": [
    "#### Slicing\n",
    "It is a common operation to get a part of a `list`.\n",
    "For instance, to get the first 3 items in the following list."
   ]
  },
  {
   "cell_type": "code",
   "execution_count": null,
   "metadata": {},
   "outputs": [],
   "source": [
    "fruit = ['apple', 'banana', 'organge', 'cherry', 'kiwi']"
   ]
  },
  {
   "cell_type": "code",
   "execution_count": null,
   "metadata": {},
   "outputs": [],
   "source": [
    "fruit[0:3]"
   ]
  },
  {
   "cell_type": "markdown",
   "metadata": {},
   "source": [
    "`fruit[0:3]` means getting the items from index `0` to index `3`, but `3` is not included. Thus the result is equivalent to `[ fruit[0], fruit[1], fruit[2] ]`."
   ]
  },
  {
   "cell_type": "markdown",
   "metadata": {},
   "source": [
    "We can omit the starting index if it is `0`."
   ]
  },
  {
   "cell_type": "code",
   "execution_count": null,
   "metadata": {},
   "outputs": [],
   "source": [
    "# from the beginning to the 3rd item -> the first 3 items\n",
    "fruit[:3]"
   ]
  },
  {
   "cell_type": "markdown",
   "metadata": {},
   "source": [
    "Since `fruit[-2]` represent the second last item, we can apply the same idea in slicing:"
   ]
  },
  {
   "cell_type": "code",
   "execution_count": null,
   "metadata": {},
   "outputs": [],
   "source": [
    "# from the second last to the end -> the last 2 items\n",
    "fruit[-2:]"
   ]
  },
  {
   "cell_type": "code",
   "execution_count": null,
   "metadata": {},
   "outputs": [],
   "source": [
    "# from the 2nd last to the last -> the 2nd last item\n",
    "fruit[-2:-1]"
   ]
  },
  {
   "cell_type": "markdown",
   "metadata": {},
   "source": [
    "If the ending index is not included, slicing will get until the end of the list. Remember that `-1` index represents the last item.  \n",
    "If there is a number after two colons `:`, it represents steps."
   ]
  },
  {
   "cell_type": "code",
   "execution_count": null,
   "metadata": {},
   "outputs": [],
   "source": [
    "# starting at 0 and continuing until end, \n",
    "# take every other item from `fruit`\n",
    "fruit[::2]"
   ]
  },
  {
   "cell_type": "markdown",
   "metadata": {},
   "source": [
    "#### List and Loops"
   ]
  },
  {
   "cell_type": "markdown",
   "metadata": {},
   "source": [
    "It is also possible to perform list traversal using iteration by item as well as iteration by index."
   ]
  },
  {
   "cell_type": "code",
   "execution_count": null,
   "metadata": {},
   "outputs": [],
   "source": [
    "fruits = [\"apple\", \"orange\", \"banana\", \"cherry\"]\n",
    "\n",
    "for afruit in fruits:     # by item\n",
    "    print(afruit)"
   ]
  },
  {
   "cell_type": "markdown",
   "metadata": {},
   "source": [
    "It almost reads like natural language: For (every) fruit in (the list of) fruits, print (the name of the) fruit.\n",
    "\n",
    "We can also use the indices to access the items in an iterative fashion."
   ]
  },
  {
   "cell_type": "code",
   "execution_count": null,
   "metadata": {},
   "outputs": [],
   "source": [
    "fruits = [\"apple\", \"orange\", \"banana\", \"cherry\"]\n",
    "\n",
    "for position in range(len(fruits)):     # by index\n",
    "    print(fruits[position])"
   ]
  },
  {
   "cell_type": "markdown",
   "metadata": {},
   "source": [
    "Since lists are mutable, it is often desirable to traverse a list, modifying each of its elements as you go. The following code squares all the numbers from 1 to 5 using iteration by position."
   ]
  },
  {
   "cell_type": "code",
   "execution_count": null,
   "metadata": {},
   "outputs": [],
   "source": [
    "numbers = [1, 2, 3, 4, 5]\n",
    "print(numbers)\n",
    "\n",
    "for i in range(len(numbers)):\n",
    "    numbers[i] = numbers[i] ** 2\n",
    "\n",
    "print(numbers)\n"
   ]
  },
  {
   "cell_type": "markdown",
   "metadata": {},
   "source": [
    "The following example shows how we can get the maximum value from a list of integers."
   ]
  },
  {
   "cell_type": "code",
   "execution_count": null,
   "metadata": {},
   "outputs": [],
   "source": [
    "nums = [9, 3, 8, 11, 5, 29, 2]\n",
    "best_num = 0\n",
    "for n in nums:\n",
    "    if n > best_num:\n",
    "        best_num = n\n",
    "print(best_num)"
   ]
  },
  {
   "cell_type": "markdown",
   "metadata": {},
   "source": [
    "#### List generation"
   ]
  },
  {
   "cell_type": "markdown",
   "metadata": {},
   "source": [
    "Whenever you need to write a function that creates and returns a list, the pattern is usually:"
   ]
  },
  {
   "cell_type": "code",
   "execution_count": null,
   "metadata": {},
   "outputs": [],
   "source": [
    "def doubleStuff(a_list):\n",
    "    new_list = []\n",
    "    for value in a_list:\n",
    "        new_elem = 2 * value\n",
    "        new_list.append(new_elem)\n",
    "    return new_list\n",
    "\n",
    "things = [2, 5, 9]\n",
    "print(things)\n",
    "things = doubleStuff(things)\n",
    "print(things)"
   ]
  },
  {
   "cell_type": "code",
   "execution_count": null,
   "metadata": {},
   "outputs": [],
   "source": [
    "def primes_upto(n):\n",
    "    \"\"\" Return a list of all prime numbers less than n. \"\"\"\n",
    "    result = []\n",
    "    for i in range(2, n):\n",
    "        if is_prime(i):\n",
    "            result.append(i)\n",
    "    return result"
   ]
  },
  {
   "cell_type": "markdown",
   "metadata": {},
   "source": [
    "`Slicing` is also applied to `string` and `tuple`.\n",
    "\n",
    "#### List Comprehension\n",
    "List comprehension is a handy way to generate lists in Python.  \n",
    "For example, to generate a list `[1, 2, 3, 4, 5]`, we can easily try `list(range(1, 6))`. However, what if we want a list like `[1**2, 2**2, 3**2, 4**2, 5**2]`?  \n",
    "We can write a loop like the following way:"
   ]
  },
  {
   "cell_type": "code",
   "execution_count": null,
   "metadata": {},
   "outputs": [],
   "source": [
    "num = []\n",
    "for i in range(1, 6):\n",
    "    num.append(i ** 2)\n",
    "print(num)"
   ]
  },
  {
   "cell_type": "markdown",
   "metadata": {},
   "source": [
    "By using `list comprehension`, we can easily do the same thing with only one line of code:"
   ]
  },
  {
   "cell_type": "code",
   "execution_count": null,
   "metadata": {},
   "outputs": [],
   "source": [
    "[i * i for i in range(1, 6)]"
   ]
  },
  {
   "cell_type": "markdown",
   "metadata": {},
   "source": [
    "In list comprehension, we first write down the expression to calculate every item in the list, followed by a `for` loop.  \n",
    "You can also add a condition after the `for` loop to filter the source list."
   ]
  },
  {
   "cell_type": "code",
   "execution_count": null,
   "metadata": {},
   "outputs": [],
   "source": [
    "[i * i for i in range(1, 6) if i % 2 == 0]"
   ]
  },
  {
   "cell_type": "markdown",
   "metadata": {},
   "source": [
    "It is possible to have multiple levels of `for` loops.  \n",
    "Try to explain the difference between the following 2 list comprehensions:"
   ]
  },
  {
   "cell_type": "code",
   "execution_count": null,
   "metadata": {},
   "outputs": [],
   "source": [
    "list_1 = [x + str(y) for x in 'abc' for y in range(3)]\n",
    "list_2 = [x + str(y) for y in range(3) for x in 'abc']\n",
    "\n",
    "print(list_1)\n",
    "print(list_2)"
   ]
  },
  {
   "cell_type": "markdown",
   "metadata": {},
   "source": [
    "### §3.2 Tuple<a id='tuple'></a>\n",
    "`tuple` is very similar to `list` except that `tuple` is immutable, which means you cannot modify a `tuple`, including add or remove items.\n",
    "Instead of using square brackets `[]` as in a list, we use parentheses `()` to represent tuples."
   ]
  },
  {
   "cell_type": "code",
   "execution_count": null,
   "metadata": {},
   "outputs": [],
   "source": [
    "colors = ('red', 'green', 'blue')"
   ]
  },
  {
   "cell_type": "markdown",
   "metadata": {},
   "source": [
    "Once a tuple is initialized, elements cannot be changed, thus methods like `append()` or `insert()` are not applicable to tuples. But you can do indexing, slicing on tuples just lists."
   ]
  },
  {
   "cell_type": "code",
   "execution_count": null,
   "metadata": {},
   "outputs": [],
   "source": [
    "colors[-1]"
   ]
  },
  {
   "cell_type": "code",
   "execution_count": null,
   "metadata": {},
   "outputs": [],
   "source": [
    "colors[:-2]"
   ]
  },
  {
   "cell_type": "markdown",
   "metadata": {},
   "source": [
    "#### Tuple as return values"
   ]
  },
  {
   "cell_type": "markdown",
   "metadata": {},
   "source": [
    "Functions can return tuples as return values. This is very useful — we often want to know some batsman’s highest and lowest score, or we want to find the mean and the standard deviation, or we want to know the year, the month, and the day, or if we’re doing some ecological modeling we may want to know the number of rabbits and the number of wolves on an island at a given time. In each case, a function (which can only return a single value), can create a single tuple holding multiple elements.\n",
    "\n",
    "For example, we could write a function that returns both the area and the circumference of a circle of radius r."
   ]
  },
  {
   "cell_type": "code",
   "execution_count": null,
   "metadata": {},
   "outputs": [],
   "source": [
    "def circleInfo(r):\n",
    "    \"\"\" Return (circumference, area) of a circle of radius r \"\"\"\n",
    "    c = 2 * 3.14159 * r\n",
    "    a = 3.14159 * r * r\n",
    "    return (c, a)\n",
    "\n",
    "print(circleInfo(10))"
   ]
  },
  {
   "cell_type": "markdown",
   "metadata": {},
   "source": [
    "### §3.3 Dictionary<a id='dictionary'></a>\n",
    "Python has a dictionary data structure, called `dict`. `dict` stores key-value pairs. It is super efficient to look up values by keys.\n",
    "The following dict contains name-age pairs, where names are the keys:"
   ]
  },
  {
   "cell_type": "code",
   "execution_count": null,
   "metadata": {},
   "outputs": [],
   "source": [
    "ages = {\n",
    "    'Elbert': 23,\n",
    "    'Bob': 55,\n",
    "    'David': 8,\n",
    "    'Alice': 20,\n",
    "    'Frank': 14,\n",
    "    'Calvin': 42,\n",
    "}\n",
    "ages['Calvin']"
   ]
  },
  {
   "cell_type": "markdown",
   "metadata": {},
   "source": [
    "We can add new key-value pairs into a `dict`:"
   ]
  },
  {
   "cell_type": "code",
   "execution_count": null,
   "metadata": {},
   "outputs": [],
   "source": [
    "ages['Harry'] = 19\n",
    "ages"
   ]
  },
  {
   "cell_type": "markdown",
   "metadata": {},
   "source": [
    "Since keys are unique in a `dict`, assigning a value to an existing key will replace the old value:"
   ]
  },
  {
   "cell_type": "code",
   "execution_count": null,
   "metadata": {
    "scrolled": true
   },
   "outputs": [],
   "source": [
    "ages['Alice'] = 30\n",
    "ages"
   ]
  },
  {
   "cell_type": "markdown",
   "metadata": {},
   "source": [
    "> Note:  \n",
    "The order of key-value pairs is not preserved in `dict`.  \n",
    "Keys must be immutable, mutable objects like `list` cannot be used as keys.\n",
    "\n",
    "If a key is not in the dict, trying to get its value will cause a KeyError:"
   ]
  },
  {
   "cell_type": "code",
   "execution_count": null,
   "metadata": {},
   "outputs": [],
   "source": [
    "ages['Jack']"
   ]
  },
  {
   "cell_type": "markdown",
   "metadata": {},
   "source": [
    "To check if a key is in a `dict`, we can use `in` keyword, just like checking if a value is in a `list`:"
   ]
  },
  {
   "cell_type": "code",
   "execution_count": null,
   "metadata": {
    "scrolled": true
   },
   "outputs": [],
   "source": [
    "'David' in ages"
   ]
  },
  {
   "cell_type": "markdown",
   "metadata": {},
   "source": [
    "#### keys method"
   ]
  },
  {
   "cell_type": "markdown",
   "metadata": {},
   "source": [
    "The keys method returns what Python 3 calls a view of its underlying keys. We can iterate over the view or turn the view into a list by using the list conversion function."
   ]
  },
  {
   "cell_type": "code",
   "execution_count": null,
   "metadata": {},
   "outputs": [],
   "source": [
    "inventory = {'apples': 430, 'bananas': 312, 'oranges': 525, 'pears': 217}\n",
    "\n",
    "for akey in inventory.keys():     # the order in which we get the keys is not defined\n",
    "   print(\"Got key\", akey, \"which maps to value\", inventory[akey])\n",
    "\n",
    "ks = list(inventory.keys())\n",
    "print(ks)"
   ]
  },
  {
   "cell_type": "markdown",
   "metadata": {},
   "source": [
    "#### values method"
   ]
  },
  {
   "cell_type": "markdown",
   "metadata": {},
   "source": [
    "The values and items methods are similar to keys. They return view objects which can be turned into lists or iterated over directly. Note that the items are shown as tuples containing the key and the associated value."
   ]
  },
  {
   "cell_type": "code",
   "execution_count": null,
   "metadata": {},
   "outputs": [],
   "source": [
    "inventory = {'apples': 430, 'bananas': 312, 'oranges': 525, 'pears': 217}\n",
    "\n",
    "print(list(inventory.values()))"
   ]
  },
  {
   "cell_type": "code",
   "execution_count": null,
   "metadata": {},
   "outputs": [],
   "source": [
    "inventory = {'apples': 430, 'bananas': 312, 'oranges': 525, 'pears': 217}\n",
    "print(list(inventory.items()))\n",
    "\n",
    "for (k,v) in inventory.items():\n",
    "    print(\"Got\", k, \"that maps to\", v)"
   ]
  },
  {
   "cell_type": "markdown",
   "metadata": {},
   "source": [
    "#### Get method"
   ]
  },
  {
   "cell_type": "markdown",
   "metadata": {},
   "source": [
    "There is also a safe way to get value by key using `get()`, we can get a default value if the specified key does not exists:"
   ]
  },
  {
   "cell_type": "code",
   "execution_count": null,
   "metadata": {},
   "outputs": [],
   "source": [
    "print(inventory.get('apples'))\n",
    "print(inventory.get('mango'))"
   ]
  },
  {
   "cell_type": "markdown",
   "metadata": {},
   "source": [
    "A `None` value is returned by default if the key cannot bt found.  \n",
    "You can also define your own default value as the second argument:"
   ]
  },
  {
   "cell_type": "code",
   "execution_count": null,
   "metadata": {},
   "outputs": [],
   "source": [
    "ages = {\n",
    "    'Elbert': 23,\n",
    "    'Bob': 55,\n",
    "    'David': 8,\n",
    "    'Alice': 20,\n",
    "    'Frank': 14,\n",
    "    'Calvin': 42,\n",
    "}\n",
    "print(ages.get('Jack', 0))"
   ]
  },
  {
   "cell_type": "markdown",
   "metadata": {},
   "source": [
    "Using `pop(key)` to remove a key-value pair from a `dict`:"
   ]
  },
  {
   "cell_type": "code",
   "execution_count": null,
   "metadata": {},
   "outputs": [],
   "source": [
    "popped_value = ages.pop('Elbert')\n",
    "print(popped_value)\n",
    "print(ages)"
   ]
  },
  {
   "cell_type": "markdown",
   "metadata": {},
   "source": [
    "If you only need to remove a cetrain key-value pair without caring about the removed value, you can use the `del` keyword:"
   ]
  },
  {
   "cell_type": "code",
   "execution_count": null,
   "metadata": {},
   "outputs": [],
   "source": [
    "del ages['Elbert']\n",
    "print(ages)"
   ]
  },
  {
   "cell_type": "markdown",
   "metadata": {},
   "source": [
    "Using a `for` loop to iterate all the key-value pairs in the dictionary:"
   ]
  },
  {
   "cell_type": "code",
   "execution_count": null,
   "metadata": {
    "scrolled": true
   },
   "outputs": [],
   "source": [
    "for key in ages:\n",
    "    print(key, ages[key])"
   ]
  },
  {
   "cell_type": "code",
   "execution_count": null,
   "metadata": {},
   "outputs": [],
   "source": [
    "for key, value in ages.items():\n",
    "    print(key, value)"
   ]
  },
  {
   "attachments": {
    "image.png": {
     "image/png": "[encoded data removed]"
    }
   },
   "cell_type": "markdown",
   "metadata": {},
   "source": [
    "### 3.3 Code Challenge\n",
    "\n",
    "Write a program called alice_words.py that creates a text file named alice_words.txt containing an alphabetical listing of all the words, and the number of times each occurs, in the text version of Alice’s Adventures in Wonderland. (You can obtain a free plain text version of the book, along with many others, from http://www.gutenberg.org.) The first 10 lines of your output file should look something like this\n",
    "\n",
    "![image.png](attachment:image.png)"
   ]
  },
  {
   "cell_type": "code",
   "execution_count": null,
   "metadata": {},
   "outputs": [],
   "source": [
    "# TO DO\n",
    "\n",
    "\n"
   ]
  },
  {
   "cell_type": "markdown",
   "metadata": {},
   "source": [
    "### §3.4 Set<a id='set'></a>\n",
    "`set` is like a `dict` without values. Since keys are always unique, there is no duplicate in a `set`."
   ]
  },
  {
   "cell_type": "code",
   "execution_count": null,
   "metadata": {},
   "outputs": [],
   "source": [
    "s = {2, 1, 1, 3, 2}\n",
    "print(s)\n",
    "print(s[0]) # error, because the items in a set have no order"
   ]
  },
  {
   "cell_type": "markdown",
   "metadata": {},
   "source": [
    "Or you can also construct a `set` by passing a list to the `set()` function:"
   ]
  },
  {
   "cell_type": "code",
   "execution_count": null,
   "metadata": {},
   "outputs": [],
   "source": [
    "s = set([2, 1, 1, 3, 2])\n",
    "print(s)"
   ]
  },
  {
   "cell_type": "markdown",
   "metadata": {},
   "source": [
    "To create an empty set, you should use the `set()` function without an argument. You cannot use `{}` since it represents an empty dictionary."
   ]
  },
  {
   "cell_type": "code",
   "execution_count": null,
   "metadata": {},
   "outputs": [],
   "source": [
    "empty_set = set()\n",
    "print(empty_set)"
   ]
  },
  {
   "cell_type": "markdown",
   "metadata": {},
   "source": [
    "The above example shows how to create a `set`. As you can see, all the duplicates in the input list are removed after creating the set. Similar to `dict`, the order of keys in a set is not preserved.  \n",
    "#### add"
   ]
  },
  {
   "cell_type": "code",
   "execution_count": null,
   "metadata": {},
   "outputs": [],
   "source": [
    "s = set([2, 1, 1, 3, 2])\n",
    "s.add(9)\n",
    "print(s)"
   ]
  },
  {
   "cell_type": "markdown",
   "metadata": {},
   "source": [
    "#### remove"
   ]
  },
  {
   "cell_type": "code",
   "execution_count": null,
   "metadata": {},
   "outputs": [],
   "source": [
    "s.remove(2)\n",
    "print(s)"
   ]
  },
  {
   "cell_type": "markdown",
   "metadata": {},
   "source": [
    "#### difference\n",
    "The difference() method returns a set that contains the difference between two sets."
   ]
  },
  {
   "cell_type": "code",
   "execution_count": null,
   "metadata": {},
   "outputs": [],
   "source": [
    "x = {\"apple\", \"banana\", \"cherry\"}\n",
    "y = {\"google\", \"microsoft\", \"apple\"}\n",
    "z = y.difference(x)\n",
    "\n",
    "print(z)"
   ]
  },
  {
   "cell_type": "markdown",
   "metadata": {},
   "source": [
    "#### update\n",
    "The update() method updates the current set, by adding items from another set."
   ]
  },
  {
   "cell_type": "code",
   "execution_count": null,
   "metadata": {},
   "outputs": [],
   "source": [
    "x = {\"apple\", \"banana\", \"cherry\"}\n",
    "y = {\"google\", \"microsoft\", \"apple\"}\n",
    "\n",
    "x.update(y)\n",
    "\n",
    "print(x)"
   ]
  },
  {
   "cell_type": "markdown",
   "metadata": {},
   "source": [
    "## Chapter 4: Pandas Guidebook<a id='pandas'></a>\n",
    "<a href=\"#0\">Go to top</a>\n",
    "***\n",
    "\n",
    "\n",
    "### §4.1 Packages<a id='packages'></a>\n",
    "\n",
    "It makes a Python program unmaintainable if there are too many variables and functions in a single file. Through grouping functions into different modules, each file can have fewer codes. In Python, each `.py` file can be regarded as a `module`.\n",
    "\n",
    "In order to prevent conflicts between modules, Python provides `package` to organize modules.\n",
    "\n",
    "For example, there are two modules, and both of them are called `mod`, but if they are in differnt packages, `packageone` and `packagetwo`, then it is totally fine. They can be identified as `packageone.mod` and `packagetwo.mod`:"
   ]
  },
  {
   "cell_type": "markdown",
   "metadata": {},
   "source": [
    "```\n",
    "packageone\n",
    "    ├─ __init__.py\n",
    "    └─ mod.py\n",
    "\n",
    "packagetwo\n",
    "    ├─ __init__.py\n",
    "    └─ mod.py\n",
    "```"
   ]
  },
  {
   "cell_type": "markdown",
   "metadata": {},
   "source": [
    "Every package directory has a `__init__.py`, otherwise, Python will regard this directory as a normal folder instead of a package. `__init__` can be an empty file.  \n",
    "Package can be nested, like the following directory structure:"
   ]
  },
  {
   "cell_type": "markdown",
   "metadata": {},
   "source": [
    "```\n",
    "mypackage\n",
    "    │\n",
    "    ├─ innerpackage\n",
    "    │    ├─ __init__.py\n",
    "    │    ├─ one.py\n",
    "    │    └─ two.py\n",
    "    │\n",
    "    ├─ __init__.py\n",
    "    └─ mod.py\n",
    "```"
   ]
  },
  {
   "cell_type": "markdown",
   "metadata": {},
   "source": [
    "`one.py`'s module name is `mypackage.innerpackage.one`.  \n",
    "The Python file for module `mypackage.innerpackage` is `__init__.py` in `mypackage/innerpackage`.\n",
    "\n",
    "> Note:  \n",
    "The names of self created modules should never conflict with system modules, such as `os`, `sys`.\n"
   ]
  },
  {
   "cell_type": "code",
   "execution_count": null,
   "metadata": {},
   "outputs": [],
   "source": [
    "import sys\n",
    "!{sys.executable} -m pip install pandas"
   ]
  },
  {
   "cell_type": "markdown",
   "metadata": {},
   "source": [
    "### §4.2 Regular Imports<a id='imports'></a>\n",
    "To use a certain module/package in our code, we can simply import it at the beginning of our codes:"
   ]
  },
  {
   "cell_type": "code",
   "execution_count": null,
   "metadata": {},
   "outputs": [],
   "source": [
    "import math\n",
    "\n",
    "result = math.factorial(5)\n",
    "print(result)"
   ]
  },
  {
   "cell_type": "markdown",
   "metadata": {},
   "source": [
    "We can import multiple modules in one line:"
   ]
  },
  {
   "cell_type": "code",
   "execution_count": null,
   "metadata": {},
   "outputs": [],
   "source": [
    "import math, time"
   ]
  },
  {
   "cell_type": "markdown",
   "metadata": {},
   "source": [
    "We can also rename the package/module imported:"
   ]
  },
  {
   "cell_type": "code",
   "execution_count": null,
   "metadata": {},
   "outputs": [],
   "source": [
    "import numpy as np\n",
    "\n",
    "np.average([1,2,3,4])"
   ]
  },
  {
   "cell_type": "markdown",
   "metadata": {},
   "source": [
    "Sometimes we may just want to import a certain part of a module or library:"
   ]
  },
  {
   "cell_type": "code",
   "execution_count": null,
   "metadata": {},
   "outputs": [],
   "source": [
    "from math import sqrt\n",
    "sqrt(9)"
   ]
  },
  {
   "cell_type": "code",
   "execution_count": null,
   "metadata": {},
   "outputs": [],
   "source": [
    "import math\n",
    "math.sqrt(9)"
   ]
  },
  {
   "cell_type": "markdown",
   "metadata": {},
   "source": [
    "You can check the function documentations using `?`"
   ]
  },
  {
   "cell_type": "code",
   "execution_count": null,
   "metadata": {},
   "outputs": [],
   "source": [
    "math.sqrt?"
   ]
  },
  {
   "cell_type": "markdown",
   "metadata": {},
   "source": [
    "You can also import everything from a package/module using `*` (this manner is usually not recommended):"
   ]
  },
  {
   "cell_type": "code",
   "execution_count": null,
   "metadata": {},
   "outputs": [],
   "source": [
    "from math import *"
   ]
  },
  {
   "cell_type": "markdown",
   "metadata": {},
   "source": [
    "The built-in function dir() is used to find out which names a module defines. It returns a sorted list of strings"
   ]
  },
  {
   "cell_type": "code",
   "execution_count": null,
   "metadata": {
    "scrolled": true
   },
   "outputs": [],
   "source": [
    "import sys\n",
    "dir(sys)"
   ]
  },
  {
   "cell_type": "markdown",
   "metadata": {},
   "source": [
    "### §4.3 Pandas intro<a id='pandas_intro'></a>\n",
    "\n",
    "Pandas is an open-source Python library for performing highly specialized data analysis. Pandas is built on top of the NumPy package, meaning a lot of the structure of NumPy is used or replicated in Pandas. Data in pandas is often used to feed statistical analysis in SciPy, plotting functions from Matplotlib, and machine learning algorithms in Scikit-learn.\n",
    "\n",
    "- It provides a single library for data analyst to easily process data, extract data and manipulate data.\n",
    "- Pandas provides two new data structures: Series and DataFrame.\n",
    "- The new data structures provide data manipulation capability equivalent to SQL-based relational database within Python\n"
   ]
  },
  {
   "cell_type": "code",
   "execution_count": null,
   "metadata": {},
   "outputs": [],
   "source": [
    "!pip install pandas \n",
    "import pandas as pd"
   ]
  },
  {
   "cell_type": "markdown",
   "metadata": {},
   "source": [
    "#### Create Series\n",
    "\n",
    "Creating a Series by passing a list of values, letting pandas create a default integer index.\n",
    "The default index starts from 0."
   ]
  },
  {
   "cell_type": "code",
   "execution_count": null,
   "metadata": {},
   "outputs": [],
   "source": [
    "s = pd.Series([1, 3, 5, 4, 6, 8])\n",
    "print(s)"
   ]
  },
  {
   "cell_type": "markdown",
   "metadata": {},
   "source": [
    "#### Create Dataframe\n",
    "\n",
    "You can create a DataFrame by passing a NumPy array, with an index and labeled columns:"
   ]
  },
  {
   "cell_type": "code",
   "execution_count": null,
   "metadata": {},
   "outputs": [],
   "source": [
    "import numpy as np\n",
    "import pandas as pd\n",
    "df = pd.DataFrame(\n",
    "            {\n",
    "               \"one\": pd.Series(np.random.randn(3), index=[\"a\", \"b\", \"c\"]),\n",
    "               \"two\": pd.Series(np.random.randn(4), index=[\"a\", \"b\", \"c\", \"d\"])\n",
    "           }\n",
    "       )\n",
    "\n",
    "print(df)"
   ]
  },
  {
   "cell_type": "code",
   "execution_count": null,
   "metadata": {},
   "outputs": [],
   "source": [
    "df = pd.DataFrame(np.random.randn(6, 4), columns=list(\"ABCD\"))\n",
    "print(df)"
   ]
  },
  {
   "cell_type": "markdown",
   "metadata": {},
   "source": [
    "You can create a DataFrame by passing a dict of objects that can be converted to series-like."
   ]
  },
  {
   "cell_type": "code",
   "execution_count": null,
   "metadata": {},
   "outputs": [],
   "source": [
    "df2 = pd.DataFrame(\n",
    "                {\n",
    "                \"A\": 1.0,\n",
    "                \"B\": pd.Timestamp(\"20210402\"),\n",
    "                \"C\": pd.Series(1, index=list(range(4)), dtype=\"float32\"),\n",
    "                \"D\": np.array([3] * 4, dtype=\"int32\"),\n",
    "                \"E\": pd.Categorical([\"test\", \"train\", \"test\", \"train\"]),\n",
    "                \"F\": \"foo\",\n",
    "            }\n",
    "        )\n",
    "print(df2)"
   ]
  },
  {
   "cell_type": "markdown",
   "metadata": {},
   "source": [
    "We can get the dataframe information by **df.info()**, **df.describe()**, which shows a quick statistic summary of your data:"
   ]
  },
  {
   "cell_type": "code",
   "execution_count": null,
   "metadata": {},
   "outputs": [],
   "source": [
    "df2.info()"
   ]
  },
  {
   "cell_type": "code",
   "execution_count": null,
   "metadata": {},
   "outputs": [],
   "source": [
    "df2.describe()"
   ]
  },
  {
   "cell_type": "markdown",
   "metadata": {},
   "source": [
    "### §4.4 View Data<a id='view_data'></a>\n",
    "\n",
    "We can view the top and bottom rows of the frame using **head()**, **tail()**"
   ]
  },
  {
   "cell_type": "code",
   "execution_count": null,
   "metadata": {},
   "outputs": [],
   "source": [
    "df.head() #default top 5 rows"
   ]
  },
  {
   "cell_type": "code",
   "execution_count": null,
   "metadata": {},
   "outputs": [],
   "source": [
    "df.tail(2)"
   ]
  },
  {
   "cell_type": "markdown",
   "metadata": {},
   "source": [
    "We can view the dataframe index and columns, data types, data shape"
   ]
  },
  {
   "cell_type": "code",
   "execution_count": null,
   "metadata": {},
   "outputs": [],
   "source": [
    "# index\n",
    "print(df.index)\n",
    "\n",
    "# column names\n",
    "print(df.columns)\n",
    "\n",
    "# data types\n",
    "print(df.dtypes)\n",
    "\n",
    "# shape\n",
    "print(df.shape)"
   ]
  },
  {
   "cell_type": "markdown",
   "metadata": {},
   "source": [
    "### §4.5 Slicing & Indexing<a id='slice_index_pandas'></a>\n",
    "\n",
    "There are different ways to do [slicing & indexing](https://pandas.pydata.org/pandas-docs/stable/user_guide/indexing.html#indexing). It will be used a lot to get and set subsets of pandas objects.\n",
    "\n",
    "- [ ]: indexing with [] (a.k.a. __getitem__ for those familiar with implementing class behavior in Python) is selecting out lower-dimensional slices.\n",
    "- .loc: `.loc` is primarily label based, but may also be used with a boolean array. `.loc` will raise `KeyError` when the items are not found.\n",
    "    1. A single label, e.g. `5` or `'a'` (Note that 5 is interpreted as a label of the index. This use is not an integer position along the index.).\n",
    "\n",
    "    2. A list or array of labels `['a', 'b', 'c']`.\n",
    "\n",
    "    3. A slice object with labels `'a':'f'` (Note that contrary to usual Python slices, both the start and the stop are included, when present in the index! See Slicing with labels and Endpoints are inclusive.)\n",
    "\n",
    "    4. A boolean array (any NA values will be treated as False).\n",
    "\n",
    "    5. A callable function with one argument (the calling Series or DataFrame) and that returns valid output for indexing (one of the above) \n",
    "- .iloc: `.iloc` is primarily integer position based (from 0 to length-1 of the axis), but may also be used with a boolean array. .iloc will raise IndexError if a requested indexer is out-of-bounds, except slice indexers which allow out-of-bounds indexing. \n",
    "    1. An integer e.g. `5`.\n",
    "\n",
    "    2. A list or array of integers `[4, 3, 0]`.\n",
    "\n",
    "    3. A slice object with ints `1:7`.\n",
    "\n",
    "    4. A boolean array (any NA values will be treated as False).\n",
    "\n",
    "    5. A callable function with one argument (the calling Series or DataFrame) and that returns valid output for indexing (one of the above).\n",
    "- .at: similarly to `loc`, `at` provides label based scalar lookups\n",
    "- .iat: similarly to `iloc`, `iat` provides integer based scalar lookups\n",
    "- .isin: we can select rows from a DataFrame using a boolean vector. `isin()` method can return a boolean vector.\n",
    "- .where: It is similar to .isin method. where can return a boolean vector."
   ]
  },
  {
   "cell_type": "code",
   "execution_count": null,
   "metadata": {},
   "outputs": [],
   "source": [
    "df[\"A\"] # select the column A"
   ]
  },
  {
   "cell_type": "code",
   "execution_count": null,
   "metadata": {},
   "outputs": [],
   "source": [
    "df[0:2] # select the first 2 rows"
   ]
  },
  {
   "cell_type": "code",
   "execution_count": null,
   "metadata": {},
   "outputs": [],
   "source": [
    "df.loc[:, [\"A\", \"B\"]] # select all rows in column A, column B"
   ]
  },
  {
   "cell_type": "code",
   "execution_count": null,
   "metadata": {},
   "outputs": [],
   "source": [
    "df2.loc[1:2, [\"A\", \"B\"]] # the 2nd and 3rd row in column A and column B"
   ]
  },
  {
   "cell_type": "code",
   "execution_count": null,
   "metadata": {},
   "outputs": [],
   "source": [
    "df.iloc[3] # the 4th row "
   ]
  },
  {
   "cell_type": "code",
   "execution_count": null,
   "metadata": {},
   "outputs": [],
   "source": [
    "df.iloc[1:3, :] # 2nd and 3rd row in all columns"
   ]
  },
  {
   "cell_type": "code",
   "execution_count": null,
   "metadata": {},
   "outputs": [],
   "source": [
    "df.iat[1, 1] # the 2nd row, 2nd column value"
   ]
  },
  {
   "cell_type": "code",
   "execution_count": null,
   "metadata": {},
   "outputs": [],
   "source": [
    "df[df[\"A\"] > 0] # use boolean index to filter the dataframe"
   ]
  },
  {
   "cell_type": "code",
   "execution_count": null,
   "metadata": {},
   "outputs": [],
   "source": [
    "df[df > 0]"
   ]
  },
  {
   "cell_type": "markdown",
   "metadata": {},
   "source": [
    "Use the isin() method for filtering:"
   ]
  },
  {
   "cell_type": "code",
   "execution_count": null,
   "metadata": {},
   "outputs": [],
   "source": [
    "df[\"E\"] = [\"one\", \"one\", \"two\", \"three\", \"four\", \"three\"] # new column is added to the dataframe."
   ]
  },
  {
   "cell_type": "code",
   "execution_count": null,
   "metadata": {},
   "outputs": [],
   "source": [
    "df"
   ]
  },
  {
   "cell_type": "code",
   "execution_count": null,
   "metadata": {},
   "outputs": [],
   "source": [
    "df[df[\"E\"].isin([\"two\", \"four\"])]"
   ]
  },
  {
   "cell_type": "code",
   "execution_count": null,
   "metadata": {},
   "outputs": [],
   "source": [
    "df.where(df['B'] > 0) # which is equal to df[df['B'] < 0]"
   ]
  },
  {
   "cell_type": "markdown",
   "metadata": {},
   "source": [
    "### §4.6 Operations<a id='operations_pandas'></a>\n",
    "\n",
    "- `sum()`: Aggregation function that gives the total sum of a column\n",
    "\n",
    "- `mean()`: Aggregation function that gives the average value of a column\n",
    "\n",
    "- `std()`: Aggregation function that gives the standard deviation value of a column\n",
    "\n",
    "- `count()`: Counts the number of fill rows in the columns, where empty rows are ignored.\n",
    "\n",
    "- `unique()`: Similar to set(), but only works for Series object, i.e `data[‘Age’]`\n",
    "\n",
    "- `nunique()`: Much like unique(), except it counts the number of unique elements in the Series.\n",
    "\n",
    "- `value_counts()`: Counting duplicated values\n"
   ]
  },
  {
   "cell_type": "code",
   "execution_count": null,
   "metadata": {},
   "outputs": [],
   "source": [
    "df.mean() # get mean value "
   ]
  },
  {
   "cell_type": "code",
   "execution_count": null,
   "metadata": {},
   "outputs": [],
   "source": [
    "df.mean(1)"
   ]
  },
  {
   "cell_type": "code",
   "execution_count": null,
   "metadata": {},
   "outputs": [],
   "source": [
    "df['E'].nunique() # number of unique values in column E"
   ]
  },
  {
   "cell_type": "code",
   "execution_count": null,
   "metadata": {},
   "outputs": [],
   "source": [
    "df['E'].value_counts()"
   ]
  },
  {
   "cell_type": "code",
   "execution_count": null,
   "metadata": {},
   "outputs": [],
   "source": [
    "df.apply(np.cumsum)"
   ]
  },
  {
   "cell_type": "code",
   "execution_count": null,
   "metadata": {},
   "outputs": [],
   "source": [
    "df[['A','B','C','D']].apply(lambda x: x.max() - x.min())"
   ]
  },
  {
   "attachments": {
    "image.png": {
     "image/png": "[encoded data removed]"
    }
   },
   "cell_type": "markdown",
   "metadata": {},
   "source": [
    "### §4.7 Merge Data in Pandas<a id='merge_data'></a>\n",
    "\n",
    "pandas provides various facilities for easily combining together Series and DataFrame objects with various kinds of set logic for the indexes and relational algebra functionality in the case of join / merge-type operations.\n",
    "\n",
    "![image.png](attachment:image.png)\n",
    "\n",
    "Suppose we have two tables: `df_1`and `df_2`"
   ]
  },
  {
   "cell_type": "code",
   "execution_count": null,
   "metadata": {},
   "outputs": [],
   "source": [
    "df_1 = pd.DataFrame({\"Name\": [\"Andy\",\"Bob\",\"Charlie\",\"Elsa\",\"Felicia\"], \"Gender\": [\"M\",\"M\",\"M\",\"F\",\"F\"]})\n",
    "df_2 = pd.DataFrame({\"Name\": [\"Andy\",\"Bob\",\"Damian\",\"Elsa\",\"Gertrude\"], \"Age\": [15,23,27,18,46]})\n",
    "\n",
    "print(df_1)\n",
    "print(df_2)"
   ]
  },
  {
   "cell_type": "code",
   "execution_count": null,
   "metadata": {},
   "outputs": [],
   "source": [
    "# inner join\n",
    "df_inner = pd.merge(df_1, df_2, on = \"Name\",how = \"inner\")\n",
    "print(df_inner)\n",
    "\n",
    "# left join\n",
    "df_left = pd.merge(df_1, df_2, on =  \"Name\",how = \"left\")\n",
    "print(df_left)\n",
    "\n",
    "# right join\n",
    "df_right = pd.merge(df_1, df_2, on =  \"Name\",how = \"right\")\n",
    "print(df_right)\n",
    "\n",
    "# outer join\n",
    "df_outer = pd.merge(df_1, df_2, on =  \"Name\",how = \"outer\")\n",
    "print(df_outer)"
   ]
  },
  {
   "cell_type": "markdown",
   "metadata": {},
   "source": [
    "### §4.8 Concatenate Data in Pandas<a id='concat_data'></a>\n",
    "\n",
    "\n",
    "Concatenate pandas objects together with `concat()`:"
   ]
  },
  {
   "cell_type": "code",
   "execution_count": null,
   "metadata": {},
   "outputs": [],
   "source": [
    "result = pd.concat([df_1, df_2])\n",
    "print(result)"
   ]
  },
  {
   "cell_type": "code",
   "execution_count": null,
   "metadata": {},
   "outputs": [],
   "source": [
    "df1 = pd.DataFrame(\n",
    "        {\n",
    "            \"A\": [\"A0\", \"A1\", \"A2\", \"A3\"],\n",
    "            \"B\": [\"B0\", \"B1\", \"B2\", \"B3\"],\n",
    "            \"C\": [\"C0\", \"C1\", \"C2\", \"C3\"],\n",
    "            \"D\": [\"D0\", \"D1\", \"D2\", \"D3\"],\n",
    "        },\n",
    "        index=[0, 1, 2, 3],\n",
    "   )\n",
    "\n",
    "df2 = pd.DataFrame(\n",
    "        {\n",
    "            \"A\": [\"A0\", \"A5\", \"A6\", \"A7\"],\n",
    "            \"B\": [\"B0\", \"B5\", \"B6\", \"B7\"],\n",
    "            \"C\": [\"C0\", \"C5\", \"C6\", \"C7\"],\n",
    "            \"D\": [\"D0\", \"D5\", \"D6\", \"D7\"],\n",
    "        },\n",
    "        index=[4, 5, 6, 7],\n",
    "    )\n",
    "\n",
    "df3 = pd.DataFrame(\n",
    "        {\n",
    "            \"A\": [\"A0\", \"A9\", \"A10\", \"A11\"],\n",
    "            \"B\": [\"B0\", \"B9\", \"B10\", \"B11\"],\n",
    "            \"C\": [\"C0\", \"C9\", \"C10\", \"C11\"],\n",
    "            \"D\": [\"D0\", \"D9\", \"D10\", \"D11\"],\n",
    "        },\n",
    "        index=[8, 9, 10, 11],\n",
    "   )\n",
    "\n",
    "frames = [df1, df2, df3]\n",
    "result = pd.concat(frames)"
   ]
  },
  {
   "attachments": {
    "image.png": {
     "image/png": "[encoded data removed]"
    }
   },
   "cell_type": "markdown",
   "metadata": {},
   "source": [
    "![image.png](attachment:image.png)"
   ]
  },
  {
   "cell_type": "code",
   "execution_count": null,
   "metadata": {},
   "outputs": [],
   "source": [
    "result"
   ]
  },
  {
   "cell_type": "markdown",
   "metadata": {},
   "source": [
    "It can be useful when we want to combine multiple files into one single file for our data analysis.\n",
    "\n",
    "> Note:\n",
    "It is worth noting that `concat()` (and therefore `append()`) makes a full copy of the data, and that constantly reusing this function can create a significant performance hit. If you need to use the operation over several datasets, use a list comprehension."
   ]
  },
  {
   "cell_type": "markdown",
   "metadata": {},
   "source": [
    "```python\n",
    "frames = [ process_your_file(f) for f in files ]\n",
    "result = pd.concat(frames)\n",
    "```"
   ]
  },
  {
   "cell_type": "markdown",
   "metadata": {},
   "source": [
    "A useful shortcut to `concat()` are the `append()` instance methods on Series and DataFrame.\n",
    "\n",
    "`append()` can take multiple objects to concatenate."
   ]
  },
  {
   "cell_type": "code",
   "execution_count": null,
   "metadata": {},
   "outputs": [],
   "source": [
    "result = df1.append(df2)\n",
    "result"
   ]
  },
  {
   "cell_type": "code",
   "execution_count": null,
   "metadata": {},
   "outputs": [],
   "source": [
    "result = df1.append([df2, df3])\n",
    "result"
   ]
  },
  {
   "cell_type": "markdown",
   "metadata": {},
   "source": [
    "#### drop duplicate values\n",
    "\n",
    "After joining, appending, merging, there might be duplicates that needs to be removed.\n",
    "We can use `drop_duplicates()` to remove the duplicate rows."
   ]
  },
  {
   "cell_type": "code",
   "execution_count": null,
   "metadata": {},
   "outputs": [],
   "source": [
    "result.drop_duplicates() #without resetting the index"
   ]
  },
  {
   "cell_type": "code",
   "execution_count": null,
   "metadata": {},
   "outputs": [],
   "source": [
    "result.drop_duplicates(inplace=False)\n",
    "result"
   ]
  },
  {
   "cell_type": "code",
   "execution_count": null,
   "metadata": {},
   "outputs": [],
   "source": [
    "result.drop_duplicates(inplace=True)\n",
    "result"
   ]
  },
  {
   "cell_type": "code",
   "execution_count": null,
   "metadata": {},
   "outputs": [],
   "source": [
    "result.drop_duplicates(inplace=True)\n",
    "result.reset_index(drop = True)"
   ]
  },
  {
   "cell_type": "markdown",
   "metadata": {},
   "source": [
    "### §4.9 Grouping Data in Pandas<a id='group_data'></a>\n",
    "\n",
    "In data analysis, we often need to answer business questions by summarizing data. For example,\n",
    "\n",
    "\"What is the department sales in Q1?\"\n",
    "\n",
    "\"How many new customers we have acquired in the past year?\"\n",
    "\n",
    "\"Which product saw the biggest increase during the past 6 months?\". \n",
    "\n",
    "To answer these questions, we need to group the data by certain dimension(s) and calculate the metrics. By “group by” we are referring to a process involving one or more of the following steps:\n",
    "\n",
    "- **Splitting** the data into groups based on some criteria\n",
    "\n",
    "- **Applying** a function to each group independently\n",
    "\n",
    "- **Combining** the results into a data structure"
   ]
  },
  {
   "cell_type": "code",
   "execution_count": null,
   "metadata": {},
   "outputs": [],
   "source": [
    "df = pd.DataFrame(\n",
    "        {\n",
    "            \"A\": [\"foo\", \"bar\", \"foo\", \"bar\", \"foo\", \"bar\", \"foo\", \"foo\"],\n",
    "            \"B\": [\"one\", \"one\", \"two\", \"three\", \"two\", \"two\", \"one\", \"three\"],\n",
    "            \"C\": np.random.randn(8),\n",
    "            \"D\": np.random.randn(8),\n",
    "        })\n",
    "df"
   ]
  },
  {
   "cell_type": "code",
   "execution_count": null,
   "metadata": {},
   "outputs": [],
   "source": [
    "# Grouping by column A, and then applying the sum() function to the resulting groups.\n",
    "df.groupby(\"A\").sum()"
   ]
  },
  {
   "cell_type": "code",
   "execution_count": null,
   "metadata": {},
   "outputs": [],
   "source": [
    "# Grouping by multiple columns forms a hierarchical index, and again we can apply the sum() function.\n",
    "df.groupby([\"A\", \"B\"]).sum()"
   ]
  },
  {
   "cell_type": "code",
   "execution_count": null,
   "metadata": {},
   "outputs": [],
   "source": [
    "# Grouping by column A and apply the maximum function on column C.\n",
    "df.groupby(\"A\")[\"C\"].max()"
   ]
  },
  {
   "cell_type": "code",
   "execution_count": null,
   "metadata": {},
   "outputs": [],
   "source": [
    "# Grouping by column A and aggregating by multiple functions to find mean of column C and sum of column D\n",
    "df.groupby(['A']).agg({'C':'mean', 'D':'sum'})"
   ]
  },
  {
   "cell_type": "markdown",
   "metadata": {},
   "source": [
    ">Bonus example: We can create a summary table using lambda functions to groupby and aggregate data by multiple functions"
   ]
  },
  {
   "cell_type": "code",
   "execution_count": null,
   "metadata": {},
   "outputs": [],
   "source": [
    "df = pd.DataFrame(\n",
    "        data={\n",
    "            \"Province\": [\"ON\", \"QC\", \"BC\", \"AL\", \"AL\", \"MN\", \"ON\"],\n",
    "            \"City\": [\n",
    "                \"Toronto\",\n",
    "                \"Montreal\",\n",
    "                \"Vancouver\",\n",
    "                \"Calgary\",\n",
    "                \"Edmonton\",\n",
    "                \"Winnipeg\",\n",
    "                \"Windsor\",\n",
    "            ],\n",
    "            \"Sales\": [13, 6, 16, 8, 4, 3, 1],\n",
    "        })\n",
    "df"
   ]
  },
  {
   "cell_type": "code",
   "execution_count": null,
   "metadata": {},
   "outputs": [],
   "source": [
    "df.groupby(['Province']).apply(lambda x: pd.Series({'Sales_sum': x['Sales'].sum(),\n",
    "                                             'Sales_Max': x['Sales'].max(),\n",
    "                                             'Sales_Min': x['Sales'].min(),\n",
    "                                             'Sales_Avg': x['Sales'].mean(),\n",
    "                                             'Sales_# of Unique': x['Sales'].nunique(),\n",
    "                                             'Sales_Unique': x['Sales'].unique()}))"
   ]
  },
  {
   "cell_type": "code",
   "execution_count": null,
   "metadata": {},
   "outputs": [],
   "source": [
    "grades = [48, 99, 75, 80, 42, 80, 72, 68, 36, 78]\n",
    "\n",
    "df = pd.DataFrame(\n",
    "        {\n",
    "            \"ID\": [\"x%d\" % r for r in range(10)],\n",
    "            \"Gender\": [\"F\", \"M\", \"F\", \"M\", \"F\", \"M\", \"F\", \"M\", \"M\", \"M\"],\n",
    "            \"ExamYear\": [\n",
    "                \"2007\",\n",
    "                \"2007\",\n",
    "                \"2007\",\n",
    "                \"2008\",\n",
    "                \"2008\",\n",
    "                \"2008\",\n",
    "                \"2008\",\n",
    "                \"2009\",\n",
    "                \"2009\",\n",
    "                \"2009\",\n",
    "            ],\n",
    "            \"Class\": [\n",
    "                \"algebra\",\n",
    "                \"stats\",\n",
    "                \"bio\",\n",
    "                \"algebra\",\n",
    "                \"algebra\",\n",
    "                \"stats\",\n",
    "                \"stats\",\n",
    "                \"algebra\",\n",
    "                \"bio\",\n",
    "                \"bio\",\n",
    "            ],\n",
    "            \"Participated\": [\n",
    "                \"yes\",\n",
    "                \"yes\",\n",
    "                \"yes\",\n",
    "                \"yes\",\n",
    "                \"no\",\n",
    "                \"yes\",\n",
    "                \"yes\",\n",
    "                \"yes\",\n",
    "                \"yes\",\n",
    "                \"yes\",\n",
    "            ],\n",
    "            \"Passed\": [\"yes\" if x > 50 else \"no\" for x in grades],\n",
    "            \"Employed\": [\n",
    "                True,\n",
    "                True,\n",
    "                True,\n",
    "                False,\n",
    "                False,\n",
    "                False,\n",
    "                False,\n",
    "                True,\n",
    "                True,\n",
    "                False,\n",
    "            ],\n",
    "            \"Grade\": grades,\n",
    "        }\n",
    "    )\n",
    "\n",
    "df"
   ]
  },
  {
   "cell_type": "code",
   "execution_count": null,
   "metadata": {
    "scrolled": true
   },
   "outputs": [],
   "source": [
    "df.groupby(\"ExamYear\").agg(\n",
    "        {\n",
    "            \"Participated\": lambda x: x.value_counts()[\"yes\"],\n",
    "            \"Passed\": lambda x: sum(x == \"yes\"),\n",
    "            \"Employed\": lambda x: sum(x),\n",
    "            \"Grade\": lambda x: sum(x)/len(x),\n",
    "        }\n",
    "    )"
   ]
  },
  {
   "cell_type": "markdown",
   "metadata": {},
   "source": [
    "#### Pivot tables"
   ]
  },
  {
   "cell_type": "code",
   "execution_count": null,
   "metadata": {},
   "outputs": [],
   "source": [
    "table = pd.pivot_table(\n",
    "        df,\n",
    "        values=[\"Sales\"],\n",
    "        index=[\"Province\"],\n",
    "        columns=[\"City\"],\n",
    "        aggfunc=np.sum,\n",
    "        margins=True)\n",
    "table"
   ]
  },
  {
   "cell_type": "markdown",
   "metadata": {},
   "source": [
    "### §4.10 Getting data in/out<a id='get_data_inout'></a>\n",
    "\n",
    "We can use pandas to read files to extract data. pandas supports a wide range of file format, such as `csv`, `excel`,`json`, `HTML`, `SQL` and so on. You can refer to this [link](https://pandas.pydata.org/pandas-docs/stable/user_guide/io.html#)"
   ]
  },
  {
   "cell_type": "markdown",
   "metadata": {},
   "source": [
    "#### Read in CSV files"
   ]
  },
  {
   "cell_type": "code",
   "execution_count": null,
   "metadata": {},
   "outputs": [],
   "source": [
    "df = pd.read_csv(\"../data/world-happiness-report.csv\")"
   ]
  },
  {
   "cell_type": "code",
   "execution_count": null,
   "metadata": {},
   "outputs": [],
   "source": [
    "df.head(5)\n",
    "df.shape\n",
    "df.info()\n",
    "df.describe()"
   ]
  },
  {
   "cell_type": "code",
   "execution_count": null,
   "metadata": {},
   "outputs": [],
   "source": [
    "top_10_GDP = df.groupby('Country name')['Log GDP per capita'].mean().sort_values(ascending=False)[:10]\n",
    "top_10_GDP"
   ]
  },
  {
   "cell_type": "markdown",
   "metadata": {},
   "source": [
    "#### write to csv file"
   ]
  },
  {
   "cell_type": "code",
   "execution_count": null,
   "metadata": {},
   "outputs": [],
   "source": [
    "top_10_GDP.to_csv('../data/top10gdp_country.csv')"
   ]
  },
  {
   "cell_type": "markdown",
   "metadata": {},
   "source": [
    "#### Read in multiple CSV files\n",
    "\n",
    "The best way to combine multiple files into a single DataFrame is to read the individual frames one by one, put all of the individual frames into a list, and then combine the frames in the list using `pd.concat()`:"
   ]
  },
  {
   "cell_type": "code",
   "execution_count": null,
   "metadata": {},
   "outputs": [],
   "source": [
    "# generate sample csv files\n",
    "for i in range(3):\n",
    "        data = pd.DataFrame(np.random.randn(10, 4))\n",
    "        data.to_csv(\"../data/file_{}.csv\".format(i), index = False)\n",
    "    \n",
    "files = [\"../data/file_0.csv\", \"../data/file_1.csv\", \"../data/file_2.csv\"]\n",
    "\n",
    "# concatenate files into single dataframe by putting all individual frames into a list\n",
    "result = pd.concat([pd.read_csv(f) for f in files], ignore_index=True)\n",
    "\n",
    "result"
   ]
  },
  {
   "cell_type": "markdown",
   "metadata": {},
   "source": [
    "You can use the same approach to read all files matching a pattern. Here is an example using `glob`:"
   ]
  },
  {
   "cell_type": "code",
   "execution_count": null,
   "metadata": {},
   "outputs": [],
   "source": [
    "import glob\n",
    "import os\n",
    "\n",
    "files = glob.glob(\"../data/file_*.csv\")\n",
    "result = pd.concat([pd.read_csv(f) for f in files], ignore_index=True)\n",
    "\n",
    "result"
   ]
  },
  {
   "cell_type": "markdown",
   "metadata": {},
   "source": [
    "#### Read/Write excel files\n",
    "\n",
    "In the most basic use-case, `read_excel` takes a path to an Excel file, and the `sheet_name` indicating which sheet to parse.\n",
    "\n",
    "The `to_excel()` instance method is used for saving a DataFrame to Excel. Generally the semantics are similar to working with csv data."
   ]
  },
  {
   "cell_type": "markdown",
   "metadata": {},
   "source": [
    "```Python\n",
    "pd.read_excel(\"path_to_file.xls\", sheet_name=\"Sheet1\")\n",
    "```"
   ]
  },
  {
   "cell_type": "code",
   "execution_count": null,
   "metadata": {
    "scrolled": true
   },
   "outputs": [],
   "source": [
    "apple_price = pd.read_excel('data/AAPL_excel.xls', sheet_name= 'AAPL')\n",
    "apple_price.head()"
   ]
  },
  {
   "cell_type": "markdown",
   "metadata": {},
   "source": [
    "### §4.11 Handle missing value<a id='handle_missing_value'></a>\n",
    "\n",
    "Before you start cleaning a data set, it’s a good idea to just get a general feel for the data. After that, you can put together a plan to clean the data.\n",
    "\n",
    "- What are the features?\n",
    "- What are the expected types (int, float, string, boolean)?\n",
    "- Is there obvious missing data (values that Pandas can detect)?\n",
    "- Is there other types of missing data that’s not so obvious (can’t easily detect with Pandas)?\n",
    "\n",
    "Sources of Missing Values:\n",
    "- User forgot to fill in a field.\n",
    "- Data was lost while transferring manually from a legacy database.\n",
    "- There was a programming error.\n",
    "- Users chose not to fill out a field tied to their beliefs about how the results would be used or interpreted.\n",
    "\n",
    "For more details, you can refer to the [link](https://github.com/matthewbrems/ODSC-missing-data-may-18/blob/master/Analysis%20with%20Missing%20Data.pdf)"
   ]
  },
  {
   "cell_type": "code",
   "execution_count": null,
   "metadata": {},
   "outputs": [],
   "source": [
    "import pandas as pd\n",
    "\n",
    "# Read csv file into a pandas dataframe\n",
    "df = pd.read_csv(\"../data/property_data.csv\")\n",
    "\n",
    "# Take a look at df\n",
    "df"
   ]
  },
  {
   "cell_type": "code",
   "execution_count": null,
   "metadata": {},
   "outputs": [],
   "source": [
    "# Total missing values for each feature\n",
    "df.isnull().sum()"
   ]
  },
  {
   "cell_type": "markdown",
   "metadata": {},
   "source": [
    "#### Remove missing values\n",
    "\n",
    "One way to handle missing values is to drop rows with na values."
   ]
  },
  {
   "cell_type": "code",
   "execution_count": null,
   "metadata": {},
   "outputs": [],
   "source": [
    "df.dropna(how=\"any\") #To drop any rows that have missing data."
   ]
  },
  {
   "cell_type": "code",
   "execution_count": null,
   "metadata": {},
   "outputs": [],
   "source": [
    "df.dropna(subset=['PID', 'ST_NUM']) # drop rows that have missing data on columns PID or ST_NUM."
   ]
  },
  {
   "cell_type": "markdown",
   "metadata": {},
   "source": [
    "#### Impute data\n",
    "\n",
    "A good strategy when dealing with missing values involves their replacement with another value. Usually, the following strategies are adopted:\n",
    "\n",
    "- for numerical values replace the missing value with the mean or median of the column\n",
    "- for categorial values replace the missing value with the most frequent value of the column"
   ]
  },
  {
   "cell_type": "code",
   "execution_count": null,
   "metadata": {},
   "outputs": [],
   "source": [
    "df['ST_NUM'].fillna(125, inplace=True) # Replace missing values with a number\n",
    "df"
   ]
  },
  {
   "cell_type": "code",
   "execution_count": null,
   "metadata": {},
   "outputs": [],
   "source": [
    "# Replace using median \n",
    "median = df['ST_NUM'].median()\n",
    "df['ST_NUM'].fillna(median, inplace=True)\n",
    "\n",
    "df"
   ]
  },
  {
   "cell_type": "markdown",
   "metadata": {},
   "source": [
    "## Chapter 5: NumPy Guidebook<a id='numpy'></a>\n",
    "<a href=\"#0\">Go to top</a>\n",
    "***\n",
    "\n",
    "NumPy is a package for scientific computing and data analysis.\n",
    "\n",
    "NumPy provides a multi-dimensional array data structure, `ndarray`, which is a fast, flexible container for large data sets in Python.\n",
    "\n",
    "In an ndarray, all the elements must be the same type.\n",
    "Every ndarray has a `shape`, which is a tuple indicating the size of each dimension, and a `dtype`, describing the data type of the elements in the array."
   ]
  },
  {
   "cell_type": "code",
   "execution_count": null,
   "metadata": {},
   "outputs": [],
   "source": [
    "import numpy as np\n",
    "a = np.arange(15).reshape(3, 5)\n",
    "print(a)\n",
    "\n",
    "print(a.shape)\n",
    "\n",
    "print(a.ndim)\n",
    "\n",
    "print(a.dtype.name)\n",
    "\n",
    "print(a.size)"
   ]
  },
  {
   "cell_type": "markdown",
   "metadata": {},
   "source": [
    "### §5.1 Array Creation<a id='array_creation'></a>\n",
    "\n",
    "The most common way to create an ndarray is through a regular Python list or tuple using `array` function:"
   ]
  },
  {
   "cell_type": "code",
   "execution_count": null,
   "metadata": {},
   "outputs": [],
   "source": [
    "import numpy as np\n",
    "data = [1,2,3]\n",
    "a = np.array(data)\n",
    "print(a)\n",
    "a.dtype"
   ]
  },
  {
   "cell_type": "markdown",
   "metadata": {},
   "source": [
    "A frequent error consists in calling array with multiple arguments, rather than providing a single sequence as an argument."
   ]
  },
  {
   "cell_type": "code",
   "execution_count": null,
   "metadata": {},
   "outputs": [],
   "source": [
    "a = np.array(1,2,3,4)"
   ]
  },
  {
   "cell_type": "code",
   "execution_count": null,
   "metadata": {},
   "outputs": [],
   "source": [
    "b = np.array([1,2,3,4])\n",
    "print(b.dtype)"
   ]
  },
  {
   "cell_type": "markdown",
   "metadata": {},
   "source": [
    "> Be careful that the input argument is a `list`.\n",
    "\n",
    "The nested level decides the number of dimensions. For example, a sequence (can be list, tuple, etc.) of sequences is a two-dimensional array. "
   ]
  },
  {
   "cell_type": "code",
   "execution_count": null,
   "metadata": {},
   "outputs": [],
   "source": [
    "arr = np.array([(2.1, 4, 7.0), (-5, 72, 4.3)])\n",
    "arr"
   ]
  },
  {
   "cell_type": "markdown",
   "metadata": {},
   "source": [
    "While creating an array, `np.array` will try to choose a proper data type for you."
   ]
  },
  {
   "cell_type": "code",
   "execution_count": null,
   "metadata": {},
   "outputs": [],
   "source": [
    "arr.dtype"
   ]
  },
  {
   "cell_type": "markdown",
   "metadata": {},
   "source": [
    "There are some other functions for creating new arrays:"
   ]
  },
  {
   "cell_type": "code",
   "execution_count": null,
   "metadata": {},
   "outputs": [],
   "source": [
    "np.zeros( (5,3) )"
   ]
  },
  {
   "cell_type": "code",
   "execution_count": null,
   "metadata": {},
   "outputs": [],
   "source": [
    "np.ones( (2, 4) )"
   ]
  },
  {
   "cell_type": "code",
   "execution_count": null,
   "metadata": {},
   "outputs": [],
   "source": [
    "np.empty( (5, 6) ) # with garbage values"
   ]
  },
  {
   "cell_type": "code",
   "execution_count": null,
   "metadata": {},
   "outputs": [],
   "source": [
    "np.arange(8)"
   ]
  },
  {
   "cell_type": "code",
   "execution_count": null,
   "metadata": {},
   "outputs": [],
   "source": [
    "np.eye(4) # identity"
   ]
  },
  {
   "cell_type": "code",
   "execution_count": null,
   "metadata": {},
   "outputs": [],
   "source": [
    "np.linspace(0, 18, 10)  # 10 numbers from 0 to 18"
   ]
  },
  {
   "cell_type": "code",
   "execution_count": null,
   "metadata": {},
   "outputs": [],
   "source": [
    "import matplotlib.pyplot as plt\n",
    "\n",
    "x_ = np.linspace(-5, 5, 100)\n",
    "y_ = 4 * (x_**3) + 2 * (x_**2) + 5 * x_\n",
    "plt.plot(x_, y_)\n",
    "plt.show()"
   ]
  },
  {
   "cell_type": "markdown",
   "metadata": {},
   "source": [
    "You can specify the data type of the created array by setting the `dtype` argument:"
   ]
  },
  {
   "cell_type": "code",
   "execution_count": null,
   "metadata": {},
   "outputs": [],
   "source": [
    "np.array([1,2,3], dtype=np.float64)"
   ]
  },
  {
   "cell_type": "markdown",
   "metadata": {},
   "source": [
    "> Note  \n",
    "You can explicitly convert an array from one dtype to another using `astype`.  \n",
    "e.g. arr.astype(np.int32)"
   ]
  },
  {
   "cell_type": "markdown",
   "metadata": {},
   "source": [
    "When you print an array, NumPy displays it in a similar way to nested lists, but with the following layout:\n",
    "\n",
    "- the last axis is printed from left to right,\n",
    "\n",
    "- the second-to-last is printed from top to bottom,\n",
    "\n",
    "- the rest are also printed from top to bottom, with each slice separated from the next by an empty line.\n",
    "\n",
    "One-dimensional arrays are then printed as rows, bidimensionals as matrices and tridimensionals as lists of matrices."
   ]
  },
  {
   "cell_type": "code",
   "execution_count": null,
   "metadata": {},
   "outputs": [],
   "source": [
    "a = np.arange(6)  # 1d array\n",
    "print(a)"
   ]
  },
  {
   "cell_type": "code",
   "execution_count": null,
   "metadata": {},
   "outputs": [],
   "source": [
    "b = np.arange(12).reshape(4,3) # 2d array\n",
    "print(b)"
   ]
  },
  {
   "cell_type": "code",
   "execution_count": null,
   "metadata": {},
   "outputs": [],
   "source": [
    "c = np.arange(24).reshape(2,3,4) # 3d array\n",
    "print(c)"
   ]
  },
  {
   "cell_type": "markdown",
   "metadata": {},
   "source": [
    "### §5.2 Array Attributes<a id='array_attributes'></a>\n",
    "\n",
    "`.ndim`  \n",
    "the number of dimensions (rank)\n",
    "\n",
    "`.shape`  \n",
    "the dimensions of the array represented as a tuple\n",
    "\n",
    "`.size`  \n",
    "the number of items in the array, which is also the product of the numbers in `.shape`\n",
    "\n",
    "`.dtype`  \n",
    "the data type of the items in the array\n",
    "\n",
    "`.itemsize`  \n",
    "the size of bytes of each item in the array\n"
   ]
  },
  {
   "cell_type": "code",
   "execution_count": null,
   "metadata": {
    "scrolled": true
   },
   "outputs": [],
   "source": [
    "arr = np.array( [ [1, 2, 3, 4, 5],\n",
    "                  [9, 7, 5, 3, 1],\n",
    "                  [-2, 4, -6, 8, -10]] )\n",
    "print( \"Dimension:\", arr.ndim )\n",
    "print( \"Shape:    \", arr.shape )\n",
    "print( \"Size:     \", arr.size )\n",
    "print( \"Type:     \", arr.dtype )\n",
    "print( \"Item size:\", arr.itemsize )"
   ]
  },
  {
   "cell_type": "markdown",
   "metadata": {},
   "source": [
    "### §5.3 Basic Operations<a id='array_operations'></a>\n",
    "Any arithmetic operations between equal-size arrays applies the operation elementwise:\n"
   ]
  },
  {
   "cell_type": "code",
   "execution_count": null,
   "metadata": {},
   "outputs": [],
   "source": [
    "arr = np.array([[1, 3, 5], [2, 4, 6]])\n",
    "arr"
   ]
  },
  {
   "cell_type": "code",
   "execution_count": null,
   "metadata": {},
   "outputs": [],
   "source": [
    "arr + arr"
   ]
  },
  {
   "cell_type": "code",
   "execution_count": null,
   "metadata": {},
   "outputs": [],
   "source": [
    "arr * arr"
   ]
  },
  {
   "cell_type": "markdown",
   "metadata": {},
   "source": [
    "When doing arithmetic operations with scalars, the operation will take effects on each item:"
   ]
  },
  {
   "cell_type": "code",
   "execution_count": null,
   "metadata": {},
   "outputs": [],
   "source": [
    "arr / 2"
   ]
  },
  {
   "cell_type": "code",
   "execution_count": null,
   "metadata": {},
   "outputs": [],
   "source": [
    "arr ** 0.5"
   ]
  },
  {
   "cell_type": "code",
   "execution_count": null,
   "metadata": {},
   "outputs": [],
   "source": [
    "arr < 5"
   ]
  },
  {
   "cell_type": "markdown",
   "metadata": {},
   "source": [
    "Unlike in many matrix languages, the product operator * operates elementwise in NumPy arrays. The matrix product can be performed using the @ operator (in python >=3.5) or the dot function or method:"
   ]
  },
  {
   "cell_type": "code",
   "execution_count": null,
   "metadata": {},
   "outputs": [],
   "source": [
    "X = np.array( [ [2, 3],   # [ [a,b],\n",
    "                [0, 1] ]) #   [c,d] ]\n",
    "Y = np.array( [ [1, 2],   # [ [e,f],\n",
    "                [3, 4] ]) #   [g,h] ]\n",
    "print(X @ Y)\n",
    "print(X.dot(Y))\n",
    "\n",
    "#[ [a*e+b*g, a*f+b*h]\n",
    "#  [c*e+d*g, c*f+d*h] ]"
   ]
  },
  {
   "cell_type": "markdown",
   "metadata": {},
   "source": [
    "Assignment operations, such as `+=`, `*=`, will modify the existing array, rather than create a new one."
   ]
  },
  {
   "cell_type": "code",
   "execution_count": null,
   "metadata": {},
   "outputs": [],
   "source": [
    "arr = np.zeros( (3, 2) )\n",
    "arr += 5\n",
    "arr"
   ]
  },
  {
   "cell_type": "markdown",
   "metadata": {},
   "source": [
    "### §5.4 Basic Indexing and Slicing<a id='slice_index_numpy'></a>\n",
    "\n",
    "Indexing and slicing on a one-dimensional array is the same as on a list.  \n",
    "For multi-dimensional arryas, these indices are given in a tuple separated by commas,  \n",
    "i.e. `arr[(1st dimension), (2nd dimension), (3rd dimension), ...]`"
   ]
  },
  {
   "cell_type": "code",
   "execution_count": null,
   "metadata": {},
   "outputs": [],
   "source": [
    "arr = np.arange(9).reshape(3,3)\n",
    "arr"
   ]
  },
  {
   "cell_type": "code",
   "execution_count": null,
   "metadata": {},
   "outputs": [],
   "source": [
    "arr[1,2] # the element on the 2nd row, 3rd column"
   ]
  },
  {
   "cell_type": "code",
   "execution_count": null,
   "metadata": {},
   "outputs": [],
   "source": [
    "arr[0:3, 1] # row from 0 to 3 in the 2nd column"
   ]
  },
  {
   "cell_type": "code",
   "execution_count": null,
   "metadata": {},
   "outputs": [],
   "source": [
    "arr[:, 1] # same as above"
   ]
  },
  {
   "cell_type": "code",
   "execution_count": null,
   "metadata": {},
   "outputs": [],
   "source": [
    "arr[1:3, :] # 2nd and 3rd (1:3) rows of all collumns"
   ]
  },
  {
   "cell_type": "markdown",
   "metadata": {},
   "source": [
    ">  Try to predict the following slicing result on a 3*3 array  \n",
    "`arr[:2, 1:]`\n",
    ">  \n",
    "`arr[2]`\n",
    "`arr[2, :]`\n",
    "`arr[2:, :]`\n",
    ">  \n",
    "`arr[:, :2]`\n",
    ">  \n",
    "`arr[1, :2]`\n",
    "`arr[1:2, :2]`"
   ]
  },
  {
   "cell_type": "markdown",
   "metadata": {},
   "source": [
    "### Array index tricks\n",
    "\n",
    "NumPy offers more indexing facilities than regular Python sequences. In addition to indexing by integers and slices, as we saw before, arrays can be indexed by arrays of integers and arrays of booleans."
   ]
  },
  {
   "cell_type": "code",
   "execution_count": null,
   "metadata": {},
   "outputs": [],
   "source": [
    "a = np.arange(12)**2 # the first 12 square numbers\n",
    "i = np.array([1, 1, 3, 8, 5]) # an array of indices\n",
    "print(a)\n",
    "\n",
    "a[i]"
   ]
  },
  {
   "cell_type": "code",
   "execution_count": null,
   "metadata": {},
   "outputs": [],
   "source": [
    "j = np.array([[3, 4], [9, 7]]) # a bidimensional array of indices\n",
    "a[j]"
   ]
  },
  {
   "cell_type": "code",
   "execution_count": null,
   "metadata": {},
   "outputs": [],
   "source": [
    "palette = np.array([[0, 0, 0],         # black\n",
    "                    [255, 0, 0],       # red\n",
    "                    [0, 255, 0],       # green\n",
    "                    [0, 0, 255],       # blue\n",
    "                    [255, 255, 255]])  # white\n",
    "\n",
    "image = np.array([[0, 1, 2, 0],        \n",
    "                  [0, 3, 4, 0]])\n",
    "# each value corresponds to a color in the palette\n",
    "\n",
    "palette[image] # the (2, 4, 3) color image"
   ]
  },
  {
   "cell_type": "markdown",
   "metadata": {},
   "source": [
    "The most natural way one can think of for boolean indexing is to use boolean arrays that have the same shape as the original array:"
   ]
  },
  {
   "cell_type": "code",
   "execution_count": null,
   "metadata": {},
   "outputs": [],
   "source": [
    "a = np.arange(12).reshape(3,4)\n",
    "b = a > 4\n",
    "b # b is a boolean with a's shape"
   ]
  },
  {
   "cell_type": "code",
   "execution_count": null,
   "metadata": {},
   "outputs": [],
   "source": [
    "a[b] # 1d array with the selected elements"
   ]
  },
  {
   "cell_type": "markdown",
   "metadata": {},
   "source": [
    "This property can be very useful in assignments:"
   ]
  },
  {
   "cell_type": "code",
   "execution_count": null,
   "metadata": {},
   "outputs": [],
   "source": [
    "a[b] = 0\n",
    "a"
   ]
  },
  {
   "cell_type": "markdown",
   "metadata": {},
   "source": [
    "### §5.5 Funtions and Methods<a id='functions_methods'></a>\n",
    "`.random.random`  \n",
    "Return random floats in the half-open interval [0.0, 1.0)."
   ]
  },
  {
   "cell_type": "code",
   "execution_count": null,
   "metadata": {},
   "outputs": [],
   "source": [
    "np.random.random(5)"
   ]
  },
  {
   "cell_type": "markdown",
   "metadata": {},
   "source": [
    "`.random.normal`  \n",
    "Draw random samples from a normal (Gaussian) distribution."
   ]
  },
  {
   "cell_type": "code",
   "execution_count": null,
   "metadata": {},
   "outputs": [],
   "source": [
    "import matplotlib.pyplot as plt\n",
    "values= np.random.normal(size=100)\n",
    "plt.hist(values, 30)\n",
    "plt.show()"
   ]
  },
  {
   "cell_type": "markdown",
   "metadata": {},
   "source": [
    "`.random.permutation`  \n",
    "Randomly permute a sequence, or return a permuted range."
   ]
  },
  {
   "cell_type": "code",
   "execution_count": null,
   "metadata": {},
   "outputs": [],
   "source": [
    "np.random.permutation(5)"
   ]
  },
  {
   "cell_type": "code",
   "execution_count": null,
   "metadata": {},
   "outputs": [],
   "source": [
    "np.random.permutation([3, 5, 2, 10, 0])"
   ]
  },
  {
   "cell_type": "markdown",
   "metadata": {},
   "source": [
    "`.floor`  \n",
    "Return the floor of the input, element-wise."
   ]
  },
  {
   "cell_type": "code",
   "execution_count": null,
   "metadata": {},
   "outputs": [],
   "source": [
    "arr = np.array([-2.5, -1.7, -2.0, 0.2, 1.3])\n",
    "np.floor(arr)"
   ]
  },
  {
   "cell_type": "markdown",
   "metadata": {},
   "source": [
    "`.vstack`  \n",
    "Stack arrays in sequence vertically (row wise)."
   ]
  },
  {
   "cell_type": "code",
   "execution_count": null,
   "metadata": {},
   "outputs": [],
   "source": [
    "a = np.array([1, 2, 3])\n",
    "b = np.array([4, 5, 6])\n",
    "np.vstack((a,b))"
   ]
  },
  {
   "cell_type": "markdown",
   "metadata": {},
   "source": [
    "`.hstack`  \n",
    "Stack arrays in sequence horizontally (column wise)."
   ]
  },
  {
   "cell_type": "code",
   "execution_count": null,
   "metadata": {},
   "outputs": [],
   "source": [
    "a = np.array([(1,2),(3,4)])\n",
    "b = np.array([(5,6),(7,8)])\n",
    "np.hstack((a,b))"
   ]
  },
  {
   "cell_type": "markdown",
   "metadata": {},
   "source": [
    "`.hsplit`  \n",
    "Split an array into multiple sub-arrays horizontally (column-wise)."
   ]
  },
  {
   "cell_type": "code",
   "execution_count": null,
   "metadata": {},
   "outputs": [],
   "source": [
    "x = np.arange(12).reshape(3, 4)\n",
    "np.hsplit(x, 2)"
   ]
  },
  {
   "cell_type": "markdown",
   "metadata": {},
   "source": [
    "`.vsplit`  \n",
    "Split an array into multiple sub-arrays vertically (row-wise)."
   ]
  },
  {
   "cell_type": "code",
   "execution_count": null,
   "metadata": {},
   "outputs": [],
   "source": [
    "x = np.arange(8).reshape(4, 2)\n",
    "np.vsplit(x, 2)"
   ]
  },
  {
   "cell_type": "markdown",
   "metadata": {},
   "source": [
    "`.split`  \n",
    "`.array_split`  \n",
    "Split an array into multiple sub-arrays."
   ]
  },
  {
   "cell_type": "code",
   "execution_count": null,
   "metadata": {},
   "outputs": [],
   "source": [
    "import numpy as np\n",
    "x = np.arange(7)\n",
    "np.array_split(x, 2)"
   ]
  },
  {
   "cell_type": "markdown",
   "metadata": {},
   "source": [
    "`.diag`  \n",
    "Extract a diagonal or construct a diagonal array."
   ]
  },
  {
   "cell_type": "code",
   "execution_count": null,
   "metadata": {},
   "outputs": [],
   "source": [
    "x = np.arange(9).reshape((3,3))\n",
    "x"
   ]
  },
  {
   "cell_type": "code",
   "execution_count": null,
   "metadata": {},
   "outputs": [],
   "source": [
    "np.diag(x)"
   ]
  },
  {
   "cell_type": "code",
   "execution_count": null,
   "metadata": {},
   "outputs": [],
   "source": [
    "np.diag(np.diag(x))"
   ]
  },
  {
   "cell_type": "markdown",
   "metadata": {},
   "source": [
    "#### Universal Functions\n",
    "A universal function, or `ufunc` is a function that performs elementwise operations on data in `ndarray`.  \n",
    "**Unary ufuncs**  \n",
    "`abs`  "
   ]
  },
  {
   "cell_type": "code",
   "execution_count": null,
   "metadata": {},
   "outputs": [],
   "source": [
    "arr = np.array([3, -6, 0, 19, -5.4])\n",
    "np.abs(arr)"
   ]
  },
  {
   "cell_type": "markdown",
   "metadata": {},
   "source": [
    "`sqrt`  \n",
    "`square`  \n",
    "`exp`  \n",
    "`log`,`log10`, `log2`   \n",
    "`ceil`  \n",
    "`floor`  \n",
    "\n",
    "**Binary ufuncs**  \n",
    "`add`  "
   ]
  },
  {
   "cell_type": "code",
   "execution_count": null,
   "metadata": {},
   "outputs": [],
   "source": [
    "arr1 = np.array([1,2,3,4])\n",
    "arr2 = np.array([5,6,7,8])\n",
    "np.add(arr1, arr2)"
   ]
  },
  {
   "cell_type": "markdown",
   "metadata": {},
   "source": [
    "`subtract`  \n",
    "`multiply`  \n",
    "`divide`, `floor_divide`  \n",
    "`power`  "
   ]
  },
  {
   "cell_type": "markdown",
   "metadata": {},
   "source": [
    "`maximum`  "
   ]
  },
  {
   "cell_type": "code",
   "execution_count": null,
   "metadata": {},
   "outputs": [],
   "source": [
    "arr1 = np.array([1,4,5,8])\n",
    "arr2 = np.array([2,3,6,7])\n",
    "np.maximum(arr1, arr2)"
   ]
  },
  {
   "cell_type": "markdown",
   "metadata": {},
   "source": [
    "`minimum`  \n",
    "`mod`  \n",
    "`greater`, `greater_equal`  \n",
    "`less`, `less_equal`, `equal`  \n",
    "`not_equal`  \n",
    "\n",
    "#### Mathematical and Statistical Methods\n",
    "`.sum`  \n",
    "Sum of all the elements in the array or along an axis. Zero-length arrays have sum 0.  "
   ]
  },
  {
   "cell_type": "code",
   "execution_count": null,
   "metadata": {},
   "outputs": [],
   "source": [
    "arr = np.arange(10)\n",
    "arr.sum()"
   ]
  },
  {
   "cell_type": "markdown",
   "metadata": {},
   "source": [
    "`.mean`  \n",
    "`.std`, `.var`  \n",
    "`.min`, `.max`  \n",
    "`.argmin`, `.argmax`  \n",
    "Indives of minimum and maximum elements, respectively.  \n",
    "`.cumsum`  \n",
    "Cumulative sum of elements starting from 0.  \n",
    "`.cumprod`   \n",
    "Cumulative product of elements starting from 1.  "
   ]
  },
  {
   "cell_type": "markdown",
   "metadata": {},
   "source": [
    "### §5.6 Data Processing Using Arrays<a id='data_processing_numpy'></a>\n",
    "** Expressing Conditional Logics as Array Operations **  \n",
    "The is a `where` function in NumPy that allows us to create a new array of values base on another array."
   ]
  },
  {
   "cell_type": "code",
   "execution_count": null,
   "metadata": {},
   "outputs": [],
   "source": [
    "arr = np.random.randn(3,3)\n",
    "arr"
   ]
  },
  {
   "cell_type": "code",
   "execution_count": null,
   "metadata": {},
   "outputs": [],
   "source": [
    "# if the value less than 0, then 0, otherwise, unchanged\n",
    "np.where(arr < 0, 0, arr) "
   ]
  },
  {
   "cell_type": "markdown",
   "metadata": {},
   "source": [
    "**Methods for Boolean Arrays**  \n"
   ]
  },
  {
   "cell_type": "markdown",
   "metadata": {},
   "source": [
    "`sum` is often used to count `True` values in a boolean array."
   ]
  },
  {
   "cell_type": "code",
   "execution_count": null,
   "metadata": {},
   "outputs": [],
   "source": [
    "(arr > 0).sum()"
   ]
  },
  {
   "cell_type": "markdown",
   "metadata": {},
   "source": [
    "`any` and `all` are two methods used in boolean arrays.  \n",
    "`any` checks if one or more values in an array is `True`.  \n",
    "`all` checks if every value in an array is `True`."
   ]
  },
  {
   "cell_type": "code",
   "execution_count": null,
   "metadata": {},
   "outputs": [],
   "source": [
    "bools = np.array([True, False, True, True])\n",
    "\n",
    "print( bools.any() )\n",
    "print( bools.all() )"
   ]
  },
  {
   "cell_type": "markdown",
   "metadata": {},
   "source": [
    "### Code Challenge\n",
    "\n",
    "Write a program to solve sudoku.\n",
    "We represent a sudoku in a 2-D array. The empty cell is filled with zero."
   ]
  },
  {
   "cell_type": "code",
   "execution_count": null,
   "metadata": {},
   "outputs": [],
   "source": [
    "puzzle = [[5,3,0,0,7,0,0,0,0],\n",
    "            [6,0,0,1,9,5,0,0,0],\n",
    "            [0,9,8,0,0,0,0,6,0],\n",
    "            [8,0,0,0,6,0,0,0,3],\n",
    "            [4,0,0,8,0,3,0,0,1],\n",
    "            [7,0,0,0,2,0,0,0,6],\n",
    "            [0,6,0,0,0,0,2,8,0],\n",
    "            [0,0,0,4,1,9,0,0,5],\n",
    "            [0,0,0,0,8,0,0,7,9]]"
   ]
  },
  {
   "cell_type": "code",
   "execution_count": null,
   "metadata": {},
   "outputs": [],
   "source": [
    "# TO DO\n",
    "\n",
    "\n",
    "\n"
   ]
  },
  {
   "cell_type": "markdown",
   "metadata": {},
   "source": [
    "## Chapter 6: Functional Programming<a id='functional_programming'></a>\n",
    "<a href=\"#0\">Go to top</a>\n",
    "***\n",
    "\n",
    "Python's functional programming features make data processing more convenient.\n",
    "\n",
    "### §6.1 Lambda Function<a id='lambda'></a>\n",
    "In Python, `lambda` functions are just anonymous functions."
   ]
  },
  {
   "cell_type": "markdown",
   "metadata": {},
   "source": [
    "A lambda function can take any number of arguments but can only have one expression."
   ]
  },
  {
   "cell_type": "code",
   "execution_count": null,
   "metadata": {},
   "outputs": [],
   "source": [
    "x = lambda a, b, c : a + b + c\n",
    "print(x(5, 6, 2))"
   ]
  },
  {
   "cell_type": "code",
   "execution_count": null,
   "metadata": {
    "scrolled": true
   },
   "outputs": [],
   "source": [
    "lambda x: x**3"
   ]
  },
  {
   "cell_type": "markdown",
   "metadata": {},
   "source": [
    "The above `lambda` returns the cube of the input value:"
   ]
  },
  {
   "cell_type": "code",
   "execution_count": null,
   "metadata": {
    "scrolled": true
   },
   "outputs": [],
   "source": [
    "(lambda x: x**3)(2)"
   ]
  },
  {
   "cell_type": "markdown",
   "metadata": {},
   "source": [
    "The `x` before `:` is the input argument, the expression after `:` will be evaluated and returned. There should not be any `return` statement inside a `lambda`.  \n",
    "The above `lambda` does the same job as the following normal function:"
   ]
  },
  {
   "cell_type": "code",
   "execution_count": null,
   "metadata": {},
   "outputs": [],
   "source": [
    "def cube(x):\n",
    "    return x ** 3\n",
    "\n",
    "print(cube(2))"
   ]
  },
  {
   "cell_type": "markdown",
   "metadata": {},
   "source": [
    "If a function is \"small\" enough and only used once, it is convenient to use `lambda`. `lambda` also accepts multiple arguments:"
   ]
  },
  {
   "cell_type": "code",
   "execution_count": null,
   "metadata": {},
   "outputs": [],
   "source": [
    "(lambda x, y: x + y)(2, 5)"
   ]
  },
  {
   "cell_type": "markdown",
   "metadata": {},
   "source": [
    "### §6.2 Filter<a id='filter'></a>\n",
    "Creating a list of elements for which a function/lambda returns `True`."
   ]
  },
  {
   "cell_type": "markdown",
   "metadata": {},
   "source": [
    "The filter() function returns an iterator were the items are filtered through a function to test if the item is accepted or not. \n",
    "\n",
    "Filter the array, and return a new array with only the values equal to or above 18:"
   ]
  },
  {
   "cell_type": "code",
   "execution_count": null,
   "metadata": {},
   "outputs": [],
   "source": [
    "ages = [5, 12, 17, 18, 24, 32]\n",
    "\n",
    "def myFunc(x):\n",
    "  if x < 18:\n",
    "    return False\n",
    "  else:\n",
    "    return True\n",
    "\n",
    "adults = filter(myFunc, ages)\n",
    "\n",
    "for x in adults:\n",
    "  print(x)"
   ]
  },
  {
   "cell_type": "code",
   "execution_count": null,
   "metadata": {},
   "outputs": [],
   "source": [
    "ages = [5, 12, 17, 18, 24, 32]\n",
    "list(filter(lambda x: x >= 18, ages))"
   ]
  },
  {
   "cell_type": "markdown",
   "metadata": {},
   "source": [
    "### §6.3 Map<a id='map'></a>\n",
    "\n",
    "A map function executes a specified function for each item in an iterable. The item is sent to the function as a parameter.\n",
    "\n",
    "Applying a function/lambda to every item in a list."
   ]
  },
  {
   "cell_type": "code",
   "execution_count": null,
   "metadata": {},
   "outputs": [],
   "source": [
    "def addition(n): \n",
    "    return n + n \n",
    "  \n",
    "# We double all numbers using map() \n",
    "numbers = (1, 2, 3, 4) \n",
    "result = map(addition, numbers) \n",
    "print(list(result))"
   ]
  },
  {
   "cell_type": "code",
   "execution_count": null,
   "metadata": {},
   "outputs": [],
   "source": [
    "nums_1 = [1, 2, 3, 4]\n",
    "nums_2 = [5, 6, 7, 8]\n",
    "list(map(lambda x, y: x + y, nums_1, nums_2))"
   ]
  },
  {
   "cell_type": "code",
   "execution_count": null,
   "metadata": {},
   "outputs": [],
   "source": [
    "nums_1 = [1, 2, 3, 4]\n",
    "\n",
    "list(map(lambda x: x + 1, nums_1))"
   ]
  },
  {
   "cell_type": "markdown",
   "metadata": {},
   "source": [
    "### §6.4 Reduce<a id='reduce'></a>\n",
    "Performing some computation on a list and return the result.\n",
    "Applying a rolling computation to sequential pairs of values in a list."
   ]
  },
  {
   "cell_type": "code",
   "execution_count": null,
   "metadata": {
    "scrolled": true
   },
   "outputs": [],
   "source": [
    "import functools \n",
    "\n",
    "lis = [ 1 , 3, 5, 6, 2, ] \n",
    "  \n",
    "# using reduce to compute sum of list \n",
    "print (\"The sum of the list elements is : \",end=\"\") \n",
    "print (functools.reduce(lambda a,b : a+b,lis)) \n",
    "  \n",
    "# using reduce to compute maximum element from list \n",
    "print (\"The maximum element of the list is : \",end=\"\") \n",
    "print (functools.reduce(lambda a,b : a if a > b else b,lis)) "
   ]
  },
  {
   "cell_type": "code",
   "execution_count": null,
   "metadata": {},
   "outputs": [],
   "source": [
    "from functools import reduce\n",
    "\n",
    "nums = [1, 2, 3, 4, 5]\n",
    "reduce(lambda x, y: x * y, nums)"
   ]
  },
  {
   "cell_type": "markdown",
   "metadata": {},
   "source": [
    "We can also write a for loop to get the same result:"
   ]
  },
  {
   "cell_type": "code",
   "execution_count": null,
   "metadata": {},
   "outputs": [],
   "source": [
    "nums = [1, 2, 3, 4, 5]\n",
    "result = 1\n",
    "for num in nums:\n",
    "    result *= num\n",
    "print(result)"
   ]
  },
  {
   "cell_type": "markdown",
   "metadata": {},
   "source": [
    "#### Map lambda function as a list comprehension\n",
    "\n",
    "The map() function runs a lambda function over the list [1, 2, 3, 4, 5], building a list-like collection of the results, like this:"
   ]
  },
  {
   "cell_type": "code",
   "execution_count": null,
   "metadata": {},
   "outputs": [],
   "source": [
    "list(map(lambda n: n * 2, [1, 2, 3, 4, 5]))"
   ]
  },
  {
   "cell_type": "code",
   "execution_count": null,
   "metadata": {},
   "outputs": [],
   "source": [
    "strs = ['Python', 'is', 'great']\n",
    "list(map(lambda s: s.upper() + '!', strs))"
   ]
  },
  {
   "cell_type": "markdown",
   "metadata": {},
   "source": [
    "## Chapter 7: Exception Handling<a id='exception_handling'></a>\n",
    "<a href=\"#0\">Go to top</a>\n",
    "***\n",
    "\n",
    "Sometimes, running our syntactically correct code may cause errors, and we call it exceptions.  \n",
    "For exmaple, trying to concatenate a number to a string directly will raise a `TypeError` exception."
   ]
  },
  {
   "cell_type": "code",
   "execution_count": null,
   "metadata": {},
   "outputs": [],
   "source": [
    "print('Result:' + 200)"
   ]
  },
  {
   "cell_type": "markdown",
   "metadata": {},
   "source": [
    "Of course we can prevent the above exception by casting the data types properly. However, it is not likely to guarantee there is no exception in some situations, especially while dealing with IO (input/output) and network requests.  \n",
    "For example, your program asks the user to input an integer, but the user inputs a letter:"
   ]
  },
  {
   "cell_type": "code",
   "execution_count": null,
   "metadata": {},
   "outputs": [],
   "source": [
    "user_input = input('Input a number: ')\n",
    "print(int(user_input))"
   ]
  },
  {
   "cell_type": "markdown",
   "metadata": {},
   "source": [
    "Another example, you are trying to read data from a non-existing file:"
   ]
  },
  {
   "cell_type": "code",
   "execution_count": null,
   "metadata": {
    "scrolled": true
   },
   "outputs": [],
   "source": [
    "with open('no_such_file.txt', 'r') as f:\n",
    "    print(f.read())"
   ]
  },
  {
   "cell_type": "markdown",
   "metadata": {},
   "source": [
    "**Typical Exceptions Description**"
   ]
  },
  {
   "attachments": {
    "image.png": {
     "image/png": "[encoded data removed]"
    }
   },
   "cell_type": "markdown",
   "metadata": {},
   "source": [
    "![image.png](attachment:image.png)"
   ]
  },
  {
   "attachments": {
    "image.png": {
     "image/png": "[encoded data removed]"
    }
   },
   "cell_type": "markdown",
   "metadata": {},
   "source": [
    "![image.png](attachment:image.png)"
   ]
  },
  {
   "cell_type": "markdown",
   "metadata": {},
   "source": [
    "#### Handling Exceptions\n",
    "You can detect exceptions and handle them properly using try-except blocks.  \n",
    "```\n",
    "try:\n",
    "    run your code\n",
    "except:\n",
    "    this part will be executed if any exception occurs\n",
    "```"
   ]
  },
  {
   "cell_type": "code",
   "execution_count": null,
   "metadata": {},
   "outputs": [],
   "source": [
    "try:\n",
    "    user_input = 'a'\n",
    "    print(int(user_input))\n",
    "except:\n",
    "    print('Error: invalid input.')"
   ]
  },
  {
   "cell_type": "code",
   "execution_count": null,
   "metadata": {},
   "outputs": [],
   "source": [
    "while True:\n",
    "    try:\n",
    "        user_input = input('Input a number: ')\n",
    "        print(int(user_input))\n",
    "        break\n",
    "    except:\n",
    "        print('[invalid number]')\n",
    "        continue"
   ]
  },
  {
   "cell_type": "markdown",
   "metadata": {},
   "source": [
    "In the above examples, you can find there are different types of exceptions. Actually you can catch a specific type of exception and define a variable for it."
   ]
  },
  {
   "cell_type": "code",
   "execution_count": null,
   "metadata": {},
   "outputs": [],
   "source": [
    "try:\n",
    "    user_input = input('Input a number: ')\n",
    "    print(int(user_input))\n",
    "except ValueError as error:\n",
    "    print(error)"
   ]
  },
  {
   "cell_type": "markdown",
   "metadata": {},
   "source": [
    "The try statement has another optional clause which is intended to define clean-up actions that must be executed under all circumstances. "
   ]
  },
  {
   "cell_type": "code",
   "execution_count": null,
   "metadata": {},
   "outputs": [],
   "source": [
    "try:\n",
    "    raise KeyboardInterrupt\n",
    "finally:\n",
    "    print('Goodbye, world!')"
   ]
  },
  {
   "cell_type": "code",
   "execution_count": null,
   "metadata": {},
   "outputs": [],
   "source": [
    "try:\n",
    "   f = open(\"my_file.txt\", \"w\")\n",
    "   try:\n",
    "      f.write(\"Writing some data to the file\")\n",
    "   finally:\n",
    "      f.close()\n",
    "except IOError:\n",
    "   print \"Error: my_file.txt does not exist or it can't be opened for output.\""
   ]
  },
  {
   "cell_type": "markdown",
   "metadata": {},
   "source": [
    "**Debugging**\n",
    "\n",
    "There are different kinds of errors can occur in program. It is useful if we can distinguish them:\n",
    "\n",
    "1. Syntax error: It usually indicates something wrong with syntax of your code, such as\n",
    "    - Omitting colon at the end of functions\n",
    "    - Wrong indentation.\n",
    "    - Strings should have matching quotation marks. \n",
    "    - Unclosed bracket {, (\n",
    "    - Sign = is not the same as ==\n",
    "\n",
    "2. Runtime error: The program is syntactically correct, but it did not give what we expected, such as\n",
    "    - Infinite loop\n",
    "    - Infinite recursion\n",
    "    - Exception handling, such as NameError, TypeError, KeyError, IndexError etc.\n",
    "\n",
    "3. Semantic error: Semantic errors are hard to debug because compiler and runtime system provide no information\n",
    "    - Break the program into smaller components and test each component independently.\n",
    "    - Get some rest before you get frustrated.\n"
   ]
  },
  {
   "cell_type": "markdown",
   "metadata": {},
   "source": [
    "## Chapter 8: Working with Files in Python<a id='work_with_files_in_pythons'></a>\n",
    "<a href=\"#0\">Go to top</a>\n",
    "***\n",
    "\n",
    "In real life data reside in files. File reading and writing are common input/output (IO) operations.\n",
    "\n",
    "In Python, we must open files before we can use them and close them when we are done with them. "
   ]
  },
  {
   "cell_type": "markdown",
   "metadata": {},
   "source": [
    "### §8.1 Reading from Files<a id='read_files'></a>\n",
    "\n",
    "Python provides an `open()` function to create a file object, and we can read data from the file object."
   ]
  },
  {
   "cell_type": "code",
   "execution_count": null,
   "metadata": {},
   "outputs": [],
   "source": [
    "f = open('../folder/data.txt', 'r')"
   ]
  },
  {
   "cell_type": "markdown",
   "metadata": {},
   "source": [
    "In the above example, `'folder/data.txt'` is the path to the file we want to read, `'r'` stands for reading mode.\n",
    "If the file does not exists, `open()` will throw an `IOError` exception."
   ]
  },
  {
   "attachments": {
    "image.png": {
     "image/png": "[encoded data removed]"
    }
   },
   "cell_type": "markdown",
   "metadata": {},
   "source": [
    "![image.png](attachment:image.png)"
   ]
  },
  {
   "cell_type": "markdown",
   "metadata": {},
   "source": [
    "If the specified file can be successfully opened, we can call the file object's `read()` method to get the contents from it:"
   ]
  },
  {
   "cell_type": "code",
   "execution_count": null,
   "metadata": {},
   "outputs": [],
   "source": [
    "f.read()"
   ]
  },
  {
   "cell_type": "markdown",
   "metadata": {},
   "source": [
    "The final step is calling `close()` method to close the file. Opened files must be closed in order to release system resources."
   ]
  },
  {
   "cell_type": "code",
   "execution_count": null,
   "metadata": {},
   "outputs": [],
   "source": [
    "f.close()"
   ]
  },
  {
   "cell_type": "markdown",
   "metadata": {},
   "source": [
    "There is an `with` statement in Python which can help us close the opened files automatically:"
   ]
  },
  {
   "cell_type": "code",
   "execution_count": null,
   "metadata": {},
   "outputs": [],
   "source": [
    "with open('../data/graudate course type in Singapore.csv', 'r') as f:\n",
    "    print(f.read())"
   ]
  },
  {
   "cell_type": "markdown",
   "metadata": {},
   "source": [
    "If the file size is small, we can read all the data from the file using `read()` conveniently. However, it is not practical to read all the data from a large file directly, instead, we can add a size argument to it and read repeatedly:"
   ]
  },
  {
   "cell_type": "code",
   "execution_count": null,
   "metadata": {},
   "outputs": [],
   "source": [
    "gcfile = open(\"../data/graduate course type in Singapore.txt\", \"r\")\n",
    "\n",
    "for aline in gcfile:\n",
    "    values = aline.split(\",\")\n",
    "    print('In Year ', values[0], \", There are \",values[3], \" \", values[1], \" graduates in course \", values[2] )\n",
    "\n",
    "gcfile.close()"
   ]
  },
  {
   "cell_type": "markdown",
   "metadata": {},
   "source": [
    "Instead of reading the whole file content, we can read one line from the file.\n",
    "Below table summarizes methods we can use.\n",
    "When it reaches end of file, readline() and readlines() will return empty string."
   ]
  },
  {
   "attachments": {
    "image.png": {
     "image/png": "[encoded data removed]"
    }
   },
   "cell_type": "markdown",
   "metadata": {},
   "source": [
    "![image.png](attachment:image.png)"
   ]
  },
  {
   "cell_type": "code",
   "execution_count": null,
   "metadata": {},
   "outputs": [],
   "source": [
    "infile = open(\"../data/graduate course type in Singapore.txt\", \"r\")\n",
    "line = infile.readline()\n",
    "while line:\n",
    "    values = line.split(\",\")\n",
    "    print('In Year ', values[0], \", There are \",values[3], \" \", values[1], \" graduates in course \", values[2] )\n",
    "    line = infile.readline()\n",
    "\n",
    "infile.close()"
   ]
  },
  {
   "cell_type": "code",
   "execution_count": null,
   "metadata": {},
   "outputs": [],
   "source": [
    "f = open('../data/graduate course type in Singapore.txt', 'r')\n",
    "f.readlines(5)"
   ]
  },
  {
   "cell_type": "markdown",
   "metadata": {},
   "source": [
    "Calling `readlines()` method can read the file into lines, so that we can process line by line:"
   ]
  },
  {
   "cell_type": "code",
   "execution_count": null,
   "metadata": {},
   "outputs": [],
   "source": [
    "for line in f.readlines():\n",
    "    print(line.strip()) # strip() removes '\\n' at the end of the line"
   ]
  },
  {
   "cell_type": "markdown",
   "metadata": {},
   "source": [
    "In `'rb'` mode, we can read binary files like image, video, etc."
   ]
  },
  {
   "cell_type": "code",
   "execution_count": null,
   "metadata": {},
   "outputs": [],
   "source": [
    "f = open('../data/binary_file.bin', 'rb')"
   ]
  },
  {
   "cell_type": "markdown",
   "metadata": {},
   "source": [
    "### §8.2 Writing to Files<a id='write_files'></a>\n",
    "Writing files is similar to reading files, but we use `'w'` or `'wb'` mode to write text or binary files respectively."
   ]
  },
  {
   "cell_type": "code",
   "execution_count": null,
   "metadata": {},
   "outputs": [],
   "source": [
    "f = open('data.txt', 'w')\n",
    "f.write('01 02 03')\n",
    "f.close()"
   ]
  },
  {
   "cell_type": "markdown",
   "metadata": {},
   "source": [
    "Remember to close the file, otherwise the last part of the data may be lost.  \n",
    "Similarly, we can also write files using `with` statement without caring about closing it:"
   ]
  },
  {
   "cell_type": "code",
   "execution_count": null,
   "metadata": {},
   "outputs": [],
   "source": [
    "with open('data.txt', 'w') as f:\n",
    "    f.write('1234567')"
   ]
  },
  {
   "cell_type": "markdown",
   "metadata": {},
   "source": [
    "If the file we are going to write is already existing, the original one will be replace. To append new content to the existing file, we can use `'a'` mode instead of `'w'`."
   ]
  },
  {
   "cell_type": "markdown",
   "metadata": {},
   "source": [
    "### §8.3 Working with JSON Data<a id='work_with_json'></a>\n"
   ]
  },
  {
   "cell_type": "markdown",
   "metadata": {},
   "source": [
    "JSON is one of the most popular formats for transferring data through APIs nowadays.  \n",
    "Python comes with a built-in module for encoding and decoding JSON data."
   ]
  },
  {
   "cell_type": "code",
   "execution_count": null,
   "metadata": {},
   "outputs": [],
   "source": [
    "import json"
   ]
  },
  {
   "cell_type": "markdown",
   "metadata": {},
   "source": [
    "The following API returns random quote with some extra information in JSON format."
   ]
  },
  {
   "cell_type": "code",
   "execution_count": null,
   "metadata": {},
   "outputs": [],
   "source": [
    "import requests\n",
    "r = requests.get('https://api.github.com/')\n",
    "print(r.text)"
   ]
  },
  {
   "cell_type": "markdown",
   "metadata": {},
   "source": [
    "We can convert this JSON object (saved as a Python string) to a Python dictionary using `json.loads`"
   ]
  },
  {
   "cell_type": "code",
   "execution_count": null,
   "metadata": {},
   "outputs": [],
   "source": [
    "json.loads(r.text)"
   ]
  },
  {
   "cell_type": "markdown",
   "metadata": {},
   "source": [
    "In case the response we got is not in JSON format, calling `json.loads` will cause exceptions. Again, it is better to surround this piece of code with a try-except block."
   ]
  },
  {
   "cell_type": "code",
   "execution_count": null,
   "metadata": {},
   "outputs": [],
   "source": [
    "try:\n",
    "    data = json.loads(r.text)\n",
    "    print(data['emails_url'])\n",
    "except:\n",
    "    print('invalid JSON data')"
   ]
  },
  {
   "cell_type": "markdown",
   "metadata": {},
   "source": [
    "`json.dumps` can convert a Python dictionary to a JSON formatted string."
   ]
  },
  {
   "cell_type": "code",
   "execution_count": null,
   "metadata": {},
   "outputs": [],
   "source": [
    "json.dumps({'key': 'abc', 'value': 'Hello World', 'valid': True})"
   ]
  },
  {
   "cell_type": "markdown",
   "metadata": {},
   "source": [
    "#### Request data from online\n",
    "Nowadays, most of the programs or applications requres access to the internet and downloads or uploads certatin data. In this part, let's look at how can we download data in Python in a convenient way.\n",
    "\n",
    "#### Using requests\n",
    "Making a request by a cetrain URL using `requests` module is very simple. First, install `requests` module by running\n",
    "```\n",
    "pip install requests\n",
    "```\n",
    "then import it in your code"
   ]
  },
  {
   "cell_type": "code",
   "execution_count": null,
   "metadata": {},
   "outputs": [],
   "source": [
    "import requests"
   ]
  },
  {
   "cell_type": "markdown",
   "metadata": {},
   "source": [
    "Now, let's try to get some data from an API:"
   ]
  },
  {
   "cell_type": "code",
   "execution_count": null,
   "metadata": {
    "scrolled": true
   },
   "outputs": [],
   "source": [
    "r = requests.get('https://api.github.com')\n",
    "print(r.text)"
   ]
  },
  {
   "cell_type": "markdown",
   "metadata": {},
   "source": [
    "By passing the URL to the `requests.get` function, we can get the response from the URL, which is usually HTML data.  \n",
    "If you copy paste the URL to your browser, you can see the same result.\n",
    "\n",
    "Try the URL `https://api.github.com` in your browser. Right click the webpage and select `View Page Source`, you can see the data.\n",
    "\n",
    "If you want to extract certain information from the webpage, especially when you are writing a web crawler, you have to deal with such string containing HTML tags."
   ]
  },
  {
   "cell_type": "code",
   "execution_count": null,
   "metadata": {},
   "outputs": [],
   "source": [
    "r = requests.get('https://api.github.com')\n",
    "user_url = json.loads(r.text)['current_user_url']\n",
    "print(user_url)"
   ]
  },
  {
   "cell_type": "markdown",
   "metadata": {},
   "source": [
    "It is possbile to encounter network issues while requesting online resources, thus it is important to surround your requests with try-except blocks, check response status, as well as set timeout."
   ]
  },
  {
   "cell_type": "code",
   "execution_count": null,
   "metadata": {},
   "outputs": [],
   "source": [
    "try:\n",
    "    # set timeout as 5 seconds, to prevent endless waitting\n",
    "    r = requests.get('https://api.github.com/', timeout=5)\n",
    "    if r.status_code == 200:\n",
    "        # HTTP 200 status response code indicates the request has succeeded\n",
    "        print('Valie response status')\n",
    "    else:\n",
    "        print('Invalid response status')\n",
    "except:\n",
    "    print('Error occurred')"
   ]
  }
 ],
 "metadata": {
  "kernelspec": {
   "display_name": "Python 3",
   "language": "python",
   "name": "python3"
  },
  "language_info": {
   "codemirror_mode": {
    "name": "ipython",
    "version": 3
   },
   "file_extension": ".py",
   "mimetype": "text/x-python",
   "name": "python",
   "nbconvert_exporter": "python",
   "pygments_lexer": "ipython3",
   "version": "3.7.6"
  }
 },
 "nbformat": 4,
 "nbformat_minor": 2
}
