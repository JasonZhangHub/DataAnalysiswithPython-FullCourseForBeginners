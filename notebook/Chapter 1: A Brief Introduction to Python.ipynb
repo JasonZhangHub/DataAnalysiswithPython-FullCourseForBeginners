{
 "cells": [
  {
   "cell_type": "markdown",
   "metadata": {},
   "source": [
    "## Chapter 1: Introduction\n",
    "***\n",
    "\n",
    "### §1.1 What is Python\n",
    "\n",
    "Python is an interpreted, high-level and general-purpose programming language. Python's design philosophy emphasizes code readability with its notable use of significant indentation.\n",
    "\n",
    "\n",
    "- An interpreted high-level programming language\n",
    "- Emphasizes code readability\n",
    "- With tons of data science libraries\n",
    "\n",
    "#### What can python do?\n",
    "- Software and web application development ([Django](https://www.djangoproject.com/), [Flask](https://palletsprojects.com/p/flask/)...)\n",
    "- Data processing, scientific computing ([Pandas](https://pandas.pydata.org/),[scipy](https://www.scipy.org/)...), \n",
    "- Machine learning, artificial intelligence ([scikit-learn](https://scikit-learn.org/stable/),[PySpark](https://spark.apache.org/docs/latest/api/python/index.html),[PyTorch](https://pytorch.org/)...)\n",
    "- System scripting, robotic processing\n",
    "- Blockchain ([Ethereum Development](https://ethereum.org/en/developers/docs/programming-languages/python/)...)\n",
    "- and many more...\n",
    "\n",
    "#### Why do we use Python\n",
    "- Easy to read\n",
    "- Easy to write\n",
    "- Easy to learn"
   ]
  },
  {
   "cell_type": "markdown",
   "metadata": {},
   "source": [
    "### §1.2 Install Python3\n",
    "#### Windows\n",
    "Download Python installer from official website according to your Windows version (32-bit or 64-bit).  \n",
    "Run the downloaded installer program, remember to select `Add Python 3.x to PATH` before clicking `Install Now`.\n",
    "\n",
    "To run Python3 REPL (interactice program, REPL stands for Read-Evaluate-Print-Loop), type `python` in Command Prompt.  \n",
    "If you see error message `'python' is not recognized as an internal or external command`, then add `the path to python.exe` to `environment variables`.\n",
    "\n",
    "> Type `exit()` to quite Python REPL.\n",
    "\n",
    "#### MacOS\n",
    "The pre-installed Python version is 2.7. There are 2 ways to install Python3:  \n",
    "Method 1:  \n",
    "Download installation package from Python official website:  \n",
    "[https://www.python.org/downloads/](https://www.python.org/downloads/)\n",
    "\n",
    "Method 2:  \n",
    "Run command `brew install python3` if Homebrew is installed.\n",
    "\n",
    "To run Python3 REPL, type `python3` in Terminal application."
   ]
  },
  {
   "cell_type": "markdown",
   "metadata": {},
   "source": [
    "### §1.3 Jupyter Notebook\n",
    "#### Install Jupyter Notebook through Anaconda\n",
    "[https://www.anaconda.com/download](https://www.anaconda.com/download)\n",
    "\n",
    "> Note: Python and pip (Python package manager) are included in Anaconda. After the installation, the default python path is modified by Anaconda.\n",
    "\n",
    "#### Jupyter Notebook Shortcuts\n",
    "**Edit mode**: text area is focused, left border is **<span style=\"color:#66BB6A\">green</span>**  \n",
    "**Command mode**: text area is out of focus, left border is **<span style=\"color:#42A5F5\">blue</span>**\n",
    "<h4><center>Keyboard shortcut</center></h4>\n",
    "\n",
    "| Key| Description|<th>Mode</th>|\n",
    "|---|---|---|\n",
    "| `ctrl` + `enter`       | run cell                    |<td rowspan=10>Command</td>|\n",
    "| `a`                    | insert cell above           |\n",
    "| `b`                    | insert cell below           |\n",
    "| `c`                    | copy the cell selected      |\n",
    "| `v`                    | paste cell                  |\n",
    "| `d`, `d`               | selete the selected cell    |\n",
    "| `shift` + `m`          | merge selected cells        |\n",
    "| `y`                    | change cell to Code         |\n",
    "| `m`                    | change cell to Markdown     |\n",
    "| `h`                    | view all keyboard shortcuts |\n",
    "| `cmd/ctrl` + `click`   | multi-cursor editing        |<td rowspan=3>Edit</td>|\n",
    "| `cmd/ctrl` + `/`       | toggle command line         |\n",
    "| `ctrl` + `shift` + `-` | split cell                  |\n",
    "|`cmd` + `shift` + `p`   | search commands             |<td>Any mode</td>|\n",
    "\n",
    "Press `Esc` to exit `Edit mode` and enter `Command mode`. Use up/down arrow keys to select different lines.  \n",
    "Press `Enter` to enter the `Edit mode` of the selected line.\n",
    "  \n",
    "> Tips:  \n",
    "to clean a cell's output,  \n",
    "select the target cell, then press `Esc`, `r`, `y` in sequence."
   ]
  }
 ],
 "metadata": {
  "kernelspec": {
   "display_name": "Python 3",
   "language": "python",
   "name": "python3"
  },
  "language_info": {
   "codemirror_mode": {
    "name": "ipython",
    "version": 3
   },
   "file_extension": ".py",
   "mimetype": "text/x-python",
   "name": "python",
   "nbconvert_exporter": "python",
   "pygments_lexer": "ipython3",
   "version": "3.7.6"
  }
 },
 "nbformat": 4,
 "nbformat_minor": 2
}
