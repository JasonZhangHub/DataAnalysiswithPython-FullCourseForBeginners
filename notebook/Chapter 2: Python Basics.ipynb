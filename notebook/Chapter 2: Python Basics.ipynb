{
 "cells": [
  {
   "cell_type": "markdown",
   "metadata": {},
   "source": [
    "## Chapter 2: Python Basics\n",
    "***\n",
    "\n",
    "### §2.1 print\n",
    "Output values to the console."
   ]
  },
  {
   "cell_type": "code",
   "execution_count": 1,
   "metadata": {},
   "outputs": [
    {
     "name": "stdout",
     "output_type": "stream",
     "text": [
      "Hello World!\n"
     ]
    }
   ],
   "source": [
    "print(\"Hello World!\")"
   ]
  },
  {
   "cell_type": "markdown",
   "metadata": {},
   "source": [
    "In Python3, `print` is a function.  \n",
    "A function can be invoked by specifying the function name, followed by arguments eclosed by a pair of parentheses. We will look at more about functions later.  \n",
    "\n",
    "\n",
    "If no argument is given, `print` will output an empty line."
   ]
  },
  {
   "cell_type": "code",
   "execution_count": 2,
   "metadata": {},
   "outputs": [
    {
     "name": "stdout",
     "output_type": "stream",
     "text": [
      "\n"
     ]
    }
   ],
   "source": [
    "print()"
   ]
  },
  {
   "cell_type": "markdown",
   "metadata": {},
   "source": [
    "`print` function accepts arbitrary number of arguments seperated by commas. `Print` outputs a `Space` for every comma."
   ]
  },
  {
   "cell_type": "code",
   "execution_count": 3,
   "metadata": {},
   "outputs": [
    {
     "name": "stdout",
     "output_type": "stream",
     "text": [
      "1 + 2 = 3\n"
     ]
    }
   ],
   "source": [
    "print(\"1 + 2 =\", 1 + 2)"
   ]
  },
  {
   "cell_type": "code",
   "execution_count": 4,
   "metadata": {},
   "outputs": [
    {
     "name": "stdout",
     "output_type": "stream",
     "text": [
      "300\n"
     ]
    }
   ],
   "source": [
    "print(12*25)"
   ]
  },
  {
   "cell_type": "markdown",
   "metadata": {},
   "source": [
    "The above `print` function outputs 2 parameters:\n",
    "- string `\"1 + 2 =\"`\n",
    "- the evaluated value of expression `1 + 2`, which is `3`."
   ]
  },
  {
   "cell_type": "markdown",
   "metadata": {},
   "source": [
    "### §2.2 Variables\n",
    "Variable is also called `Identifier`, which is a name referring to a value or values stored in the memory of the computer.\n",
    "\n",
    "We can imagine there is a look-up table stored inside the computer, every time we define a variable, Python inserts one key-value pair into that table, where `key` is our variable name, and `value` is simply the value that the variable name refering to.  \n",
    "\n",
    "Let's define a variable, and assign a value to it, then print it out."
   ]
  },
  {
   "cell_type": "code",
   "execution_count": 5,
   "metadata": {},
   "outputs": [
    {
     "name": "stdout",
     "output_type": "stream",
     "text": [
      "Jason Zhang\n"
     ]
    }
   ],
   "source": [
    "name = \"Jason Zhang\"\n",
    "print(name)"
   ]
  },
  {
   "cell_type": "markdown",
   "metadata": {},
   "source": [
    "In the above program, we created a variable called `name`, and assigned the value `\"Jason Zhang\"` to it. The first line of the program is called an `assignment statement`.  \n",
    "\n",
    "`name ← \"Jason Zhang\"`\n",
    "\n",
    "Variables' values can be changed (re-assigned)."
   ]
  },
  {
   "cell_type": "code",
   "execution_count": 6,
   "metadata": {},
   "outputs": [
    {
     "name": "stdout",
     "output_type": "stream",
     "text": [
      "3\n"
     ]
    }
   ],
   "source": [
    "a = 'abc'\n",
    "a = 3\n",
    "print(a)"
   ]
  },
  {
   "cell_type": "markdown",
   "metadata": {},
   "source": [
    "In the above program, variable `a` is defined with an initial value `'abc'`.\n",
    "Then a new value `3` is assigned to the variable `a`, thus the value of `a` is `3` at the final state.\n",
    "\n",
    "`Assignment statement` is evaluated from right to left. The `expression` on the right-hand-side of `=` is evaluated first, then assigned to the variable name on the left-hand-side of `=`.  "
   ]
  },
  {
   "cell_type": "code",
   "execution_count": 7,
   "metadata": {},
   "outputs": [
    {
     "name": "stdout",
     "output_type": "stream",
     "text": [
      "8\n"
     ]
    }
   ],
   "source": [
    "a = 5\n",
    "a = a + 3\n",
    "print(a)"
   ]
  },
  {
   "cell_type": "markdown",
   "metadata": {},
   "source": [
    "Try to explain the following program's output."
   ]
  },
  {
   "cell_type": "code",
   "execution_count": 8,
   "metadata": {},
   "outputs": [
    {
     "name": "stdout",
     "output_type": "stream",
     "text": [
      "5 5\n"
     ]
    }
   ],
   "source": [
    "a = 3\n",
    "b = a = 5\n",
    "print (a, b)"
   ]
  },
  {
   "cell_type": "markdown",
   "metadata": {},
   "source": [
    "Python is case sensitive, variable name `val` is differnt from `Val`.\n",
    "\n",
    "You can assign values to multiple variables within one `assignment statement`:"
   ]
  },
  {
   "cell_type": "code",
   "execution_count": 9,
   "metadata": {
    "scrolled": true
   },
   "outputs": [
    {
     "name": "stdout",
     "output_type": "stream",
     "text": [
      "12 Wow! False\n"
     ]
    }
   ],
   "source": [
    "a, b, c = 12, \"Wow!\", False\n",
    "print(a, b, c)"
   ]
  },
  {
   "cell_type": "markdown",
   "metadata": {},
   "source": [
    "Try the following program, and think about why `a` and `b` have different values eventually."
   ]
  },
  {
   "cell_type": "code",
   "execution_count": 10,
   "metadata": {},
   "outputs": [
    {
     "name": "stdout",
     "output_type": "stream",
     "text": [
      "2 1\n"
     ]
    }
   ],
   "source": [
    "a = 1\n",
    "b = a\n",
    "a = 2\n",
    "print(a, b)"
   ]
  },
  {
   "cell_type": "markdown",
   "metadata": {},
   "source": [
    "### 2.2 Code Challenge\n",
    "\n",
    "How can we swap two variables?\n"
   ]
  },
  {
   "cell_type": "code",
   "execution_count": 11,
   "metadata": {},
   "outputs": [],
   "source": [
    "#TO DO\n",
    "\n",
    "\n"
   ]
  },
  {
   "cell_type": "markdown",
   "metadata": {},
   "source": [
    "### §2.3 Comments\n",
    "Comments are used to notate your work inside your source program. All the comments are ignored by the computer during execution.\n",
    "You can simply add a comment by beginning a line with the hash character `#`. It will be terminated by the end of line."
   ]
  },
  {
   "cell_type": "code",
   "execution_count": 12,
   "metadata": {},
   "outputs": [],
   "source": [
    "# This is my variable\n",
    "myVar = 100"
   ]
  },
  {
   "cell_type": "markdown",
   "metadata": {},
   "source": [
    "Python only provides one way of adding single-line comments, but there is a trick to add multiple-line comments using triple quotes.\n",
    "\n",
    "> Try to add some meaningful comments to your program to help understanding, not only for you, but also someone who may read your code.\n",
    "\n",
    "### §2.4 Simple Data Types\n",
    "There are several commonly used primary data types in Python.  \n",
    "Use `type()` to get the data type of a specific value or a variable."
   ]
  },
  {
   "cell_type": "code",
   "execution_count": 13,
   "metadata": {},
   "outputs": [
    {
     "name": "stdout",
     "output_type": "stream",
     "text": [
      "type_1 = <class 'int'>\n",
      "type_2 = <class 'float'>\n",
      "type_3 = <class 'str'>\n",
      "type_4 = <class 'bool'>\n",
      "type_5 = <class 'builtin_function_or_method'>\n",
      "type_6 = <class 'NoneType'>\n"
     ]
    }
   ],
   "source": [
    "type_1 = type(123)\n",
    "type_2 = type(123.0)\n",
    "type_3 = type(\"123\")\n",
    "type_4 = type(True)\n",
    "type_5 = type(print)\n",
    "type_6 = type(None)\n",
    "\n",
    "print(\"type_1 =\", type_1)\n",
    "print(\"type_2 =\", type_2)\n",
    "print(\"type_3 =\", type_3)\n",
    "print(\"type_4 =\", type_4)\n",
    "print(\"type_5 =\", type_5)\n",
    "print(\"type_6 =\", type_6)"
   ]
  },
  {
   "cell_type": "markdown",
   "metadata": {},
   "source": [
    "#### Integers (`int`)\n",
    "Python can deal with any integer values, including negative integers.  \n",
    "For instance: `0`, `-99999999`, `12345`.  \n",
    "\n",
    "#### Floating Point Numbers (`float`)\n",
    "A floating point number is a number that has a fractional part. It is called floating point number because the position of the decimal point can be changed in the scientific notation. For example, `3.1415e9` is the same as `314.15e7`.  \n",
    "\n",
    "Floating point numbers are stored as approximated values in the computer's memory."
   ]
  },
  {
   "cell_type": "code",
   "execution_count": 14,
   "metadata": {},
   "outputs": [
    {
     "name": "stdout",
     "output_type": "stream",
     "text": [
      "7.3999999999999995\n"
     ]
    }
   ],
   "source": [
    "print(5.1 + 2.3)"
   ]
  },
  {
   "cell_type": "markdown",
   "metadata": {},
   "source": [
    "We can round this number using `round` function."
   ]
  },
  {
   "cell_type": "code",
   "execution_count": 15,
   "metadata": {},
   "outputs": [
    {
     "data": {
      "text/plain": [
       "7.4"
      ]
     },
     "execution_count": 15,
     "metadata": {},
     "output_type": "execute_result"
    }
   ],
   "source": [
    "round(5.1 + 2.3, 2) # round to 2 digits precision after the decimal point"
   ]
  },
  {
   "cell_type": "markdown",
   "metadata": {},
   "source": [
    "#### String (`str`)\n",
    "A string is a text surrounded by a pair of single quotes `'` or double quotes `\"`, for example `'This is a string.'`, `\"This is another string.\"`. The first and last quotation marks should be matched, and they are not parts of the string.\n",
    "\n",
    "Use escape character (`\\`) to output new line `\\n`, tab `\\t`, back slash `\\\\`, single quote `\\'`, double quote `\\\"` etc. inside a string."
   ]
  },
  {
   "cell_type": "code",
   "execution_count": 16,
   "metadata": {
    "scrolled": true
   },
   "outputs": [
    {
     "name": "stdout",
     "output_type": "stream",
     "text": [
      "First line\n",
      "Second line\n",
      "I'm the third line\n"
     ]
    }
   ],
   "source": [
    "print('First line\\nSecond line\\nI\\'m the third line')"
   ]
  },
  {
   "cell_type": "markdown",
   "metadata": {},
   "source": [
    "You can use r'' to disable escape characters:"
   ]
  },
  {
   "cell_type": "code",
   "execution_count": 17,
   "metadata": {
    "scrolled": true
   },
   "outputs": [
    {
     "name": "stdout",
     "output_type": "stream",
     "text": [
      "This is \\ a string.\n",
      "This is \\\\ a string.\n"
     ]
    }
   ],
   "source": [
    "print('This is \\\\ a string.')\n",
    "print(r'This is \\\\ a string.')"
   ]
  },
  {
   "cell_type": "markdown",
   "metadata": {},
   "source": [
    "To define a string which spans multiple lines, you can use triple quotes (`'''` or `\"\"\"`):"
   ]
  },
  {
   "cell_type": "code",
   "execution_count": 18,
   "metadata": {},
   "outputs": [
    {
     "name": "stdout",
     "output_type": "stream",
     "text": [
      "\n",
      "First line\n",
      "Second line\n",
      "\n"
     ]
    }
   ],
   "source": [
    "print('''\n",
    "First line\n",
    "Second line\n",
    "''')"
   ]
  },
  {
   "cell_type": "markdown",
   "metadata": {},
   "source": [
    "> Tips:  \n",
    "> Triple quotes strings can also be used for multi-line comments.\n",
    ">\n",
    "Use [`split`](https://docs.python.org/3/library/stdtypes.html#str.split) to split a string into a list.  \n",
    "`'a b c'.split()` => `['a', 'b', 'c']`  \n",
    "> \n",
    "Use [`join`](https://docs.python.org/3/library/stdtypes.html#str.join) to convert a list to a string  \n",
    "`' '.join(['a', 'b', 'c'])` => `'a b c'`  \n",
    "\n",
    "#### Boolean (`bool`)\n",
    "A boolean value can be either `True` or `False` in Python.\n",
    "> Be careful with the capitalization.\n",
    "\n",
    "#### None (`None`)\n",
    "In Python, `None` stands for an empty value.\n"
   ]
  },
  {
   "cell_type": "markdown",
   "metadata": {},
   "source": [
    "### §2.5 String Formatting\n",
    "During programming, we are required to form strings containing variables frequently, and we can do this with concatenation using `+` operator.\n",
    "For example, we have the following defined variables:"
   ]
  },
  {
   "cell_type": "code",
   "execution_count": 19,
   "metadata": {},
   "outputs": [
    {
     "name": "stdout",
     "output_type": "stream",
     "text": [
      "Tom is 23 years old\n"
     ]
    }
   ],
   "source": [
    "name = 'Tom'\n",
    "age = 23\n",
    "\n",
    "string = name + ' is ' + str(age) + ' years old'\n",
    "print(string)"
   ]
  },
  {
   "cell_type": "markdown",
   "metadata": {},
   "source": [
    "Few things to take note here. First, a string cannot concatenate with a non-string data type, thus we have to cast non-string values using `str` function. Second, we need to add leading or trailing spaces to some strings in order to make sure words are separated by spaces properly.  \n",
    "But with the string formatting feature in Python, we don't have to worry about such issues."
   ]
  },
  {
   "cell_type": "markdown",
   "metadata": {},
   "source": [
    "#### Basic formatting\n",
    "In Python, each string has a format function.  \n",
    "`format_string.format(arguments)`  \n",
    "In the above example, we can do something like this:"
   ]
  },
  {
   "cell_type": "code",
   "execution_count": 20,
   "metadata": {},
   "outputs": [
    {
     "name": "stdout",
     "output_type": "stream",
     "text": [
      "Tom is 23 years old\n"
     ]
    }
   ],
   "source": [
    "string = '{} is {} years old'.format(name, age)\n",
    "print(string)"
   ]
  },
  {
   "cell_type": "markdown",
   "metadata": {},
   "source": [
    "`{}` represents a variable in the format string. We can re-arrange the order by specifying the index number in the braces, for example `{2}`.\n",
    "\n",
    "#### Padding and Aligning\n",
    "By default, the formatted string takes up as many characters as needed to represent the content, but we can define a value that should be padded to a specific length."
   ]
  },
  {
   "cell_type": "code",
   "execution_count": 21,
   "metadata": {},
   "outputs": [
    {
     "data": {
      "text/plain": [
       "'Python    '"
      ]
     },
     "execution_count": 21,
     "metadata": {},
     "output_type": "execute_result"
    }
   ],
   "source": [
    "'{:10}'.format('Python')"
   ]
  },
  {
   "cell_type": "markdown",
   "metadata": {},
   "source": [
    "Add a colon `:` followed by a number to specify how many characters you want to use for this variable. By default, the variable is aligned to the left.  \n",
    "To change to right aligned:"
   ]
  },
  {
   "cell_type": "code",
   "execution_count": 22,
   "metadata": {},
   "outputs": [
    {
     "data": {
      "text/plain": [
       "'    Python'"
      ]
     },
     "execution_count": 22,
     "metadata": {},
     "output_type": "execute_result"
    }
   ],
   "source": [
    "'{:>10}'.format('Python')"
   ]
  },
  {
   "cell_type": "markdown",
   "metadata": {},
   "source": [
    "To center align the string:"
   ]
  },
  {
   "cell_type": "code",
   "execution_count": 23,
   "metadata": {},
   "outputs": [
    {
     "data": {
      "text/plain": [
       "'Python    '"
      ]
     },
     "execution_count": 23,
     "metadata": {},
     "output_type": "execute_result"
    }
   ],
   "source": [
    "'{:<10}'.format('Python')"
   ]
  },
  {
   "cell_type": "markdown",
   "metadata": {},
   "source": [
    "We can also define the padding character, for example, using underscore"
   ]
  },
  {
   "cell_type": "code",
   "execution_count": 24,
   "metadata": {},
   "outputs": [
    {
     "data": {
      "text/plain": [
       "'____Python_____'"
      ]
     },
     "execution_count": 24,
     "metadata": {},
     "output_type": "execute_result"
    }
   ],
   "source": [
    "'{:_^15}'.format('Python')"
   ]
  },
  {
   "cell_type": "markdown",
   "metadata": {},
   "source": [
    "#### Truncating\n",
    "We can truncate overly long strings to a specific length.\n",
    "To specify the precision of the output string, we can put a dot `.` followed by a number indicating the length."
   ]
  },
  {
   "cell_type": "code",
   "execution_count": 25,
   "metadata": {},
   "outputs": [
    {
     "data": {
      "text/plain": [
       "'Data An'"
      ]
     },
     "execution_count": 25,
     "metadata": {},
     "output_type": "execute_result"
    }
   ],
   "source": [
    "'{:.7}'.format('Data Analysis with Python')"
   ]
  },
  {
   "cell_type": "markdown",
   "metadata": {},
   "source": [
    "#### Formatting Numbers\n",
    "We can also apply padding, aligning and truncating to formatting numbers.  \n",
    "Using `d` to indicate it is an integer."
   ]
  },
  {
   "cell_type": "code",
   "execution_count": 26,
   "metadata": {},
   "outputs": [
    {
     "data": {
      "text/plain": [
       "'=246=='"
      ]
     },
     "execution_count": 26,
     "metadata": {},
     "output_type": "execute_result"
    }
   ],
   "source": [
    "'{:=^6d}'.format(246)"
   ]
  },
  {
   "cell_type": "markdown",
   "metadata": {},
   "source": [
    "For floating point numbers, use letter `f`, similar to truncating strings, add a number after `.` to limit the number of digits after the decimal point."
   ]
  },
  {
   "cell_type": "code",
   "execution_count": 27,
   "metadata": {},
   "outputs": [
    {
     "data": {
      "text/plain": [
       "'003.14'"
      ]
     },
     "execution_count": 27,
     "metadata": {},
     "output_type": "execute_result"
    }
   ],
   "source": [
    "'{:06.2f}'.format(3.14159265358)"
   ]
  },
  {
   "cell_type": "markdown",
   "metadata": {},
   "source": [
    "\n",
    "### §2.6 Operators\n",
    "#### Basic Operators\n",
    "| Operator | Description    | Example     |\n",
    "|----------|----------------|-------------|\n",
    "| `+`        | Addition       | `3 + 5` ⇒ `8`   |\n",
    "| `-`        | Subtraction    | `5 - 3` ⇒ `2`   |\n",
    "| `*`        | Multiplication | `5 * 3` ⇒ `15`  |\n",
    "| `/`        | Division       | `9 / 2` ⇒ `4.5` |\n",
    "| `//`       | Floor Division | `9 // 2` ⇒ `4`  |\n",
    "| `%`        | Modulus        | `9 % 2` ⇒ `1`   |\n",
    "| `**`       | Exponent       | `2 ** 3` ⇒ `8`  |\n",
    "\n",
    "#### Assignment Operators\n",
    "An assignment operator applies a certain operation on the vraiable and the right operand, then assign the result to the variable on the left.\n",
    "\n",
    "| Operator | Example                  |\n",
    "|----------|--------------------------|\n",
    "| `=`        | `a = 10`                 |\n",
    "| `+=`       | `a += 5` ⇒ `a = a + 5`   |\n",
    "| `-=`       | `a -= 5` ⇒ `a = a - 5`   |\n",
    "| `*=`       | `a *= 5` ⇒ `a = a * 5`   |\n",
    "| `/=`       | `a /= 5` ⇒ `a = a / 5`   |\n",
    "| `//=`      | `a //= 5` ⇒ `a = a // 5` |\n",
    "| `%=`       | `a %= 5` ⇒ `a = a % 5`   |\n",
    "| `**=`      | `a **= 5` ⇒ `a = a ** 5` |\n",
    "\n",
    "#### Logical Operators\n",
    "| Operator | Description                  |\n",
    "|----------|--------------------------|\n",
    "| `>`        | greater than                 |\n",
    "| `>=`       | greater than or equal   |\n",
    "| `<`       | less than   |\n",
    "| `<=`       | less than or equal   |\n",
    "| `==`       | equal   |\n",
    "| `!=`       | not equal   |\n",
    "| `in`      | is in sequence |\n",
    "| `not in`       | is not in sequence   |\n",
    "\n",
    "> A sequence can be a list, tuple etc, see [Part 3](#%E2%87%92-Part-3-Data-Structure)\n",
    "\n",
    "#### Boolean Operations\n",
    "| Operator | Description    | Example     |\n",
    "|----------|----------------|-------------|\n",
    "| `and`        | Both conditons are True ⇒ result is True  | True and True ⇒ True   |\n",
    "| `or`        | At lease one of the conditions is true ⇒ result is True   | False or True ⇒ True   |\n",
    "| `not`        | Negate the boolean value | not True ⇒ False  |\n",
    "\n",
    "\n",
    "> ⇨ Exercise 2.5.1  \n",
    "Try different operators on the same or different data types.\n"
   ]
  },
  {
   "cell_type": "markdown",
   "metadata": {},
   "source": [
    "### §2.7 Control Flow\n",
    "#### if statement"
   ]
  },
  {
   "cell_type": "code",
   "execution_count": 28,
   "metadata": {},
   "outputs": [
    {
     "name": "stdout",
     "output_type": "stream",
     "text": [
      "Pass\n"
     ]
    }
   ],
   "source": [
    "score = 70\n",
    "if score >= 60:\n",
    "    print('Pass')"
   ]
  },
  {
   "cell_type": "markdown",
   "metadata": {},
   "source": [
    "Be careful to the indentation. Usually, we use 4-space or Tab indentation.  \n",
    "If the condition is `True`, the indented part (`if clause`) will be executed. Otherwise, the `if clause` will be skipped.\n",
    "You can also add an `else clause` in case the conditon is evaluated to be `False`, the `else clause` will be executed."
   ]
  },
  {
   "cell_type": "code",
   "execution_count": 29,
   "metadata": {},
   "outputs": [
    {
     "name": "stdout",
     "output_type": "stream",
     "text": [
      "Fail\n"
     ]
    }
   ],
   "source": [
    "score = 50\n",
    "if score >= 60:\n",
    "    print('Pass')\n",
    "else:\n",
    "    print('Fail')"
   ]
  },
  {
   "cell_type": "markdown",
   "metadata": {},
   "source": [
    "> Important:  \n",
    "> Don't miss the colon `:`.  \n",
    "\n",
    "If you want to add more condition branches, you can use `elif` clause:"
   ]
  },
  {
   "cell_type": "code",
   "execution_count": 30,
   "metadata": {},
   "outputs": [
    {
     "name": "stdout",
     "output_type": "stream",
     "text": [
      "C\n"
     ]
    }
   ],
   "source": [
    "score = 75\n",
    "if score >= 90:\n",
    "    print('A')\n",
    "elif score >= 80:\n",
    "    print('B')\n",
    "elif score >= 70:\n",
    "    print('C')\n",
    "elif score >= 60:\n",
    "    print('D')\n",
    "else:\n",
    "    print('F')"
   ]
  },
  {
   "cell_type": "markdown",
   "metadata": {},
   "source": [
    "#### for loops\n",
    "To calculate the sum of three numbers, we can write:"
   ]
  },
  {
   "cell_type": "code",
   "execution_count": 31,
   "metadata": {},
   "outputs": [
    {
     "name": "stdout",
     "output_type": "stream",
     "text": [
      "6\n"
     ]
    }
   ],
   "source": [
    "result = 1 + 2 + 3\n",
    "print(result)"
   ]
  },
  {
   "cell_type": "markdown",
   "metadata": {},
   "source": [
    "However, if we are going to calculate 1 + 2 + 3 + ... + 99999, it will not be pratical to list down all the numbers in the statement. Thus we need loop statements.  \n",
    "There are two types of loop statements in Python, they are `for` loops and `while` loops.\n",
    "\n",
    "To print out all the content in a list:"
   ]
  },
  {
   "cell_type": "code",
   "execution_count": 32,
   "metadata": {},
   "outputs": [
    {
     "name": "stdout",
     "output_type": "stream",
     "text": [
      "Singapore\n",
      "Vietnam\n",
      "Thailand\n",
      "Indonesia\n"
     ]
    }
   ],
   "source": [
    "countries = ['Singapore', 'Vietnam', 'Thailand', 'Indonesia']\n",
    "for country in countries:\n",
    "    print(country)"
   ]
  },
  {
   "cell_type": "markdown",
   "metadata": {},
   "source": [
    "Let's calculate the sum of all the integers between 1 and 100.\n",
    "We don't have to list all the numbers, Python provides the `range()` function.\n",
    "We can check the generated range by converting it to a list:"
   ]
  },
  {
   "cell_type": "code",
   "execution_count": 33,
   "metadata": {},
   "outputs": [
    {
     "name": "stdout",
     "output_type": "stream",
     "text": [
      "[0, 1, 2, 3, 4, 5, 6, 7, 8, 9]\n"
     ]
    }
   ],
   "source": [
    "r = range(10)\n",
    "print(list(r))"
   ]
  },
  {
   "cell_type": "markdown",
   "metadata": {},
   "source": [
    "Let's try calculating the sum from 1 to 100:"
   ]
  },
  {
   "cell_type": "code",
   "execution_count": 34,
   "metadata": {},
   "outputs": [
    {
     "name": "stdout",
     "output_type": "stream",
     "text": [
      "5050\n"
     ]
    }
   ],
   "source": [
    "sum = 0\n",
    "for x in range(101):\n",
    "    sum += x\n",
    "print(sum)"
   ]
  },
  {
   "cell_type": "markdown",
   "metadata": {},
   "source": [
    "#### While Loop\n",
    "In while loop, the `loop body` is repeated as long as the condition is `True`, and it stops when the condition is evaluated to be `False`.\n",
    "For example, calculate the factorial of a given number:"
   ]
  },
  {
   "cell_type": "code",
   "execution_count": 35,
   "metadata": {},
   "outputs": [
    {
     "name": "stdout",
     "output_type": "stream",
     "text": [
      "120\n"
     ]
    }
   ],
   "source": [
    "def factorial(n):\n",
    "    fact = n\n",
    "    while n > 1:\n",
    "        n -= 1\n",
    "        fact *= n\n",
    "    return fact\n",
    "\n",
    "print(factorial(5))"
   ]
  },
  {
   "cell_type": "code",
   "execution_count": 36,
   "metadata": {},
   "outputs": [
    {
     "name": "stdout",
     "output_type": "stream",
     "text": [
      "i is 0\n",
      "i is 1\n",
      "i is 2\n",
      "i is 3\n",
      "i is 4\n"
     ]
    }
   ],
   "source": [
    "i = 0\n",
    "while i < 5:\n",
    "    print(\"i is {}\".format(i)) \n",
    "    i = i + 1\n"
   ]
  },
  {
   "cell_type": "markdown",
   "metadata": {},
   "source": [
    "### 2.7 Code Challenge\n",
    "\n",
    "Write a program to get sum of all the odd numbers within 100 using loops in at least three ways."
   ]
  },
  {
   "cell_type": "code",
   "execution_count": 37,
   "metadata": {},
   "outputs": [],
   "source": [
    "# TO DO"
   ]
  },
  {
   "cell_type": "markdown",
   "metadata": {},
   "source": [
    "#### Break\n",
    "We can use `break` statement to exit a loop."
   ]
  },
  {
   "cell_type": "code",
   "execution_count": 38,
   "metadata": {},
   "outputs": [
    {
     "name": "stdout",
     "output_type": "stream",
     "text": [
      "2\n",
      "4\n",
      "6\n",
      "END\n"
     ]
    }
   ],
   "source": [
    "for x in [2, 4, 6, -1, 8, 0]:\n",
    "    if x < 0:\n",
    "        break\n",
    "    print(x)\n",
    "print('END')"
   ]
  },
  {
   "cell_type": "markdown",
   "metadata": {},
   "source": [
    "#### Continue\n",
    "We can use `continue` statement to skip current iteration, and continue with the next one.  \n",
    "For example, we are going to get the sum of all the non-negative numbers in a list:"
   ]
  },
  {
   "cell_type": "code",
   "execution_count": 39,
   "metadata": {},
   "outputs": [
    {
     "name": "stdout",
     "output_type": "stream",
     "text": [
      "skip  -2\n",
      "skip  -1\n",
      "END\n",
      "result = 20\n"
     ]
    }
   ],
   "source": [
    "sum = 0\n",
    "for x in [2, -2, 4, 6, -1, 8, 0]:\n",
    "    if x < 0:\n",
    "        print('skip ', x)\n",
    "        continue\n",
    "    sum += x\n",
    "print('END')\n",
    "print('result =', sum)"
   ]
  },
  {
   "cell_type": "markdown",
   "metadata": {},
   "source": [
    "### §2.8 Some Commonly Used Builtin Functions\n",
    "[int](https://docs.python.org/3/library/functions.html#int): Return an integer object constructed from a number or string x, or return 0 if no arguments are given.  \n",
    "[float](https://docs.python.org/3/library/functions.html#float): Return a floating point number constructed from a number or string x.  \n",
    "[str](https://docs.python.org/3/library/stdtypes.html#str): Return a string version of object.  \n",
    "[bool](https://docs.python.org/3/library/functions.html#bool): Return a Boolean value, i.e. one of True or False.  \n",
    "[isinstance](https://docs.python.org/3/library/functions.html#isinstance): Return true if the object argument is an instance of the classinfo argument, or of a (direct, indirect or virtual) subclass thereof.  \n",
    "[abs](https://docs.python.org/3/library/functions.html#abs): Return the absolute value of a number.  \n",
    "[max](https://docs.python.org/3/library/functions.html#max): Return the largest item in an iterable or the largest of two or more arguments.  \n",
    "[min](https://docs.python.org/3/library/functions.html#min): Return the smallest item in an iterable or the smallest of two or more arguments.  \n",
    "[len](https://docs.python.org/3/library/functions.html#len): Return the length (the number of items) of an object.  \n",
    "[range](https://docs.python.org/3/library/stdtypes.html#typesseq-range): The range type represents an immutable sequence of numbers and is commonly used for looping a specific number of times in for loops.  \n",
    "[type](https://docs.python.org/3/library/functions.html#type): With one argument, return the type of an object.  \n",
    "[round](https://docs.python.org/3/library/functions.html#round): Return number rounded to ndigits precision after the decimal point.  \n",
    "[map](https://docs.python.org/3/library/functions.html#map): Return an iterator that applies function to every item of iterable, yielding the results.  \n",
    "[filter](https://docs.python.org/3/library/functions.html#filter): Construct an iterator from those elements of iterable for which function returns true.  "
   ]
  },
  {
   "cell_type": "markdown",
   "metadata": {},
   "source": [
    "### §2.9 Functions\n",
    "We all know the following formula to calculate the area of a circle:\n",
    "\\begin{equation*}\n",
    "S = \\pi r^2\n",
    "\\end{equation*}\n",
    "\n",
    "Suppose we are going to calculate the areas of three different circles:"
   ]
  },
  {
   "cell_type": "code",
   "execution_count": 40,
   "metadata": {},
   "outputs": [
    {
     "name": "stdout",
     "output_type": "stream",
     "text": [
      "s1=85.89, s2=6529.19, s3=277.45\n"
     ]
    }
   ],
   "source": [
    "r1 = 5.23\n",
    "r2 = 45.6\n",
    "r3 = 9.4\n",
    "\n",
    "s1 = 3.14 * r1 ** 2\n",
    "s2 = 3.14 * r2 ** 2\n",
    "s3 = 3.14 * r3 ** 2\n",
    "\n",
    "print('s1={:.2f}, s2={:.2f}, s3={:.2f}'.format(s1, s2, s3))"
   ]
  },
  {
   "cell_type": "markdown",
   "metadata": {},
   "source": [
    "As you can see, we repeated `3.14 * r ** 2` every time we are trying to calculate a circle's area. Besides, once the value of π is changed, we have to update each place where π is used one by one.  \n",
    "We can extract the circle area calculation part into a function, so that we can simply call the defined function to do the work for us."
   ]
  },
  {
   "cell_type": "code",
   "execution_count": 41,
   "metadata": {},
   "outputs": [
    {
     "name": "stdout",
     "output_type": "stream",
     "text": [
      "The circle area is 98.4704\n"
     ]
    }
   ],
   "source": [
    "def circle_area(r):\n",
    "    return 3.14 * r ** 2\n",
    "\n",
    "print('The circle area is {}'.format(circle_area(5.6)))"
   ]
  },
  {
   "cell_type": "markdown",
   "metadata": {},
   "source": [
    "`Functions` are defined using the def keyword. After this keyword comes an `identifier` name for the function, followed by a pair of parentheses which may enclose some names of variables, and by the final colon that ends the line. Next follows the block of statements that are part of this function. An example will show that this is actually very simple:"
   ]
  },
  {
   "cell_type": "code",
   "execution_count": 42,
   "metadata": {},
   "outputs": [
    {
     "name": "stdout",
     "output_type": "stream",
     "text": [
      "hello world\n",
      "hello world\n"
     ]
    }
   ],
   "source": [
    "def say_hello():\n",
    "    # block belonging to the function\n",
    "    print('hello world')\n",
    "# End of function\n",
    "\n",
    "say_hello()  # call the function\n",
    "say_hello()  # call the function again"
   ]
  },
  {
   "cell_type": "code",
   "execution_count": 43,
   "metadata": {},
   "outputs": [
    {
     "name": "stdout",
     "output_type": "stream",
     "text": [
      "4 is maximum\n",
      "7 is maximum\n"
     ]
    }
   ],
   "source": [
    "def print_max(a, b):\n",
    "    if a > b:\n",
    "        print(a, 'is maximum')\n",
    "    elif a == b:\n",
    "        print(a, 'is equal to', b)\n",
    "    else:\n",
    "        print(b, 'is maximum')\n",
    "\n",
    "# directly pass literal values\n",
    "print_max(3, 4)\n",
    "\n",
    "x = 5\n",
    "y = 7\n",
    "\n",
    "# pass variables as arguments\n",
    "print_max(x, y)"
   ]
  }
 ],
 "metadata": {
  "kernelspec": {
   "display_name": "Python 3",
   "language": "python",
   "name": "python3"
  },
  "language_info": {
   "codemirror_mode": {
    "name": "ipython",
    "version": 3
   },
   "file_extension": ".py",
   "mimetype": "text/x-python",
   "name": "python",
   "nbconvert_exporter": "python",
   "pygments_lexer": "ipython3",
   "version": "3.7.6"
  }
 },
 "nbformat": 4,
 "nbformat_minor": 2
}
